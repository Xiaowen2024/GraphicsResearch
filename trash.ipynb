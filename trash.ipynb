{
 "cells": [
  {
   "cell_type": "code",
   "execution_count": null,
   "metadata": {
    "vscode": {
     "languageId": "plaintext"
    }
   },
   "outputs": [],
   "source": [
    "   // point lies between two corners of the rectangle\n",
    "   // determine the two corners that the point lies between\n",
    "   auto pointLiesBetween = [](Vec2D point, Vec2D corner1, Vec2D corner2) {\n",
    "      double x = real(point);\n",
    "      double y = imag(point);\n",
    "      double x1 = real(corner1);\n",
    "      double y1 = imag(corner1);\n",
    "      double x2 = real(corner2);\n",
    "      double y2 = imag(corner2);\n",
    "      return x >= x1 && x <= x2 && y >= y1 && y <= y2;\n",
    "   };\n",
    "\n",
    "   // for each two subsequent corners, check if the point lies between them\n",
    "   for (int i = 0; i < 4; i++) {\n",
    "      if (pointLiesBetween(point, cornerHeights[i], cornerHeights[(i + 1) % 4])) {\n",
    "         // interpolate the height between the two corners\n",
    "         double height1 = cornerHeights[i];\n",
    "         double height2 = cornerHeights[(i + 1) % 4];\n",
    "         // lerp value is corner 1 to x / corner 1 to corner 2\n",
    "         double lerpValue = \n",
    "      }\n",
    "   }\n"
   ]
  }
 ],
 "metadata": {
  "language_info": {
   "name": "python"
  }
 },
 "nbformat": 4,
 "nbformat_minor": 2
}
