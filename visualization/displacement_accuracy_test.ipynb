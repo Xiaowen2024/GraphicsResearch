{
 "cells": [
  {
   "cell_type": "markdown",
   "metadata": {},
   "source": [
    "## Shapes with analytical solutions "
   ]
  },
  {
   "cell_type": "code",
   "execution_count": 14,
   "metadata": {},
   "outputs": [],
   "source": [
    "import numpy as np\n",
    "import pandas as pd\n",
    "import plotly.graph_objects as go\n",
    "from matplotlib import cm\n",
    "\n",
    "\n",
    "def parse_csv_for_xy(path):\n",
    "    # Read CSV assuming pairs of x, y coordinates (x1, y1, x2, y2, ...)\n",
    "    data = pd.read_csv(path, header=None)\n",
    "    \n",
    "    # Convert all values to numeric, forcing errors to NaN (which makes them easier to handle)\n",
    "    data = data.apply(pd.to_numeric, errors='coerce')\n",
    "\n",
    "    # Flatten the data into x and y arrays\n",
    "    x_vals = data.iloc[:, 0].values  # Extract x values (every other column starting from 0)\n",
    "    y_vals = data.iloc[:, 1].values  # Extract y values (every other column starting from 1)\n",
    "\n",
    "    return x_vals, y_vals"
   ]
  },
  {
   "cell_type": "code",
   "execution_count": null,
   "metadata": {},
   "outputs": [],
   "source": [
    "rect_displaced_x, rect_displaced_y = parse_\n",
    "csv_for_xy('../output/deformation_gradient_rect_x_displacements.csv')"
   ]
  },
  {
   "cell_type": "code",
   "execution_count": 38,
   "metadata": {},
   "outputs": [],
   "source": [
    "rect_original_x, rect_original_y = parse_csv_for_xy('../output/deformation_gradient_rect_x_0.1.csv')"
   ]
  },
  {
   "cell_type": "code",
   "execution_count": null,
   "metadata": {},
   "outputs": [],
   "source": [
    "rect_original_x = rect_original_x[~np.isnan(rect_original_x)]\n",
    "rect_original_y = rect_original_y[~np.isnan(rect_original_y)]"
   ]
  },
  {
   "cell_type": "code",
   "execution_count": 34,
   "metadata": {},
   "outputs": [],
   "source": [
    "rect_both_displaced_x, rect_both_displaced_y = parse_csv_for_xy('../output/deformation_gradient_rect_both_displacements.csv')\n",
    "rect_both_original_x, rect_both_original_y = parse_csv_for_xy('../output/deformation_gradient_rect_both_0.1.csv')\n",
    "rect_both_original_x = rect_both_original_x[~np.isnan(rect_both_original_x)]\n",
    "rect_both_original_y = rect_both_original_y[~np.isnan(rect_both_original_y)]"
   ]
  },
  {
   "cell_type": "markdown",
   "metadata": {},
   "source": [
    "### RMSE"
   ]
  },
  {
   "cell_type": "code",
   "execution_count": null,
   "metadata": {},
   "outputs": [],
   "source": [
    "def calculate_rmse(x, y):\n",
    "    # Convert inputs to numpy arrays for easier calculations\n",
    "    x = np.array(x)\n",
    "    y = np.array(y)\n",
    "    \n",
    "    # Calculate the squared differences\n",
    "    squared_diff = (x - y) ** 2\n",
    "    \n",
    "    # Compute the mean of the squared differences\n",
    "    mse = np.mean(squared_diff)\n",
    "    \n",
    "    # Take the square root of the mean to get RMSE\n",
    "    rmse = np.sqrt(mse)\n",
    "    \n",
    "    return rmse\n"
   ]
  },
  {
   "cell_type": "code",
   "execution_count": 31,
   "metadata": {},
   "outputs": [],
   "source": [
    "rect_rmse = calculate_rmse(rect_original_x, rect_displaced_x) + calculate_rmse(rect_original_y, rect_displaced_y)"
   ]
  },
  {
   "cell_type": "code",
   "execution_count": 35,
   "metadata": {},
   "outputs": [],
   "source": [
    "rect_both_rmse = calculate_rmse(rect_both_original_x, rect_both_displaced_x) + calculate_rmse(rect_both_original_y, rect_both_displaced_y)"
   ]
  },
  {
   "cell_type": "markdown",
   "metadata": {},
   "source": [
    "### Rect with x stretched "
   ]
  },
  {
   "cell_type": "code",
   "execution_count": 32,
   "metadata": {},
   "outputs": [
    {
     "data": {
      "text/plain": [
       "0.18129181345845347"
      ]
     },
     "execution_count": 32,
     "metadata": {},
     "output_type": "execute_result"
    }
   ],
   "source": [
    "rect_rmse "
   ]
  },
  {
   "cell_type": "markdown",
   "metadata": {},
   "source": [
    "### Rectangular with x stretched and y compressed"
   ]
  },
  {
   "cell_type": "code",
   "execution_count": 36,
   "metadata": {},
   "outputs": [
    {
     "data": {
      "text/plain": [
       "0.27102681897881786"
      ]
     },
     "execution_count": 36,
     "metadata": {},
     "output_type": "execute_result"
    }
   ],
   "source": [
    "rect_both_rmse"
   ]
  }
 ],
 "metadata": {
  "kernelspec": {
   "display_name": "Python 3",
   "language": "python",
   "name": "python3"
  },
  "language_info": {
   "codemirror_mode": {
    "name": "ipython",
    "version": 3
   },
   "file_extension": ".py",
   "mimetype": "text/x-python",
   "name": "python",
   "nbconvert_exporter": "python",
   "pygments_lexer": "ipython3",
   "version": "3.9.6"
  }
 },
 "nbformat": 4,
 "nbformat_minor": 2
}
