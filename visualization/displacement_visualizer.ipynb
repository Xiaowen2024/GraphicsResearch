{
 "cells": [
  {
   "cell_type": "markdown",
   "metadata": {},
   "source": [
    "# Helpers"
   ]
  },
  {
   "cell_type": "code",
   "execution_count": 2,
   "metadata": {},
   "outputs": [],
   "source": [
    "import numpy as np\n",
    "import pandas as pd\n",
    "import plotly.graph_objects as go\n",
    "from scipy.interpolate import griddata"
   ]
  },
  {
   "cell_type": "code",
   "execution_count": 3,
   "metadata": {},
   "outputs": [],
   "source": [
    "csv_dir = \"../output/\""
   ]
  },
  {
   "cell_type": "code",
   "execution_count": 97,
   "metadata": {},
   "outputs": [],
   "source": [
    "def parse_boundary(csv_path):\n",
    "    data = pd.read_csv(csv_path, header=None)\n",
    "    x, y, z = data[0], data[1], data[2]\n",
    "    # x, y = (x + 1) / 2, (y + 1) / 2\n",
    "    return x, y, z"
   ]
  },
  {
   "cell_type": "code",
   "execution_count": 205,
   "metadata": {},
   "outputs": [],
   "source": [
    "import numpy as np\n",
    "import pandas as pd\n",
    "import plotly.graph_objects as go\n",
    "from scipy.interpolate import griddata\n",
    "\n",
    "def parse_csv_for_xy(path):\n",
    "    # Read CSV assuming pairs of x, y coordinates (x1, y1, x2, y2, ...)\n",
    "    data = pd.read_csv(path, header=None)\n",
    "    \n",
    "    # Convert all values to numeric, forcing errors to NaN (which makes them easier to handle)\n",
    "    data = data.apply(pd.to_numeric, errors='coerce')\n",
    "\n",
    "    # Flatten the data into x and y arrays\n",
    "    x_vals = data.iloc[:, 0::2].values.flatten()  # Extract x values (every other column starting from 0)\n",
    "    y_vals = data.iloc[:, 1::2].values.flatten()  # Extract y values (every other column starting from 1)\n",
    "\n",
    "    return x_vals, y_vals\n",
    "\n",
    "def get_original_points(s = 16):\n",
    "    x = []\n",
    "    y = []\n",
    "    for j in range(s):\n",
    "        for i in range(s):\n",
    "            x.append((i / (s - 1)) * 2 - 1)\n",
    "            y.append((j / (s - 1)) * 2 - 1)\n",
    "    x = np.array(x)\n",
    "    y = np.array(y)\n",
    "    x = np.clip(x, 0, 1)\n",
    "    y = np.clip(y, 0, 1)\n",
    "    return x, y\n",
    "        \n",
    "\n",
    "def visualize_csv_output_vector(path, output_path=\"./solver_output_plot.png\", original_point=None, xstart=0, ystart=0, xend=1, yend=1, surface=False):\n",
    "    # Parse CSV to get x, y values\n",
    "    x_vals, y_vals = parse_csv_for_xy(path)\n",
    "    \n",
    "    # Remove NaN values from the data\n",
    "    valid_mask = ~np.isnan(x_vals) & ~np.isnan(y_vals)  # Create mask for non-NaN values in x and y\n",
    "    x_vals = x_vals[valid_mask]  \n",
    "    y_vals = y_vals[valid_mask] \n",
    "    \n",
    "    assert len(x_vals) == len(y_vals), \"x_vals and y_vals must have the same length\"\n",
    "    z_vals = np.zeros_like(x_vals)\n",
    "    \n",
    "    x = np.linspace(xstart, xend, 100)  # Increase resolution if necessary\n",
    "    y = np.linspace(ystart, yend, 100)  # Increase resolution if necessary\n",
    "    X, Y = np.meshgrid(x, y)\n",
    "    \n",
    "    # Interpolate the Z values onto the grid (if you want smooth surface interpolation)\n",
    "    Z_interp = griddata((x_vals, y_vals), z_vals, (X, Y), method='linear')\n",
    "\n",
    "    # Create a figure for plotting\n",
    "    fig = go.Figure()\n",
    "\n",
    "    # Add surface plot with interpolated Z values (if surface is true)\n",
    "    if surface: \n",
    "        fig.add_trace(go.Surface(z=Z_interp, x=X, y=Y, colorscale='Viridis', showscale=True))\n",
    "\n",
    "    # Add a scatter plot for the original points (if surface is false)\n",
    "    if not surface:\n",
    "        fig.add_trace(go.Scatter3d(x=x_vals, y=y_vals, z=z_vals, mode='markers',\n",
    "            marker=dict(size=2, color='blue') \n",
    "        ))\n",
    "        \n",
    "    \n",
    "    # Add boundary if provided\n",
    "    if original_point is not None: \n",
    "        x_original, y_original = get_original_points()\n",
    "        z_original = np.zeros_like(x_original) - 0.001\n",
    "        fig.add_trace(go.Scatter3d(x=x_original, y=y_original, z=z_original, mode='markers',\n",
    "            marker=dict(size=2, color='red')  \n",
    "        ))\n",
    "\n",
    "    # Update layout for better visualization\n",
    "    fig.update_layout(scene=dict(\n",
    "        xaxis_title='X',\n",
    "        yaxis_title='Y',\n",
    "        zaxis_title='Z',\n",
    "        zaxis=dict(\n",
    "            range=[-0.01, 0.01]  # Set the Z-axis range (adjust these values as needed)\n",
    "        ),\n",
    "        aspectmode='cube'  # Ensures that all axes are scaled equally\n",
    "    ))\n",
    "\n",
    "    # Show the plot and save to file\n",
    "    fig.show()\n",
    "    fig.write_image(output_path)\n",
    "    print(f\"Figure saved as {output_path}\")"
   ]
  },
  {
   "cell_type": "code",
   "execution_count": 67,
   "metadata": {},
   "outputs": [],
   "source": [
    "import plotly.graph_objects as go\n",
    "def print_boundary_dirichlet(path=None, shape=None, dir=None): \n",
    "    if path is None: path = dir + shape + 'BoundaryDirichlet.csv'\n",
    "    x, y, z = parse_boundary(path)\n",
    "    fig = go.Figure()\n",
    "    for i in range(len(x)):\n",
    "        fig.add_trace(go.Scatter3d(\n",
    "            x=[x[i], x[(i + 1) % len(x)]],\n",
    "            y=[y[i], y[(i + 1) % len(y)]],\n",
    "            z=[z[i], z[(i + 1) % len(z)]],\n",
    "            mode='lines',\n",
    "            line=dict(color='blue', width=2)\n",
    "        ))\n",
    "    fig.add_trace(go.Scatter3d(x=x,y=y,z=z,mode='markers',\n",
    "        marker=dict(size=5, color='red', opacity=0.8)  # Color points\n",
    "    ))\n",
    "\n",
    "    fig.update_layout(title_text='3D Star Shape on a Tilted Plane',\n",
    "                  scene=dict(\n",
    "                      xaxis_title='X-axis',\n",
    "                      yaxis_title='Y-axis',\n",
    "                      zaxis_title='Z-axis'),\n",
    "                  )\n",
    "\n",
    "    fig.show()"
   ]
  },
  {
   "cell_type": "code",
   "execution_count": 26,
   "metadata": {},
   "outputs": [],
   "source": [
    "def get_shape_csv(shape): \n",
    "    return shape + \".csv\"\n",
    "def get_boundaryD_csv(shape): \n",
    "    return shape + \"BoundaryDirichlet.csv\""
   ]
  },
  {
   "cell_type": "markdown",
   "metadata": {},
   "source": [
    "# Plot Deformed Rectangle"
   ]
  },
  {
   "cell_type": "code",
   "execution_count": 202,
   "metadata": {},
   "outputs": [],
   "source": [
    "shape = \"rectangle_displacement\"\n",
    "shape_csv = get_shape_csv(shape)\n",
    "boundary_csv = get_boundaryD_csv(shape)"
   ]
  },
  {
   "cell_type": "code",
   "execution_count": 203,
   "metadata": {},
   "outputs": [
    {
     "data": {
      "application/vnd.plotly.v1+json": {
       "config": {
        "plotlyServerURL": "https://plot.ly"
       },
       "data": [
        {
         "line": {
          "color": "blue",
          "width": 2
         },
         "mode": "lines",
         "type": "scatter3d",
         "x": [
          0,
          1.4
         ],
         "y": [
          0,
          0
         ],
         "z": [
          1,
          1
         ]
        },
        {
         "line": {
          "color": "blue",
          "width": 2
         },
         "mode": "lines",
         "type": "scatter3d",
         "x": [
          1.4,
          1.4
         ],
         "y": [
          0,
          1
         ],
         "z": [
          1,
          1
         ]
        },
        {
         "line": {
          "color": "blue",
          "width": 2
         },
         "mode": "lines",
         "type": "scatter3d",
         "x": [
          1.4,
          0
         ],
         "y": [
          1,
          1
         ],
         "z": [
          1,
          1
         ]
        },
        {
         "line": {
          "color": "blue",
          "width": 2
         },
         "mode": "lines",
         "type": "scatter3d",
         "x": [
          0,
          0
         ],
         "y": [
          1,
          0
         ],
         "z": [
          1,
          1
         ]
        },
        {
         "line": {
          "color": "blue",
          "width": 2
         },
         "mode": "lines",
         "type": "scatter3d",
         "x": [
          0,
          0
         ],
         "y": [
          0,
          0
         ],
         "z": [
          1,
          1
         ]
        },
        {
         "marker": {
          "color": "red",
          "opacity": 0.8,
          "size": 5
         },
         "mode": "markers",
         "type": "scatter3d",
         "x": [
          0,
          1.4,
          1.4,
          0,
          0
         ],
         "y": [
          0,
          0,
          1,
          1,
          0
         ],
         "z": [
          1,
          1,
          1,
          1,
          1
         ]
        }
       ],
       "layout": {
        "scene": {
         "xaxis": {
          "title": {
           "text": "X-axis"
          }
         },
         "yaxis": {
          "title": {
           "text": "Y-axis"
          }
         },
         "zaxis": {
          "title": {
           "text": "Z-axis"
          }
         }
        },
        "template": {
         "data": {
          "bar": [
           {
            "error_x": {
             "color": "#2a3f5f"
            },
            "error_y": {
             "color": "#2a3f5f"
            },
            "marker": {
             "line": {
              "color": "#E5ECF6",
              "width": 0.5
             },
             "pattern": {
              "fillmode": "overlay",
              "size": 10,
              "solidity": 0.2
             }
            },
            "type": "bar"
           }
          ],
          "barpolar": [
           {
            "marker": {
             "line": {
              "color": "#E5ECF6",
              "width": 0.5
             },
             "pattern": {
              "fillmode": "overlay",
              "size": 10,
              "solidity": 0.2
             }
            },
            "type": "barpolar"
           }
          ],
          "carpet": [
           {
            "aaxis": {
             "endlinecolor": "#2a3f5f",
             "gridcolor": "white",
             "linecolor": "white",
             "minorgridcolor": "white",
             "startlinecolor": "#2a3f5f"
            },
            "baxis": {
             "endlinecolor": "#2a3f5f",
             "gridcolor": "white",
             "linecolor": "white",
             "minorgridcolor": "white",
             "startlinecolor": "#2a3f5f"
            },
            "type": "carpet"
           }
          ],
          "choropleth": [
           {
            "colorbar": {
             "outlinewidth": 0,
             "ticks": ""
            },
            "type": "choropleth"
           }
          ],
          "contour": [
           {
            "colorbar": {
             "outlinewidth": 0,
             "ticks": ""
            },
            "colorscale": [
             [
              0,
              "#0d0887"
             ],
             [
              0.1111111111111111,
              "#46039f"
             ],
             [
              0.2222222222222222,
              "#7201a8"
             ],
             [
              0.3333333333333333,
              "#9c179e"
             ],
             [
              0.4444444444444444,
              "#bd3786"
             ],
             [
              0.5555555555555556,
              "#d8576b"
             ],
             [
              0.6666666666666666,
              "#ed7953"
             ],
             [
              0.7777777777777778,
              "#fb9f3a"
             ],
             [
              0.8888888888888888,
              "#fdca26"
             ],
             [
              1,
              "#f0f921"
             ]
            ],
            "type": "contour"
           }
          ],
          "contourcarpet": [
           {
            "colorbar": {
             "outlinewidth": 0,
             "ticks": ""
            },
            "type": "contourcarpet"
           }
          ],
          "heatmap": [
           {
            "colorbar": {
             "outlinewidth": 0,
             "ticks": ""
            },
            "colorscale": [
             [
              0,
              "#0d0887"
             ],
             [
              0.1111111111111111,
              "#46039f"
             ],
             [
              0.2222222222222222,
              "#7201a8"
             ],
             [
              0.3333333333333333,
              "#9c179e"
             ],
             [
              0.4444444444444444,
              "#bd3786"
             ],
             [
              0.5555555555555556,
              "#d8576b"
             ],
             [
              0.6666666666666666,
              "#ed7953"
             ],
             [
              0.7777777777777778,
              "#fb9f3a"
             ],
             [
              0.8888888888888888,
              "#fdca26"
             ],
             [
              1,
              "#f0f921"
             ]
            ],
            "type": "heatmap"
           }
          ],
          "heatmapgl": [
           {
            "colorbar": {
             "outlinewidth": 0,
             "ticks": ""
            },
            "colorscale": [
             [
              0,
              "#0d0887"
             ],
             [
              0.1111111111111111,
              "#46039f"
             ],
             [
              0.2222222222222222,
              "#7201a8"
             ],
             [
              0.3333333333333333,
              "#9c179e"
             ],
             [
              0.4444444444444444,
              "#bd3786"
             ],
             [
              0.5555555555555556,
              "#d8576b"
             ],
             [
              0.6666666666666666,
              "#ed7953"
             ],
             [
              0.7777777777777778,
              "#fb9f3a"
             ],
             [
              0.8888888888888888,
              "#fdca26"
             ],
             [
              1,
              "#f0f921"
             ]
            ],
            "type": "heatmapgl"
           }
          ],
          "histogram": [
           {
            "marker": {
             "pattern": {
              "fillmode": "overlay",
              "size": 10,
              "solidity": 0.2
             }
            },
            "type": "histogram"
           }
          ],
          "histogram2d": [
           {
            "colorbar": {
             "outlinewidth": 0,
             "ticks": ""
            },
            "colorscale": [
             [
              0,
              "#0d0887"
             ],
             [
              0.1111111111111111,
              "#46039f"
             ],
             [
              0.2222222222222222,
              "#7201a8"
             ],
             [
              0.3333333333333333,
              "#9c179e"
             ],
             [
              0.4444444444444444,
              "#bd3786"
             ],
             [
              0.5555555555555556,
              "#d8576b"
             ],
             [
              0.6666666666666666,
              "#ed7953"
             ],
             [
              0.7777777777777778,
              "#fb9f3a"
             ],
             [
              0.8888888888888888,
              "#fdca26"
             ],
             [
              1,
              "#f0f921"
             ]
            ],
            "type": "histogram2d"
           }
          ],
          "histogram2dcontour": [
           {
            "colorbar": {
             "outlinewidth": 0,
             "ticks": ""
            },
            "colorscale": [
             [
              0,
              "#0d0887"
             ],
             [
              0.1111111111111111,
              "#46039f"
             ],
             [
              0.2222222222222222,
              "#7201a8"
             ],
             [
              0.3333333333333333,
              "#9c179e"
             ],
             [
              0.4444444444444444,
              "#bd3786"
             ],
             [
              0.5555555555555556,
              "#d8576b"
             ],
             [
              0.6666666666666666,
              "#ed7953"
             ],
             [
              0.7777777777777778,
              "#fb9f3a"
             ],
             [
              0.8888888888888888,
              "#fdca26"
             ],
             [
              1,
              "#f0f921"
             ]
            ],
            "type": "histogram2dcontour"
           }
          ],
          "mesh3d": [
           {
            "colorbar": {
             "outlinewidth": 0,
             "ticks": ""
            },
            "type": "mesh3d"
           }
          ],
          "parcoords": [
           {
            "line": {
             "colorbar": {
              "outlinewidth": 0,
              "ticks": ""
             }
            },
            "type": "parcoords"
           }
          ],
          "pie": [
           {
            "automargin": true,
            "type": "pie"
           }
          ],
          "scatter": [
           {
            "fillpattern": {
             "fillmode": "overlay",
             "size": 10,
             "solidity": 0.2
            },
            "type": "scatter"
           }
          ],
          "scatter3d": [
           {
            "line": {
             "colorbar": {
              "outlinewidth": 0,
              "ticks": ""
             }
            },
            "marker": {
             "colorbar": {
              "outlinewidth": 0,
              "ticks": ""
             }
            },
            "type": "scatter3d"
           }
          ],
          "scattercarpet": [
           {
            "marker": {
             "colorbar": {
              "outlinewidth": 0,
              "ticks": ""
             }
            },
            "type": "scattercarpet"
           }
          ],
          "scattergeo": [
           {
            "marker": {
             "colorbar": {
              "outlinewidth": 0,
              "ticks": ""
             }
            },
            "type": "scattergeo"
           }
          ],
          "scattergl": [
           {
            "marker": {
             "colorbar": {
              "outlinewidth": 0,
              "ticks": ""
             }
            },
            "type": "scattergl"
           }
          ],
          "scattermapbox": [
           {
            "marker": {
             "colorbar": {
              "outlinewidth": 0,
              "ticks": ""
             }
            },
            "type": "scattermapbox"
           }
          ],
          "scatterpolar": [
           {
            "marker": {
             "colorbar": {
              "outlinewidth": 0,
              "ticks": ""
             }
            },
            "type": "scatterpolar"
           }
          ],
          "scatterpolargl": [
           {
            "marker": {
             "colorbar": {
              "outlinewidth": 0,
              "ticks": ""
             }
            },
            "type": "scatterpolargl"
           }
          ],
          "scatterternary": [
           {
            "marker": {
             "colorbar": {
              "outlinewidth": 0,
              "ticks": ""
             }
            },
            "type": "scatterternary"
           }
          ],
          "surface": [
           {
            "colorbar": {
             "outlinewidth": 0,
             "ticks": ""
            },
            "colorscale": [
             [
              0,
              "#0d0887"
             ],
             [
              0.1111111111111111,
              "#46039f"
             ],
             [
              0.2222222222222222,
              "#7201a8"
             ],
             [
              0.3333333333333333,
              "#9c179e"
             ],
             [
              0.4444444444444444,
              "#bd3786"
             ],
             [
              0.5555555555555556,
              "#d8576b"
             ],
             [
              0.6666666666666666,
              "#ed7953"
             ],
             [
              0.7777777777777778,
              "#fb9f3a"
             ],
             [
              0.8888888888888888,
              "#fdca26"
             ],
             [
              1,
              "#f0f921"
             ]
            ],
            "type": "surface"
           }
          ],
          "table": [
           {
            "cells": {
             "fill": {
              "color": "#EBF0F8"
             },
             "line": {
              "color": "white"
             }
            },
            "header": {
             "fill": {
              "color": "#C8D4E3"
             },
             "line": {
              "color": "white"
             }
            },
            "type": "table"
           }
          ]
         },
         "layout": {
          "annotationdefaults": {
           "arrowcolor": "#2a3f5f",
           "arrowhead": 0,
           "arrowwidth": 1
          },
          "autotypenumbers": "strict",
          "coloraxis": {
           "colorbar": {
            "outlinewidth": 0,
            "ticks": ""
           }
          },
          "colorscale": {
           "diverging": [
            [
             0,
             "#8e0152"
            ],
            [
             0.1,
             "#c51b7d"
            ],
            [
             0.2,
             "#de77ae"
            ],
            [
             0.3,
             "#f1b6da"
            ],
            [
             0.4,
             "#fde0ef"
            ],
            [
             0.5,
             "#f7f7f7"
            ],
            [
             0.6,
             "#e6f5d0"
            ],
            [
             0.7,
             "#b8e186"
            ],
            [
             0.8,
             "#7fbc41"
            ],
            [
             0.9,
             "#4d9221"
            ],
            [
             1,
             "#276419"
            ]
           ],
           "sequential": [
            [
             0,
             "#0d0887"
            ],
            [
             0.1111111111111111,
             "#46039f"
            ],
            [
             0.2222222222222222,
             "#7201a8"
            ],
            [
             0.3333333333333333,
             "#9c179e"
            ],
            [
             0.4444444444444444,
             "#bd3786"
            ],
            [
             0.5555555555555556,
             "#d8576b"
            ],
            [
             0.6666666666666666,
             "#ed7953"
            ],
            [
             0.7777777777777778,
             "#fb9f3a"
            ],
            [
             0.8888888888888888,
             "#fdca26"
            ],
            [
             1,
             "#f0f921"
            ]
           ],
           "sequentialminus": [
            [
             0,
             "#0d0887"
            ],
            [
             0.1111111111111111,
             "#46039f"
            ],
            [
             0.2222222222222222,
             "#7201a8"
            ],
            [
             0.3333333333333333,
             "#9c179e"
            ],
            [
             0.4444444444444444,
             "#bd3786"
            ],
            [
             0.5555555555555556,
             "#d8576b"
            ],
            [
             0.6666666666666666,
             "#ed7953"
            ],
            [
             0.7777777777777778,
             "#fb9f3a"
            ],
            [
             0.8888888888888888,
             "#fdca26"
            ],
            [
             1,
             "#f0f921"
            ]
           ]
          },
          "colorway": [
           "#636efa",
           "#EF553B",
           "#00cc96",
           "#ab63fa",
           "#FFA15A",
           "#19d3f3",
           "#FF6692",
           "#B6E880",
           "#FF97FF",
           "#FECB52"
          ],
          "font": {
           "color": "#2a3f5f"
          },
          "geo": {
           "bgcolor": "white",
           "lakecolor": "white",
           "landcolor": "#E5ECF6",
           "showlakes": true,
           "showland": true,
           "subunitcolor": "white"
          },
          "hoverlabel": {
           "align": "left"
          },
          "hovermode": "closest",
          "mapbox": {
           "style": "light"
          },
          "paper_bgcolor": "white",
          "plot_bgcolor": "#E5ECF6",
          "polar": {
           "angularaxis": {
            "gridcolor": "white",
            "linecolor": "white",
            "ticks": ""
           },
           "bgcolor": "#E5ECF6",
           "radialaxis": {
            "gridcolor": "white",
            "linecolor": "white",
            "ticks": ""
           }
          },
          "scene": {
           "xaxis": {
            "backgroundcolor": "#E5ECF6",
            "gridcolor": "white",
            "gridwidth": 2,
            "linecolor": "white",
            "showbackground": true,
            "ticks": "",
            "zerolinecolor": "white"
           },
           "yaxis": {
            "backgroundcolor": "#E5ECF6",
            "gridcolor": "white",
            "gridwidth": 2,
            "linecolor": "white",
            "showbackground": true,
            "ticks": "",
            "zerolinecolor": "white"
           },
           "zaxis": {
            "backgroundcolor": "#E5ECF6",
            "gridcolor": "white",
            "gridwidth": 2,
            "linecolor": "white",
            "showbackground": true,
            "ticks": "",
            "zerolinecolor": "white"
           }
          },
          "shapedefaults": {
           "line": {
            "color": "#2a3f5f"
           }
          },
          "ternary": {
           "aaxis": {
            "gridcolor": "white",
            "linecolor": "white",
            "ticks": ""
           },
           "baxis": {
            "gridcolor": "white",
            "linecolor": "white",
            "ticks": ""
           },
           "bgcolor": "#E5ECF6",
           "caxis": {
            "gridcolor": "white",
            "linecolor": "white",
            "ticks": ""
           }
          },
          "title": {
           "x": 0.05
          },
          "xaxis": {
           "automargin": true,
           "gridcolor": "white",
           "linecolor": "white",
           "ticks": "",
           "title": {
            "standoff": 15
           },
           "zerolinecolor": "white",
           "zerolinewidth": 2
          },
          "yaxis": {
           "automargin": true,
           "gridcolor": "white",
           "linecolor": "white",
           "ticks": "",
           "title": {
            "standoff": 15
           },
           "zerolinecolor": "white",
           "zerolinewidth": 2
          }
         }
        },
        "title": {
         "text": "3D Star Shape on a Tilted Plane"
        }
       }
      }
     },
     "metadata": {},
     "output_type": "display_data"
    }
   ],
   "source": [
    "print_boundary_dirichlet(path=csv_dir + boundary_csv) "
   ]
  },
  {
   "cell_type": "code",
   "execution_count": 206,
   "metadata": {},
   "outputs": [
    {
     "data": {
      "application/vnd.plotly.v1+json": {
       "config": {
        "plotlyServerURL": "https://plot.ly"
       },
       "data": [
        {
         "marker": {
          "color": "blue",
          "size": 2
         },
         "mode": "markers",
         "type": "scatter3d",
         "x": [
          0.0741516,
          0.227235,
          0.3932,
          0.568205,
          0.757878,
          0.96327,
          1.17576,
          1.4,
          0.0773872,
          0.243036,
          0.41495,
          0.594598,
          0.779118,
          0.980264,
          1.18687,
          1.4,
          0.0851753,
          0.249987,
          0.425731,
          0.609418,
          0.791609,
          0.992739,
          1.19364,
          1.4,
          0.0852152,
          0.257294,
          0.435097,
          0.611657,
          0.802236,
          0.996909,
          1.19442,
          1.4,
          0.0846193,
          0.254068,
          0.428198,
          0.606506,
          0.799349,
          0.993658,
          1.19513,
          1.4,
          0.0809387,
          0.248143,
          0.422568,
          0.603588,
          0.789047,
          0.98873,
          1.19172,
          1.4,
          0.0783744,
          0.23842,
          0.403472,
          0.587077,
          0.772752,
          0.970954,
          1.18306,
          1.4,
          0.0684446,
          0.216,
          0.377778,
          0.553778,
          0.744,
          0.948444,
          1.16711
         ],
         "y": [
          0.0673587,
          0.0663164,
          0.067621,
          0.0659942,
          0.0659816,
          0.0659754,
          0.0676162,
          0.0666665,
          0.198567,
          0.201356,
          0.199551,
          0.200029,
          0.201731,
          0.200203,
          0.199554,
          0.2,
          0.333409,
          0.331007,
          0.333812,
          0.335452,
          0.333371,
          0.334059,
          0.33291,
          0.333333,
          0.465485,
          0.463848,
          0.466125,
          0.465998,
          0.467917,
          0.464906,
          0.467646,
          0.466667,
          0.600822,
          0.603311,
          0.600923,
          0.600435,
          0.601619,
          0.599137,
          0.598916,
          0.6,
          0.732774,
          0.734412,
          0.730949,
          0.734299,
          0.732913,
          0.732886,
          0.732579,
          0.733333,
          0.867034,
          0.866755,
          0.868114,
          0.863894,
          0.867898,
          0.866155,
          0.866024,
          0.866667,
          1,
          1,
          1,
          1,
          1,
          1,
          1
         ],
         "z": [
          0,
          0,
          0,
          0,
          0,
          0,
          0,
          0,
          0,
          0,
          0,
          0,
          0,
          0,
          0,
          0,
          0,
          0,
          0,
          0,
          0,
          0,
          0,
          0,
          0,
          0,
          0,
          0,
          0,
          0,
          0,
          0,
          0,
          0,
          0,
          0,
          0,
          0,
          0,
          0,
          0,
          0,
          0,
          0,
          0,
          0,
          0,
          0,
          0,
          0,
          0,
          0,
          0,
          0,
          0,
          0,
          0,
          0,
          0,
          0,
          0,
          0,
          0
         ]
        },
        {
         "marker": {
          "color": "red",
          "size": 2
         },
         "mode": "markers",
         "type": "scatter3d",
         "x": [
          0,
          0,
          0,
          0,
          0,
          0,
          0,
          0,
          0.06666666666666665,
          0.19999999999999996,
          0.33333333333333326,
          0.46666666666666656,
          0.6000000000000001,
          0.7333333333333334,
          0.8666666666666667,
          1,
          0,
          0,
          0,
          0,
          0,
          0,
          0,
          0,
          0.06666666666666665,
          0.19999999999999996,
          0.33333333333333326,
          0.46666666666666656,
          0.6000000000000001,
          0.7333333333333334,
          0.8666666666666667,
          1,
          0,
          0,
          0,
          0,
          0,
          0,
          0,
          0,
          0.06666666666666665,
          0.19999999999999996,
          0.33333333333333326,
          0.46666666666666656,
          0.6000000000000001,
          0.7333333333333334,
          0.8666666666666667,
          1,
          0,
          0,
          0,
          0,
          0,
          0,
          0,
          0,
          0.06666666666666665,
          0.19999999999999996,
          0.33333333333333326,
          0.46666666666666656,
          0.6000000000000001,
          0.7333333333333334,
          0.8666666666666667,
          1,
          0,
          0,
          0,
          0,
          0,
          0,
          0,
          0,
          0.06666666666666665,
          0.19999999999999996,
          0.33333333333333326,
          0.46666666666666656,
          0.6000000000000001,
          0.7333333333333334,
          0.8666666666666667,
          1,
          0,
          0,
          0,
          0,
          0,
          0,
          0,
          0,
          0.06666666666666665,
          0.19999999999999996,
          0.33333333333333326,
          0.46666666666666656,
          0.6000000000000001,
          0.7333333333333334,
          0.8666666666666667,
          1,
          0,
          0,
          0,
          0,
          0,
          0,
          0,
          0,
          0.06666666666666665,
          0.19999999999999996,
          0.33333333333333326,
          0.46666666666666656,
          0.6000000000000001,
          0.7333333333333334,
          0.8666666666666667,
          1,
          0,
          0,
          0,
          0,
          0,
          0,
          0,
          0,
          0.06666666666666665,
          0.19999999999999996,
          0.33333333333333326,
          0.46666666666666656,
          0.6000000000000001,
          0.7333333333333334,
          0.8666666666666667,
          1,
          0,
          0,
          0,
          0,
          0,
          0,
          0,
          0,
          0.06666666666666665,
          0.19999999999999996,
          0.33333333333333326,
          0.46666666666666656,
          0.6000000000000001,
          0.7333333333333334,
          0.8666666666666667,
          1,
          0,
          0,
          0,
          0,
          0,
          0,
          0,
          0,
          0.06666666666666665,
          0.19999999999999996,
          0.33333333333333326,
          0.46666666666666656,
          0.6000000000000001,
          0.7333333333333334,
          0.8666666666666667,
          1,
          0,
          0,
          0,
          0,
          0,
          0,
          0,
          0,
          0.06666666666666665,
          0.19999999999999996,
          0.33333333333333326,
          0.46666666666666656,
          0.6000000000000001,
          0.7333333333333334,
          0.8666666666666667,
          1,
          0,
          0,
          0,
          0,
          0,
          0,
          0,
          0,
          0.06666666666666665,
          0.19999999999999996,
          0.33333333333333326,
          0.46666666666666656,
          0.6000000000000001,
          0.7333333333333334,
          0.8666666666666667,
          1,
          0,
          0,
          0,
          0,
          0,
          0,
          0,
          0,
          0.06666666666666665,
          0.19999999999999996,
          0.33333333333333326,
          0.46666666666666656,
          0.6000000000000001,
          0.7333333333333334,
          0.8666666666666667,
          1,
          0,
          0,
          0,
          0,
          0,
          0,
          0,
          0,
          0.06666666666666665,
          0.19999999999999996,
          0.33333333333333326,
          0.46666666666666656,
          0.6000000000000001,
          0.7333333333333334,
          0.8666666666666667,
          1,
          0,
          0,
          0,
          0,
          0,
          0,
          0,
          0,
          0.06666666666666665,
          0.19999999999999996,
          0.33333333333333326,
          0.46666666666666656,
          0.6000000000000001,
          0.7333333333333334,
          0.8666666666666667,
          1,
          0,
          0,
          0,
          0,
          0,
          0,
          0,
          0,
          0.06666666666666665,
          0.19999999999999996,
          0.33333333333333326,
          0.46666666666666656,
          0.6000000000000001,
          0.7333333333333334,
          0.8666666666666667,
          1
         ],
         "y": [
          0,
          0,
          0,
          0,
          0,
          0,
          0,
          0,
          0,
          0,
          0,
          0,
          0,
          0,
          0,
          0,
          0,
          0,
          0,
          0,
          0,
          0,
          0,
          0,
          0,
          0,
          0,
          0,
          0,
          0,
          0,
          0,
          0,
          0,
          0,
          0,
          0,
          0,
          0,
          0,
          0,
          0,
          0,
          0,
          0,
          0,
          0,
          0,
          0,
          0,
          0,
          0,
          0,
          0,
          0,
          0,
          0,
          0,
          0,
          0,
          0,
          0,
          0,
          0,
          0,
          0,
          0,
          0,
          0,
          0,
          0,
          0,
          0,
          0,
          0,
          0,
          0,
          0,
          0,
          0,
          0,
          0,
          0,
          0,
          0,
          0,
          0,
          0,
          0,
          0,
          0,
          0,
          0,
          0,
          0,
          0,
          0,
          0,
          0,
          0,
          0,
          0,
          0,
          0,
          0,
          0,
          0,
          0,
          0,
          0,
          0,
          0,
          0,
          0,
          0,
          0,
          0,
          0,
          0,
          0,
          0,
          0,
          0,
          0,
          0,
          0,
          0,
          0,
          0.06666666666666665,
          0.06666666666666665,
          0.06666666666666665,
          0.06666666666666665,
          0.06666666666666665,
          0.06666666666666665,
          0.06666666666666665,
          0.06666666666666665,
          0.06666666666666665,
          0.06666666666666665,
          0.06666666666666665,
          0.06666666666666665,
          0.06666666666666665,
          0.06666666666666665,
          0.06666666666666665,
          0.06666666666666665,
          0.19999999999999996,
          0.19999999999999996,
          0.19999999999999996,
          0.19999999999999996,
          0.19999999999999996,
          0.19999999999999996,
          0.19999999999999996,
          0.19999999999999996,
          0.19999999999999996,
          0.19999999999999996,
          0.19999999999999996,
          0.19999999999999996,
          0.19999999999999996,
          0.19999999999999996,
          0.19999999999999996,
          0.19999999999999996,
          0.33333333333333326,
          0.33333333333333326,
          0.33333333333333326,
          0.33333333333333326,
          0.33333333333333326,
          0.33333333333333326,
          0.33333333333333326,
          0.33333333333333326,
          0.33333333333333326,
          0.33333333333333326,
          0.33333333333333326,
          0.33333333333333326,
          0.33333333333333326,
          0.33333333333333326,
          0.33333333333333326,
          0.33333333333333326,
          0.46666666666666656,
          0.46666666666666656,
          0.46666666666666656,
          0.46666666666666656,
          0.46666666666666656,
          0.46666666666666656,
          0.46666666666666656,
          0.46666666666666656,
          0.46666666666666656,
          0.46666666666666656,
          0.46666666666666656,
          0.46666666666666656,
          0.46666666666666656,
          0.46666666666666656,
          0.46666666666666656,
          0.46666666666666656,
          0.6000000000000001,
          0.6000000000000001,
          0.6000000000000001,
          0.6000000000000001,
          0.6000000000000001,
          0.6000000000000001,
          0.6000000000000001,
          0.6000000000000001,
          0.6000000000000001,
          0.6000000000000001,
          0.6000000000000001,
          0.6000000000000001,
          0.6000000000000001,
          0.6000000000000001,
          0.6000000000000001,
          0.6000000000000001,
          0.7333333333333334,
          0.7333333333333334,
          0.7333333333333334,
          0.7333333333333334,
          0.7333333333333334,
          0.7333333333333334,
          0.7333333333333334,
          0.7333333333333334,
          0.7333333333333334,
          0.7333333333333334,
          0.7333333333333334,
          0.7333333333333334,
          0.7333333333333334,
          0.7333333333333334,
          0.7333333333333334,
          0.7333333333333334,
          0.8666666666666667,
          0.8666666666666667,
          0.8666666666666667,
          0.8666666666666667,
          0.8666666666666667,
          0.8666666666666667,
          0.8666666666666667,
          0.8666666666666667,
          0.8666666666666667,
          0.8666666666666667,
          0.8666666666666667,
          0.8666666666666667,
          0.8666666666666667,
          0.8666666666666667,
          0.8666666666666667,
          0.8666666666666667,
          1,
          1,
          1,
          1,
          1,
          1,
          1,
          1,
          1,
          1,
          1,
          1,
          1,
          1,
          1,
          1
         ],
         "z": [
          -0.001,
          -0.001,
          -0.001,
          -0.001,
          -0.001,
          -0.001,
          -0.001,
          -0.001,
          -0.001,
          -0.001,
          -0.001,
          -0.001,
          -0.001,
          -0.001,
          -0.001,
          -0.001,
          -0.001,
          -0.001,
          -0.001,
          -0.001,
          -0.001,
          -0.001,
          -0.001,
          -0.001,
          -0.001,
          -0.001,
          -0.001,
          -0.001,
          -0.001,
          -0.001,
          -0.001,
          -0.001,
          -0.001,
          -0.001,
          -0.001,
          -0.001,
          -0.001,
          -0.001,
          -0.001,
          -0.001,
          -0.001,
          -0.001,
          -0.001,
          -0.001,
          -0.001,
          -0.001,
          -0.001,
          -0.001,
          -0.001,
          -0.001,
          -0.001,
          -0.001,
          -0.001,
          -0.001,
          -0.001,
          -0.001,
          -0.001,
          -0.001,
          -0.001,
          -0.001,
          -0.001,
          -0.001,
          -0.001,
          -0.001,
          -0.001,
          -0.001,
          -0.001,
          -0.001,
          -0.001,
          -0.001,
          -0.001,
          -0.001,
          -0.001,
          -0.001,
          -0.001,
          -0.001,
          -0.001,
          -0.001,
          -0.001,
          -0.001,
          -0.001,
          -0.001,
          -0.001,
          -0.001,
          -0.001,
          -0.001,
          -0.001,
          -0.001,
          -0.001,
          -0.001,
          -0.001,
          -0.001,
          -0.001,
          -0.001,
          -0.001,
          -0.001,
          -0.001,
          -0.001,
          -0.001,
          -0.001,
          -0.001,
          -0.001,
          -0.001,
          -0.001,
          -0.001,
          -0.001,
          -0.001,
          -0.001,
          -0.001,
          -0.001,
          -0.001,
          -0.001,
          -0.001,
          -0.001,
          -0.001,
          -0.001,
          -0.001,
          -0.001,
          -0.001,
          -0.001,
          -0.001,
          -0.001,
          -0.001,
          -0.001,
          -0.001,
          -0.001,
          -0.001,
          -0.001,
          -0.001,
          -0.001,
          -0.001,
          -0.001,
          -0.001,
          -0.001,
          -0.001,
          -0.001,
          -0.001,
          -0.001,
          -0.001,
          -0.001,
          -0.001,
          -0.001,
          -0.001,
          -0.001,
          -0.001,
          -0.001,
          -0.001,
          -0.001,
          -0.001,
          -0.001,
          -0.001,
          -0.001,
          -0.001,
          -0.001,
          -0.001,
          -0.001,
          -0.001,
          -0.001,
          -0.001,
          -0.001,
          -0.001,
          -0.001,
          -0.001,
          -0.001,
          -0.001,
          -0.001,
          -0.001,
          -0.001,
          -0.001,
          -0.001,
          -0.001,
          -0.001,
          -0.001,
          -0.001,
          -0.001,
          -0.001,
          -0.001,
          -0.001,
          -0.001,
          -0.001,
          -0.001,
          -0.001,
          -0.001,
          -0.001,
          -0.001,
          -0.001,
          -0.001,
          -0.001,
          -0.001,
          -0.001,
          -0.001,
          -0.001,
          -0.001,
          -0.001,
          -0.001,
          -0.001,
          -0.001,
          -0.001,
          -0.001,
          -0.001,
          -0.001,
          -0.001,
          -0.001,
          -0.001,
          -0.001,
          -0.001,
          -0.001,
          -0.001,
          -0.001,
          -0.001,
          -0.001,
          -0.001,
          -0.001,
          -0.001,
          -0.001,
          -0.001,
          -0.001,
          -0.001,
          -0.001,
          -0.001,
          -0.001,
          -0.001,
          -0.001,
          -0.001,
          -0.001,
          -0.001,
          -0.001,
          -0.001,
          -0.001,
          -0.001,
          -0.001,
          -0.001,
          -0.001,
          -0.001,
          -0.001,
          -0.001,
          -0.001,
          -0.001,
          -0.001,
          -0.001,
          -0.001,
          -0.001,
          -0.001,
          -0.001,
          -0.001,
          -0.001,
          -0.001,
          -0.001,
          -0.001,
          -0.001,
          -0.001,
          -0.001,
          -0.001,
          -0.001,
          -0.001,
          -0.001
         ]
        }
       ],
       "layout": {
        "scene": {
         "aspectmode": "cube",
         "xaxis": {
          "title": {
           "text": "X"
          }
         },
         "yaxis": {
          "title": {
           "text": "Y"
          }
         },
         "zaxis": {
          "range": [
           -0.01,
           0.01
          ],
          "title": {
           "text": "Z"
          }
         }
        },
        "template": {
         "data": {
          "bar": [
           {
            "error_x": {
             "color": "#2a3f5f"
            },
            "error_y": {
             "color": "#2a3f5f"
            },
            "marker": {
             "line": {
              "color": "#E5ECF6",
              "width": 0.5
             },
             "pattern": {
              "fillmode": "overlay",
              "size": 10,
              "solidity": 0.2
             }
            },
            "type": "bar"
           }
          ],
          "barpolar": [
           {
            "marker": {
             "line": {
              "color": "#E5ECF6",
              "width": 0.5
             },
             "pattern": {
              "fillmode": "overlay",
              "size": 10,
              "solidity": 0.2
             }
            },
            "type": "barpolar"
           }
          ],
          "carpet": [
           {
            "aaxis": {
             "endlinecolor": "#2a3f5f",
             "gridcolor": "white",
             "linecolor": "white",
             "minorgridcolor": "white",
             "startlinecolor": "#2a3f5f"
            },
            "baxis": {
             "endlinecolor": "#2a3f5f",
             "gridcolor": "white",
             "linecolor": "white",
             "minorgridcolor": "white",
             "startlinecolor": "#2a3f5f"
            },
            "type": "carpet"
           }
          ],
          "choropleth": [
           {
            "colorbar": {
             "outlinewidth": 0,
             "ticks": ""
            },
            "type": "choropleth"
           }
          ],
          "contour": [
           {
            "colorbar": {
             "outlinewidth": 0,
             "ticks": ""
            },
            "colorscale": [
             [
              0,
              "#0d0887"
             ],
             [
              0.1111111111111111,
              "#46039f"
             ],
             [
              0.2222222222222222,
              "#7201a8"
             ],
             [
              0.3333333333333333,
              "#9c179e"
             ],
             [
              0.4444444444444444,
              "#bd3786"
             ],
             [
              0.5555555555555556,
              "#d8576b"
             ],
             [
              0.6666666666666666,
              "#ed7953"
             ],
             [
              0.7777777777777778,
              "#fb9f3a"
             ],
             [
              0.8888888888888888,
              "#fdca26"
             ],
             [
              1,
              "#f0f921"
             ]
            ],
            "type": "contour"
           }
          ],
          "contourcarpet": [
           {
            "colorbar": {
             "outlinewidth": 0,
             "ticks": ""
            },
            "type": "contourcarpet"
           }
          ],
          "heatmap": [
           {
            "colorbar": {
             "outlinewidth": 0,
             "ticks": ""
            },
            "colorscale": [
             [
              0,
              "#0d0887"
             ],
             [
              0.1111111111111111,
              "#46039f"
             ],
             [
              0.2222222222222222,
              "#7201a8"
             ],
             [
              0.3333333333333333,
              "#9c179e"
             ],
             [
              0.4444444444444444,
              "#bd3786"
             ],
             [
              0.5555555555555556,
              "#d8576b"
             ],
             [
              0.6666666666666666,
              "#ed7953"
             ],
             [
              0.7777777777777778,
              "#fb9f3a"
             ],
             [
              0.8888888888888888,
              "#fdca26"
             ],
             [
              1,
              "#f0f921"
             ]
            ],
            "type": "heatmap"
           }
          ],
          "heatmapgl": [
           {
            "colorbar": {
             "outlinewidth": 0,
             "ticks": ""
            },
            "colorscale": [
             [
              0,
              "#0d0887"
             ],
             [
              0.1111111111111111,
              "#46039f"
             ],
             [
              0.2222222222222222,
              "#7201a8"
             ],
             [
              0.3333333333333333,
              "#9c179e"
             ],
             [
              0.4444444444444444,
              "#bd3786"
             ],
             [
              0.5555555555555556,
              "#d8576b"
             ],
             [
              0.6666666666666666,
              "#ed7953"
             ],
             [
              0.7777777777777778,
              "#fb9f3a"
             ],
             [
              0.8888888888888888,
              "#fdca26"
             ],
             [
              1,
              "#f0f921"
             ]
            ],
            "type": "heatmapgl"
           }
          ],
          "histogram": [
           {
            "marker": {
             "pattern": {
              "fillmode": "overlay",
              "size": 10,
              "solidity": 0.2
             }
            },
            "type": "histogram"
           }
          ],
          "histogram2d": [
           {
            "colorbar": {
             "outlinewidth": 0,
             "ticks": ""
            },
            "colorscale": [
             [
              0,
              "#0d0887"
             ],
             [
              0.1111111111111111,
              "#46039f"
             ],
             [
              0.2222222222222222,
              "#7201a8"
             ],
             [
              0.3333333333333333,
              "#9c179e"
             ],
             [
              0.4444444444444444,
              "#bd3786"
             ],
             [
              0.5555555555555556,
              "#d8576b"
             ],
             [
              0.6666666666666666,
              "#ed7953"
             ],
             [
              0.7777777777777778,
              "#fb9f3a"
             ],
             [
              0.8888888888888888,
              "#fdca26"
             ],
             [
              1,
              "#f0f921"
             ]
            ],
            "type": "histogram2d"
           }
          ],
          "histogram2dcontour": [
           {
            "colorbar": {
             "outlinewidth": 0,
             "ticks": ""
            },
            "colorscale": [
             [
              0,
              "#0d0887"
             ],
             [
              0.1111111111111111,
              "#46039f"
             ],
             [
              0.2222222222222222,
              "#7201a8"
             ],
             [
              0.3333333333333333,
              "#9c179e"
             ],
             [
              0.4444444444444444,
              "#bd3786"
             ],
             [
              0.5555555555555556,
              "#d8576b"
             ],
             [
              0.6666666666666666,
              "#ed7953"
             ],
             [
              0.7777777777777778,
              "#fb9f3a"
             ],
             [
              0.8888888888888888,
              "#fdca26"
             ],
             [
              1,
              "#f0f921"
             ]
            ],
            "type": "histogram2dcontour"
           }
          ],
          "mesh3d": [
           {
            "colorbar": {
             "outlinewidth": 0,
             "ticks": ""
            },
            "type": "mesh3d"
           }
          ],
          "parcoords": [
           {
            "line": {
             "colorbar": {
              "outlinewidth": 0,
              "ticks": ""
             }
            },
            "type": "parcoords"
           }
          ],
          "pie": [
           {
            "automargin": true,
            "type": "pie"
           }
          ],
          "scatter": [
           {
            "fillpattern": {
             "fillmode": "overlay",
             "size": 10,
             "solidity": 0.2
            },
            "type": "scatter"
           }
          ],
          "scatter3d": [
           {
            "line": {
             "colorbar": {
              "outlinewidth": 0,
              "ticks": ""
             }
            },
            "marker": {
             "colorbar": {
              "outlinewidth": 0,
              "ticks": ""
             }
            },
            "type": "scatter3d"
           }
          ],
          "scattercarpet": [
           {
            "marker": {
             "colorbar": {
              "outlinewidth": 0,
              "ticks": ""
             }
            },
            "type": "scattercarpet"
           }
          ],
          "scattergeo": [
           {
            "marker": {
             "colorbar": {
              "outlinewidth": 0,
              "ticks": ""
             }
            },
            "type": "scattergeo"
           }
          ],
          "scattergl": [
           {
            "marker": {
             "colorbar": {
              "outlinewidth": 0,
              "ticks": ""
             }
            },
            "type": "scattergl"
           }
          ],
          "scattermapbox": [
           {
            "marker": {
             "colorbar": {
              "outlinewidth": 0,
              "ticks": ""
             }
            },
            "type": "scattermapbox"
           }
          ],
          "scatterpolar": [
           {
            "marker": {
             "colorbar": {
              "outlinewidth": 0,
              "ticks": ""
             }
            },
            "type": "scatterpolar"
           }
          ],
          "scatterpolargl": [
           {
            "marker": {
             "colorbar": {
              "outlinewidth": 0,
              "ticks": ""
             }
            },
            "type": "scatterpolargl"
           }
          ],
          "scatterternary": [
           {
            "marker": {
             "colorbar": {
              "outlinewidth": 0,
              "ticks": ""
             }
            },
            "type": "scatterternary"
           }
          ],
          "surface": [
           {
            "colorbar": {
             "outlinewidth": 0,
             "ticks": ""
            },
            "colorscale": [
             [
              0,
              "#0d0887"
             ],
             [
              0.1111111111111111,
              "#46039f"
             ],
             [
              0.2222222222222222,
              "#7201a8"
             ],
             [
              0.3333333333333333,
              "#9c179e"
             ],
             [
              0.4444444444444444,
              "#bd3786"
             ],
             [
              0.5555555555555556,
              "#d8576b"
             ],
             [
              0.6666666666666666,
              "#ed7953"
             ],
             [
              0.7777777777777778,
              "#fb9f3a"
             ],
             [
              0.8888888888888888,
              "#fdca26"
             ],
             [
              1,
              "#f0f921"
             ]
            ],
            "type": "surface"
           }
          ],
          "table": [
           {
            "cells": {
             "fill": {
              "color": "#EBF0F8"
             },
             "line": {
              "color": "white"
             }
            },
            "header": {
             "fill": {
              "color": "#C8D4E3"
             },
             "line": {
              "color": "white"
             }
            },
            "type": "table"
           }
          ]
         },
         "layout": {
          "annotationdefaults": {
           "arrowcolor": "#2a3f5f",
           "arrowhead": 0,
           "arrowwidth": 1
          },
          "autotypenumbers": "strict",
          "coloraxis": {
           "colorbar": {
            "outlinewidth": 0,
            "ticks": ""
           }
          },
          "colorscale": {
           "diverging": [
            [
             0,
             "#8e0152"
            ],
            [
             0.1,
             "#c51b7d"
            ],
            [
             0.2,
             "#de77ae"
            ],
            [
             0.3,
             "#f1b6da"
            ],
            [
             0.4,
             "#fde0ef"
            ],
            [
             0.5,
             "#f7f7f7"
            ],
            [
             0.6,
             "#e6f5d0"
            ],
            [
             0.7,
             "#b8e186"
            ],
            [
             0.8,
             "#7fbc41"
            ],
            [
             0.9,
             "#4d9221"
            ],
            [
             1,
             "#276419"
            ]
           ],
           "sequential": [
            [
             0,
             "#0d0887"
            ],
            [
             0.1111111111111111,
             "#46039f"
            ],
            [
             0.2222222222222222,
             "#7201a8"
            ],
            [
             0.3333333333333333,
             "#9c179e"
            ],
            [
             0.4444444444444444,
             "#bd3786"
            ],
            [
             0.5555555555555556,
             "#d8576b"
            ],
            [
             0.6666666666666666,
             "#ed7953"
            ],
            [
             0.7777777777777778,
             "#fb9f3a"
            ],
            [
             0.8888888888888888,
             "#fdca26"
            ],
            [
             1,
             "#f0f921"
            ]
           ],
           "sequentialminus": [
            [
             0,
             "#0d0887"
            ],
            [
             0.1111111111111111,
             "#46039f"
            ],
            [
             0.2222222222222222,
             "#7201a8"
            ],
            [
             0.3333333333333333,
             "#9c179e"
            ],
            [
             0.4444444444444444,
             "#bd3786"
            ],
            [
             0.5555555555555556,
             "#d8576b"
            ],
            [
             0.6666666666666666,
             "#ed7953"
            ],
            [
             0.7777777777777778,
             "#fb9f3a"
            ],
            [
             0.8888888888888888,
             "#fdca26"
            ],
            [
             1,
             "#f0f921"
            ]
           ]
          },
          "colorway": [
           "#636efa",
           "#EF553B",
           "#00cc96",
           "#ab63fa",
           "#FFA15A",
           "#19d3f3",
           "#FF6692",
           "#B6E880",
           "#FF97FF",
           "#FECB52"
          ],
          "font": {
           "color": "#2a3f5f"
          },
          "geo": {
           "bgcolor": "white",
           "lakecolor": "white",
           "landcolor": "#E5ECF6",
           "showlakes": true,
           "showland": true,
           "subunitcolor": "white"
          },
          "hoverlabel": {
           "align": "left"
          },
          "hovermode": "closest",
          "mapbox": {
           "style": "light"
          },
          "paper_bgcolor": "white",
          "plot_bgcolor": "#E5ECF6",
          "polar": {
           "angularaxis": {
            "gridcolor": "white",
            "linecolor": "white",
            "ticks": ""
           },
           "bgcolor": "#E5ECF6",
           "radialaxis": {
            "gridcolor": "white",
            "linecolor": "white",
            "ticks": ""
           }
          },
          "scene": {
           "xaxis": {
            "backgroundcolor": "#E5ECF6",
            "gridcolor": "white",
            "gridwidth": 2,
            "linecolor": "white",
            "showbackground": true,
            "ticks": "",
            "zerolinecolor": "white"
           },
           "yaxis": {
            "backgroundcolor": "#E5ECF6",
            "gridcolor": "white",
            "gridwidth": 2,
            "linecolor": "white",
            "showbackground": true,
            "ticks": "",
            "zerolinecolor": "white"
           },
           "zaxis": {
            "backgroundcolor": "#E5ECF6",
            "gridcolor": "white",
            "gridwidth": 2,
            "linecolor": "white",
            "showbackground": true,
            "ticks": "",
            "zerolinecolor": "white"
           }
          },
          "shapedefaults": {
           "line": {
            "color": "#2a3f5f"
           }
          },
          "ternary": {
           "aaxis": {
            "gridcolor": "white",
            "linecolor": "white",
            "ticks": ""
           },
           "baxis": {
            "gridcolor": "white",
            "linecolor": "white",
            "ticks": ""
           },
           "bgcolor": "#E5ECF6",
           "caxis": {
            "gridcolor": "white",
            "linecolor": "white",
            "ticks": ""
           }
          },
          "title": {
           "x": 0.05
          },
          "xaxis": {
           "automargin": true,
           "gridcolor": "white",
           "linecolor": "white",
           "ticks": "",
           "title": {
            "standoff": 15
           },
           "zerolinecolor": "white",
           "zerolinewidth": 2
          },
          "yaxis": {
           "automargin": true,
           "gridcolor": "white",
           "linecolor": "white",
           "ticks": "",
           "title": {
            "standoff": 15
           },
           "zerolinecolor": "white",
           "zerolinewidth": 2
          }
         }
        }
       }
      }
     },
     "metadata": {},
     "output_type": "display_data"
    },
    {
     "name": "stdout",
     "output_type": "stream",
     "text": [
      "Figure saved as ./solver_output_plot.png\n"
     ]
    }
   ],
   "source": [
    "visualize_csv_output_vector(csv_dir + shape_csv, original_point=True) "
   ]
  },
  {
   "cell_type": "code",
   "execution_count": 209,
   "metadata": {},
   "outputs": [],
   "source": [
    "import numpy as np\n",
    "import pandas as pd\n",
    "import plotly.graph_objects as go\n",
    "from scipy.interpolate import griddata\n",
    "\n",
    "def parse_csv_for_xy(path):\n",
    "    # Read CSV assuming pairs of x, y coordinates (x1, y1, x2, y2, ...)\n",
    "    data = pd.read_csv(path, header=None)\n",
    "    \n",
    "    # Convert all values to numeric, forcing errors to NaN (which makes them easier to handle)\n",
    "    data = data.apply(pd.to_numeric, errors='coerce')\n",
    "\n",
    "    # Flatten the data into x and y arrays\n",
    "    x_vals = data.iloc[:, 0::2].values.flatten()  # Extract x values (every other column starting from 0)\n",
    "    y_vals = data.iloc[:, 1::2].values.flatten()  # Extract y values (every other column starting from 1)\n",
    "\n",
    "    return x_vals, y_vals\n",
    "\n",
    "def get_original_points(s=16):\n",
    "    x = []\n",
    "    y = []\n",
    "    for j in range(s):\n",
    "        for i in range(s):\n",
    "            x.append((i / (s - 1)) * 2 - 1)\n",
    "            y.append((j / (s - 1)) * 2 - 1)\n",
    "    x = np.array(x)\n",
    "    y = np.array(y)\n",
    "    x = np.clip(x, 0, 1)\n",
    "    y = np.clip(y, 0, 1)\n",
    "    return x, y\n",
    "\n",
    "def visualize_displacement_with_arrows(path, output_path=\"./displacement_vector_field.png\", s=16):\n",
    "    # Parse CSV to get x, y values after deformation\n",
    "    x_vals_deformed, y_vals_deformed = parse_csv_for_xy(path)\n",
    "    \n",
    "    # Get original points in the elastic material\n",
    "    x_original, y_original = get_original_points(s)\n",
    "    \n",
    "    # Ensure lengths match between original and deformed points\n",
    "    assert len(x_original) == len(x_vals_deformed), \"Original and deformed points must have the same length.\"\n",
    "    assert len(y_original) == len(y_vals_deformed), \"Original and deformed points must have the same length.\"\n",
    "\n",
    "    # Create a figure for plotting\n",
    "    fig = go.Figure()\n",
    "\n",
    "    # Add a vector field plot to represent displacement\n",
    "    for x0, y0, x1, y1 in zip(x_original, y_original, x_vals_deformed, y_vals_deformed):\n",
    "        fig.add_trace(go.Scatter3d(\n",
    "            x=[x0, x1],  # Line starts at original point and ends at deformed point\n",
    "            y=[y0, y1],\n",
    "            z=[0, 0],  # Assuming displacement in 2D plane, set Z to 0\n",
    "            mode='lines+markers',\n",
    "            marker=dict(size=2, color='blue'),\n",
    "            line=dict(color='green', width=2)\n",
    "        ))\n",
    "    \n",
    "    # Add layout adjustments\n",
    "    fig.update_layout(scene=dict(\n",
    "        xaxis_title='X',\n",
    "        yaxis_title='Y',\n",
    "        zaxis_title='Z',\n",
    "        aspectmode='cube'\n",
    "    ))\n",
    "\n",
    "    # Show the plot and save to file\n",
    "    fig.show()\n",
    "    fig.write_image(output_path)\n",
    "    print(f\"Figure saved as {output_path}\")\n"
   ]
  },
  {
   "cell_type": "code",
   "execution_count": 210,
   "metadata": {},
   "outputs": [
    {
     "data": {
      "application/vnd.plotly.v1+json": {
       "config": {
        "plotlyServerURL": "https://plot.ly"
       },
       "data": [
        {
         "line": {
          "color": "green",
          "width": 2
         },
         "marker": {
          "color": "blue",
          "size": 2
         },
         "mode": "lines+markers",
         "type": "scatter3d",
         "x": [
          0,
          null
         ],
         "y": [
          0,
          0
         ],
         "z": [
          0,
          0
         ]
        },
        {
         "line": {
          "color": "green",
          "width": 2
         },
         "marker": {
          "color": "blue",
          "size": 2
         },
         "mode": "lines+markers",
         "type": "scatter3d",
         "x": [
          0,
          null
         ],
         "y": [
          0,
          0
         ],
         "z": [
          0,
          0
         ]
        },
        {
         "line": {
          "color": "green",
          "width": 2
         },
         "marker": {
          "color": "blue",
          "size": 2
         },
         "mode": "lines+markers",
         "type": "scatter3d",
         "x": [
          0,
          null
         ],
         "y": [
          0,
          0
         ],
         "z": [
          0,
          0
         ]
        },
        {
         "line": {
          "color": "green",
          "width": 2
         },
         "marker": {
          "color": "blue",
          "size": 2
         },
         "mode": "lines+markers",
         "type": "scatter3d",
         "x": [
          0,
          null
         ],
         "y": [
          0,
          0
         ],
         "z": [
          0,
          0
         ]
        },
        {
         "line": {
          "color": "green",
          "width": 2
         },
         "marker": {
          "color": "blue",
          "size": 2
         },
         "mode": "lines+markers",
         "type": "scatter3d",
         "x": [
          0,
          null
         ],
         "y": [
          0,
          0
         ],
         "z": [
          0,
          0
         ]
        },
        {
         "line": {
          "color": "green",
          "width": 2
         },
         "marker": {
          "color": "blue",
          "size": 2
         },
         "mode": "lines+markers",
         "type": "scatter3d",
         "x": [
          0,
          null
         ],
         "y": [
          0,
          0
         ],
         "z": [
          0,
          0
         ]
        },
        {
         "line": {
          "color": "green",
          "width": 2
         },
         "marker": {
          "color": "blue",
          "size": 2
         },
         "mode": "lines+markers",
         "type": "scatter3d",
         "x": [
          0,
          null
         ],
         "y": [
          0,
          0
         ],
         "z": [
          0,
          0
         ]
        },
        {
         "line": {
          "color": "green",
          "width": 2
         },
         "marker": {
          "color": "blue",
          "size": 2
         },
         "mode": "lines+markers",
         "type": "scatter3d",
         "x": [
          0,
          null
         ],
         "y": [
          0,
          0
         ],
         "z": [
          0,
          0
         ]
        },
        {
         "line": {
          "color": "green",
          "width": 2
         },
         "marker": {
          "color": "blue",
          "size": 2
         },
         "mode": "lines+markers",
         "type": "scatter3d",
         "x": [
          0.06666666666666665,
          null
         ],
         "y": [
          0,
          0
         ],
         "z": [
          0,
          0
         ]
        },
        {
         "line": {
          "color": "green",
          "width": 2
         },
         "marker": {
          "color": "blue",
          "size": 2
         },
         "mode": "lines+markers",
         "type": "scatter3d",
         "x": [
          0.19999999999999996,
          null
         ],
         "y": [
          0,
          0
         ],
         "z": [
          0,
          0
         ]
        },
        {
         "line": {
          "color": "green",
          "width": 2
         },
         "marker": {
          "color": "blue",
          "size": 2
         },
         "mode": "lines+markers",
         "type": "scatter3d",
         "x": [
          0.33333333333333326,
          null
         ],
         "y": [
          0,
          0
         ],
         "z": [
          0,
          0
         ]
        },
        {
         "line": {
          "color": "green",
          "width": 2
         },
         "marker": {
          "color": "blue",
          "size": 2
         },
         "mode": "lines+markers",
         "type": "scatter3d",
         "x": [
          0.46666666666666656,
          null
         ],
         "y": [
          0,
          0
         ],
         "z": [
          0,
          0
         ]
        },
        {
         "line": {
          "color": "green",
          "width": 2
         },
         "marker": {
          "color": "blue",
          "size": 2
         },
         "mode": "lines+markers",
         "type": "scatter3d",
         "x": [
          0.6000000000000001,
          null
         ],
         "y": [
          0,
          0
         ],
         "z": [
          0,
          0
         ]
        },
        {
         "line": {
          "color": "green",
          "width": 2
         },
         "marker": {
          "color": "blue",
          "size": 2
         },
         "mode": "lines+markers",
         "type": "scatter3d",
         "x": [
          0.7333333333333334,
          null
         ],
         "y": [
          0,
          0
         ],
         "z": [
          0,
          0
         ]
        },
        {
         "line": {
          "color": "green",
          "width": 2
         },
         "marker": {
          "color": "blue",
          "size": 2
         },
         "mode": "lines+markers",
         "type": "scatter3d",
         "x": [
          0.8666666666666667,
          null
         ],
         "y": [
          0,
          0
         ],
         "z": [
          0,
          0
         ]
        },
        {
         "line": {
          "color": "green",
          "width": 2
         },
         "marker": {
          "color": "blue",
          "size": 2
         },
         "mode": "lines+markers",
         "type": "scatter3d",
         "x": [
          1,
          null
         ],
         "y": [
          0,
          0
         ],
         "z": [
          0,
          0
         ]
        },
        {
         "line": {
          "color": "green",
          "width": 2
         },
         "marker": {
          "color": "blue",
          "size": 2
         },
         "mode": "lines+markers",
         "type": "scatter3d",
         "x": [
          0,
          null
         ],
         "y": [
          0,
          0
         ],
         "z": [
          0,
          0
         ]
        },
        {
         "line": {
          "color": "green",
          "width": 2
         },
         "marker": {
          "color": "blue",
          "size": 2
         },
         "mode": "lines+markers",
         "type": "scatter3d",
         "x": [
          0,
          null
         ],
         "y": [
          0,
          0
         ],
         "z": [
          0,
          0
         ]
        },
        {
         "line": {
          "color": "green",
          "width": 2
         },
         "marker": {
          "color": "blue",
          "size": 2
         },
         "mode": "lines+markers",
         "type": "scatter3d",
         "x": [
          0,
          null
         ],
         "y": [
          0,
          0
         ],
         "z": [
          0,
          0
         ]
        },
        {
         "line": {
          "color": "green",
          "width": 2
         },
         "marker": {
          "color": "blue",
          "size": 2
         },
         "mode": "lines+markers",
         "type": "scatter3d",
         "x": [
          0,
          null
         ],
         "y": [
          0,
          0
         ],
         "z": [
          0,
          0
         ]
        },
        {
         "line": {
          "color": "green",
          "width": 2
         },
         "marker": {
          "color": "blue",
          "size": 2
         },
         "mode": "lines+markers",
         "type": "scatter3d",
         "x": [
          0,
          null
         ],
         "y": [
          0,
          0
         ],
         "z": [
          0,
          0
         ]
        },
        {
         "line": {
          "color": "green",
          "width": 2
         },
         "marker": {
          "color": "blue",
          "size": 2
         },
         "mode": "lines+markers",
         "type": "scatter3d",
         "x": [
          0,
          null
         ],
         "y": [
          0,
          0
         ],
         "z": [
          0,
          0
         ]
        },
        {
         "line": {
          "color": "green",
          "width": 2
         },
         "marker": {
          "color": "blue",
          "size": 2
         },
         "mode": "lines+markers",
         "type": "scatter3d",
         "x": [
          0,
          null
         ],
         "y": [
          0,
          0
         ],
         "z": [
          0,
          0
         ]
        },
        {
         "line": {
          "color": "green",
          "width": 2
         },
         "marker": {
          "color": "blue",
          "size": 2
         },
         "mode": "lines+markers",
         "type": "scatter3d",
         "x": [
          0,
          null
         ],
         "y": [
          0,
          0
         ],
         "z": [
          0,
          0
         ]
        },
        {
         "line": {
          "color": "green",
          "width": 2
         },
         "marker": {
          "color": "blue",
          "size": 2
         },
         "mode": "lines+markers",
         "type": "scatter3d",
         "x": [
          0.06666666666666665,
          null
         ],
         "y": [
          0,
          0
         ],
         "z": [
          0,
          0
         ]
        },
        {
         "line": {
          "color": "green",
          "width": 2
         },
         "marker": {
          "color": "blue",
          "size": 2
         },
         "mode": "lines+markers",
         "type": "scatter3d",
         "x": [
          0.19999999999999996,
          null
         ],
         "y": [
          0,
          0
         ],
         "z": [
          0,
          0
         ]
        },
        {
         "line": {
          "color": "green",
          "width": 2
         },
         "marker": {
          "color": "blue",
          "size": 2
         },
         "mode": "lines+markers",
         "type": "scatter3d",
         "x": [
          0.33333333333333326,
          null
         ],
         "y": [
          0,
          0
         ],
         "z": [
          0,
          0
         ]
        },
        {
         "line": {
          "color": "green",
          "width": 2
         },
         "marker": {
          "color": "blue",
          "size": 2
         },
         "mode": "lines+markers",
         "type": "scatter3d",
         "x": [
          0.46666666666666656,
          null
         ],
         "y": [
          0,
          0
         ],
         "z": [
          0,
          0
         ]
        },
        {
         "line": {
          "color": "green",
          "width": 2
         },
         "marker": {
          "color": "blue",
          "size": 2
         },
         "mode": "lines+markers",
         "type": "scatter3d",
         "x": [
          0.6000000000000001,
          null
         ],
         "y": [
          0,
          0
         ],
         "z": [
          0,
          0
         ]
        },
        {
         "line": {
          "color": "green",
          "width": 2
         },
         "marker": {
          "color": "blue",
          "size": 2
         },
         "mode": "lines+markers",
         "type": "scatter3d",
         "x": [
          0.7333333333333334,
          null
         ],
         "y": [
          0,
          0
         ],
         "z": [
          0,
          0
         ]
        },
        {
         "line": {
          "color": "green",
          "width": 2
         },
         "marker": {
          "color": "blue",
          "size": 2
         },
         "mode": "lines+markers",
         "type": "scatter3d",
         "x": [
          0.8666666666666667,
          null
         ],
         "y": [
          0,
          0
         ],
         "z": [
          0,
          0
         ]
        },
        {
         "line": {
          "color": "green",
          "width": 2
         },
         "marker": {
          "color": "blue",
          "size": 2
         },
         "mode": "lines+markers",
         "type": "scatter3d",
         "x": [
          1,
          null
         ],
         "y": [
          0,
          0
         ],
         "z": [
          0,
          0
         ]
        },
        {
         "line": {
          "color": "green",
          "width": 2
         },
         "marker": {
          "color": "blue",
          "size": 2
         },
         "mode": "lines+markers",
         "type": "scatter3d",
         "x": [
          0,
          null
         ],
         "y": [
          0,
          0
         ],
         "z": [
          0,
          0
         ]
        },
        {
         "line": {
          "color": "green",
          "width": 2
         },
         "marker": {
          "color": "blue",
          "size": 2
         },
         "mode": "lines+markers",
         "type": "scatter3d",
         "x": [
          0,
          null
         ],
         "y": [
          0,
          0
         ],
         "z": [
          0,
          0
         ]
        },
        {
         "line": {
          "color": "green",
          "width": 2
         },
         "marker": {
          "color": "blue",
          "size": 2
         },
         "mode": "lines+markers",
         "type": "scatter3d",
         "x": [
          0,
          null
         ],
         "y": [
          0,
          0
         ],
         "z": [
          0,
          0
         ]
        },
        {
         "line": {
          "color": "green",
          "width": 2
         },
         "marker": {
          "color": "blue",
          "size": 2
         },
         "mode": "lines+markers",
         "type": "scatter3d",
         "x": [
          0,
          null
         ],
         "y": [
          0,
          0
         ],
         "z": [
          0,
          0
         ]
        },
        {
         "line": {
          "color": "green",
          "width": 2
         },
         "marker": {
          "color": "blue",
          "size": 2
         },
         "mode": "lines+markers",
         "type": "scatter3d",
         "x": [
          0,
          null
         ],
         "y": [
          0,
          0
         ],
         "z": [
          0,
          0
         ]
        },
        {
         "line": {
          "color": "green",
          "width": 2
         },
         "marker": {
          "color": "blue",
          "size": 2
         },
         "mode": "lines+markers",
         "type": "scatter3d",
         "x": [
          0,
          null
         ],
         "y": [
          0,
          0
         ],
         "z": [
          0,
          0
         ]
        },
        {
         "line": {
          "color": "green",
          "width": 2
         },
         "marker": {
          "color": "blue",
          "size": 2
         },
         "mode": "lines+markers",
         "type": "scatter3d",
         "x": [
          0,
          null
         ],
         "y": [
          0,
          0
         ],
         "z": [
          0,
          0
         ]
        },
        {
         "line": {
          "color": "green",
          "width": 2
         },
         "marker": {
          "color": "blue",
          "size": 2
         },
         "mode": "lines+markers",
         "type": "scatter3d",
         "x": [
          0,
          null
         ],
         "y": [
          0,
          0
         ],
         "z": [
          0,
          0
         ]
        },
        {
         "line": {
          "color": "green",
          "width": 2
         },
         "marker": {
          "color": "blue",
          "size": 2
         },
         "mode": "lines+markers",
         "type": "scatter3d",
         "x": [
          0.06666666666666665,
          null
         ],
         "y": [
          0,
          0
         ],
         "z": [
          0,
          0
         ]
        },
        {
         "line": {
          "color": "green",
          "width": 2
         },
         "marker": {
          "color": "blue",
          "size": 2
         },
         "mode": "lines+markers",
         "type": "scatter3d",
         "x": [
          0.19999999999999996,
          null
         ],
         "y": [
          0,
          0
         ],
         "z": [
          0,
          0
         ]
        },
        {
         "line": {
          "color": "green",
          "width": 2
         },
         "marker": {
          "color": "blue",
          "size": 2
         },
         "mode": "lines+markers",
         "type": "scatter3d",
         "x": [
          0.33333333333333326,
          null
         ],
         "y": [
          0,
          0
         ],
         "z": [
          0,
          0
         ]
        },
        {
         "line": {
          "color": "green",
          "width": 2
         },
         "marker": {
          "color": "blue",
          "size": 2
         },
         "mode": "lines+markers",
         "type": "scatter3d",
         "x": [
          0.46666666666666656,
          null
         ],
         "y": [
          0,
          0
         ],
         "z": [
          0,
          0
         ]
        },
        {
         "line": {
          "color": "green",
          "width": 2
         },
         "marker": {
          "color": "blue",
          "size": 2
         },
         "mode": "lines+markers",
         "type": "scatter3d",
         "x": [
          0.6000000000000001,
          null
         ],
         "y": [
          0,
          0
         ],
         "z": [
          0,
          0
         ]
        },
        {
         "line": {
          "color": "green",
          "width": 2
         },
         "marker": {
          "color": "blue",
          "size": 2
         },
         "mode": "lines+markers",
         "type": "scatter3d",
         "x": [
          0.7333333333333334,
          null
         ],
         "y": [
          0,
          0
         ],
         "z": [
          0,
          0
         ]
        },
        {
         "line": {
          "color": "green",
          "width": 2
         },
         "marker": {
          "color": "blue",
          "size": 2
         },
         "mode": "lines+markers",
         "type": "scatter3d",
         "x": [
          0.8666666666666667,
          null
         ],
         "y": [
          0,
          0
         ],
         "z": [
          0,
          0
         ]
        },
        {
         "line": {
          "color": "green",
          "width": 2
         },
         "marker": {
          "color": "blue",
          "size": 2
         },
         "mode": "lines+markers",
         "type": "scatter3d",
         "x": [
          1,
          null
         ],
         "y": [
          0,
          0
         ],
         "z": [
          0,
          0
         ]
        },
        {
         "line": {
          "color": "green",
          "width": 2
         },
         "marker": {
          "color": "blue",
          "size": 2
         },
         "mode": "lines+markers",
         "type": "scatter3d",
         "x": [
          0,
          null
         ],
         "y": [
          0,
          0
         ],
         "z": [
          0,
          0
         ]
        },
        {
         "line": {
          "color": "green",
          "width": 2
         },
         "marker": {
          "color": "blue",
          "size": 2
         },
         "mode": "lines+markers",
         "type": "scatter3d",
         "x": [
          0,
          null
         ],
         "y": [
          0,
          0
         ],
         "z": [
          0,
          0
         ]
        },
        {
         "line": {
          "color": "green",
          "width": 2
         },
         "marker": {
          "color": "blue",
          "size": 2
         },
         "mode": "lines+markers",
         "type": "scatter3d",
         "x": [
          0,
          null
         ],
         "y": [
          0,
          0
         ],
         "z": [
          0,
          0
         ]
        },
        {
         "line": {
          "color": "green",
          "width": 2
         },
         "marker": {
          "color": "blue",
          "size": 2
         },
         "mode": "lines+markers",
         "type": "scatter3d",
         "x": [
          0,
          null
         ],
         "y": [
          0,
          0
         ],
         "z": [
          0,
          0
         ]
        },
        {
         "line": {
          "color": "green",
          "width": 2
         },
         "marker": {
          "color": "blue",
          "size": 2
         },
         "mode": "lines+markers",
         "type": "scatter3d",
         "x": [
          0,
          null
         ],
         "y": [
          0,
          0
         ],
         "z": [
          0,
          0
         ]
        },
        {
         "line": {
          "color": "green",
          "width": 2
         },
         "marker": {
          "color": "blue",
          "size": 2
         },
         "mode": "lines+markers",
         "type": "scatter3d",
         "x": [
          0,
          null
         ],
         "y": [
          0,
          0
         ],
         "z": [
          0,
          0
         ]
        },
        {
         "line": {
          "color": "green",
          "width": 2
         },
         "marker": {
          "color": "blue",
          "size": 2
         },
         "mode": "lines+markers",
         "type": "scatter3d",
         "x": [
          0,
          null
         ],
         "y": [
          0,
          0
         ],
         "z": [
          0,
          0
         ]
        },
        {
         "line": {
          "color": "green",
          "width": 2
         },
         "marker": {
          "color": "blue",
          "size": 2
         },
         "mode": "lines+markers",
         "type": "scatter3d",
         "x": [
          0,
          null
         ],
         "y": [
          0,
          0
         ],
         "z": [
          0,
          0
         ]
        },
        {
         "line": {
          "color": "green",
          "width": 2
         },
         "marker": {
          "color": "blue",
          "size": 2
         },
         "mode": "lines+markers",
         "type": "scatter3d",
         "x": [
          0.06666666666666665,
          null
         ],
         "y": [
          0,
          0
         ],
         "z": [
          0,
          0
         ]
        },
        {
         "line": {
          "color": "green",
          "width": 2
         },
         "marker": {
          "color": "blue",
          "size": 2
         },
         "mode": "lines+markers",
         "type": "scatter3d",
         "x": [
          0.19999999999999996,
          null
         ],
         "y": [
          0,
          0
         ],
         "z": [
          0,
          0
         ]
        },
        {
         "line": {
          "color": "green",
          "width": 2
         },
         "marker": {
          "color": "blue",
          "size": 2
         },
         "mode": "lines+markers",
         "type": "scatter3d",
         "x": [
          0.33333333333333326,
          null
         ],
         "y": [
          0,
          0
         ],
         "z": [
          0,
          0
         ]
        },
        {
         "line": {
          "color": "green",
          "width": 2
         },
         "marker": {
          "color": "blue",
          "size": 2
         },
         "mode": "lines+markers",
         "type": "scatter3d",
         "x": [
          0.46666666666666656,
          null
         ],
         "y": [
          0,
          0
         ],
         "z": [
          0,
          0
         ]
        },
        {
         "line": {
          "color": "green",
          "width": 2
         },
         "marker": {
          "color": "blue",
          "size": 2
         },
         "mode": "lines+markers",
         "type": "scatter3d",
         "x": [
          0.6000000000000001,
          null
         ],
         "y": [
          0,
          0
         ],
         "z": [
          0,
          0
         ]
        },
        {
         "line": {
          "color": "green",
          "width": 2
         },
         "marker": {
          "color": "blue",
          "size": 2
         },
         "mode": "lines+markers",
         "type": "scatter3d",
         "x": [
          0.7333333333333334,
          null
         ],
         "y": [
          0,
          0
         ],
         "z": [
          0,
          0
         ]
        },
        {
         "line": {
          "color": "green",
          "width": 2
         },
         "marker": {
          "color": "blue",
          "size": 2
         },
         "mode": "lines+markers",
         "type": "scatter3d",
         "x": [
          0.8666666666666667,
          null
         ],
         "y": [
          0,
          0
         ],
         "z": [
          0,
          0
         ]
        },
        {
         "line": {
          "color": "green",
          "width": 2
         },
         "marker": {
          "color": "blue",
          "size": 2
         },
         "mode": "lines+markers",
         "type": "scatter3d",
         "x": [
          1,
          null
         ],
         "y": [
          0,
          0
         ],
         "z": [
          0,
          0
         ]
        },
        {
         "line": {
          "color": "green",
          "width": 2
         },
         "marker": {
          "color": "blue",
          "size": 2
         },
         "mode": "lines+markers",
         "type": "scatter3d",
         "x": [
          0,
          null
         ],
         "y": [
          0,
          0
         ],
         "z": [
          0,
          0
         ]
        },
        {
         "line": {
          "color": "green",
          "width": 2
         },
         "marker": {
          "color": "blue",
          "size": 2
         },
         "mode": "lines+markers",
         "type": "scatter3d",
         "x": [
          0,
          null
         ],
         "y": [
          0,
          0
         ],
         "z": [
          0,
          0
         ]
        },
        {
         "line": {
          "color": "green",
          "width": 2
         },
         "marker": {
          "color": "blue",
          "size": 2
         },
         "mode": "lines+markers",
         "type": "scatter3d",
         "x": [
          0,
          null
         ],
         "y": [
          0,
          0
         ],
         "z": [
          0,
          0
         ]
        },
        {
         "line": {
          "color": "green",
          "width": 2
         },
         "marker": {
          "color": "blue",
          "size": 2
         },
         "mode": "lines+markers",
         "type": "scatter3d",
         "x": [
          0,
          null
         ],
         "y": [
          0,
          0
         ],
         "z": [
          0,
          0
         ]
        },
        {
         "line": {
          "color": "green",
          "width": 2
         },
         "marker": {
          "color": "blue",
          "size": 2
         },
         "mode": "lines+markers",
         "type": "scatter3d",
         "x": [
          0,
          null
         ],
         "y": [
          0,
          0
         ],
         "z": [
          0,
          0
         ]
        },
        {
         "line": {
          "color": "green",
          "width": 2
         },
         "marker": {
          "color": "blue",
          "size": 2
         },
         "mode": "lines+markers",
         "type": "scatter3d",
         "x": [
          0,
          null
         ],
         "y": [
          0,
          0
         ],
         "z": [
          0,
          0
         ]
        },
        {
         "line": {
          "color": "green",
          "width": 2
         },
         "marker": {
          "color": "blue",
          "size": 2
         },
         "mode": "lines+markers",
         "type": "scatter3d",
         "x": [
          0,
          null
         ],
         "y": [
          0,
          0
         ],
         "z": [
          0,
          0
         ]
        },
        {
         "line": {
          "color": "green",
          "width": 2
         },
         "marker": {
          "color": "blue",
          "size": 2
         },
         "mode": "lines+markers",
         "type": "scatter3d",
         "x": [
          0,
          null
         ],
         "y": [
          0,
          0
         ],
         "z": [
          0,
          0
         ]
        },
        {
         "line": {
          "color": "green",
          "width": 2
         },
         "marker": {
          "color": "blue",
          "size": 2
         },
         "mode": "lines+markers",
         "type": "scatter3d",
         "x": [
          0.06666666666666665,
          null
         ],
         "y": [
          0,
          0
         ],
         "z": [
          0,
          0
         ]
        },
        {
         "line": {
          "color": "green",
          "width": 2
         },
         "marker": {
          "color": "blue",
          "size": 2
         },
         "mode": "lines+markers",
         "type": "scatter3d",
         "x": [
          0.19999999999999996,
          null
         ],
         "y": [
          0,
          0
         ],
         "z": [
          0,
          0
         ]
        },
        {
         "line": {
          "color": "green",
          "width": 2
         },
         "marker": {
          "color": "blue",
          "size": 2
         },
         "mode": "lines+markers",
         "type": "scatter3d",
         "x": [
          0.33333333333333326,
          null
         ],
         "y": [
          0,
          0
         ],
         "z": [
          0,
          0
         ]
        },
        {
         "line": {
          "color": "green",
          "width": 2
         },
         "marker": {
          "color": "blue",
          "size": 2
         },
         "mode": "lines+markers",
         "type": "scatter3d",
         "x": [
          0.46666666666666656,
          null
         ],
         "y": [
          0,
          0
         ],
         "z": [
          0,
          0
         ]
        },
        {
         "line": {
          "color": "green",
          "width": 2
         },
         "marker": {
          "color": "blue",
          "size": 2
         },
         "mode": "lines+markers",
         "type": "scatter3d",
         "x": [
          0.6000000000000001,
          null
         ],
         "y": [
          0,
          0
         ],
         "z": [
          0,
          0
         ]
        },
        {
         "line": {
          "color": "green",
          "width": 2
         },
         "marker": {
          "color": "blue",
          "size": 2
         },
         "mode": "lines+markers",
         "type": "scatter3d",
         "x": [
          0.7333333333333334,
          null
         ],
         "y": [
          0,
          0
         ],
         "z": [
          0,
          0
         ]
        },
        {
         "line": {
          "color": "green",
          "width": 2
         },
         "marker": {
          "color": "blue",
          "size": 2
         },
         "mode": "lines+markers",
         "type": "scatter3d",
         "x": [
          0.8666666666666667,
          null
         ],
         "y": [
          0,
          0
         ],
         "z": [
          0,
          0
         ]
        },
        {
         "line": {
          "color": "green",
          "width": 2
         },
         "marker": {
          "color": "blue",
          "size": 2
         },
         "mode": "lines+markers",
         "type": "scatter3d",
         "x": [
          1,
          null
         ],
         "y": [
          0,
          0
         ],
         "z": [
          0,
          0
         ]
        },
        {
         "line": {
          "color": "green",
          "width": 2
         },
         "marker": {
          "color": "blue",
          "size": 2
         },
         "mode": "lines+markers",
         "type": "scatter3d",
         "x": [
          0,
          null
         ],
         "y": [
          0,
          0
         ],
         "z": [
          0,
          0
         ]
        },
        {
         "line": {
          "color": "green",
          "width": 2
         },
         "marker": {
          "color": "blue",
          "size": 2
         },
         "mode": "lines+markers",
         "type": "scatter3d",
         "x": [
          0,
          null
         ],
         "y": [
          0,
          0
         ],
         "z": [
          0,
          0
         ]
        },
        {
         "line": {
          "color": "green",
          "width": 2
         },
         "marker": {
          "color": "blue",
          "size": 2
         },
         "mode": "lines+markers",
         "type": "scatter3d",
         "x": [
          0,
          null
         ],
         "y": [
          0,
          0
         ],
         "z": [
          0,
          0
         ]
        },
        {
         "line": {
          "color": "green",
          "width": 2
         },
         "marker": {
          "color": "blue",
          "size": 2
         },
         "mode": "lines+markers",
         "type": "scatter3d",
         "x": [
          0,
          null
         ],
         "y": [
          0,
          0
         ],
         "z": [
          0,
          0
         ]
        },
        {
         "line": {
          "color": "green",
          "width": 2
         },
         "marker": {
          "color": "blue",
          "size": 2
         },
         "mode": "lines+markers",
         "type": "scatter3d",
         "x": [
          0,
          null
         ],
         "y": [
          0,
          0
         ],
         "z": [
          0,
          0
         ]
        },
        {
         "line": {
          "color": "green",
          "width": 2
         },
         "marker": {
          "color": "blue",
          "size": 2
         },
         "mode": "lines+markers",
         "type": "scatter3d",
         "x": [
          0,
          null
         ],
         "y": [
          0,
          0
         ],
         "z": [
          0,
          0
         ]
        },
        {
         "line": {
          "color": "green",
          "width": 2
         },
         "marker": {
          "color": "blue",
          "size": 2
         },
         "mode": "lines+markers",
         "type": "scatter3d",
         "x": [
          0,
          null
         ],
         "y": [
          0,
          0
         ],
         "z": [
          0,
          0
         ]
        },
        {
         "line": {
          "color": "green",
          "width": 2
         },
         "marker": {
          "color": "blue",
          "size": 2
         },
         "mode": "lines+markers",
         "type": "scatter3d",
         "x": [
          0,
          null
         ],
         "y": [
          0,
          0
         ],
         "z": [
          0,
          0
         ]
        },
        {
         "line": {
          "color": "green",
          "width": 2
         },
         "marker": {
          "color": "blue",
          "size": 2
         },
         "mode": "lines+markers",
         "type": "scatter3d",
         "x": [
          0.06666666666666665,
          null
         ],
         "y": [
          0,
          0
         ],
         "z": [
          0,
          0
         ]
        },
        {
         "line": {
          "color": "green",
          "width": 2
         },
         "marker": {
          "color": "blue",
          "size": 2
         },
         "mode": "lines+markers",
         "type": "scatter3d",
         "x": [
          0.19999999999999996,
          null
         ],
         "y": [
          0,
          0
         ],
         "z": [
          0,
          0
         ]
        },
        {
         "line": {
          "color": "green",
          "width": 2
         },
         "marker": {
          "color": "blue",
          "size": 2
         },
         "mode": "lines+markers",
         "type": "scatter3d",
         "x": [
          0.33333333333333326,
          null
         ],
         "y": [
          0,
          0
         ],
         "z": [
          0,
          0
         ]
        },
        {
         "line": {
          "color": "green",
          "width": 2
         },
         "marker": {
          "color": "blue",
          "size": 2
         },
         "mode": "lines+markers",
         "type": "scatter3d",
         "x": [
          0.46666666666666656,
          null
         ],
         "y": [
          0,
          0
         ],
         "z": [
          0,
          0
         ]
        },
        {
         "line": {
          "color": "green",
          "width": 2
         },
         "marker": {
          "color": "blue",
          "size": 2
         },
         "mode": "lines+markers",
         "type": "scatter3d",
         "x": [
          0.6000000000000001,
          null
         ],
         "y": [
          0,
          0
         ],
         "z": [
          0,
          0
         ]
        },
        {
         "line": {
          "color": "green",
          "width": 2
         },
         "marker": {
          "color": "blue",
          "size": 2
         },
         "mode": "lines+markers",
         "type": "scatter3d",
         "x": [
          0.7333333333333334,
          null
         ],
         "y": [
          0,
          0
         ],
         "z": [
          0,
          0
         ]
        },
        {
         "line": {
          "color": "green",
          "width": 2
         },
         "marker": {
          "color": "blue",
          "size": 2
         },
         "mode": "lines+markers",
         "type": "scatter3d",
         "x": [
          0.8666666666666667,
          null
         ],
         "y": [
          0,
          0
         ],
         "z": [
          0,
          0
         ]
        },
        {
         "line": {
          "color": "green",
          "width": 2
         },
         "marker": {
          "color": "blue",
          "size": 2
         },
         "mode": "lines+markers",
         "type": "scatter3d",
         "x": [
          1,
          null
         ],
         "y": [
          0,
          0
         ],
         "z": [
          0,
          0
         ]
        },
        {
         "line": {
          "color": "green",
          "width": 2
         },
         "marker": {
          "color": "blue",
          "size": 2
         },
         "mode": "lines+markers",
         "type": "scatter3d",
         "x": [
          0,
          null
         ],
         "y": [
          0,
          0
         ],
         "z": [
          0,
          0
         ]
        },
        {
         "line": {
          "color": "green",
          "width": 2
         },
         "marker": {
          "color": "blue",
          "size": 2
         },
         "mode": "lines+markers",
         "type": "scatter3d",
         "x": [
          0,
          null
         ],
         "y": [
          0,
          0
         ],
         "z": [
          0,
          0
         ]
        },
        {
         "line": {
          "color": "green",
          "width": 2
         },
         "marker": {
          "color": "blue",
          "size": 2
         },
         "mode": "lines+markers",
         "type": "scatter3d",
         "x": [
          0,
          null
         ],
         "y": [
          0,
          0
         ],
         "z": [
          0,
          0
         ]
        },
        {
         "line": {
          "color": "green",
          "width": 2
         },
         "marker": {
          "color": "blue",
          "size": 2
         },
         "mode": "lines+markers",
         "type": "scatter3d",
         "x": [
          0,
          null
         ],
         "y": [
          0,
          0
         ],
         "z": [
          0,
          0
         ]
        },
        {
         "line": {
          "color": "green",
          "width": 2
         },
         "marker": {
          "color": "blue",
          "size": 2
         },
         "mode": "lines+markers",
         "type": "scatter3d",
         "x": [
          0,
          null
         ],
         "y": [
          0,
          0
         ],
         "z": [
          0,
          0
         ]
        },
        {
         "line": {
          "color": "green",
          "width": 2
         },
         "marker": {
          "color": "blue",
          "size": 2
         },
         "mode": "lines+markers",
         "type": "scatter3d",
         "x": [
          0,
          null
         ],
         "y": [
          0,
          0
         ],
         "z": [
          0,
          0
         ]
        },
        {
         "line": {
          "color": "green",
          "width": 2
         },
         "marker": {
          "color": "blue",
          "size": 2
         },
         "mode": "lines+markers",
         "type": "scatter3d",
         "x": [
          0,
          null
         ],
         "y": [
          0,
          0
         ],
         "z": [
          0,
          0
         ]
        },
        {
         "line": {
          "color": "green",
          "width": 2
         },
         "marker": {
          "color": "blue",
          "size": 2
         },
         "mode": "lines+markers",
         "type": "scatter3d",
         "x": [
          0,
          null
         ],
         "y": [
          0,
          0
         ],
         "z": [
          0,
          0
         ]
        },
        {
         "line": {
          "color": "green",
          "width": 2
         },
         "marker": {
          "color": "blue",
          "size": 2
         },
         "mode": "lines+markers",
         "type": "scatter3d",
         "x": [
          0.06666666666666665,
          null
         ],
         "y": [
          0,
          0
         ],
         "z": [
          0,
          0
         ]
        },
        {
         "line": {
          "color": "green",
          "width": 2
         },
         "marker": {
          "color": "blue",
          "size": 2
         },
         "mode": "lines+markers",
         "type": "scatter3d",
         "x": [
          0.19999999999999996,
          null
         ],
         "y": [
          0,
          0
         ],
         "z": [
          0,
          0
         ]
        },
        {
         "line": {
          "color": "green",
          "width": 2
         },
         "marker": {
          "color": "blue",
          "size": 2
         },
         "mode": "lines+markers",
         "type": "scatter3d",
         "x": [
          0.33333333333333326,
          null
         ],
         "y": [
          0,
          0
         ],
         "z": [
          0,
          0
         ]
        },
        {
         "line": {
          "color": "green",
          "width": 2
         },
         "marker": {
          "color": "blue",
          "size": 2
         },
         "mode": "lines+markers",
         "type": "scatter3d",
         "x": [
          0.46666666666666656,
          null
         ],
         "y": [
          0,
          0
         ],
         "z": [
          0,
          0
         ]
        },
        {
         "line": {
          "color": "green",
          "width": 2
         },
         "marker": {
          "color": "blue",
          "size": 2
         },
         "mode": "lines+markers",
         "type": "scatter3d",
         "x": [
          0.6000000000000001,
          null
         ],
         "y": [
          0,
          0
         ],
         "z": [
          0,
          0
         ]
        },
        {
         "line": {
          "color": "green",
          "width": 2
         },
         "marker": {
          "color": "blue",
          "size": 2
         },
         "mode": "lines+markers",
         "type": "scatter3d",
         "x": [
          0.7333333333333334,
          null
         ],
         "y": [
          0,
          0
         ],
         "z": [
          0,
          0
         ]
        },
        {
         "line": {
          "color": "green",
          "width": 2
         },
         "marker": {
          "color": "blue",
          "size": 2
         },
         "mode": "lines+markers",
         "type": "scatter3d",
         "x": [
          0.8666666666666667,
          null
         ],
         "y": [
          0,
          0
         ],
         "z": [
          0,
          0
         ]
        },
        {
         "line": {
          "color": "green",
          "width": 2
         },
         "marker": {
          "color": "blue",
          "size": 2
         },
         "mode": "lines+markers",
         "type": "scatter3d",
         "x": [
          1,
          null
         ],
         "y": [
          0,
          0
         ],
         "z": [
          0,
          0
         ]
        },
        {
         "line": {
          "color": "green",
          "width": 2
         },
         "marker": {
          "color": "blue",
          "size": 2
         },
         "mode": "lines+markers",
         "type": "scatter3d",
         "x": [
          0,
          null
         ],
         "y": [
          0,
          0
         ],
         "z": [
          0,
          0
         ]
        },
        {
         "line": {
          "color": "green",
          "width": 2
         },
         "marker": {
          "color": "blue",
          "size": 2
         },
         "mode": "lines+markers",
         "type": "scatter3d",
         "x": [
          0,
          null
         ],
         "y": [
          0,
          0
         ],
         "z": [
          0,
          0
         ]
        },
        {
         "line": {
          "color": "green",
          "width": 2
         },
         "marker": {
          "color": "blue",
          "size": 2
         },
         "mode": "lines+markers",
         "type": "scatter3d",
         "x": [
          0,
          null
         ],
         "y": [
          0,
          0
         ],
         "z": [
          0,
          0
         ]
        },
        {
         "line": {
          "color": "green",
          "width": 2
         },
         "marker": {
          "color": "blue",
          "size": 2
         },
         "mode": "lines+markers",
         "type": "scatter3d",
         "x": [
          0,
          null
         ],
         "y": [
          0,
          0
         ],
         "z": [
          0,
          0
         ]
        },
        {
         "line": {
          "color": "green",
          "width": 2
         },
         "marker": {
          "color": "blue",
          "size": 2
         },
         "mode": "lines+markers",
         "type": "scatter3d",
         "x": [
          0,
          null
         ],
         "y": [
          0,
          0
         ],
         "z": [
          0,
          0
         ]
        },
        {
         "line": {
          "color": "green",
          "width": 2
         },
         "marker": {
          "color": "blue",
          "size": 2
         },
         "mode": "lines+markers",
         "type": "scatter3d",
         "x": [
          0,
          null
         ],
         "y": [
          0,
          0
         ],
         "z": [
          0,
          0
         ]
        },
        {
         "line": {
          "color": "green",
          "width": 2
         },
         "marker": {
          "color": "blue",
          "size": 2
         },
         "mode": "lines+markers",
         "type": "scatter3d",
         "x": [
          0,
          null
         ],
         "y": [
          0,
          0
         ],
         "z": [
          0,
          0
         ]
        },
        {
         "line": {
          "color": "green",
          "width": 2
         },
         "marker": {
          "color": "blue",
          "size": 2
         },
         "mode": "lines+markers",
         "type": "scatter3d",
         "x": [
          0,
          null
         ],
         "y": [
          0,
          0
         ],
         "z": [
          0,
          0
         ]
        },
        {
         "line": {
          "color": "green",
          "width": 2
         },
         "marker": {
          "color": "blue",
          "size": 2
         },
         "mode": "lines+markers",
         "type": "scatter3d",
         "x": [
          0.06666666666666665,
          null
         ],
         "y": [
          0,
          0
         ],
         "z": [
          0,
          0
         ]
        },
        {
         "line": {
          "color": "green",
          "width": 2
         },
         "marker": {
          "color": "blue",
          "size": 2
         },
         "mode": "lines+markers",
         "type": "scatter3d",
         "x": [
          0.19999999999999996,
          null
         ],
         "y": [
          0,
          0
         ],
         "z": [
          0,
          0
         ]
        },
        {
         "line": {
          "color": "green",
          "width": 2
         },
         "marker": {
          "color": "blue",
          "size": 2
         },
         "mode": "lines+markers",
         "type": "scatter3d",
         "x": [
          0.33333333333333326,
          null
         ],
         "y": [
          0,
          0
         ],
         "z": [
          0,
          0
         ]
        },
        {
         "line": {
          "color": "green",
          "width": 2
         },
         "marker": {
          "color": "blue",
          "size": 2
         },
         "mode": "lines+markers",
         "type": "scatter3d",
         "x": [
          0.46666666666666656,
          null
         ],
         "y": [
          0,
          0
         ],
         "z": [
          0,
          0
         ]
        },
        {
         "line": {
          "color": "green",
          "width": 2
         },
         "marker": {
          "color": "blue",
          "size": 2
         },
         "mode": "lines+markers",
         "type": "scatter3d",
         "x": [
          0.6000000000000001,
          null
         ],
         "y": [
          0,
          0
         ],
         "z": [
          0,
          0
         ]
        },
        {
         "line": {
          "color": "green",
          "width": 2
         },
         "marker": {
          "color": "blue",
          "size": 2
         },
         "mode": "lines+markers",
         "type": "scatter3d",
         "x": [
          0.7333333333333334,
          null
         ],
         "y": [
          0,
          0
         ],
         "z": [
          0,
          0
         ]
        },
        {
         "line": {
          "color": "green",
          "width": 2
         },
         "marker": {
          "color": "blue",
          "size": 2
         },
         "mode": "lines+markers",
         "type": "scatter3d",
         "x": [
          0.8666666666666667,
          null
         ],
         "y": [
          0,
          0
         ],
         "z": [
          0,
          0
         ]
        },
        {
         "line": {
          "color": "green",
          "width": 2
         },
         "marker": {
          "color": "blue",
          "size": 2
         },
         "mode": "lines+markers",
         "type": "scatter3d",
         "x": [
          1,
          null
         ],
         "y": [
          0,
          0
         ],
         "z": [
          0,
          0
         ]
        },
        {
         "line": {
          "color": "green",
          "width": 2
         },
         "marker": {
          "color": "blue",
          "size": 2
         },
         "mode": "lines+markers",
         "type": "scatter3d",
         "x": [
          0,
          null
         ],
         "y": [
          0.06666666666666665,
          0
         ],
         "z": [
          0,
          0
         ]
        },
        {
         "line": {
          "color": "green",
          "width": 2
         },
         "marker": {
          "color": "blue",
          "size": 2
         },
         "mode": "lines+markers",
         "type": "scatter3d",
         "x": [
          0,
          null
         ],
         "y": [
          0.06666666666666665,
          0
         ],
         "z": [
          0,
          0
         ]
        },
        {
         "line": {
          "color": "green",
          "width": 2
         },
         "marker": {
          "color": "blue",
          "size": 2
         },
         "mode": "lines+markers",
         "type": "scatter3d",
         "x": [
          0,
          null
         ],
         "y": [
          0.06666666666666665,
          0
         ],
         "z": [
          0,
          0
         ]
        },
        {
         "line": {
          "color": "green",
          "width": 2
         },
         "marker": {
          "color": "blue",
          "size": 2
         },
         "mode": "lines+markers",
         "type": "scatter3d",
         "x": [
          0,
          null
         ],
         "y": [
          0.06666666666666665,
          0
         ],
         "z": [
          0,
          0
         ]
        },
        {
         "line": {
          "color": "green",
          "width": 2
         },
         "marker": {
          "color": "blue",
          "size": 2
         },
         "mode": "lines+markers",
         "type": "scatter3d",
         "x": [
          0,
          null
         ],
         "y": [
          0.06666666666666665,
          0
         ],
         "z": [
          0,
          0
         ]
        },
        {
         "line": {
          "color": "green",
          "width": 2
         },
         "marker": {
          "color": "blue",
          "size": 2
         },
         "mode": "lines+markers",
         "type": "scatter3d",
         "x": [
          0,
          null
         ],
         "y": [
          0.06666666666666665,
          0
         ],
         "z": [
          0,
          0
         ]
        },
        {
         "line": {
          "color": "green",
          "width": 2
         },
         "marker": {
          "color": "blue",
          "size": 2
         },
         "mode": "lines+markers",
         "type": "scatter3d",
         "x": [
          0,
          null
         ],
         "y": [
          0.06666666666666665,
          0
         ],
         "z": [
          0,
          0
         ]
        },
        {
         "line": {
          "color": "green",
          "width": 2
         },
         "marker": {
          "color": "blue",
          "size": 2
         },
         "mode": "lines+markers",
         "type": "scatter3d",
         "x": [
          0,
          null
         ],
         "y": [
          0.06666666666666665,
          0
         ],
         "z": [
          0,
          0
         ]
        },
        {
         "line": {
          "color": "green",
          "width": 2
         },
         "marker": {
          "color": "blue",
          "size": 2
         },
         "mode": "lines+markers",
         "type": "scatter3d",
         "x": [
          0.06666666666666665,
          0.0741516
         ],
         "y": [
          0.06666666666666665,
          0.0673587
         ],
         "z": [
          0,
          0
         ]
        },
        {
         "line": {
          "color": "green",
          "width": 2
         },
         "marker": {
          "color": "blue",
          "size": 2
         },
         "mode": "lines+markers",
         "type": "scatter3d",
         "x": [
          0.19999999999999996,
          0.227235
         ],
         "y": [
          0.06666666666666665,
          0.0663164
         ],
         "z": [
          0,
          0
         ]
        },
        {
         "line": {
          "color": "green",
          "width": 2
         },
         "marker": {
          "color": "blue",
          "size": 2
         },
         "mode": "lines+markers",
         "type": "scatter3d",
         "x": [
          0.33333333333333326,
          0.3932
         ],
         "y": [
          0.06666666666666665,
          0.067621
         ],
         "z": [
          0,
          0
         ]
        },
        {
         "line": {
          "color": "green",
          "width": 2
         },
         "marker": {
          "color": "blue",
          "size": 2
         },
         "mode": "lines+markers",
         "type": "scatter3d",
         "x": [
          0.46666666666666656,
          0.568205
         ],
         "y": [
          0.06666666666666665,
          0.0659942
         ],
         "z": [
          0,
          0
         ]
        },
        {
         "line": {
          "color": "green",
          "width": 2
         },
         "marker": {
          "color": "blue",
          "size": 2
         },
         "mode": "lines+markers",
         "type": "scatter3d",
         "x": [
          0.6000000000000001,
          0.757878
         ],
         "y": [
          0.06666666666666665,
          0.0659816
         ],
         "z": [
          0,
          0
         ]
        },
        {
         "line": {
          "color": "green",
          "width": 2
         },
         "marker": {
          "color": "blue",
          "size": 2
         },
         "mode": "lines+markers",
         "type": "scatter3d",
         "x": [
          0.7333333333333334,
          0.96327
         ],
         "y": [
          0.06666666666666665,
          0.0659754
         ],
         "z": [
          0,
          0
         ]
        },
        {
         "line": {
          "color": "green",
          "width": 2
         },
         "marker": {
          "color": "blue",
          "size": 2
         },
         "mode": "lines+markers",
         "type": "scatter3d",
         "x": [
          0.8666666666666667,
          1.17576
         ],
         "y": [
          0.06666666666666665,
          0.0676162
         ],
         "z": [
          0,
          0
         ]
        },
        {
         "line": {
          "color": "green",
          "width": 2
         },
         "marker": {
          "color": "blue",
          "size": 2
         },
         "mode": "lines+markers",
         "type": "scatter3d",
         "x": [
          1,
          1.4
         ],
         "y": [
          0.06666666666666665,
          0.0666665
         ],
         "z": [
          0,
          0
         ]
        },
        {
         "line": {
          "color": "green",
          "width": 2
         },
         "marker": {
          "color": "blue",
          "size": 2
         },
         "mode": "lines+markers",
         "type": "scatter3d",
         "x": [
          0,
          null
         ],
         "y": [
          0.19999999999999996,
          0
         ],
         "z": [
          0,
          0
         ]
        },
        {
         "line": {
          "color": "green",
          "width": 2
         },
         "marker": {
          "color": "blue",
          "size": 2
         },
         "mode": "lines+markers",
         "type": "scatter3d",
         "x": [
          0,
          null
         ],
         "y": [
          0.19999999999999996,
          0
         ],
         "z": [
          0,
          0
         ]
        },
        {
         "line": {
          "color": "green",
          "width": 2
         },
         "marker": {
          "color": "blue",
          "size": 2
         },
         "mode": "lines+markers",
         "type": "scatter3d",
         "x": [
          0,
          null
         ],
         "y": [
          0.19999999999999996,
          0
         ],
         "z": [
          0,
          0
         ]
        },
        {
         "line": {
          "color": "green",
          "width": 2
         },
         "marker": {
          "color": "blue",
          "size": 2
         },
         "mode": "lines+markers",
         "type": "scatter3d",
         "x": [
          0,
          null
         ],
         "y": [
          0.19999999999999996,
          0
         ],
         "z": [
          0,
          0
         ]
        },
        {
         "line": {
          "color": "green",
          "width": 2
         },
         "marker": {
          "color": "blue",
          "size": 2
         },
         "mode": "lines+markers",
         "type": "scatter3d",
         "x": [
          0,
          null
         ],
         "y": [
          0.19999999999999996,
          0
         ],
         "z": [
          0,
          0
         ]
        },
        {
         "line": {
          "color": "green",
          "width": 2
         },
         "marker": {
          "color": "blue",
          "size": 2
         },
         "mode": "lines+markers",
         "type": "scatter3d",
         "x": [
          0,
          null
         ],
         "y": [
          0.19999999999999996,
          0
         ],
         "z": [
          0,
          0
         ]
        },
        {
         "line": {
          "color": "green",
          "width": 2
         },
         "marker": {
          "color": "blue",
          "size": 2
         },
         "mode": "lines+markers",
         "type": "scatter3d",
         "x": [
          0,
          null
         ],
         "y": [
          0.19999999999999996,
          0
         ],
         "z": [
          0,
          0
         ]
        },
        {
         "line": {
          "color": "green",
          "width": 2
         },
         "marker": {
          "color": "blue",
          "size": 2
         },
         "mode": "lines+markers",
         "type": "scatter3d",
         "x": [
          0,
          null
         ],
         "y": [
          0.19999999999999996,
          0
         ],
         "z": [
          0,
          0
         ]
        },
        {
         "line": {
          "color": "green",
          "width": 2
         },
         "marker": {
          "color": "blue",
          "size": 2
         },
         "mode": "lines+markers",
         "type": "scatter3d",
         "x": [
          0.06666666666666665,
          0.0773872
         ],
         "y": [
          0.19999999999999996,
          0.198567
         ],
         "z": [
          0,
          0
         ]
        },
        {
         "line": {
          "color": "green",
          "width": 2
         },
         "marker": {
          "color": "blue",
          "size": 2
         },
         "mode": "lines+markers",
         "type": "scatter3d",
         "x": [
          0.19999999999999996,
          0.243036
         ],
         "y": [
          0.19999999999999996,
          0.201356
         ],
         "z": [
          0,
          0
         ]
        },
        {
         "line": {
          "color": "green",
          "width": 2
         },
         "marker": {
          "color": "blue",
          "size": 2
         },
         "mode": "lines+markers",
         "type": "scatter3d",
         "x": [
          0.33333333333333326,
          0.41495
         ],
         "y": [
          0.19999999999999996,
          0.199551
         ],
         "z": [
          0,
          0
         ]
        },
        {
         "line": {
          "color": "green",
          "width": 2
         },
         "marker": {
          "color": "blue",
          "size": 2
         },
         "mode": "lines+markers",
         "type": "scatter3d",
         "x": [
          0.46666666666666656,
          0.594598
         ],
         "y": [
          0.19999999999999996,
          0.200029
         ],
         "z": [
          0,
          0
         ]
        },
        {
         "line": {
          "color": "green",
          "width": 2
         },
         "marker": {
          "color": "blue",
          "size": 2
         },
         "mode": "lines+markers",
         "type": "scatter3d",
         "x": [
          0.6000000000000001,
          0.779118
         ],
         "y": [
          0.19999999999999996,
          0.201731
         ],
         "z": [
          0,
          0
         ]
        },
        {
         "line": {
          "color": "green",
          "width": 2
         },
         "marker": {
          "color": "blue",
          "size": 2
         },
         "mode": "lines+markers",
         "type": "scatter3d",
         "x": [
          0.7333333333333334,
          0.980264
         ],
         "y": [
          0.19999999999999996,
          0.200203
         ],
         "z": [
          0,
          0
         ]
        },
        {
         "line": {
          "color": "green",
          "width": 2
         },
         "marker": {
          "color": "blue",
          "size": 2
         },
         "mode": "lines+markers",
         "type": "scatter3d",
         "x": [
          0.8666666666666667,
          1.18687
         ],
         "y": [
          0.19999999999999996,
          0.199554
         ],
         "z": [
          0,
          0
         ]
        },
        {
         "line": {
          "color": "green",
          "width": 2
         },
         "marker": {
          "color": "blue",
          "size": 2
         },
         "mode": "lines+markers",
         "type": "scatter3d",
         "x": [
          1,
          1.4
         ],
         "y": [
          0.19999999999999996,
          0.2
         ],
         "z": [
          0,
          0
         ]
        },
        {
         "line": {
          "color": "green",
          "width": 2
         },
         "marker": {
          "color": "blue",
          "size": 2
         },
         "mode": "lines+markers",
         "type": "scatter3d",
         "x": [
          0,
          null
         ],
         "y": [
          0.33333333333333326,
          0
         ],
         "z": [
          0,
          0
         ]
        },
        {
         "line": {
          "color": "green",
          "width": 2
         },
         "marker": {
          "color": "blue",
          "size": 2
         },
         "mode": "lines+markers",
         "type": "scatter3d",
         "x": [
          0,
          null
         ],
         "y": [
          0.33333333333333326,
          0
         ],
         "z": [
          0,
          0
         ]
        },
        {
         "line": {
          "color": "green",
          "width": 2
         },
         "marker": {
          "color": "blue",
          "size": 2
         },
         "mode": "lines+markers",
         "type": "scatter3d",
         "x": [
          0,
          null
         ],
         "y": [
          0.33333333333333326,
          0
         ],
         "z": [
          0,
          0
         ]
        },
        {
         "line": {
          "color": "green",
          "width": 2
         },
         "marker": {
          "color": "blue",
          "size": 2
         },
         "mode": "lines+markers",
         "type": "scatter3d",
         "x": [
          0,
          null
         ],
         "y": [
          0.33333333333333326,
          0
         ],
         "z": [
          0,
          0
         ]
        },
        {
         "line": {
          "color": "green",
          "width": 2
         },
         "marker": {
          "color": "blue",
          "size": 2
         },
         "mode": "lines+markers",
         "type": "scatter3d",
         "x": [
          0,
          null
         ],
         "y": [
          0.33333333333333326,
          0
         ],
         "z": [
          0,
          0
         ]
        },
        {
         "line": {
          "color": "green",
          "width": 2
         },
         "marker": {
          "color": "blue",
          "size": 2
         },
         "mode": "lines+markers",
         "type": "scatter3d",
         "x": [
          0,
          null
         ],
         "y": [
          0.33333333333333326,
          0
         ],
         "z": [
          0,
          0
         ]
        },
        {
         "line": {
          "color": "green",
          "width": 2
         },
         "marker": {
          "color": "blue",
          "size": 2
         },
         "mode": "lines+markers",
         "type": "scatter3d",
         "x": [
          0,
          null
         ],
         "y": [
          0.33333333333333326,
          0
         ],
         "z": [
          0,
          0
         ]
        },
        {
         "line": {
          "color": "green",
          "width": 2
         },
         "marker": {
          "color": "blue",
          "size": 2
         },
         "mode": "lines+markers",
         "type": "scatter3d",
         "x": [
          0,
          null
         ],
         "y": [
          0.33333333333333326,
          0
         ],
         "z": [
          0,
          0
         ]
        },
        {
         "line": {
          "color": "green",
          "width": 2
         },
         "marker": {
          "color": "blue",
          "size": 2
         },
         "mode": "lines+markers",
         "type": "scatter3d",
         "x": [
          0.06666666666666665,
          0.0851753
         ],
         "y": [
          0.33333333333333326,
          0.333409
         ],
         "z": [
          0,
          0
         ]
        },
        {
         "line": {
          "color": "green",
          "width": 2
         },
         "marker": {
          "color": "blue",
          "size": 2
         },
         "mode": "lines+markers",
         "type": "scatter3d",
         "x": [
          0.19999999999999996,
          0.249987
         ],
         "y": [
          0.33333333333333326,
          0.331007
         ],
         "z": [
          0,
          0
         ]
        },
        {
         "line": {
          "color": "green",
          "width": 2
         },
         "marker": {
          "color": "blue",
          "size": 2
         },
         "mode": "lines+markers",
         "type": "scatter3d",
         "x": [
          0.33333333333333326,
          0.425731
         ],
         "y": [
          0.33333333333333326,
          0.333812
         ],
         "z": [
          0,
          0
         ]
        },
        {
         "line": {
          "color": "green",
          "width": 2
         },
         "marker": {
          "color": "blue",
          "size": 2
         },
         "mode": "lines+markers",
         "type": "scatter3d",
         "x": [
          0.46666666666666656,
          0.609418
         ],
         "y": [
          0.33333333333333326,
          0.335452
         ],
         "z": [
          0,
          0
         ]
        },
        {
         "line": {
          "color": "green",
          "width": 2
         },
         "marker": {
          "color": "blue",
          "size": 2
         },
         "mode": "lines+markers",
         "type": "scatter3d",
         "x": [
          0.6000000000000001,
          0.791609
         ],
         "y": [
          0.33333333333333326,
          0.333371
         ],
         "z": [
          0,
          0
         ]
        },
        {
         "line": {
          "color": "green",
          "width": 2
         },
         "marker": {
          "color": "blue",
          "size": 2
         },
         "mode": "lines+markers",
         "type": "scatter3d",
         "x": [
          0.7333333333333334,
          0.992739
         ],
         "y": [
          0.33333333333333326,
          0.334059
         ],
         "z": [
          0,
          0
         ]
        },
        {
         "line": {
          "color": "green",
          "width": 2
         },
         "marker": {
          "color": "blue",
          "size": 2
         },
         "mode": "lines+markers",
         "type": "scatter3d",
         "x": [
          0.8666666666666667,
          1.19364
         ],
         "y": [
          0.33333333333333326,
          0.33291
         ],
         "z": [
          0,
          0
         ]
        },
        {
         "line": {
          "color": "green",
          "width": 2
         },
         "marker": {
          "color": "blue",
          "size": 2
         },
         "mode": "lines+markers",
         "type": "scatter3d",
         "x": [
          1,
          1.4
         ],
         "y": [
          0.33333333333333326,
          0.333333
         ],
         "z": [
          0,
          0
         ]
        },
        {
         "line": {
          "color": "green",
          "width": 2
         },
         "marker": {
          "color": "blue",
          "size": 2
         },
         "mode": "lines+markers",
         "type": "scatter3d",
         "x": [
          0,
          null
         ],
         "y": [
          0.46666666666666656,
          0
         ],
         "z": [
          0,
          0
         ]
        },
        {
         "line": {
          "color": "green",
          "width": 2
         },
         "marker": {
          "color": "blue",
          "size": 2
         },
         "mode": "lines+markers",
         "type": "scatter3d",
         "x": [
          0,
          null
         ],
         "y": [
          0.46666666666666656,
          0
         ],
         "z": [
          0,
          0
         ]
        },
        {
         "line": {
          "color": "green",
          "width": 2
         },
         "marker": {
          "color": "blue",
          "size": 2
         },
         "mode": "lines+markers",
         "type": "scatter3d",
         "x": [
          0,
          null
         ],
         "y": [
          0.46666666666666656,
          0
         ],
         "z": [
          0,
          0
         ]
        },
        {
         "line": {
          "color": "green",
          "width": 2
         },
         "marker": {
          "color": "blue",
          "size": 2
         },
         "mode": "lines+markers",
         "type": "scatter3d",
         "x": [
          0,
          null
         ],
         "y": [
          0.46666666666666656,
          0
         ],
         "z": [
          0,
          0
         ]
        },
        {
         "line": {
          "color": "green",
          "width": 2
         },
         "marker": {
          "color": "blue",
          "size": 2
         },
         "mode": "lines+markers",
         "type": "scatter3d",
         "x": [
          0,
          null
         ],
         "y": [
          0.46666666666666656,
          0
         ],
         "z": [
          0,
          0
         ]
        },
        {
         "line": {
          "color": "green",
          "width": 2
         },
         "marker": {
          "color": "blue",
          "size": 2
         },
         "mode": "lines+markers",
         "type": "scatter3d",
         "x": [
          0,
          null
         ],
         "y": [
          0.46666666666666656,
          0
         ],
         "z": [
          0,
          0
         ]
        },
        {
         "line": {
          "color": "green",
          "width": 2
         },
         "marker": {
          "color": "blue",
          "size": 2
         },
         "mode": "lines+markers",
         "type": "scatter3d",
         "x": [
          0,
          null
         ],
         "y": [
          0.46666666666666656,
          0
         ],
         "z": [
          0,
          0
         ]
        },
        {
         "line": {
          "color": "green",
          "width": 2
         },
         "marker": {
          "color": "blue",
          "size": 2
         },
         "mode": "lines+markers",
         "type": "scatter3d",
         "x": [
          0,
          null
         ],
         "y": [
          0.46666666666666656,
          0
         ],
         "z": [
          0,
          0
         ]
        },
        {
         "line": {
          "color": "green",
          "width": 2
         },
         "marker": {
          "color": "blue",
          "size": 2
         },
         "mode": "lines+markers",
         "type": "scatter3d",
         "x": [
          0.06666666666666665,
          0.0852152
         ],
         "y": [
          0.46666666666666656,
          0.465485
         ],
         "z": [
          0,
          0
         ]
        },
        {
         "line": {
          "color": "green",
          "width": 2
         },
         "marker": {
          "color": "blue",
          "size": 2
         },
         "mode": "lines+markers",
         "type": "scatter3d",
         "x": [
          0.19999999999999996,
          0.257294
         ],
         "y": [
          0.46666666666666656,
          0.463848
         ],
         "z": [
          0,
          0
         ]
        },
        {
         "line": {
          "color": "green",
          "width": 2
         },
         "marker": {
          "color": "blue",
          "size": 2
         },
         "mode": "lines+markers",
         "type": "scatter3d",
         "x": [
          0.33333333333333326,
          0.435097
         ],
         "y": [
          0.46666666666666656,
          0.466125
         ],
         "z": [
          0,
          0
         ]
        },
        {
         "line": {
          "color": "green",
          "width": 2
         },
         "marker": {
          "color": "blue",
          "size": 2
         },
         "mode": "lines+markers",
         "type": "scatter3d",
         "x": [
          0.46666666666666656,
          0.611657
         ],
         "y": [
          0.46666666666666656,
          0.465998
         ],
         "z": [
          0,
          0
         ]
        },
        {
         "line": {
          "color": "green",
          "width": 2
         },
         "marker": {
          "color": "blue",
          "size": 2
         },
         "mode": "lines+markers",
         "type": "scatter3d",
         "x": [
          0.6000000000000001,
          0.802236
         ],
         "y": [
          0.46666666666666656,
          0.467917
         ],
         "z": [
          0,
          0
         ]
        },
        {
         "line": {
          "color": "green",
          "width": 2
         },
         "marker": {
          "color": "blue",
          "size": 2
         },
         "mode": "lines+markers",
         "type": "scatter3d",
         "x": [
          0.7333333333333334,
          0.996909
         ],
         "y": [
          0.46666666666666656,
          0.464906
         ],
         "z": [
          0,
          0
         ]
        },
        {
         "line": {
          "color": "green",
          "width": 2
         },
         "marker": {
          "color": "blue",
          "size": 2
         },
         "mode": "lines+markers",
         "type": "scatter3d",
         "x": [
          0.8666666666666667,
          1.19442
         ],
         "y": [
          0.46666666666666656,
          0.467646
         ],
         "z": [
          0,
          0
         ]
        },
        {
         "line": {
          "color": "green",
          "width": 2
         },
         "marker": {
          "color": "blue",
          "size": 2
         },
         "mode": "lines+markers",
         "type": "scatter3d",
         "x": [
          1,
          1.4
         ],
         "y": [
          0.46666666666666656,
          0.466667
         ],
         "z": [
          0,
          0
         ]
        },
        {
         "line": {
          "color": "green",
          "width": 2
         },
         "marker": {
          "color": "blue",
          "size": 2
         },
         "mode": "lines+markers",
         "type": "scatter3d",
         "x": [
          0,
          null
         ],
         "y": [
          0.6000000000000001,
          0
         ],
         "z": [
          0,
          0
         ]
        },
        {
         "line": {
          "color": "green",
          "width": 2
         },
         "marker": {
          "color": "blue",
          "size": 2
         },
         "mode": "lines+markers",
         "type": "scatter3d",
         "x": [
          0,
          null
         ],
         "y": [
          0.6000000000000001,
          0
         ],
         "z": [
          0,
          0
         ]
        },
        {
         "line": {
          "color": "green",
          "width": 2
         },
         "marker": {
          "color": "blue",
          "size": 2
         },
         "mode": "lines+markers",
         "type": "scatter3d",
         "x": [
          0,
          null
         ],
         "y": [
          0.6000000000000001,
          0
         ],
         "z": [
          0,
          0
         ]
        },
        {
         "line": {
          "color": "green",
          "width": 2
         },
         "marker": {
          "color": "blue",
          "size": 2
         },
         "mode": "lines+markers",
         "type": "scatter3d",
         "x": [
          0,
          null
         ],
         "y": [
          0.6000000000000001,
          0
         ],
         "z": [
          0,
          0
         ]
        },
        {
         "line": {
          "color": "green",
          "width": 2
         },
         "marker": {
          "color": "blue",
          "size": 2
         },
         "mode": "lines+markers",
         "type": "scatter3d",
         "x": [
          0,
          null
         ],
         "y": [
          0.6000000000000001,
          0
         ],
         "z": [
          0,
          0
         ]
        },
        {
         "line": {
          "color": "green",
          "width": 2
         },
         "marker": {
          "color": "blue",
          "size": 2
         },
         "mode": "lines+markers",
         "type": "scatter3d",
         "x": [
          0,
          null
         ],
         "y": [
          0.6000000000000001,
          0
         ],
         "z": [
          0,
          0
         ]
        },
        {
         "line": {
          "color": "green",
          "width": 2
         },
         "marker": {
          "color": "blue",
          "size": 2
         },
         "mode": "lines+markers",
         "type": "scatter3d",
         "x": [
          0,
          null
         ],
         "y": [
          0.6000000000000001,
          0
         ],
         "z": [
          0,
          0
         ]
        },
        {
         "line": {
          "color": "green",
          "width": 2
         },
         "marker": {
          "color": "blue",
          "size": 2
         },
         "mode": "lines+markers",
         "type": "scatter3d",
         "x": [
          0,
          null
         ],
         "y": [
          0.6000000000000001,
          0
         ],
         "z": [
          0,
          0
         ]
        },
        {
         "line": {
          "color": "green",
          "width": 2
         },
         "marker": {
          "color": "blue",
          "size": 2
         },
         "mode": "lines+markers",
         "type": "scatter3d",
         "x": [
          0.06666666666666665,
          0.0846193
         ],
         "y": [
          0.6000000000000001,
          0.600822
         ],
         "z": [
          0,
          0
         ]
        },
        {
         "line": {
          "color": "green",
          "width": 2
         },
         "marker": {
          "color": "blue",
          "size": 2
         },
         "mode": "lines+markers",
         "type": "scatter3d",
         "x": [
          0.19999999999999996,
          0.254068
         ],
         "y": [
          0.6000000000000001,
          0.603311
         ],
         "z": [
          0,
          0
         ]
        },
        {
         "line": {
          "color": "green",
          "width": 2
         },
         "marker": {
          "color": "blue",
          "size": 2
         },
         "mode": "lines+markers",
         "type": "scatter3d",
         "x": [
          0.33333333333333326,
          0.428198
         ],
         "y": [
          0.6000000000000001,
          0.600923
         ],
         "z": [
          0,
          0
         ]
        },
        {
         "line": {
          "color": "green",
          "width": 2
         },
         "marker": {
          "color": "blue",
          "size": 2
         },
         "mode": "lines+markers",
         "type": "scatter3d",
         "x": [
          0.46666666666666656,
          0.606506
         ],
         "y": [
          0.6000000000000001,
          0.600435
         ],
         "z": [
          0,
          0
         ]
        },
        {
         "line": {
          "color": "green",
          "width": 2
         },
         "marker": {
          "color": "blue",
          "size": 2
         },
         "mode": "lines+markers",
         "type": "scatter3d",
         "x": [
          0.6000000000000001,
          0.799349
         ],
         "y": [
          0.6000000000000001,
          0.601619
         ],
         "z": [
          0,
          0
         ]
        },
        {
         "line": {
          "color": "green",
          "width": 2
         },
         "marker": {
          "color": "blue",
          "size": 2
         },
         "mode": "lines+markers",
         "type": "scatter3d",
         "x": [
          0.7333333333333334,
          0.993658
         ],
         "y": [
          0.6000000000000001,
          0.599137
         ],
         "z": [
          0,
          0
         ]
        },
        {
         "line": {
          "color": "green",
          "width": 2
         },
         "marker": {
          "color": "blue",
          "size": 2
         },
         "mode": "lines+markers",
         "type": "scatter3d",
         "x": [
          0.8666666666666667,
          1.19513
         ],
         "y": [
          0.6000000000000001,
          0.598916
         ],
         "z": [
          0,
          0
         ]
        },
        {
         "line": {
          "color": "green",
          "width": 2
         },
         "marker": {
          "color": "blue",
          "size": 2
         },
         "mode": "lines+markers",
         "type": "scatter3d",
         "x": [
          1,
          1.4
         ],
         "y": [
          0.6000000000000001,
          0.6
         ],
         "z": [
          0,
          0
         ]
        },
        {
         "line": {
          "color": "green",
          "width": 2
         },
         "marker": {
          "color": "blue",
          "size": 2
         },
         "mode": "lines+markers",
         "type": "scatter3d",
         "x": [
          0,
          null
         ],
         "y": [
          0.7333333333333334,
          0
         ],
         "z": [
          0,
          0
         ]
        },
        {
         "line": {
          "color": "green",
          "width": 2
         },
         "marker": {
          "color": "blue",
          "size": 2
         },
         "mode": "lines+markers",
         "type": "scatter3d",
         "x": [
          0,
          null
         ],
         "y": [
          0.7333333333333334,
          0
         ],
         "z": [
          0,
          0
         ]
        },
        {
         "line": {
          "color": "green",
          "width": 2
         },
         "marker": {
          "color": "blue",
          "size": 2
         },
         "mode": "lines+markers",
         "type": "scatter3d",
         "x": [
          0,
          null
         ],
         "y": [
          0.7333333333333334,
          0
         ],
         "z": [
          0,
          0
         ]
        },
        {
         "line": {
          "color": "green",
          "width": 2
         },
         "marker": {
          "color": "blue",
          "size": 2
         },
         "mode": "lines+markers",
         "type": "scatter3d",
         "x": [
          0,
          null
         ],
         "y": [
          0.7333333333333334,
          0
         ],
         "z": [
          0,
          0
         ]
        },
        {
         "line": {
          "color": "green",
          "width": 2
         },
         "marker": {
          "color": "blue",
          "size": 2
         },
         "mode": "lines+markers",
         "type": "scatter3d",
         "x": [
          0,
          null
         ],
         "y": [
          0.7333333333333334,
          0
         ],
         "z": [
          0,
          0
         ]
        },
        {
         "line": {
          "color": "green",
          "width": 2
         },
         "marker": {
          "color": "blue",
          "size": 2
         },
         "mode": "lines+markers",
         "type": "scatter3d",
         "x": [
          0,
          null
         ],
         "y": [
          0.7333333333333334,
          0
         ],
         "z": [
          0,
          0
         ]
        },
        {
         "line": {
          "color": "green",
          "width": 2
         },
         "marker": {
          "color": "blue",
          "size": 2
         },
         "mode": "lines+markers",
         "type": "scatter3d",
         "x": [
          0,
          null
         ],
         "y": [
          0.7333333333333334,
          0
         ],
         "z": [
          0,
          0
         ]
        },
        {
         "line": {
          "color": "green",
          "width": 2
         },
         "marker": {
          "color": "blue",
          "size": 2
         },
         "mode": "lines+markers",
         "type": "scatter3d",
         "x": [
          0,
          null
         ],
         "y": [
          0.7333333333333334,
          0
         ],
         "z": [
          0,
          0
         ]
        },
        {
         "line": {
          "color": "green",
          "width": 2
         },
         "marker": {
          "color": "blue",
          "size": 2
         },
         "mode": "lines+markers",
         "type": "scatter3d",
         "x": [
          0.06666666666666665,
          0.0809387
         ],
         "y": [
          0.7333333333333334,
          0.732774
         ],
         "z": [
          0,
          0
         ]
        },
        {
         "line": {
          "color": "green",
          "width": 2
         },
         "marker": {
          "color": "blue",
          "size": 2
         },
         "mode": "lines+markers",
         "type": "scatter3d",
         "x": [
          0.19999999999999996,
          0.248143
         ],
         "y": [
          0.7333333333333334,
          0.734412
         ],
         "z": [
          0,
          0
         ]
        },
        {
         "line": {
          "color": "green",
          "width": 2
         },
         "marker": {
          "color": "blue",
          "size": 2
         },
         "mode": "lines+markers",
         "type": "scatter3d",
         "x": [
          0.33333333333333326,
          0.422568
         ],
         "y": [
          0.7333333333333334,
          0.730949
         ],
         "z": [
          0,
          0
         ]
        },
        {
         "line": {
          "color": "green",
          "width": 2
         },
         "marker": {
          "color": "blue",
          "size": 2
         },
         "mode": "lines+markers",
         "type": "scatter3d",
         "x": [
          0.46666666666666656,
          0.603588
         ],
         "y": [
          0.7333333333333334,
          0.734299
         ],
         "z": [
          0,
          0
         ]
        },
        {
         "line": {
          "color": "green",
          "width": 2
         },
         "marker": {
          "color": "blue",
          "size": 2
         },
         "mode": "lines+markers",
         "type": "scatter3d",
         "x": [
          0.6000000000000001,
          0.789047
         ],
         "y": [
          0.7333333333333334,
          0.732913
         ],
         "z": [
          0,
          0
         ]
        },
        {
         "line": {
          "color": "green",
          "width": 2
         },
         "marker": {
          "color": "blue",
          "size": 2
         },
         "mode": "lines+markers",
         "type": "scatter3d",
         "x": [
          0.7333333333333334,
          0.98873
         ],
         "y": [
          0.7333333333333334,
          0.732886
         ],
         "z": [
          0,
          0
         ]
        },
        {
         "line": {
          "color": "green",
          "width": 2
         },
         "marker": {
          "color": "blue",
          "size": 2
         },
         "mode": "lines+markers",
         "type": "scatter3d",
         "x": [
          0.8666666666666667,
          1.19172
         ],
         "y": [
          0.7333333333333334,
          0.732579
         ],
         "z": [
          0,
          0
         ]
        },
        {
         "line": {
          "color": "green",
          "width": 2
         },
         "marker": {
          "color": "blue",
          "size": 2
         },
         "mode": "lines+markers",
         "type": "scatter3d",
         "x": [
          1,
          1.4
         ],
         "y": [
          0.7333333333333334,
          0.733333
         ],
         "z": [
          0,
          0
         ]
        },
        {
         "line": {
          "color": "green",
          "width": 2
         },
         "marker": {
          "color": "blue",
          "size": 2
         },
         "mode": "lines+markers",
         "type": "scatter3d",
         "x": [
          0,
          null
         ],
         "y": [
          0.8666666666666667,
          0
         ],
         "z": [
          0,
          0
         ]
        },
        {
         "line": {
          "color": "green",
          "width": 2
         },
         "marker": {
          "color": "blue",
          "size": 2
         },
         "mode": "lines+markers",
         "type": "scatter3d",
         "x": [
          0,
          null
         ],
         "y": [
          0.8666666666666667,
          0
         ],
         "z": [
          0,
          0
         ]
        },
        {
         "line": {
          "color": "green",
          "width": 2
         },
         "marker": {
          "color": "blue",
          "size": 2
         },
         "mode": "lines+markers",
         "type": "scatter3d",
         "x": [
          0,
          null
         ],
         "y": [
          0.8666666666666667,
          0
         ],
         "z": [
          0,
          0
         ]
        },
        {
         "line": {
          "color": "green",
          "width": 2
         },
         "marker": {
          "color": "blue",
          "size": 2
         },
         "mode": "lines+markers",
         "type": "scatter3d",
         "x": [
          0,
          null
         ],
         "y": [
          0.8666666666666667,
          0
         ],
         "z": [
          0,
          0
         ]
        },
        {
         "line": {
          "color": "green",
          "width": 2
         },
         "marker": {
          "color": "blue",
          "size": 2
         },
         "mode": "lines+markers",
         "type": "scatter3d",
         "x": [
          0,
          null
         ],
         "y": [
          0.8666666666666667,
          0
         ],
         "z": [
          0,
          0
         ]
        },
        {
         "line": {
          "color": "green",
          "width": 2
         },
         "marker": {
          "color": "blue",
          "size": 2
         },
         "mode": "lines+markers",
         "type": "scatter3d",
         "x": [
          0,
          null
         ],
         "y": [
          0.8666666666666667,
          0
         ],
         "z": [
          0,
          0
         ]
        },
        {
         "line": {
          "color": "green",
          "width": 2
         },
         "marker": {
          "color": "blue",
          "size": 2
         },
         "mode": "lines+markers",
         "type": "scatter3d",
         "x": [
          0,
          null
         ],
         "y": [
          0.8666666666666667,
          0
         ],
         "z": [
          0,
          0
         ]
        },
        {
         "line": {
          "color": "green",
          "width": 2
         },
         "marker": {
          "color": "blue",
          "size": 2
         },
         "mode": "lines+markers",
         "type": "scatter3d",
         "x": [
          0,
          null
         ],
         "y": [
          0.8666666666666667,
          0
         ],
         "z": [
          0,
          0
         ]
        },
        {
         "line": {
          "color": "green",
          "width": 2
         },
         "marker": {
          "color": "blue",
          "size": 2
         },
         "mode": "lines+markers",
         "type": "scatter3d",
         "x": [
          0.06666666666666665,
          0.0783744
         ],
         "y": [
          0.8666666666666667,
          0.867034
         ],
         "z": [
          0,
          0
         ]
        },
        {
         "line": {
          "color": "green",
          "width": 2
         },
         "marker": {
          "color": "blue",
          "size": 2
         },
         "mode": "lines+markers",
         "type": "scatter3d",
         "x": [
          0.19999999999999996,
          0.23842
         ],
         "y": [
          0.8666666666666667,
          0.866755
         ],
         "z": [
          0,
          0
         ]
        },
        {
         "line": {
          "color": "green",
          "width": 2
         },
         "marker": {
          "color": "blue",
          "size": 2
         },
         "mode": "lines+markers",
         "type": "scatter3d",
         "x": [
          0.33333333333333326,
          0.403472
         ],
         "y": [
          0.8666666666666667,
          0.868114
         ],
         "z": [
          0,
          0
         ]
        },
        {
         "line": {
          "color": "green",
          "width": 2
         },
         "marker": {
          "color": "blue",
          "size": 2
         },
         "mode": "lines+markers",
         "type": "scatter3d",
         "x": [
          0.46666666666666656,
          0.587077
         ],
         "y": [
          0.8666666666666667,
          0.863894
         ],
         "z": [
          0,
          0
         ]
        },
        {
         "line": {
          "color": "green",
          "width": 2
         },
         "marker": {
          "color": "blue",
          "size": 2
         },
         "mode": "lines+markers",
         "type": "scatter3d",
         "x": [
          0.6000000000000001,
          0.772752
         ],
         "y": [
          0.8666666666666667,
          0.867898
         ],
         "z": [
          0,
          0
         ]
        },
        {
         "line": {
          "color": "green",
          "width": 2
         },
         "marker": {
          "color": "blue",
          "size": 2
         },
         "mode": "lines+markers",
         "type": "scatter3d",
         "x": [
          0.7333333333333334,
          0.970954
         ],
         "y": [
          0.8666666666666667,
          0.866155
         ],
         "z": [
          0,
          0
         ]
        },
        {
         "line": {
          "color": "green",
          "width": 2
         },
         "marker": {
          "color": "blue",
          "size": 2
         },
         "mode": "lines+markers",
         "type": "scatter3d",
         "x": [
          0.8666666666666667,
          1.18306
         ],
         "y": [
          0.8666666666666667,
          0.866024
         ],
         "z": [
          0,
          0
         ]
        },
        {
         "line": {
          "color": "green",
          "width": 2
         },
         "marker": {
          "color": "blue",
          "size": 2
         },
         "mode": "lines+markers",
         "type": "scatter3d",
         "x": [
          1,
          1.4
         ],
         "y": [
          0.8666666666666667,
          0.866667
         ],
         "z": [
          0,
          0
         ]
        },
        {
         "line": {
          "color": "green",
          "width": 2
         },
         "marker": {
          "color": "blue",
          "size": 2
         },
         "mode": "lines+markers",
         "type": "scatter3d",
         "x": [
          0,
          null
         ],
         "y": [
          1,
          0
         ],
         "z": [
          0,
          0
         ]
        },
        {
         "line": {
          "color": "green",
          "width": 2
         },
         "marker": {
          "color": "blue",
          "size": 2
         },
         "mode": "lines+markers",
         "type": "scatter3d",
         "x": [
          0,
          null
         ],
         "y": [
          1,
          0
         ],
         "z": [
          0,
          0
         ]
        },
        {
         "line": {
          "color": "green",
          "width": 2
         },
         "marker": {
          "color": "blue",
          "size": 2
         },
         "mode": "lines+markers",
         "type": "scatter3d",
         "x": [
          0,
          null
         ],
         "y": [
          1,
          0
         ],
         "z": [
          0,
          0
         ]
        },
        {
         "line": {
          "color": "green",
          "width": 2
         },
         "marker": {
          "color": "blue",
          "size": 2
         },
         "mode": "lines+markers",
         "type": "scatter3d",
         "x": [
          0,
          null
         ],
         "y": [
          1,
          0
         ],
         "z": [
          0,
          0
         ]
        },
        {
         "line": {
          "color": "green",
          "width": 2
         },
         "marker": {
          "color": "blue",
          "size": 2
         },
         "mode": "lines+markers",
         "type": "scatter3d",
         "x": [
          0,
          null
         ],
         "y": [
          1,
          0
         ],
         "z": [
          0,
          0
         ]
        },
        {
         "line": {
          "color": "green",
          "width": 2
         },
         "marker": {
          "color": "blue",
          "size": 2
         },
         "mode": "lines+markers",
         "type": "scatter3d",
         "x": [
          0,
          null
         ],
         "y": [
          1,
          0
         ],
         "z": [
          0,
          0
         ]
        },
        {
         "line": {
          "color": "green",
          "width": 2
         },
         "marker": {
          "color": "blue",
          "size": 2
         },
         "mode": "lines+markers",
         "type": "scatter3d",
         "x": [
          0,
          null
         ],
         "y": [
          1,
          0
         ],
         "z": [
          0,
          0
         ]
        },
        {
         "line": {
          "color": "green",
          "width": 2
         },
         "marker": {
          "color": "blue",
          "size": 2
         },
         "mode": "lines+markers",
         "type": "scatter3d",
         "x": [
          0,
          null
         ],
         "y": [
          1,
          0
         ],
         "z": [
          0,
          0
         ]
        },
        {
         "line": {
          "color": "green",
          "width": 2
         },
         "marker": {
          "color": "blue",
          "size": 2
         },
         "mode": "lines+markers",
         "type": "scatter3d",
         "x": [
          0.06666666666666665,
          0.0684446
         ],
         "y": [
          1,
          1
         ],
         "z": [
          0,
          0
         ]
        },
        {
         "line": {
          "color": "green",
          "width": 2
         },
         "marker": {
          "color": "blue",
          "size": 2
         },
         "mode": "lines+markers",
         "type": "scatter3d",
         "x": [
          0.19999999999999996,
          0.216
         ],
         "y": [
          1,
          1
         ],
         "z": [
          0,
          0
         ]
        },
        {
         "line": {
          "color": "green",
          "width": 2
         },
         "marker": {
          "color": "blue",
          "size": 2
         },
         "mode": "lines+markers",
         "type": "scatter3d",
         "x": [
          0.33333333333333326,
          0.377778
         ],
         "y": [
          1,
          1
         ],
         "z": [
          0,
          0
         ]
        },
        {
         "line": {
          "color": "green",
          "width": 2
         },
         "marker": {
          "color": "blue",
          "size": 2
         },
         "mode": "lines+markers",
         "type": "scatter3d",
         "x": [
          0.46666666666666656,
          0.553778
         ],
         "y": [
          1,
          1
         ],
         "z": [
          0,
          0
         ]
        },
        {
         "line": {
          "color": "green",
          "width": 2
         },
         "marker": {
          "color": "blue",
          "size": 2
         },
         "mode": "lines+markers",
         "type": "scatter3d",
         "x": [
          0.6000000000000001,
          0.744
         ],
         "y": [
          1,
          1
         ],
         "z": [
          0,
          0
         ]
        },
        {
         "line": {
          "color": "green",
          "width": 2
         },
         "marker": {
          "color": "blue",
          "size": 2
         },
         "mode": "lines+markers",
         "type": "scatter3d",
         "x": [
          0.7333333333333334,
          0.948444
         ],
         "y": [
          1,
          1
         ],
         "z": [
          0,
          0
         ]
        },
        {
         "line": {
          "color": "green",
          "width": 2
         },
         "marker": {
          "color": "blue",
          "size": 2
         },
         "mode": "lines+markers",
         "type": "scatter3d",
         "x": [
          0.8666666666666667,
          1.16711
         ],
         "y": [
          1,
          1
         ],
         "z": [
          0,
          0
         ]
        },
        {
         "line": {
          "color": "green",
          "width": 2
         },
         "marker": {
          "color": "blue",
          "size": 2
         },
         "mode": "lines+markers",
         "type": "scatter3d",
         "x": [
          1,
          null
         ],
         "y": [
          1,
          0
         ],
         "z": [
          0,
          0
         ]
        }
       ],
       "layout": {
        "scene": {
         "aspectmode": "cube",
         "xaxis": {
          "title": {
           "text": "X"
          }
         },
         "yaxis": {
          "title": {
           "text": "Y"
          }
         },
         "zaxis": {
          "title": {
           "text": "Z"
          }
         }
        },
        "template": {
         "data": {
          "bar": [
           {
            "error_x": {
             "color": "#2a3f5f"
            },
            "error_y": {
             "color": "#2a3f5f"
            },
            "marker": {
             "line": {
              "color": "#E5ECF6",
              "width": 0.5
             },
             "pattern": {
              "fillmode": "overlay",
              "size": 10,
              "solidity": 0.2
             }
            },
            "type": "bar"
           }
          ],
          "barpolar": [
           {
            "marker": {
             "line": {
              "color": "#E5ECF6",
              "width": 0.5
             },
             "pattern": {
              "fillmode": "overlay",
              "size": 10,
              "solidity": 0.2
             }
            },
            "type": "barpolar"
           }
          ],
          "carpet": [
           {
            "aaxis": {
             "endlinecolor": "#2a3f5f",
             "gridcolor": "white",
             "linecolor": "white",
             "minorgridcolor": "white",
             "startlinecolor": "#2a3f5f"
            },
            "baxis": {
             "endlinecolor": "#2a3f5f",
             "gridcolor": "white",
             "linecolor": "white",
             "minorgridcolor": "white",
             "startlinecolor": "#2a3f5f"
            },
            "type": "carpet"
           }
          ],
          "choropleth": [
           {
            "colorbar": {
             "outlinewidth": 0,
             "ticks": ""
            },
            "type": "choropleth"
           }
          ],
          "contour": [
           {
            "colorbar": {
             "outlinewidth": 0,
             "ticks": ""
            },
            "colorscale": [
             [
              0,
              "#0d0887"
             ],
             [
              0.1111111111111111,
              "#46039f"
             ],
             [
              0.2222222222222222,
              "#7201a8"
             ],
             [
              0.3333333333333333,
              "#9c179e"
             ],
             [
              0.4444444444444444,
              "#bd3786"
             ],
             [
              0.5555555555555556,
              "#d8576b"
             ],
             [
              0.6666666666666666,
              "#ed7953"
             ],
             [
              0.7777777777777778,
              "#fb9f3a"
             ],
             [
              0.8888888888888888,
              "#fdca26"
             ],
             [
              1,
              "#f0f921"
             ]
            ],
            "type": "contour"
           }
          ],
          "contourcarpet": [
           {
            "colorbar": {
             "outlinewidth": 0,
             "ticks": ""
            },
            "type": "contourcarpet"
           }
          ],
          "heatmap": [
           {
            "colorbar": {
             "outlinewidth": 0,
             "ticks": ""
            },
            "colorscale": [
             [
              0,
              "#0d0887"
             ],
             [
              0.1111111111111111,
              "#46039f"
             ],
             [
              0.2222222222222222,
              "#7201a8"
             ],
             [
              0.3333333333333333,
              "#9c179e"
             ],
             [
              0.4444444444444444,
              "#bd3786"
             ],
             [
              0.5555555555555556,
              "#d8576b"
             ],
             [
              0.6666666666666666,
              "#ed7953"
             ],
             [
              0.7777777777777778,
              "#fb9f3a"
             ],
             [
              0.8888888888888888,
              "#fdca26"
             ],
             [
              1,
              "#f0f921"
             ]
            ],
            "type": "heatmap"
           }
          ],
          "heatmapgl": [
           {
            "colorbar": {
             "outlinewidth": 0,
             "ticks": ""
            },
            "colorscale": [
             [
              0,
              "#0d0887"
             ],
             [
              0.1111111111111111,
              "#46039f"
             ],
             [
              0.2222222222222222,
              "#7201a8"
             ],
             [
              0.3333333333333333,
              "#9c179e"
             ],
             [
              0.4444444444444444,
              "#bd3786"
             ],
             [
              0.5555555555555556,
              "#d8576b"
             ],
             [
              0.6666666666666666,
              "#ed7953"
             ],
             [
              0.7777777777777778,
              "#fb9f3a"
             ],
             [
              0.8888888888888888,
              "#fdca26"
             ],
             [
              1,
              "#f0f921"
             ]
            ],
            "type": "heatmapgl"
           }
          ],
          "histogram": [
           {
            "marker": {
             "pattern": {
              "fillmode": "overlay",
              "size": 10,
              "solidity": 0.2
             }
            },
            "type": "histogram"
           }
          ],
          "histogram2d": [
           {
            "colorbar": {
             "outlinewidth": 0,
             "ticks": ""
            },
            "colorscale": [
             [
              0,
              "#0d0887"
             ],
             [
              0.1111111111111111,
              "#46039f"
             ],
             [
              0.2222222222222222,
              "#7201a8"
             ],
             [
              0.3333333333333333,
              "#9c179e"
             ],
             [
              0.4444444444444444,
              "#bd3786"
             ],
             [
              0.5555555555555556,
              "#d8576b"
             ],
             [
              0.6666666666666666,
              "#ed7953"
             ],
             [
              0.7777777777777778,
              "#fb9f3a"
             ],
             [
              0.8888888888888888,
              "#fdca26"
             ],
             [
              1,
              "#f0f921"
             ]
            ],
            "type": "histogram2d"
           }
          ],
          "histogram2dcontour": [
           {
            "colorbar": {
             "outlinewidth": 0,
             "ticks": ""
            },
            "colorscale": [
             [
              0,
              "#0d0887"
             ],
             [
              0.1111111111111111,
              "#46039f"
             ],
             [
              0.2222222222222222,
              "#7201a8"
             ],
             [
              0.3333333333333333,
              "#9c179e"
             ],
             [
              0.4444444444444444,
              "#bd3786"
             ],
             [
              0.5555555555555556,
              "#d8576b"
             ],
             [
              0.6666666666666666,
              "#ed7953"
             ],
             [
              0.7777777777777778,
              "#fb9f3a"
             ],
             [
              0.8888888888888888,
              "#fdca26"
             ],
             [
              1,
              "#f0f921"
             ]
            ],
            "type": "histogram2dcontour"
           }
          ],
          "mesh3d": [
           {
            "colorbar": {
             "outlinewidth": 0,
             "ticks": ""
            },
            "type": "mesh3d"
           }
          ],
          "parcoords": [
           {
            "line": {
             "colorbar": {
              "outlinewidth": 0,
              "ticks": ""
             }
            },
            "type": "parcoords"
           }
          ],
          "pie": [
           {
            "automargin": true,
            "type": "pie"
           }
          ],
          "scatter": [
           {
            "fillpattern": {
             "fillmode": "overlay",
             "size": 10,
             "solidity": 0.2
            },
            "type": "scatter"
           }
          ],
          "scatter3d": [
           {
            "line": {
             "colorbar": {
              "outlinewidth": 0,
              "ticks": ""
             }
            },
            "marker": {
             "colorbar": {
              "outlinewidth": 0,
              "ticks": ""
             }
            },
            "type": "scatter3d"
           }
          ],
          "scattercarpet": [
           {
            "marker": {
             "colorbar": {
              "outlinewidth": 0,
              "ticks": ""
             }
            },
            "type": "scattercarpet"
           }
          ],
          "scattergeo": [
           {
            "marker": {
             "colorbar": {
              "outlinewidth": 0,
              "ticks": ""
             }
            },
            "type": "scattergeo"
           }
          ],
          "scattergl": [
           {
            "marker": {
             "colorbar": {
              "outlinewidth": 0,
              "ticks": ""
             }
            },
            "type": "scattergl"
           }
          ],
          "scattermapbox": [
           {
            "marker": {
             "colorbar": {
              "outlinewidth": 0,
              "ticks": ""
             }
            },
            "type": "scattermapbox"
           }
          ],
          "scatterpolar": [
           {
            "marker": {
             "colorbar": {
              "outlinewidth": 0,
              "ticks": ""
             }
            },
            "type": "scatterpolar"
           }
          ],
          "scatterpolargl": [
           {
            "marker": {
             "colorbar": {
              "outlinewidth": 0,
              "ticks": ""
             }
            },
            "type": "scatterpolargl"
           }
          ],
          "scatterternary": [
           {
            "marker": {
             "colorbar": {
              "outlinewidth": 0,
              "ticks": ""
             }
            },
            "type": "scatterternary"
           }
          ],
          "surface": [
           {
            "colorbar": {
             "outlinewidth": 0,
             "ticks": ""
            },
            "colorscale": [
             [
              0,
              "#0d0887"
             ],
             [
              0.1111111111111111,
              "#46039f"
             ],
             [
              0.2222222222222222,
              "#7201a8"
             ],
             [
              0.3333333333333333,
              "#9c179e"
             ],
             [
              0.4444444444444444,
              "#bd3786"
             ],
             [
              0.5555555555555556,
              "#d8576b"
             ],
             [
              0.6666666666666666,
              "#ed7953"
             ],
             [
              0.7777777777777778,
              "#fb9f3a"
             ],
             [
              0.8888888888888888,
              "#fdca26"
             ],
             [
              1,
              "#f0f921"
             ]
            ],
            "type": "surface"
           }
          ],
          "table": [
           {
            "cells": {
             "fill": {
              "color": "#EBF0F8"
             },
             "line": {
              "color": "white"
             }
            },
            "header": {
             "fill": {
              "color": "#C8D4E3"
             },
             "line": {
              "color": "white"
             }
            },
            "type": "table"
           }
          ]
         },
         "layout": {
          "annotationdefaults": {
           "arrowcolor": "#2a3f5f",
           "arrowhead": 0,
           "arrowwidth": 1
          },
          "autotypenumbers": "strict",
          "coloraxis": {
           "colorbar": {
            "outlinewidth": 0,
            "ticks": ""
           }
          },
          "colorscale": {
           "diverging": [
            [
             0,
             "#8e0152"
            ],
            [
             0.1,
             "#c51b7d"
            ],
            [
             0.2,
             "#de77ae"
            ],
            [
             0.3,
             "#f1b6da"
            ],
            [
             0.4,
             "#fde0ef"
            ],
            [
             0.5,
             "#f7f7f7"
            ],
            [
             0.6,
             "#e6f5d0"
            ],
            [
             0.7,
             "#b8e186"
            ],
            [
             0.8,
             "#7fbc41"
            ],
            [
             0.9,
             "#4d9221"
            ],
            [
             1,
             "#276419"
            ]
           ],
           "sequential": [
            [
             0,
             "#0d0887"
            ],
            [
             0.1111111111111111,
             "#46039f"
            ],
            [
             0.2222222222222222,
             "#7201a8"
            ],
            [
             0.3333333333333333,
             "#9c179e"
            ],
            [
             0.4444444444444444,
             "#bd3786"
            ],
            [
             0.5555555555555556,
             "#d8576b"
            ],
            [
             0.6666666666666666,
             "#ed7953"
            ],
            [
             0.7777777777777778,
             "#fb9f3a"
            ],
            [
             0.8888888888888888,
             "#fdca26"
            ],
            [
             1,
             "#f0f921"
            ]
           ],
           "sequentialminus": [
            [
             0,
             "#0d0887"
            ],
            [
             0.1111111111111111,
             "#46039f"
            ],
            [
             0.2222222222222222,
             "#7201a8"
            ],
            [
             0.3333333333333333,
             "#9c179e"
            ],
            [
             0.4444444444444444,
             "#bd3786"
            ],
            [
             0.5555555555555556,
             "#d8576b"
            ],
            [
             0.6666666666666666,
             "#ed7953"
            ],
            [
             0.7777777777777778,
             "#fb9f3a"
            ],
            [
             0.8888888888888888,
             "#fdca26"
            ],
            [
             1,
             "#f0f921"
            ]
           ]
          },
          "colorway": [
           "#636efa",
           "#EF553B",
           "#00cc96",
           "#ab63fa",
           "#FFA15A",
           "#19d3f3",
           "#FF6692",
           "#B6E880",
           "#FF97FF",
           "#FECB52"
          ],
          "font": {
           "color": "#2a3f5f"
          },
          "geo": {
           "bgcolor": "white",
           "lakecolor": "white",
           "landcolor": "#E5ECF6",
           "showlakes": true,
           "showland": true,
           "subunitcolor": "white"
          },
          "hoverlabel": {
           "align": "left"
          },
          "hovermode": "closest",
          "mapbox": {
           "style": "light"
          },
          "paper_bgcolor": "white",
          "plot_bgcolor": "#E5ECF6",
          "polar": {
           "angularaxis": {
            "gridcolor": "white",
            "linecolor": "white",
            "ticks": ""
           },
           "bgcolor": "#E5ECF6",
           "radialaxis": {
            "gridcolor": "white",
            "linecolor": "white",
            "ticks": ""
           }
          },
          "scene": {
           "xaxis": {
            "backgroundcolor": "#E5ECF6",
            "gridcolor": "white",
            "gridwidth": 2,
            "linecolor": "white",
            "showbackground": true,
            "ticks": "",
            "zerolinecolor": "white"
           },
           "yaxis": {
            "backgroundcolor": "#E5ECF6",
            "gridcolor": "white",
            "gridwidth": 2,
            "linecolor": "white",
            "showbackground": true,
            "ticks": "",
            "zerolinecolor": "white"
           },
           "zaxis": {
            "backgroundcolor": "#E5ECF6",
            "gridcolor": "white",
            "gridwidth": 2,
            "linecolor": "white",
            "showbackground": true,
            "ticks": "",
            "zerolinecolor": "white"
           }
          },
          "shapedefaults": {
           "line": {
            "color": "#2a3f5f"
           }
          },
          "ternary": {
           "aaxis": {
            "gridcolor": "white",
            "linecolor": "white",
            "ticks": ""
           },
           "baxis": {
            "gridcolor": "white",
            "linecolor": "white",
            "ticks": ""
           },
           "bgcolor": "#E5ECF6",
           "caxis": {
            "gridcolor": "white",
            "linecolor": "white",
            "ticks": ""
           }
          },
          "title": {
           "x": 0.05
          },
          "xaxis": {
           "automargin": true,
           "gridcolor": "white",
           "linecolor": "white",
           "ticks": "",
           "title": {
            "standoff": 15
           },
           "zerolinecolor": "white",
           "zerolinewidth": 2
          },
          "yaxis": {
           "automargin": true,
           "gridcolor": "white",
           "linecolor": "white",
           "ticks": "",
           "title": {
            "standoff": 15
           },
           "zerolinecolor": "white",
           "zerolinewidth": 2
          }
         }
        }
       }
      }
     },
     "metadata": {},
     "output_type": "display_data"
    },
    {
     "name": "stdout",
     "output_type": "stream",
     "text": [
      "Figure saved as ../output/displacement_vector_field.png\n"
     ]
    }
   ],
   "source": [
    "visualize_displacement_with_arrows(csv_dir + shape_csv, output_path=csv_dir + \"displacement_vector_field.png\")"
   ]
  },
  {
   "cell_type": "code",
   "execution_count": 211,
   "metadata": {},
   "outputs": [],
   "source": [
    "def visualize_deformed_grid(path, output_path=\"./deformed_grid.png\", s=16):\n",
    "    # Parse CSV to get x, y values after deformation\n",
    "    x_vals_deformed, y_vals_deformed = parse_csv_for_xy(path)\n",
    "    \n",
    "    # Get original points in the elastic material\n",
    "    x_original, y_original = get_original_points(s)\n",
    "    \n",
    "    # Create a figure for plotting\n",
    "    fig = go.Figure()\n",
    "\n",
    "    # Plot the original grid points\n",
    "    fig.add_trace(go.Scatter3d(\n",
    "        x=x_original,\n",
    "        y=y_original,\n",
    "        z=np.zeros_like(x_original),\n",
    "        mode='markers',\n",
    "        marker=dict(size=3, color='red', symbol='circle'),\n",
    "        name='Original Grid'\n",
    "    ))\n",
    "\n",
    "    # Plot the deformed grid points\n",
    "    fig.add_trace(go.Scatter3d(\n",
    "        x=x_vals_deformed,\n",
    "        y=y_vals_deformed,\n",
    "        z=np.zeros_like(x_vals_deformed),\n",
    "        mode='markers',\n",
    "        marker=dict(size=3, color='blue', symbol='circle'),\n",
    "        name='Deformed Grid'\n",
    "    ))\n",
    "\n",
    "    # Update layout for better visualization\n",
    "    fig.update_layout(scene=dict(\n",
    "        xaxis_title='X',\n",
    "        yaxis_title='Y',\n",
    "        zaxis_title='Z',\n",
    "        aspectmode='cube'\n",
    "    ))\n",
    "\n",
    "    # Show the plot and save to file\n",
    "    fig.show()\n",
    "    fig.write_image(output_path)\n",
    "    print(f\"Figure saved as {output_path}\")\n"
   ]
  },
  {
   "cell_type": "code",
   "execution_count": 212,
   "metadata": {},
   "outputs": [
    {
     "data": {
      "application/vnd.plotly.v1+json": {
       "config": {
        "plotlyServerURL": "https://plot.ly"
       },
       "data": [
        {
         "marker": {
          "color": "red",
          "size": 3,
          "symbol": "circle"
         },
         "mode": "markers",
         "name": "Original Grid",
         "type": "scatter3d",
         "x": [
          0,
          0,
          0,
          0,
          0,
          0,
          0,
          0,
          0.06666666666666665,
          0.19999999999999996,
          0.33333333333333326,
          0.46666666666666656,
          0.6000000000000001,
          0.7333333333333334,
          0.8666666666666667,
          1,
          0,
          0,
          0,
          0,
          0,
          0,
          0,
          0,
          0.06666666666666665,
          0.19999999999999996,
          0.33333333333333326,
          0.46666666666666656,
          0.6000000000000001,
          0.7333333333333334,
          0.8666666666666667,
          1,
          0,
          0,
          0,
          0,
          0,
          0,
          0,
          0,
          0.06666666666666665,
          0.19999999999999996,
          0.33333333333333326,
          0.46666666666666656,
          0.6000000000000001,
          0.7333333333333334,
          0.8666666666666667,
          1,
          0,
          0,
          0,
          0,
          0,
          0,
          0,
          0,
          0.06666666666666665,
          0.19999999999999996,
          0.33333333333333326,
          0.46666666666666656,
          0.6000000000000001,
          0.7333333333333334,
          0.8666666666666667,
          1,
          0,
          0,
          0,
          0,
          0,
          0,
          0,
          0,
          0.06666666666666665,
          0.19999999999999996,
          0.33333333333333326,
          0.46666666666666656,
          0.6000000000000001,
          0.7333333333333334,
          0.8666666666666667,
          1,
          0,
          0,
          0,
          0,
          0,
          0,
          0,
          0,
          0.06666666666666665,
          0.19999999999999996,
          0.33333333333333326,
          0.46666666666666656,
          0.6000000000000001,
          0.7333333333333334,
          0.8666666666666667,
          1,
          0,
          0,
          0,
          0,
          0,
          0,
          0,
          0,
          0.06666666666666665,
          0.19999999999999996,
          0.33333333333333326,
          0.46666666666666656,
          0.6000000000000001,
          0.7333333333333334,
          0.8666666666666667,
          1,
          0,
          0,
          0,
          0,
          0,
          0,
          0,
          0,
          0.06666666666666665,
          0.19999999999999996,
          0.33333333333333326,
          0.46666666666666656,
          0.6000000000000001,
          0.7333333333333334,
          0.8666666666666667,
          1,
          0,
          0,
          0,
          0,
          0,
          0,
          0,
          0,
          0.06666666666666665,
          0.19999999999999996,
          0.33333333333333326,
          0.46666666666666656,
          0.6000000000000001,
          0.7333333333333334,
          0.8666666666666667,
          1,
          0,
          0,
          0,
          0,
          0,
          0,
          0,
          0,
          0.06666666666666665,
          0.19999999999999996,
          0.33333333333333326,
          0.46666666666666656,
          0.6000000000000001,
          0.7333333333333334,
          0.8666666666666667,
          1,
          0,
          0,
          0,
          0,
          0,
          0,
          0,
          0,
          0.06666666666666665,
          0.19999999999999996,
          0.33333333333333326,
          0.46666666666666656,
          0.6000000000000001,
          0.7333333333333334,
          0.8666666666666667,
          1,
          0,
          0,
          0,
          0,
          0,
          0,
          0,
          0,
          0.06666666666666665,
          0.19999999999999996,
          0.33333333333333326,
          0.46666666666666656,
          0.6000000000000001,
          0.7333333333333334,
          0.8666666666666667,
          1,
          0,
          0,
          0,
          0,
          0,
          0,
          0,
          0,
          0.06666666666666665,
          0.19999999999999996,
          0.33333333333333326,
          0.46666666666666656,
          0.6000000000000001,
          0.7333333333333334,
          0.8666666666666667,
          1,
          0,
          0,
          0,
          0,
          0,
          0,
          0,
          0,
          0.06666666666666665,
          0.19999999999999996,
          0.33333333333333326,
          0.46666666666666656,
          0.6000000000000001,
          0.7333333333333334,
          0.8666666666666667,
          1,
          0,
          0,
          0,
          0,
          0,
          0,
          0,
          0,
          0.06666666666666665,
          0.19999999999999996,
          0.33333333333333326,
          0.46666666666666656,
          0.6000000000000001,
          0.7333333333333334,
          0.8666666666666667,
          1,
          0,
          0,
          0,
          0,
          0,
          0,
          0,
          0,
          0.06666666666666665,
          0.19999999999999996,
          0.33333333333333326,
          0.46666666666666656,
          0.6000000000000001,
          0.7333333333333334,
          0.8666666666666667,
          1
         ],
         "y": [
          0,
          0,
          0,
          0,
          0,
          0,
          0,
          0,
          0,
          0,
          0,
          0,
          0,
          0,
          0,
          0,
          0,
          0,
          0,
          0,
          0,
          0,
          0,
          0,
          0,
          0,
          0,
          0,
          0,
          0,
          0,
          0,
          0,
          0,
          0,
          0,
          0,
          0,
          0,
          0,
          0,
          0,
          0,
          0,
          0,
          0,
          0,
          0,
          0,
          0,
          0,
          0,
          0,
          0,
          0,
          0,
          0,
          0,
          0,
          0,
          0,
          0,
          0,
          0,
          0,
          0,
          0,
          0,
          0,
          0,
          0,
          0,
          0,
          0,
          0,
          0,
          0,
          0,
          0,
          0,
          0,
          0,
          0,
          0,
          0,
          0,
          0,
          0,
          0,
          0,
          0,
          0,
          0,
          0,
          0,
          0,
          0,
          0,
          0,
          0,
          0,
          0,
          0,
          0,
          0,
          0,
          0,
          0,
          0,
          0,
          0,
          0,
          0,
          0,
          0,
          0,
          0,
          0,
          0,
          0,
          0,
          0,
          0,
          0,
          0,
          0,
          0,
          0,
          0.06666666666666665,
          0.06666666666666665,
          0.06666666666666665,
          0.06666666666666665,
          0.06666666666666665,
          0.06666666666666665,
          0.06666666666666665,
          0.06666666666666665,
          0.06666666666666665,
          0.06666666666666665,
          0.06666666666666665,
          0.06666666666666665,
          0.06666666666666665,
          0.06666666666666665,
          0.06666666666666665,
          0.06666666666666665,
          0.19999999999999996,
          0.19999999999999996,
          0.19999999999999996,
          0.19999999999999996,
          0.19999999999999996,
          0.19999999999999996,
          0.19999999999999996,
          0.19999999999999996,
          0.19999999999999996,
          0.19999999999999996,
          0.19999999999999996,
          0.19999999999999996,
          0.19999999999999996,
          0.19999999999999996,
          0.19999999999999996,
          0.19999999999999996,
          0.33333333333333326,
          0.33333333333333326,
          0.33333333333333326,
          0.33333333333333326,
          0.33333333333333326,
          0.33333333333333326,
          0.33333333333333326,
          0.33333333333333326,
          0.33333333333333326,
          0.33333333333333326,
          0.33333333333333326,
          0.33333333333333326,
          0.33333333333333326,
          0.33333333333333326,
          0.33333333333333326,
          0.33333333333333326,
          0.46666666666666656,
          0.46666666666666656,
          0.46666666666666656,
          0.46666666666666656,
          0.46666666666666656,
          0.46666666666666656,
          0.46666666666666656,
          0.46666666666666656,
          0.46666666666666656,
          0.46666666666666656,
          0.46666666666666656,
          0.46666666666666656,
          0.46666666666666656,
          0.46666666666666656,
          0.46666666666666656,
          0.46666666666666656,
          0.6000000000000001,
          0.6000000000000001,
          0.6000000000000001,
          0.6000000000000001,
          0.6000000000000001,
          0.6000000000000001,
          0.6000000000000001,
          0.6000000000000001,
          0.6000000000000001,
          0.6000000000000001,
          0.6000000000000001,
          0.6000000000000001,
          0.6000000000000001,
          0.6000000000000001,
          0.6000000000000001,
          0.6000000000000001,
          0.7333333333333334,
          0.7333333333333334,
          0.7333333333333334,
          0.7333333333333334,
          0.7333333333333334,
          0.7333333333333334,
          0.7333333333333334,
          0.7333333333333334,
          0.7333333333333334,
          0.7333333333333334,
          0.7333333333333334,
          0.7333333333333334,
          0.7333333333333334,
          0.7333333333333334,
          0.7333333333333334,
          0.7333333333333334,
          0.8666666666666667,
          0.8666666666666667,
          0.8666666666666667,
          0.8666666666666667,
          0.8666666666666667,
          0.8666666666666667,
          0.8666666666666667,
          0.8666666666666667,
          0.8666666666666667,
          0.8666666666666667,
          0.8666666666666667,
          0.8666666666666667,
          0.8666666666666667,
          0.8666666666666667,
          0.8666666666666667,
          0.8666666666666667,
          1,
          1,
          1,
          1,
          1,
          1,
          1,
          1,
          1,
          1,
          1,
          1,
          1,
          1,
          1,
          1
         ],
         "z": [
          0,
          0,
          0,
          0,
          0,
          0,
          0,
          0,
          0,
          0,
          0,
          0,
          0,
          0,
          0,
          0,
          0,
          0,
          0,
          0,
          0,
          0,
          0,
          0,
          0,
          0,
          0,
          0,
          0,
          0,
          0,
          0,
          0,
          0,
          0,
          0,
          0,
          0,
          0,
          0,
          0,
          0,
          0,
          0,
          0,
          0,
          0,
          0,
          0,
          0,
          0,
          0,
          0,
          0,
          0,
          0,
          0,
          0,
          0,
          0,
          0,
          0,
          0,
          0,
          0,
          0,
          0,
          0,
          0,
          0,
          0,
          0,
          0,
          0,
          0,
          0,
          0,
          0,
          0,
          0,
          0,
          0,
          0,
          0,
          0,
          0,
          0,
          0,
          0,
          0,
          0,
          0,
          0,
          0,
          0,
          0,
          0,
          0,
          0,
          0,
          0,
          0,
          0,
          0,
          0,
          0,
          0,
          0,
          0,
          0,
          0,
          0,
          0,
          0,
          0,
          0,
          0,
          0,
          0,
          0,
          0,
          0,
          0,
          0,
          0,
          0,
          0,
          0,
          0,
          0,
          0,
          0,
          0,
          0,
          0,
          0,
          0,
          0,
          0,
          0,
          0,
          0,
          0,
          0,
          0,
          0,
          0,
          0,
          0,
          0,
          0,
          0,
          0,
          0,
          0,
          0,
          0,
          0,
          0,
          0,
          0,
          0,
          0,
          0,
          0,
          0,
          0,
          0,
          0,
          0,
          0,
          0,
          0,
          0,
          0,
          0,
          0,
          0,
          0,
          0,
          0,
          0,
          0,
          0,
          0,
          0,
          0,
          0,
          0,
          0,
          0,
          0,
          0,
          0,
          0,
          0,
          0,
          0,
          0,
          0,
          0,
          0,
          0,
          0,
          0,
          0,
          0,
          0,
          0,
          0,
          0,
          0,
          0,
          0,
          0,
          0,
          0,
          0,
          0,
          0,
          0,
          0,
          0,
          0,
          0,
          0,
          0,
          0,
          0,
          0,
          0,
          0,
          0,
          0,
          0,
          0,
          0,
          0,
          0,
          0,
          0,
          0,
          0,
          0,
          0,
          0,
          0,
          0,
          0,
          0,
          0,
          0,
          0,
          0,
          0,
          0
         ]
        },
        {
         "marker": {
          "color": "blue",
          "size": 3,
          "symbol": "circle"
         },
         "mode": "markers",
         "name": "Deformed Grid",
         "type": "scatter3d",
         "x": [
          null,
          null,
          null,
          null,
          null,
          null,
          null,
          null,
          null,
          null,
          null,
          null,
          null,
          null,
          null,
          null,
          null,
          null,
          null,
          null,
          null,
          null,
          null,
          null,
          null,
          null,
          null,
          null,
          null,
          null,
          null,
          null,
          null,
          null,
          null,
          null,
          null,
          null,
          null,
          null,
          null,
          null,
          null,
          null,
          null,
          null,
          null,
          null,
          null,
          null,
          null,
          null,
          null,
          null,
          null,
          null,
          null,
          null,
          null,
          null,
          null,
          null,
          null,
          null,
          null,
          null,
          null,
          null,
          null,
          null,
          null,
          null,
          null,
          null,
          null,
          null,
          null,
          null,
          null,
          null,
          null,
          null,
          null,
          null,
          null,
          null,
          null,
          null,
          null,
          null,
          null,
          null,
          null,
          null,
          null,
          null,
          null,
          null,
          null,
          null,
          null,
          null,
          null,
          null,
          null,
          null,
          null,
          null,
          null,
          null,
          null,
          null,
          null,
          null,
          null,
          null,
          null,
          null,
          null,
          null,
          null,
          null,
          null,
          null,
          null,
          null,
          null,
          null,
          null,
          null,
          null,
          null,
          null,
          null,
          null,
          null,
          0.0741516,
          0.227235,
          0.3932,
          0.568205,
          0.757878,
          0.96327,
          1.17576,
          1.4,
          null,
          null,
          null,
          null,
          null,
          null,
          null,
          null,
          0.0773872,
          0.243036,
          0.41495,
          0.594598,
          0.779118,
          0.980264,
          1.18687,
          1.4,
          null,
          null,
          null,
          null,
          null,
          null,
          null,
          null,
          0.0851753,
          0.249987,
          0.425731,
          0.609418,
          0.791609,
          0.992739,
          1.19364,
          1.4,
          null,
          null,
          null,
          null,
          null,
          null,
          null,
          null,
          0.0852152,
          0.257294,
          0.435097,
          0.611657,
          0.802236,
          0.996909,
          1.19442,
          1.4,
          null,
          null,
          null,
          null,
          null,
          null,
          null,
          null,
          0.0846193,
          0.254068,
          0.428198,
          0.606506,
          0.799349,
          0.993658,
          1.19513,
          1.4,
          null,
          null,
          null,
          null,
          null,
          null,
          null,
          null,
          0.0809387,
          0.248143,
          0.422568,
          0.603588,
          0.789047,
          0.98873,
          1.19172,
          1.4,
          null,
          null,
          null,
          null,
          null,
          null,
          null,
          null,
          0.0783744,
          0.23842,
          0.403472,
          0.587077,
          0.772752,
          0.970954,
          1.18306,
          1.4,
          null,
          null,
          null,
          null,
          null,
          null,
          null,
          null,
          0.0684446,
          0.216,
          0.377778,
          0.553778,
          0.744,
          0.948444,
          1.16711,
          null
         ],
         "y": [
          0,
          0,
          0,
          0,
          0,
          0,
          0,
          0,
          0,
          0,
          0,
          0,
          0,
          0,
          0,
          0,
          0,
          0,
          0,
          0,
          0,
          0,
          0,
          0,
          0,
          0,
          0,
          0,
          0,
          0,
          0,
          0,
          0,
          0,
          0,
          0,
          0,
          0,
          0,
          0,
          0,
          0,
          0,
          0,
          0,
          0,
          0,
          0,
          0,
          0,
          0,
          0,
          0,
          0,
          0,
          0,
          0,
          0,
          0,
          0,
          0,
          0,
          0,
          0,
          0,
          0,
          0,
          0,
          0,
          0,
          0,
          0,
          0,
          0,
          0,
          0,
          0,
          0,
          0,
          0,
          0,
          0,
          0,
          0,
          0,
          0,
          0,
          0,
          0,
          0,
          0,
          0,
          0,
          0,
          0,
          0,
          0,
          0,
          0,
          0,
          0,
          0,
          0,
          0,
          0,
          0,
          0,
          0,
          0,
          0,
          0,
          0,
          0,
          0,
          0,
          0,
          0,
          0,
          0,
          0,
          0,
          0,
          0,
          0,
          0,
          0,
          0,
          0,
          0,
          0,
          0,
          0,
          0,
          0,
          0,
          0,
          0.0673587,
          0.0663164,
          0.067621,
          0.0659942,
          0.0659816,
          0.0659754,
          0.0676162,
          0.0666665,
          0,
          0,
          0,
          0,
          0,
          0,
          0,
          0,
          0.198567,
          0.201356,
          0.199551,
          0.200029,
          0.201731,
          0.200203,
          0.199554,
          0.2,
          0,
          0,
          0,
          0,
          0,
          0,
          0,
          0,
          0.333409,
          0.331007,
          0.333812,
          0.335452,
          0.333371,
          0.334059,
          0.33291,
          0.333333,
          0,
          0,
          0,
          0,
          0,
          0,
          0,
          0,
          0.465485,
          0.463848,
          0.466125,
          0.465998,
          0.467917,
          0.464906,
          0.467646,
          0.466667,
          0,
          0,
          0,
          0,
          0,
          0,
          0,
          0,
          0.600822,
          0.603311,
          0.600923,
          0.600435,
          0.601619,
          0.599137,
          0.598916,
          0.6,
          0,
          0,
          0,
          0,
          0,
          0,
          0,
          0,
          0.732774,
          0.734412,
          0.730949,
          0.734299,
          0.732913,
          0.732886,
          0.732579,
          0.733333,
          0,
          0,
          0,
          0,
          0,
          0,
          0,
          0,
          0.867034,
          0.866755,
          0.868114,
          0.863894,
          0.867898,
          0.866155,
          0.866024,
          0.866667,
          0,
          0,
          0,
          0,
          0,
          0,
          0,
          0,
          1,
          1,
          1,
          1,
          1,
          1,
          1,
          0
         ],
         "z": [
          0,
          0,
          0,
          0,
          0,
          0,
          0,
          0,
          0,
          0,
          0,
          0,
          0,
          0,
          0,
          0,
          0,
          0,
          0,
          0,
          0,
          0,
          0,
          0,
          0,
          0,
          0,
          0,
          0,
          0,
          0,
          0,
          0,
          0,
          0,
          0,
          0,
          0,
          0,
          0,
          0,
          0,
          0,
          0,
          0,
          0,
          0,
          0,
          0,
          0,
          0,
          0,
          0,
          0,
          0,
          0,
          0,
          0,
          0,
          0,
          0,
          0,
          0,
          0,
          0,
          0,
          0,
          0,
          0,
          0,
          0,
          0,
          0,
          0,
          0,
          0,
          0,
          0,
          0,
          0,
          0,
          0,
          0,
          0,
          0,
          0,
          0,
          0,
          0,
          0,
          0,
          0,
          0,
          0,
          0,
          0,
          0,
          0,
          0,
          0,
          0,
          0,
          0,
          0,
          0,
          0,
          0,
          0,
          0,
          0,
          0,
          0,
          0,
          0,
          0,
          0,
          0,
          0,
          0,
          0,
          0,
          0,
          0,
          0,
          0,
          0,
          0,
          0,
          0,
          0,
          0,
          0,
          0,
          0,
          0,
          0,
          0,
          0,
          0,
          0,
          0,
          0,
          0,
          0,
          0,
          0,
          0,
          0,
          0,
          0,
          0,
          0,
          0,
          0,
          0,
          0,
          0,
          0,
          0,
          0,
          0,
          0,
          0,
          0,
          0,
          0,
          0,
          0,
          0,
          0,
          0,
          0,
          0,
          0,
          0,
          0,
          0,
          0,
          0,
          0,
          0,
          0,
          0,
          0,
          0,
          0,
          0,
          0,
          0,
          0,
          0,
          0,
          0,
          0,
          0,
          0,
          0,
          0,
          0,
          0,
          0,
          0,
          0,
          0,
          0,
          0,
          0,
          0,
          0,
          0,
          0,
          0,
          0,
          0,
          0,
          0,
          0,
          0,
          0,
          0,
          0,
          0,
          0,
          0,
          0,
          0,
          0,
          0,
          0,
          0,
          0,
          0,
          0,
          0,
          0,
          0,
          0,
          0,
          0,
          0,
          0,
          0,
          0,
          0,
          0,
          0,
          0,
          0,
          0,
          0,
          0,
          0,
          0,
          0,
          0,
          0
         ]
        }
       ],
       "layout": {
        "scene": {
         "aspectmode": "cube",
         "xaxis": {
          "title": {
           "text": "X"
          }
         },
         "yaxis": {
          "title": {
           "text": "Y"
          }
         },
         "zaxis": {
          "title": {
           "text": "Z"
          }
         }
        },
        "template": {
         "data": {
          "bar": [
           {
            "error_x": {
             "color": "#2a3f5f"
            },
            "error_y": {
             "color": "#2a3f5f"
            },
            "marker": {
             "line": {
              "color": "#E5ECF6",
              "width": 0.5
             },
             "pattern": {
              "fillmode": "overlay",
              "size": 10,
              "solidity": 0.2
             }
            },
            "type": "bar"
           }
          ],
          "barpolar": [
           {
            "marker": {
             "line": {
              "color": "#E5ECF6",
              "width": 0.5
             },
             "pattern": {
              "fillmode": "overlay",
              "size": 10,
              "solidity": 0.2
             }
            },
            "type": "barpolar"
           }
          ],
          "carpet": [
           {
            "aaxis": {
             "endlinecolor": "#2a3f5f",
             "gridcolor": "white",
             "linecolor": "white",
             "minorgridcolor": "white",
             "startlinecolor": "#2a3f5f"
            },
            "baxis": {
             "endlinecolor": "#2a3f5f",
             "gridcolor": "white",
             "linecolor": "white",
             "minorgridcolor": "white",
             "startlinecolor": "#2a3f5f"
            },
            "type": "carpet"
           }
          ],
          "choropleth": [
           {
            "colorbar": {
             "outlinewidth": 0,
             "ticks": ""
            },
            "type": "choropleth"
           }
          ],
          "contour": [
           {
            "colorbar": {
             "outlinewidth": 0,
             "ticks": ""
            },
            "colorscale": [
             [
              0,
              "#0d0887"
             ],
             [
              0.1111111111111111,
              "#46039f"
             ],
             [
              0.2222222222222222,
              "#7201a8"
             ],
             [
              0.3333333333333333,
              "#9c179e"
             ],
             [
              0.4444444444444444,
              "#bd3786"
             ],
             [
              0.5555555555555556,
              "#d8576b"
             ],
             [
              0.6666666666666666,
              "#ed7953"
             ],
             [
              0.7777777777777778,
              "#fb9f3a"
             ],
             [
              0.8888888888888888,
              "#fdca26"
             ],
             [
              1,
              "#f0f921"
             ]
            ],
            "type": "contour"
           }
          ],
          "contourcarpet": [
           {
            "colorbar": {
             "outlinewidth": 0,
             "ticks": ""
            },
            "type": "contourcarpet"
           }
          ],
          "heatmap": [
           {
            "colorbar": {
             "outlinewidth": 0,
             "ticks": ""
            },
            "colorscale": [
             [
              0,
              "#0d0887"
             ],
             [
              0.1111111111111111,
              "#46039f"
             ],
             [
              0.2222222222222222,
              "#7201a8"
             ],
             [
              0.3333333333333333,
              "#9c179e"
             ],
             [
              0.4444444444444444,
              "#bd3786"
             ],
             [
              0.5555555555555556,
              "#d8576b"
             ],
             [
              0.6666666666666666,
              "#ed7953"
             ],
             [
              0.7777777777777778,
              "#fb9f3a"
             ],
             [
              0.8888888888888888,
              "#fdca26"
             ],
             [
              1,
              "#f0f921"
             ]
            ],
            "type": "heatmap"
           }
          ],
          "heatmapgl": [
           {
            "colorbar": {
             "outlinewidth": 0,
             "ticks": ""
            },
            "colorscale": [
             [
              0,
              "#0d0887"
             ],
             [
              0.1111111111111111,
              "#46039f"
             ],
             [
              0.2222222222222222,
              "#7201a8"
             ],
             [
              0.3333333333333333,
              "#9c179e"
             ],
             [
              0.4444444444444444,
              "#bd3786"
             ],
             [
              0.5555555555555556,
              "#d8576b"
             ],
             [
              0.6666666666666666,
              "#ed7953"
             ],
             [
              0.7777777777777778,
              "#fb9f3a"
             ],
             [
              0.8888888888888888,
              "#fdca26"
             ],
             [
              1,
              "#f0f921"
             ]
            ],
            "type": "heatmapgl"
           }
          ],
          "histogram": [
           {
            "marker": {
             "pattern": {
              "fillmode": "overlay",
              "size": 10,
              "solidity": 0.2
             }
            },
            "type": "histogram"
           }
          ],
          "histogram2d": [
           {
            "colorbar": {
             "outlinewidth": 0,
             "ticks": ""
            },
            "colorscale": [
             [
              0,
              "#0d0887"
             ],
             [
              0.1111111111111111,
              "#46039f"
             ],
             [
              0.2222222222222222,
              "#7201a8"
             ],
             [
              0.3333333333333333,
              "#9c179e"
             ],
             [
              0.4444444444444444,
              "#bd3786"
             ],
             [
              0.5555555555555556,
              "#d8576b"
             ],
             [
              0.6666666666666666,
              "#ed7953"
             ],
             [
              0.7777777777777778,
              "#fb9f3a"
             ],
             [
              0.8888888888888888,
              "#fdca26"
             ],
             [
              1,
              "#f0f921"
             ]
            ],
            "type": "histogram2d"
           }
          ],
          "histogram2dcontour": [
           {
            "colorbar": {
             "outlinewidth": 0,
             "ticks": ""
            },
            "colorscale": [
             [
              0,
              "#0d0887"
             ],
             [
              0.1111111111111111,
              "#46039f"
             ],
             [
              0.2222222222222222,
              "#7201a8"
             ],
             [
              0.3333333333333333,
              "#9c179e"
             ],
             [
              0.4444444444444444,
              "#bd3786"
             ],
             [
              0.5555555555555556,
              "#d8576b"
             ],
             [
              0.6666666666666666,
              "#ed7953"
             ],
             [
              0.7777777777777778,
              "#fb9f3a"
             ],
             [
              0.8888888888888888,
              "#fdca26"
             ],
             [
              1,
              "#f0f921"
             ]
            ],
            "type": "histogram2dcontour"
           }
          ],
          "mesh3d": [
           {
            "colorbar": {
             "outlinewidth": 0,
             "ticks": ""
            },
            "type": "mesh3d"
           }
          ],
          "parcoords": [
           {
            "line": {
             "colorbar": {
              "outlinewidth": 0,
              "ticks": ""
             }
            },
            "type": "parcoords"
           }
          ],
          "pie": [
           {
            "automargin": true,
            "type": "pie"
           }
          ],
          "scatter": [
           {
            "fillpattern": {
             "fillmode": "overlay",
             "size": 10,
             "solidity": 0.2
            },
            "type": "scatter"
           }
          ],
          "scatter3d": [
           {
            "line": {
             "colorbar": {
              "outlinewidth": 0,
              "ticks": ""
             }
            },
            "marker": {
             "colorbar": {
              "outlinewidth": 0,
              "ticks": ""
             }
            },
            "type": "scatter3d"
           }
          ],
          "scattercarpet": [
           {
            "marker": {
             "colorbar": {
              "outlinewidth": 0,
              "ticks": ""
             }
            },
            "type": "scattercarpet"
           }
          ],
          "scattergeo": [
           {
            "marker": {
             "colorbar": {
              "outlinewidth": 0,
              "ticks": ""
             }
            },
            "type": "scattergeo"
           }
          ],
          "scattergl": [
           {
            "marker": {
             "colorbar": {
              "outlinewidth": 0,
              "ticks": ""
             }
            },
            "type": "scattergl"
           }
          ],
          "scattermapbox": [
           {
            "marker": {
             "colorbar": {
              "outlinewidth": 0,
              "ticks": ""
             }
            },
            "type": "scattermapbox"
           }
          ],
          "scatterpolar": [
           {
            "marker": {
             "colorbar": {
              "outlinewidth": 0,
              "ticks": ""
             }
            },
            "type": "scatterpolar"
           }
          ],
          "scatterpolargl": [
           {
            "marker": {
             "colorbar": {
              "outlinewidth": 0,
              "ticks": ""
             }
            },
            "type": "scatterpolargl"
           }
          ],
          "scatterternary": [
           {
            "marker": {
             "colorbar": {
              "outlinewidth": 0,
              "ticks": ""
             }
            },
            "type": "scatterternary"
           }
          ],
          "surface": [
           {
            "colorbar": {
             "outlinewidth": 0,
             "ticks": ""
            },
            "colorscale": [
             [
              0,
              "#0d0887"
             ],
             [
              0.1111111111111111,
              "#46039f"
             ],
             [
              0.2222222222222222,
              "#7201a8"
             ],
             [
              0.3333333333333333,
              "#9c179e"
             ],
             [
              0.4444444444444444,
              "#bd3786"
             ],
             [
              0.5555555555555556,
              "#d8576b"
             ],
             [
              0.6666666666666666,
              "#ed7953"
             ],
             [
              0.7777777777777778,
              "#fb9f3a"
             ],
             [
              0.8888888888888888,
              "#fdca26"
             ],
             [
              1,
              "#f0f921"
             ]
            ],
            "type": "surface"
           }
          ],
          "table": [
           {
            "cells": {
             "fill": {
              "color": "#EBF0F8"
             },
             "line": {
              "color": "white"
             }
            },
            "header": {
             "fill": {
              "color": "#C8D4E3"
             },
             "line": {
              "color": "white"
             }
            },
            "type": "table"
           }
          ]
         },
         "layout": {
          "annotationdefaults": {
           "arrowcolor": "#2a3f5f",
           "arrowhead": 0,
           "arrowwidth": 1
          },
          "autotypenumbers": "strict",
          "coloraxis": {
           "colorbar": {
            "outlinewidth": 0,
            "ticks": ""
           }
          },
          "colorscale": {
           "diverging": [
            [
             0,
             "#8e0152"
            ],
            [
             0.1,
             "#c51b7d"
            ],
            [
             0.2,
             "#de77ae"
            ],
            [
             0.3,
             "#f1b6da"
            ],
            [
             0.4,
             "#fde0ef"
            ],
            [
             0.5,
             "#f7f7f7"
            ],
            [
             0.6,
             "#e6f5d0"
            ],
            [
             0.7,
             "#b8e186"
            ],
            [
             0.8,
             "#7fbc41"
            ],
            [
             0.9,
             "#4d9221"
            ],
            [
             1,
             "#276419"
            ]
           ],
           "sequential": [
            [
             0,
             "#0d0887"
            ],
            [
             0.1111111111111111,
             "#46039f"
            ],
            [
             0.2222222222222222,
             "#7201a8"
            ],
            [
             0.3333333333333333,
             "#9c179e"
            ],
            [
             0.4444444444444444,
             "#bd3786"
            ],
            [
             0.5555555555555556,
             "#d8576b"
            ],
            [
             0.6666666666666666,
             "#ed7953"
            ],
            [
             0.7777777777777778,
             "#fb9f3a"
            ],
            [
             0.8888888888888888,
             "#fdca26"
            ],
            [
             1,
             "#f0f921"
            ]
           ],
           "sequentialminus": [
            [
             0,
             "#0d0887"
            ],
            [
             0.1111111111111111,
             "#46039f"
            ],
            [
             0.2222222222222222,
             "#7201a8"
            ],
            [
             0.3333333333333333,
             "#9c179e"
            ],
            [
             0.4444444444444444,
             "#bd3786"
            ],
            [
             0.5555555555555556,
             "#d8576b"
            ],
            [
             0.6666666666666666,
             "#ed7953"
            ],
            [
             0.7777777777777778,
             "#fb9f3a"
            ],
            [
             0.8888888888888888,
             "#fdca26"
            ],
            [
             1,
             "#f0f921"
            ]
           ]
          },
          "colorway": [
           "#636efa",
           "#EF553B",
           "#00cc96",
           "#ab63fa",
           "#FFA15A",
           "#19d3f3",
           "#FF6692",
           "#B6E880",
           "#FF97FF",
           "#FECB52"
          ],
          "font": {
           "color": "#2a3f5f"
          },
          "geo": {
           "bgcolor": "white",
           "lakecolor": "white",
           "landcolor": "#E5ECF6",
           "showlakes": true,
           "showland": true,
           "subunitcolor": "white"
          },
          "hoverlabel": {
           "align": "left"
          },
          "hovermode": "closest",
          "mapbox": {
           "style": "light"
          },
          "paper_bgcolor": "white",
          "plot_bgcolor": "#E5ECF6",
          "polar": {
           "angularaxis": {
            "gridcolor": "white",
            "linecolor": "white",
            "ticks": ""
           },
           "bgcolor": "#E5ECF6",
           "radialaxis": {
            "gridcolor": "white",
            "linecolor": "white",
            "ticks": ""
           }
          },
          "scene": {
           "xaxis": {
            "backgroundcolor": "#E5ECF6",
            "gridcolor": "white",
            "gridwidth": 2,
            "linecolor": "white",
            "showbackground": true,
            "ticks": "",
            "zerolinecolor": "white"
           },
           "yaxis": {
            "backgroundcolor": "#E5ECF6",
            "gridcolor": "white",
            "gridwidth": 2,
            "linecolor": "white",
            "showbackground": true,
            "ticks": "",
            "zerolinecolor": "white"
           },
           "zaxis": {
            "backgroundcolor": "#E5ECF6",
            "gridcolor": "white",
            "gridwidth": 2,
            "linecolor": "white",
            "showbackground": true,
            "ticks": "",
            "zerolinecolor": "white"
           }
          },
          "shapedefaults": {
           "line": {
            "color": "#2a3f5f"
           }
          },
          "ternary": {
           "aaxis": {
            "gridcolor": "white",
            "linecolor": "white",
            "ticks": ""
           },
           "baxis": {
            "gridcolor": "white",
            "linecolor": "white",
            "ticks": ""
           },
           "bgcolor": "#E5ECF6",
           "caxis": {
            "gridcolor": "white",
            "linecolor": "white",
            "ticks": ""
           }
          },
          "title": {
           "x": 0.05
          },
          "xaxis": {
           "automargin": true,
           "gridcolor": "white",
           "linecolor": "white",
           "ticks": "",
           "title": {
            "standoff": 15
           },
           "zerolinecolor": "white",
           "zerolinewidth": 2
          },
          "yaxis": {
           "automargin": true,
           "gridcolor": "white",
           "linecolor": "white",
           "ticks": "",
           "title": {
            "standoff": 15
           },
           "zerolinecolor": "white",
           "zerolinewidth": 2
          }
         }
        }
       }
      }
     },
     "metadata": {},
     "output_type": "display_data"
    },
    {
     "name": "stdout",
     "output_type": "stream",
     "text": [
      "Figure saved as ../output/deformed_grid.png\n"
     ]
    }
   ],
   "source": [
    "visualize_deformed_grid(csv_dir + shape_csv, output_path=csv_dir + \"deformed_grid.png\")"
   ]
  },
  {
   "cell_type": "code",
   "execution_count": 213,
   "metadata": {},
   "outputs": [
    {
     "data": {
      "application/vnd.plotly.v1+json": {
       "config": {
        "plotlyServerURL": "https://plot.ly"
       },
       "data": [
        {
         "line": {
          "color": "rgb(127, 0, 255)",
          "width": 2
         },
         "marker": {
          "color": "rgb(127, 0, 255)",
          "size": 2
         },
         "mode": "lines+markers",
         "type": "scatter3d",
         "x": [
          0,
          null
         ],
         "y": [
          0,
          0
         ],
         "z": [
          0,
          0
         ]
        },
        {
         "line": {
          "color": "rgb(93, 53, 253)",
          "width": 2
         },
         "marker": {
          "color": "rgb(93, 53, 253)",
          "size": 2
         },
         "mode": "lines+markers",
         "type": "scatter3d",
         "x": [
          0,
          null
         ],
         "y": [
          0,
          0
         ],
         "z": [
          0,
          0
         ]
        },
        {
         "line": {
          "color": "rgb(59, 103, 249)",
          "width": 2
         },
         "marker": {
          "color": "rgb(59, 103, 249)",
          "size": 2
         },
         "mode": "lines+markers",
         "type": "scatter3d",
         "x": [
          0,
          null
         ],
         "y": [
          0,
          0
         ],
         "z": [
          0,
          0
         ]
        },
        {
         "line": {
          "color": "rgb(25, 149, 242)",
          "width": 2
         },
         "marker": {
          "color": "rgb(25, 149, 242)",
          "size": 2
         },
         "mode": "lines+markers",
         "type": "scatter3d",
         "x": [
          0,
          null
         ],
         "y": [
          0,
          0
         ],
         "z": [
          0,
          0
         ]
        },
        {
         "line": {
          "color": "rgb(8, 189, 232)",
          "width": 2
         },
         "marker": {
          "color": "rgb(8, 189, 232)",
          "size": 2
         },
         "mode": "lines+markers",
         "type": "scatter3d",
         "x": [
          0,
          null
         ],
         "y": [
          0,
          0
         ],
         "z": [
          0,
          0
         ]
        },
        {
         "line": {
          "color": "rgb(42, 220, 220)",
          "width": 2
         },
         "marker": {
          "color": "rgb(42, 220, 220)",
          "size": 2
         },
         "mode": "lines+markers",
         "type": "scatter3d",
         "x": [
          0,
          null
         ],
         "y": [
          0,
          0
         ],
         "z": [
          0,
          0
         ]
        },
        {
         "line": {
          "color": "rgb(76, 242, 206)",
          "width": 2
         },
         "marker": {
          "color": "rgb(76, 242, 206)",
          "size": 2
         },
         "mode": "lines+markers",
         "type": "scatter3d",
         "x": [
          0,
          null
         ],
         "y": [
          0,
          0
         ],
         "z": [
          0,
          0
         ]
        },
        {
         "line": {
          "color": "rgb(110, 253, 189)",
          "width": 2
         },
         "marker": {
          "color": "rgb(110, 253, 189)",
          "size": 2
         },
         "mode": "lines+markers",
         "type": "scatter3d",
         "x": [
          0,
          null
         ],
         "y": [
          0,
          0
         ],
         "z": [
          0,
          0
         ]
        },
        {
         "line": {
          "color": "rgb(144, 253, 170)",
          "width": 2
         },
         "marker": {
          "color": "rgb(144, 253, 170)",
          "size": 2
         },
         "mode": "lines+markers",
         "type": "scatter3d",
         "x": [
          0.06666666666666665,
          null
         ],
         "y": [
          0,
          0
         ],
         "z": [
          0,
          0
         ]
        },
        {
         "line": {
          "color": "rgb(178, 242, 149)",
          "width": 2
         },
         "marker": {
          "color": "rgb(178, 242, 149)",
          "size": 2
         },
         "mode": "lines+markers",
         "type": "scatter3d",
         "x": [
          0.19999999999999996,
          null
         ],
         "y": [
          0,
          0
         ],
         "z": [
          0,
          0
         ]
        },
        {
         "line": {
          "color": "rgb(212, 220, 127)",
          "width": 2
         },
         "marker": {
          "color": "rgb(212, 220, 127)",
          "size": 2
         },
         "mode": "lines+markers",
         "type": "scatter3d",
         "x": [
          0.33333333333333326,
          null
         ],
         "y": [
          0,
          0
         ],
         "z": [
          0,
          0
         ]
        },
        {
         "line": {
          "color": "rgb(246, 189, 103)",
          "width": 2
         },
         "marker": {
          "color": "rgb(246, 189, 103)",
          "size": 2
         },
         "mode": "lines+markers",
         "type": "scatter3d",
         "x": [
          0.46666666666666656,
          null
         ],
         "y": [
          0,
          0
         ],
         "z": [
          0,
          0
         ]
        },
        {
         "line": {
          "color": "rgb(255, 149, 78)",
          "width": 2
         },
         "marker": {
          "color": "rgb(255, 149, 78)",
          "size": 2
         },
         "mode": "lines+markers",
         "type": "scatter3d",
         "x": [
          0.6000000000000001,
          null
         ],
         "y": [
          0,
          0
         ],
         "z": [
          0,
          0
         ]
        },
        {
         "line": {
          "color": "rgb(255, 103, 53)",
          "width": 2
         },
         "marker": {
          "color": "rgb(255, 103, 53)",
          "size": 2
         },
         "mode": "lines+markers",
         "type": "scatter3d",
         "x": [
          0.7333333333333334,
          null
         ],
         "y": [
          0,
          0
         ],
         "z": [
          0,
          0
         ]
        },
        {
         "line": {
          "color": "rgb(255, 53, 26)",
          "width": 2
         },
         "marker": {
          "color": "rgb(255, 53, 26)",
          "size": 2
         },
         "mode": "lines+markers",
         "type": "scatter3d",
         "x": [
          0.8666666666666667,
          null
         ],
         "y": [
          0,
          0
         ],
         "z": [
          0,
          0
         ]
        },
        {
         "line": {
          "color": "rgb(255, 0, 0)",
          "width": 2
         },
         "marker": {
          "color": "rgb(255, 0, 0)",
          "size": 2
         },
         "mode": "lines+markers",
         "type": "scatter3d",
         "x": [
          1,
          null
         ],
         "y": [
          0,
          0
         ],
         "z": [
          0,
          0
         ]
        },
        {
         "line": {
          "color": "rgb(127, 0, 255)",
          "width": 2
         },
         "marker": {
          "color": "rgb(127, 0, 255)",
          "size": 2
         },
         "mode": "lines+markers",
         "type": "scatter3d",
         "x": [
          0,
          null
         ],
         "y": [
          0,
          0
         ],
         "z": [
          0,
          0
         ]
        },
        {
         "line": {
          "color": "rgb(93, 53, 253)",
          "width": 2
         },
         "marker": {
          "color": "rgb(93, 53, 253)",
          "size": 2
         },
         "mode": "lines+markers",
         "type": "scatter3d",
         "x": [
          0,
          null
         ],
         "y": [
          0,
          0
         ],
         "z": [
          0,
          0
         ]
        },
        {
         "line": {
          "color": "rgb(59, 103, 249)",
          "width": 2
         },
         "marker": {
          "color": "rgb(59, 103, 249)",
          "size": 2
         },
         "mode": "lines+markers",
         "type": "scatter3d",
         "x": [
          0,
          null
         ],
         "y": [
          0,
          0
         ],
         "z": [
          0,
          0
         ]
        },
        {
         "line": {
          "color": "rgb(25, 149, 242)",
          "width": 2
         },
         "marker": {
          "color": "rgb(25, 149, 242)",
          "size": 2
         },
         "mode": "lines+markers",
         "type": "scatter3d",
         "x": [
          0,
          null
         ],
         "y": [
          0,
          0
         ],
         "z": [
          0,
          0
         ]
        },
        {
         "line": {
          "color": "rgb(8, 189, 232)",
          "width": 2
         },
         "marker": {
          "color": "rgb(8, 189, 232)",
          "size": 2
         },
         "mode": "lines+markers",
         "type": "scatter3d",
         "x": [
          0,
          null
         ],
         "y": [
          0,
          0
         ],
         "z": [
          0,
          0
         ]
        },
        {
         "line": {
          "color": "rgb(42, 220, 220)",
          "width": 2
         },
         "marker": {
          "color": "rgb(42, 220, 220)",
          "size": 2
         },
         "mode": "lines+markers",
         "type": "scatter3d",
         "x": [
          0,
          null
         ],
         "y": [
          0,
          0
         ],
         "z": [
          0,
          0
         ]
        },
        {
         "line": {
          "color": "rgb(76, 242, 206)",
          "width": 2
         },
         "marker": {
          "color": "rgb(76, 242, 206)",
          "size": 2
         },
         "mode": "lines+markers",
         "type": "scatter3d",
         "x": [
          0,
          null
         ],
         "y": [
          0,
          0
         ],
         "z": [
          0,
          0
         ]
        },
        {
         "line": {
          "color": "rgb(110, 253, 189)",
          "width": 2
         },
         "marker": {
          "color": "rgb(110, 253, 189)",
          "size": 2
         },
         "mode": "lines+markers",
         "type": "scatter3d",
         "x": [
          0,
          null
         ],
         "y": [
          0,
          0
         ],
         "z": [
          0,
          0
         ]
        },
        {
         "line": {
          "color": "rgb(144, 253, 170)",
          "width": 2
         },
         "marker": {
          "color": "rgb(144, 253, 170)",
          "size": 2
         },
         "mode": "lines+markers",
         "type": "scatter3d",
         "x": [
          0.06666666666666665,
          null
         ],
         "y": [
          0,
          0
         ],
         "z": [
          0,
          0
         ]
        },
        {
         "line": {
          "color": "rgb(178, 242, 149)",
          "width": 2
         },
         "marker": {
          "color": "rgb(178, 242, 149)",
          "size": 2
         },
         "mode": "lines+markers",
         "type": "scatter3d",
         "x": [
          0.19999999999999996,
          null
         ],
         "y": [
          0,
          0
         ],
         "z": [
          0,
          0
         ]
        },
        {
         "line": {
          "color": "rgb(212, 220, 127)",
          "width": 2
         },
         "marker": {
          "color": "rgb(212, 220, 127)",
          "size": 2
         },
         "mode": "lines+markers",
         "type": "scatter3d",
         "x": [
          0.33333333333333326,
          null
         ],
         "y": [
          0,
          0
         ],
         "z": [
          0,
          0
         ]
        },
        {
         "line": {
          "color": "rgb(246, 189, 103)",
          "width": 2
         },
         "marker": {
          "color": "rgb(246, 189, 103)",
          "size": 2
         },
         "mode": "lines+markers",
         "type": "scatter3d",
         "x": [
          0.46666666666666656,
          null
         ],
         "y": [
          0,
          0
         ],
         "z": [
          0,
          0
         ]
        },
        {
         "line": {
          "color": "rgb(255, 149, 78)",
          "width": 2
         },
         "marker": {
          "color": "rgb(255, 149, 78)",
          "size": 2
         },
         "mode": "lines+markers",
         "type": "scatter3d",
         "x": [
          0.6000000000000001,
          null
         ],
         "y": [
          0,
          0
         ],
         "z": [
          0,
          0
         ]
        },
        {
         "line": {
          "color": "rgb(255, 103, 53)",
          "width": 2
         },
         "marker": {
          "color": "rgb(255, 103, 53)",
          "size": 2
         },
         "mode": "lines+markers",
         "type": "scatter3d",
         "x": [
          0.7333333333333334,
          null
         ],
         "y": [
          0,
          0
         ],
         "z": [
          0,
          0
         ]
        },
        {
         "line": {
          "color": "rgb(255, 53, 26)",
          "width": 2
         },
         "marker": {
          "color": "rgb(255, 53, 26)",
          "size": 2
         },
         "mode": "lines+markers",
         "type": "scatter3d",
         "x": [
          0.8666666666666667,
          null
         ],
         "y": [
          0,
          0
         ],
         "z": [
          0,
          0
         ]
        },
        {
         "line": {
          "color": "rgb(255, 0, 0)",
          "width": 2
         },
         "marker": {
          "color": "rgb(255, 0, 0)",
          "size": 2
         },
         "mode": "lines+markers",
         "type": "scatter3d",
         "x": [
          1,
          null
         ],
         "y": [
          0,
          0
         ],
         "z": [
          0,
          0
         ]
        },
        {
         "line": {
          "color": "rgb(127, 0, 255)",
          "width": 2
         },
         "marker": {
          "color": "rgb(127, 0, 255)",
          "size": 2
         },
         "mode": "lines+markers",
         "type": "scatter3d",
         "x": [
          0,
          null
         ],
         "y": [
          0,
          0
         ],
         "z": [
          0,
          0
         ]
        },
        {
         "line": {
          "color": "rgb(93, 53, 253)",
          "width": 2
         },
         "marker": {
          "color": "rgb(93, 53, 253)",
          "size": 2
         },
         "mode": "lines+markers",
         "type": "scatter3d",
         "x": [
          0,
          null
         ],
         "y": [
          0,
          0
         ],
         "z": [
          0,
          0
         ]
        },
        {
         "line": {
          "color": "rgb(59, 103, 249)",
          "width": 2
         },
         "marker": {
          "color": "rgb(59, 103, 249)",
          "size": 2
         },
         "mode": "lines+markers",
         "type": "scatter3d",
         "x": [
          0,
          null
         ],
         "y": [
          0,
          0
         ],
         "z": [
          0,
          0
         ]
        },
        {
         "line": {
          "color": "rgb(25, 149, 242)",
          "width": 2
         },
         "marker": {
          "color": "rgb(25, 149, 242)",
          "size": 2
         },
         "mode": "lines+markers",
         "type": "scatter3d",
         "x": [
          0,
          null
         ],
         "y": [
          0,
          0
         ],
         "z": [
          0,
          0
         ]
        },
        {
         "line": {
          "color": "rgb(8, 189, 232)",
          "width": 2
         },
         "marker": {
          "color": "rgb(8, 189, 232)",
          "size": 2
         },
         "mode": "lines+markers",
         "type": "scatter3d",
         "x": [
          0,
          null
         ],
         "y": [
          0,
          0
         ],
         "z": [
          0,
          0
         ]
        },
        {
         "line": {
          "color": "rgb(42, 220, 220)",
          "width": 2
         },
         "marker": {
          "color": "rgb(42, 220, 220)",
          "size": 2
         },
         "mode": "lines+markers",
         "type": "scatter3d",
         "x": [
          0,
          null
         ],
         "y": [
          0,
          0
         ],
         "z": [
          0,
          0
         ]
        },
        {
         "line": {
          "color": "rgb(76, 242, 206)",
          "width": 2
         },
         "marker": {
          "color": "rgb(76, 242, 206)",
          "size": 2
         },
         "mode": "lines+markers",
         "type": "scatter3d",
         "x": [
          0,
          null
         ],
         "y": [
          0,
          0
         ],
         "z": [
          0,
          0
         ]
        },
        {
         "line": {
          "color": "rgb(110, 253, 189)",
          "width": 2
         },
         "marker": {
          "color": "rgb(110, 253, 189)",
          "size": 2
         },
         "mode": "lines+markers",
         "type": "scatter3d",
         "x": [
          0,
          null
         ],
         "y": [
          0,
          0
         ],
         "z": [
          0,
          0
         ]
        },
        {
         "line": {
          "color": "rgb(144, 253, 170)",
          "width": 2
         },
         "marker": {
          "color": "rgb(144, 253, 170)",
          "size": 2
         },
         "mode": "lines+markers",
         "type": "scatter3d",
         "x": [
          0.06666666666666665,
          null
         ],
         "y": [
          0,
          0
         ],
         "z": [
          0,
          0
         ]
        },
        {
         "line": {
          "color": "rgb(178, 242, 149)",
          "width": 2
         },
         "marker": {
          "color": "rgb(178, 242, 149)",
          "size": 2
         },
         "mode": "lines+markers",
         "type": "scatter3d",
         "x": [
          0.19999999999999996,
          null
         ],
         "y": [
          0,
          0
         ],
         "z": [
          0,
          0
         ]
        },
        {
         "line": {
          "color": "rgb(212, 220, 127)",
          "width": 2
         },
         "marker": {
          "color": "rgb(212, 220, 127)",
          "size": 2
         },
         "mode": "lines+markers",
         "type": "scatter3d",
         "x": [
          0.33333333333333326,
          null
         ],
         "y": [
          0,
          0
         ],
         "z": [
          0,
          0
         ]
        },
        {
         "line": {
          "color": "rgb(246, 189, 103)",
          "width": 2
         },
         "marker": {
          "color": "rgb(246, 189, 103)",
          "size": 2
         },
         "mode": "lines+markers",
         "type": "scatter3d",
         "x": [
          0.46666666666666656,
          null
         ],
         "y": [
          0,
          0
         ],
         "z": [
          0,
          0
         ]
        },
        {
         "line": {
          "color": "rgb(255, 149, 78)",
          "width": 2
         },
         "marker": {
          "color": "rgb(255, 149, 78)",
          "size": 2
         },
         "mode": "lines+markers",
         "type": "scatter3d",
         "x": [
          0.6000000000000001,
          null
         ],
         "y": [
          0,
          0
         ],
         "z": [
          0,
          0
         ]
        },
        {
         "line": {
          "color": "rgb(255, 103, 53)",
          "width": 2
         },
         "marker": {
          "color": "rgb(255, 103, 53)",
          "size": 2
         },
         "mode": "lines+markers",
         "type": "scatter3d",
         "x": [
          0.7333333333333334,
          null
         ],
         "y": [
          0,
          0
         ],
         "z": [
          0,
          0
         ]
        },
        {
         "line": {
          "color": "rgb(255, 53, 26)",
          "width": 2
         },
         "marker": {
          "color": "rgb(255, 53, 26)",
          "size": 2
         },
         "mode": "lines+markers",
         "type": "scatter3d",
         "x": [
          0.8666666666666667,
          null
         ],
         "y": [
          0,
          0
         ],
         "z": [
          0,
          0
         ]
        },
        {
         "line": {
          "color": "rgb(255, 0, 0)",
          "width": 2
         },
         "marker": {
          "color": "rgb(255, 0, 0)",
          "size": 2
         },
         "mode": "lines+markers",
         "type": "scatter3d",
         "x": [
          1,
          null
         ],
         "y": [
          0,
          0
         ],
         "z": [
          0,
          0
         ]
        },
        {
         "line": {
          "color": "rgb(127, 0, 255)",
          "width": 2
         },
         "marker": {
          "color": "rgb(127, 0, 255)",
          "size": 2
         },
         "mode": "lines+markers",
         "type": "scatter3d",
         "x": [
          0,
          null
         ],
         "y": [
          0,
          0
         ],
         "z": [
          0,
          0
         ]
        },
        {
         "line": {
          "color": "rgb(93, 53, 253)",
          "width": 2
         },
         "marker": {
          "color": "rgb(93, 53, 253)",
          "size": 2
         },
         "mode": "lines+markers",
         "type": "scatter3d",
         "x": [
          0,
          null
         ],
         "y": [
          0,
          0
         ],
         "z": [
          0,
          0
         ]
        },
        {
         "line": {
          "color": "rgb(59, 103, 249)",
          "width": 2
         },
         "marker": {
          "color": "rgb(59, 103, 249)",
          "size": 2
         },
         "mode": "lines+markers",
         "type": "scatter3d",
         "x": [
          0,
          null
         ],
         "y": [
          0,
          0
         ],
         "z": [
          0,
          0
         ]
        },
        {
         "line": {
          "color": "rgb(25, 149, 242)",
          "width": 2
         },
         "marker": {
          "color": "rgb(25, 149, 242)",
          "size": 2
         },
         "mode": "lines+markers",
         "type": "scatter3d",
         "x": [
          0,
          null
         ],
         "y": [
          0,
          0
         ],
         "z": [
          0,
          0
         ]
        },
        {
         "line": {
          "color": "rgb(8, 189, 232)",
          "width": 2
         },
         "marker": {
          "color": "rgb(8, 189, 232)",
          "size": 2
         },
         "mode": "lines+markers",
         "type": "scatter3d",
         "x": [
          0,
          null
         ],
         "y": [
          0,
          0
         ],
         "z": [
          0,
          0
         ]
        },
        {
         "line": {
          "color": "rgb(42, 220, 220)",
          "width": 2
         },
         "marker": {
          "color": "rgb(42, 220, 220)",
          "size": 2
         },
         "mode": "lines+markers",
         "type": "scatter3d",
         "x": [
          0,
          null
         ],
         "y": [
          0,
          0
         ],
         "z": [
          0,
          0
         ]
        },
        {
         "line": {
          "color": "rgb(76, 242, 206)",
          "width": 2
         },
         "marker": {
          "color": "rgb(76, 242, 206)",
          "size": 2
         },
         "mode": "lines+markers",
         "type": "scatter3d",
         "x": [
          0,
          null
         ],
         "y": [
          0,
          0
         ],
         "z": [
          0,
          0
         ]
        },
        {
         "line": {
          "color": "rgb(110, 253, 189)",
          "width": 2
         },
         "marker": {
          "color": "rgb(110, 253, 189)",
          "size": 2
         },
         "mode": "lines+markers",
         "type": "scatter3d",
         "x": [
          0,
          null
         ],
         "y": [
          0,
          0
         ],
         "z": [
          0,
          0
         ]
        },
        {
         "line": {
          "color": "rgb(144, 253, 170)",
          "width": 2
         },
         "marker": {
          "color": "rgb(144, 253, 170)",
          "size": 2
         },
         "mode": "lines+markers",
         "type": "scatter3d",
         "x": [
          0.06666666666666665,
          null
         ],
         "y": [
          0,
          0
         ],
         "z": [
          0,
          0
         ]
        },
        {
         "line": {
          "color": "rgb(178, 242, 149)",
          "width": 2
         },
         "marker": {
          "color": "rgb(178, 242, 149)",
          "size": 2
         },
         "mode": "lines+markers",
         "type": "scatter3d",
         "x": [
          0.19999999999999996,
          null
         ],
         "y": [
          0,
          0
         ],
         "z": [
          0,
          0
         ]
        },
        {
         "line": {
          "color": "rgb(212, 220, 127)",
          "width": 2
         },
         "marker": {
          "color": "rgb(212, 220, 127)",
          "size": 2
         },
         "mode": "lines+markers",
         "type": "scatter3d",
         "x": [
          0.33333333333333326,
          null
         ],
         "y": [
          0,
          0
         ],
         "z": [
          0,
          0
         ]
        },
        {
         "line": {
          "color": "rgb(246, 189, 103)",
          "width": 2
         },
         "marker": {
          "color": "rgb(246, 189, 103)",
          "size": 2
         },
         "mode": "lines+markers",
         "type": "scatter3d",
         "x": [
          0.46666666666666656,
          null
         ],
         "y": [
          0,
          0
         ],
         "z": [
          0,
          0
         ]
        },
        {
         "line": {
          "color": "rgb(255, 149, 78)",
          "width": 2
         },
         "marker": {
          "color": "rgb(255, 149, 78)",
          "size": 2
         },
         "mode": "lines+markers",
         "type": "scatter3d",
         "x": [
          0.6000000000000001,
          null
         ],
         "y": [
          0,
          0
         ],
         "z": [
          0,
          0
         ]
        },
        {
         "line": {
          "color": "rgb(255, 103, 53)",
          "width": 2
         },
         "marker": {
          "color": "rgb(255, 103, 53)",
          "size": 2
         },
         "mode": "lines+markers",
         "type": "scatter3d",
         "x": [
          0.7333333333333334,
          null
         ],
         "y": [
          0,
          0
         ],
         "z": [
          0,
          0
         ]
        },
        {
         "line": {
          "color": "rgb(255, 53, 26)",
          "width": 2
         },
         "marker": {
          "color": "rgb(255, 53, 26)",
          "size": 2
         },
         "mode": "lines+markers",
         "type": "scatter3d",
         "x": [
          0.8666666666666667,
          null
         ],
         "y": [
          0,
          0
         ],
         "z": [
          0,
          0
         ]
        },
        {
         "line": {
          "color": "rgb(255, 0, 0)",
          "width": 2
         },
         "marker": {
          "color": "rgb(255, 0, 0)",
          "size": 2
         },
         "mode": "lines+markers",
         "type": "scatter3d",
         "x": [
          1,
          null
         ],
         "y": [
          0,
          0
         ],
         "z": [
          0,
          0
         ]
        },
        {
         "line": {
          "color": "rgb(127, 0, 255)",
          "width": 2
         },
         "marker": {
          "color": "rgb(127, 0, 255)",
          "size": 2
         },
         "mode": "lines+markers",
         "type": "scatter3d",
         "x": [
          0,
          null
         ],
         "y": [
          0,
          0
         ],
         "z": [
          0,
          0
         ]
        },
        {
         "line": {
          "color": "rgb(93, 53, 253)",
          "width": 2
         },
         "marker": {
          "color": "rgb(93, 53, 253)",
          "size": 2
         },
         "mode": "lines+markers",
         "type": "scatter3d",
         "x": [
          0,
          null
         ],
         "y": [
          0,
          0
         ],
         "z": [
          0,
          0
         ]
        },
        {
         "line": {
          "color": "rgb(59, 103, 249)",
          "width": 2
         },
         "marker": {
          "color": "rgb(59, 103, 249)",
          "size": 2
         },
         "mode": "lines+markers",
         "type": "scatter3d",
         "x": [
          0,
          null
         ],
         "y": [
          0,
          0
         ],
         "z": [
          0,
          0
         ]
        },
        {
         "line": {
          "color": "rgb(25, 149, 242)",
          "width": 2
         },
         "marker": {
          "color": "rgb(25, 149, 242)",
          "size": 2
         },
         "mode": "lines+markers",
         "type": "scatter3d",
         "x": [
          0,
          null
         ],
         "y": [
          0,
          0
         ],
         "z": [
          0,
          0
         ]
        },
        {
         "line": {
          "color": "rgb(8, 189, 232)",
          "width": 2
         },
         "marker": {
          "color": "rgb(8, 189, 232)",
          "size": 2
         },
         "mode": "lines+markers",
         "type": "scatter3d",
         "x": [
          0,
          null
         ],
         "y": [
          0,
          0
         ],
         "z": [
          0,
          0
         ]
        },
        {
         "line": {
          "color": "rgb(42, 220, 220)",
          "width": 2
         },
         "marker": {
          "color": "rgb(42, 220, 220)",
          "size": 2
         },
         "mode": "lines+markers",
         "type": "scatter3d",
         "x": [
          0,
          null
         ],
         "y": [
          0,
          0
         ],
         "z": [
          0,
          0
         ]
        },
        {
         "line": {
          "color": "rgb(76, 242, 206)",
          "width": 2
         },
         "marker": {
          "color": "rgb(76, 242, 206)",
          "size": 2
         },
         "mode": "lines+markers",
         "type": "scatter3d",
         "x": [
          0,
          null
         ],
         "y": [
          0,
          0
         ],
         "z": [
          0,
          0
         ]
        },
        {
         "line": {
          "color": "rgb(110, 253, 189)",
          "width": 2
         },
         "marker": {
          "color": "rgb(110, 253, 189)",
          "size": 2
         },
         "mode": "lines+markers",
         "type": "scatter3d",
         "x": [
          0,
          null
         ],
         "y": [
          0,
          0
         ],
         "z": [
          0,
          0
         ]
        },
        {
         "line": {
          "color": "rgb(144, 253, 170)",
          "width": 2
         },
         "marker": {
          "color": "rgb(144, 253, 170)",
          "size": 2
         },
         "mode": "lines+markers",
         "type": "scatter3d",
         "x": [
          0.06666666666666665,
          null
         ],
         "y": [
          0,
          0
         ],
         "z": [
          0,
          0
         ]
        },
        {
         "line": {
          "color": "rgb(178, 242, 149)",
          "width": 2
         },
         "marker": {
          "color": "rgb(178, 242, 149)",
          "size": 2
         },
         "mode": "lines+markers",
         "type": "scatter3d",
         "x": [
          0.19999999999999996,
          null
         ],
         "y": [
          0,
          0
         ],
         "z": [
          0,
          0
         ]
        },
        {
         "line": {
          "color": "rgb(212, 220, 127)",
          "width": 2
         },
         "marker": {
          "color": "rgb(212, 220, 127)",
          "size": 2
         },
         "mode": "lines+markers",
         "type": "scatter3d",
         "x": [
          0.33333333333333326,
          null
         ],
         "y": [
          0,
          0
         ],
         "z": [
          0,
          0
         ]
        },
        {
         "line": {
          "color": "rgb(246, 189, 103)",
          "width": 2
         },
         "marker": {
          "color": "rgb(246, 189, 103)",
          "size": 2
         },
         "mode": "lines+markers",
         "type": "scatter3d",
         "x": [
          0.46666666666666656,
          null
         ],
         "y": [
          0,
          0
         ],
         "z": [
          0,
          0
         ]
        },
        {
         "line": {
          "color": "rgb(255, 149, 78)",
          "width": 2
         },
         "marker": {
          "color": "rgb(255, 149, 78)",
          "size": 2
         },
         "mode": "lines+markers",
         "type": "scatter3d",
         "x": [
          0.6000000000000001,
          null
         ],
         "y": [
          0,
          0
         ],
         "z": [
          0,
          0
         ]
        },
        {
         "line": {
          "color": "rgb(255, 103, 53)",
          "width": 2
         },
         "marker": {
          "color": "rgb(255, 103, 53)",
          "size": 2
         },
         "mode": "lines+markers",
         "type": "scatter3d",
         "x": [
          0.7333333333333334,
          null
         ],
         "y": [
          0,
          0
         ],
         "z": [
          0,
          0
         ]
        },
        {
         "line": {
          "color": "rgb(255, 53, 26)",
          "width": 2
         },
         "marker": {
          "color": "rgb(255, 53, 26)",
          "size": 2
         },
         "mode": "lines+markers",
         "type": "scatter3d",
         "x": [
          0.8666666666666667,
          null
         ],
         "y": [
          0,
          0
         ],
         "z": [
          0,
          0
         ]
        },
        {
         "line": {
          "color": "rgb(255, 0, 0)",
          "width": 2
         },
         "marker": {
          "color": "rgb(255, 0, 0)",
          "size": 2
         },
         "mode": "lines+markers",
         "type": "scatter3d",
         "x": [
          1,
          null
         ],
         "y": [
          0,
          0
         ],
         "z": [
          0,
          0
         ]
        },
        {
         "line": {
          "color": "rgb(127, 0, 255)",
          "width": 2
         },
         "marker": {
          "color": "rgb(127, 0, 255)",
          "size": 2
         },
         "mode": "lines+markers",
         "type": "scatter3d",
         "x": [
          0,
          null
         ],
         "y": [
          0,
          0
         ],
         "z": [
          0,
          0
         ]
        },
        {
         "line": {
          "color": "rgb(93, 53, 253)",
          "width": 2
         },
         "marker": {
          "color": "rgb(93, 53, 253)",
          "size": 2
         },
         "mode": "lines+markers",
         "type": "scatter3d",
         "x": [
          0,
          null
         ],
         "y": [
          0,
          0
         ],
         "z": [
          0,
          0
         ]
        },
        {
         "line": {
          "color": "rgb(59, 103, 249)",
          "width": 2
         },
         "marker": {
          "color": "rgb(59, 103, 249)",
          "size": 2
         },
         "mode": "lines+markers",
         "type": "scatter3d",
         "x": [
          0,
          null
         ],
         "y": [
          0,
          0
         ],
         "z": [
          0,
          0
         ]
        },
        {
         "line": {
          "color": "rgb(25, 149, 242)",
          "width": 2
         },
         "marker": {
          "color": "rgb(25, 149, 242)",
          "size": 2
         },
         "mode": "lines+markers",
         "type": "scatter3d",
         "x": [
          0,
          null
         ],
         "y": [
          0,
          0
         ],
         "z": [
          0,
          0
         ]
        },
        {
         "line": {
          "color": "rgb(8, 189, 232)",
          "width": 2
         },
         "marker": {
          "color": "rgb(8, 189, 232)",
          "size": 2
         },
         "mode": "lines+markers",
         "type": "scatter3d",
         "x": [
          0,
          null
         ],
         "y": [
          0,
          0
         ],
         "z": [
          0,
          0
         ]
        },
        {
         "line": {
          "color": "rgb(42, 220, 220)",
          "width": 2
         },
         "marker": {
          "color": "rgb(42, 220, 220)",
          "size": 2
         },
         "mode": "lines+markers",
         "type": "scatter3d",
         "x": [
          0,
          null
         ],
         "y": [
          0,
          0
         ],
         "z": [
          0,
          0
         ]
        },
        {
         "line": {
          "color": "rgb(76, 242, 206)",
          "width": 2
         },
         "marker": {
          "color": "rgb(76, 242, 206)",
          "size": 2
         },
         "mode": "lines+markers",
         "type": "scatter3d",
         "x": [
          0,
          null
         ],
         "y": [
          0,
          0
         ],
         "z": [
          0,
          0
         ]
        },
        {
         "line": {
          "color": "rgb(110, 253, 189)",
          "width": 2
         },
         "marker": {
          "color": "rgb(110, 253, 189)",
          "size": 2
         },
         "mode": "lines+markers",
         "type": "scatter3d",
         "x": [
          0,
          null
         ],
         "y": [
          0,
          0
         ],
         "z": [
          0,
          0
         ]
        },
        {
         "line": {
          "color": "rgb(144, 253, 170)",
          "width": 2
         },
         "marker": {
          "color": "rgb(144, 253, 170)",
          "size": 2
         },
         "mode": "lines+markers",
         "type": "scatter3d",
         "x": [
          0.06666666666666665,
          null
         ],
         "y": [
          0,
          0
         ],
         "z": [
          0,
          0
         ]
        },
        {
         "line": {
          "color": "rgb(178, 242, 149)",
          "width": 2
         },
         "marker": {
          "color": "rgb(178, 242, 149)",
          "size": 2
         },
         "mode": "lines+markers",
         "type": "scatter3d",
         "x": [
          0.19999999999999996,
          null
         ],
         "y": [
          0,
          0
         ],
         "z": [
          0,
          0
         ]
        },
        {
         "line": {
          "color": "rgb(212, 220, 127)",
          "width": 2
         },
         "marker": {
          "color": "rgb(212, 220, 127)",
          "size": 2
         },
         "mode": "lines+markers",
         "type": "scatter3d",
         "x": [
          0.33333333333333326,
          null
         ],
         "y": [
          0,
          0
         ],
         "z": [
          0,
          0
         ]
        },
        {
         "line": {
          "color": "rgb(246, 189, 103)",
          "width": 2
         },
         "marker": {
          "color": "rgb(246, 189, 103)",
          "size": 2
         },
         "mode": "lines+markers",
         "type": "scatter3d",
         "x": [
          0.46666666666666656,
          null
         ],
         "y": [
          0,
          0
         ],
         "z": [
          0,
          0
         ]
        },
        {
         "line": {
          "color": "rgb(255, 149, 78)",
          "width": 2
         },
         "marker": {
          "color": "rgb(255, 149, 78)",
          "size": 2
         },
         "mode": "lines+markers",
         "type": "scatter3d",
         "x": [
          0.6000000000000001,
          null
         ],
         "y": [
          0,
          0
         ],
         "z": [
          0,
          0
         ]
        },
        {
         "line": {
          "color": "rgb(255, 103, 53)",
          "width": 2
         },
         "marker": {
          "color": "rgb(255, 103, 53)",
          "size": 2
         },
         "mode": "lines+markers",
         "type": "scatter3d",
         "x": [
          0.7333333333333334,
          null
         ],
         "y": [
          0,
          0
         ],
         "z": [
          0,
          0
         ]
        },
        {
         "line": {
          "color": "rgb(255, 53, 26)",
          "width": 2
         },
         "marker": {
          "color": "rgb(255, 53, 26)",
          "size": 2
         },
         "mode": "lines+markers",
         "type": "scatter3d",
         "x": [
          0.8666666666666667,
          null
         ],
         "y": [
          0,
          0
         ],
         "z": [
          0,
          0
         ]
        },
        {
         "line": {
          "color": "rgb(255, 0, 0)",
          "width": 2
         },
         "marker": {
          "color": "rgb(255, 0, 0)",
          "size": 2
         },
         "mode": "lines+markers",
         "type": "scatter3d",
         "x": [
          1,
          null
         ],
         "y": [
          0,
          0
         ],
         "z": [
          0,
          0
         ]
        },
        {
         "line": {
          "color": "rgb(127, 0, 255)",
          "width": 2
         },
         "marker": {
          "color": "rgb(127, 0, 255)",
          "size": 2
         },
         "mode": "lines+markers",
         "type": "scatter3d",
         "x": [
          0,
          null
         ],
         "y": [
          0,
          0
         ],
         "z": [
          0,
          0
         ]
        },
        {
         "line": {
          "color": "rgb(93, 53, 253)",
          "width": 2
         },
         "marker": {
          "color": "rgb(93, 53, 253)",
          "size": 2
         },
         "mode": "lines+markers",
         "type": "scatter3d",
         "x": [
          0,
          null
         ],
         "y": [
          0,
          0
         ],
         "z": [
          0,
          0
         ]
        },
        {
         "line": {
          "color": "rgb(59, 103, 249)",
          "width": 2
         },
         "marker": {
          "color": "rgb(59, 103, 249)",
          "size": 2
         },
         "mode": "lines+markers",
         "type": "scatter3d",
         "x": [
          0,
          null
         ],
         "y": [
          0,
          0
         ],
         "z": [
          0,
          0
         ]
        },
        {
         "line": {
          "color": "rgb(25, 149, 242)",
          "width": 2
         },
         "marker": {
          "color": "rgb(25, 149, 242)",
          "size": 2
         },
         "mode": "lines+markers",
         "type": "scatter3d",
         "x": [
          0,
          null
         ],
         "y": [
          0,
          0
         ],
         "z": [
          0,
          0
         ]
        },
        {
         "line": {
          "color": "rgb(8, 189, 232)",
          "width": 2
         },
         "marker": {
          "color": "rgb(8, 189, 232)",
          "size": 2
         },
         "mode": "lines+markers",
         "type": "scatter3d",
         "x": [
          0,
          null
         ],
         "y": [
          0,
          0
         ],
         "z": [
          0,
          0
         ]
        },
        {
         "line": {
          "color": "rgb(42, 220, 220)",
          "width": 2
         },
         "marker": {
          "color": "rgb(42, 220, 220)",
          "size": 2
         },
         "mode": "lines+markers",
         "type": "scatter3d",
         "x": [
          0,
          null
         ],
         "y": [
          0,
          0
         ],
         "z": [
          0,
          0
         ]
        },
        {
         "line": {
          "color": "rgb(76, 242, 206)",
          "width": 2
         },
         "marker": {
          "color": "rgb(76, 242, 206)",
          "size": 2
         },
         "mode": "lines+markers",
         "type": "scatter3d",
         "x": [
          0,
          null
         ],
         "y": [
          0,
          0
         ],
         "z": [
          0,
          0
         ]
        },
        {
         "line": {
          "color": "rgb(110, 253, 189)",
          "width": 2
         },
         "marker": {
          "color": "rgb(110, 253, 189)",
          "size": 2
         },
         "mode": "lines+markers",
         "type": "scatter3d",
         "x": [
          0,
          null
         ],
         "y": [
          0,
          0
         ],
         "z": [
          0,
          0
         ]
        },
        {
         "line": {
          "color": "rgb(144, 253, 170)",
          "width": 2
         },
         "marker": {
          "color": "rgb(144, 253, 170)",
          "size": 2
         },
         "mode": "lines+markers",
         "type": "scatter3d",
         "x": [
          0.06666666666666665,
          null
         ],
         "y": [
          0,
          0
         ],
         "z": [
          0,
          0
         ]
        },
        {
         "line": {
          "color": "rgb(178, 242, 149)",
          "width": 2
         },
         "marker": {
          "color": "rgb(178, 242, 149)",
          "size": 2
         },
         "mode": "lines+markers",
         "type": "scatter3d",
         "x": [
          0.19999999999999996,
          null
         ],
         "y": [
          0,
          0
         ],
         "z": [
          0,
          0
         ]
        },
        {
         "line": {
          "color": "rgb(212, 220, 127)",
          "width": 2
         },
         "marker": {
          "color": "rgb(212, 220, 127)",
          "size": 2
         },
         "mode": "lines+markers",
         "type": "scatter3d",
         "x": [
          0.33333333333333326,
          null
         ],
         "y": [
          0,
          0
         ],
         "z": [
          0,
          0
         ]
        },
        {
         "line": {
          "color": "rgb(246, 189, 103)",
          "width": 2
         },
         "marker": {
          "color": "rgb(246, 189, 103)",
          "size": 2
         },
         "mode": "lines+markers",
         "type": "scatter3d",
         "x": [
          0.46666666666666656,
          null
         ],
         "y": [
          0,
          0
         ],
         "z": [
          0,
          0
         ]
        },
        {
         "line": {
          "color": "rgb(255, 149, 78)",
          "width": 2
         },
         "marker": {
          "color": "rgb(255, 149, 78)",
          "size": 2
         },
         "mode": "lines+markers",
         "type": "scatter3d",
         "x": [
          0.6000000000000001,
          null
         ],
         "y": [
          0,
          0
         ],
         "z": [
          0,
          0
         ]
        },
        {
         "line": {
          "color": "rgb(255, 103, 53)",
          "width": 2
         },
         "marker": {
          "color": "rgb(255, 103, 53)",
          "size": 2
         },
         "mode": "lines+markers",
         "type": "scatter3d",
         "x": [
          0.7333333333333334,
          null
         ],
         "y": [
          0,
          0
         ],
         "z": [
          0,
          0
         ]
        },
        {
         "line": {
          "color": "rgb(255, 53, 26)",
          "width": 2
         },
         "marker": {
          "color": "rgb(255, 53, 26)",
          "size": 2
         },
         "mode": "lines+markers",
         "type": "scatter3d",
         "x": [
          0.8666666666666667,
          null
         ],
         "y": [
          0,
          0
         ],
         "z": [
          0,
          0
         ]
        },
        {
         "line": {
          "color": "rgb(255, 0, 0)",
          "width": 2
         },
         "marker": {
          "color": "rgb(255, 0, 0)",
          "size": 2
         },
         "mode": "lines+markers",
         "type": "scatter3d",
         "x": [
          1,
          null
         ],
         "y": [
          0,
          0
         ],
         "z": [
          0,
          0
         ]
        },
        {
         "line": {
          "color": "rgb(127, 0, 255)",
          "width": 2
         },
         "marker": {
          "color": "rgb(127, 0, 255)",
          "size": 2
         },
         "mode": "lines+markers",
         "type": "scatter3d",
         "x": [
          0,
          null
         ],
         "y": [
          0,
          0
         ],
         "z": [
          0,
          0
         ]
        },
        {
         "line": {
          "color": "rgb(93, 53, 253)",
          "width": 2
         },
         "marker": {
          "color": "rgb(93, 53, 253)",
          "size": 2
         },
         "mode": "lines+markers",
         "type": "scatter3d",
         "x": [
          0,
          null
         ],
         "y": [
          0,
          0
         ],
         "z": [
          0,
          0
         ]
        },
        {
         "line": {
          "color": "rgb(59, 103, 249)",
          "width": 2
         },
         "marker": {
          "color": "rgb(59, 103, 249)",
          "size": 2
         },
         "mode": "lines+markers",
         "type": "scatter3d",
         "x": [
          0,
          null
         ],
         "y": [
          0,
          0
         ],
         "z": [
          0,
          0
         ]
        },
        {
         "line": {
          "color": "rgb(25, 149, 242)",
          "width": 2
         },
         "marker": {
          "color": "rgb(25, 149, 242)",
          "size": 2
         },
         "mode": "lines+markers",
         "type": "scatter3d",
         "x": [
          0,
          null
         ],
         "y": [
          0,
          0
         ],
         "z": [
          0,
          0
         ]
        },
        {
         "line": {
          "color": "rgb(8, 189, 232)",
          "width": 2
         },
         "marker": {
          "color": "rgb(8, 189, 232)",
          "size": 2
         },
         "mode": "lines+markers",
         "type": "scatter3d",
         "x": [
          0,
          null
         ],
         "y": [
          0,
          0
         ],
         "z": [
          0,
          0
         ]
        },
        {
         "line": {
          "color": "rgb(42, 220, 220)",
          "width": 2
         },
         "marker": {
          "color": "rgb(42, 220, 220)",
          "size": 2
         },
         "mode": "lines+markers",
         "type": "scatter3d",
         "x": [
          0,
          null
         ],
         "y": [
          0,
          0
         ],
         "z": [
          0,
          0
         ]
        },
        {
         "line": {
          "color": "rgb(76, 242, 206)",
          "width": 2
         },
         "marker": {
          "color": "rgb(76, 242, 206)",
          "size": 2
         },
         "mode": "lines+markers",
         "type": "scatter3d",
         "x": [
          0,
          null
         ],
         "y": [
          0,
          0
         ],
         "z": [
          0,
          0
         ]
        },
        {
         "line": {
          "color": "rgb(110, 253, 189)",
          "width": 2
         },
         "marker": {
          "color": "rgb(110, 253, 189)",
          "size": 2
         },
         "mode": "lines+markers",
         "type": "scatter3d",
         "x": [
          0,
          null
         ],
         "y": [
          0,
          0
         ],
         "z": [
          0,
          0
         ]
        },
        {
         "line": {
          "color": "rgb(144, 253, 170)",
          "width": 2
         },
         "marker": {
          "color": "rgb(144, 253, 170)",
          "size": 2
         },
         "mode": "lines+markers",
         "type": "scatter3d",
         "x": [
          0.06666666666666665,
          null
         ],
         "y": [
          0,
          0
         ],
         "z": [
          0,
          0
         ]
        },
        {
         "line": {
          "color": "rgb(178, 242, 149)",
          "width": 2
         },
         "marker": {
          "color": "rgb(178, 242, 149)",
          "size": 2
         },
         "mode": "lines+markers",
         "type": "scatter3d",
         "x": [
          0.19999999999999996,
          null
         ],
         "y": [
          0,
          0
         ],
         "z": [
          0,
          0
         ]
        },
        {
         "line": {
          "color": "rgb(212, 220, 127)",
          "width": 2
         },
         "marker": {
          "color": "rgb(212, 220, 127)",
          "size": 2
         },
         "mode": "lines+markers",
         "type": "scatter3d",
         "x": [
          0.33333333333333326,
          null
         ],
         "y": [
          0,
          0
         ],
         "z": [
          0,
          0
         ]
        },
        {
         "line": {
          "color": "rgb(246, 189, 103)",
          "width": 2
         },
         "marker": {
          "color": "rgb(246, 189, 103)",
          "size": 2
         },
         "mode": "lines+markers",
         "type": "scatter3d",
         "x": [
          0.46666666666666656,
          null
         ],
         "y": [
          0,
          0
         ],
         "z": [
          0,
          0
         ]
        },
        {
         "line": {
          "color": "rgb(255, 149, 78)",
          "width": 2
         },
         "marker": {
          "color": "rgb(255, 149, 78)",
          "size": 2
         },
         "mode": "lines+markers",
         "type": "scatter3d",
         "x": [
          0.6000000000000001,
          null
         ],
         "y": [
          0,
          0
         ],
         "z": [
          0,
          0
         ]
        },
        {
         "line": {
          "color": "rgb(255, 103, 53)",
          "width": 2
         },
         "marker": {
          "color": "rgb(255, 103, 53)",
          "size": 2
         },
         "mode": "lines+markers",
         "type": "scatter3d",
         "x": [
          0.7333333333333334,
          null
         ],
         "y": [
          0,
          0
         ],
         "z": [
          0,
          0
         ]
        },
        {
         "line": {
          "color": "rgb(255, 53, 26)",
          "width": 2
         },
         "marker": {
          "color": "rgb(255, 53, 26)",
          "size": 2
         },
         "mode": "lines+markers",
         "type": "scatter3d",
         "x": [
          0.8666666666666667,
          null
         ],
         "y": [
          0,
          0
         ],
         "z": [
          0,
          0
         ]
        },
        {
         "line": {
          "color": "rgb(255, 0, 0)",
          "width": 2
         },
         "marker": {
          "color": "rgb(255, 0, 0)",
          "size": 2
         },
         "mode": "lines+markers",
         "type": "scatter3d",
         "x": [
          1,
          null
         ],
         "y": [
          0,
          0
         ],
         "z": [
          0,
          0
         ]
        },
        {
         "line": {
          "color": "rgb(127, 0, 255)",
          "width": 2
         },
         "marker": {
          "color": "rgb(127, 0, 255)",
          "size": 2
         },
         "mode": "lines+markers",
         "type": "scatter3d",
         "x": [
          0,
          null
         ],
         "y": [
          0.06666666666666665,
          0
         ],
         "z": [
          0,
          0
         ]
        },
        {
         "line": {
          "color": "rgb(93, 53, 253)",
          "width": 2
         },
         "marker": {
          "color": "rgb(93, 53, 253)",
          "size": 2
         },
         "mode": "lines+markers",
         "type": "scatter3d",
         "x": [
          0,
          null
         ],
         "y": [
          0.06666666666666665,
          0
         ],
         "z": [
          0,
          0
         ]
        },
        {
         "line": {
          "color": "rgb(59, 103, 249)",
          "width": 2
         },
         "marker": {
          "color": "rgb(59, 103, 249)",
          "size": 2
         },
         "mode": "lines+markers",
         "type": "scatter3d",
         "x": [
          0,
          null
         ],
         "y": [
          0.06666666666666665,
          0
         ],
         "z": [
          0,
          0
         ]
        },
        {
         "line": {
          "color": "rgb(25, 149, 242)",
          "width": 2
         },
         "marker": {
          "color": "rgb(25, 149, 242)",
          "size": 2
         },
         "mode": "lines+markers",
         "type": "scatter3d",
         "x": [
          0,
          null
         ],
         "y": [
          0.06666666666666665,
          0
         ],
         "z": [
          0,
          0
         ]
        },
        {
         "line": {
          "color": "rgb(8, 189, 232)",
          "width": 2
         },
         "marker": {
          "color": "rgb(8, 189, 232)",
          "size": 2
         },
         "mode": "lines+markers",
         "type": "scatter3d",
         "x": [
          0,
          null
         ],
         "y": [
          0.06666666666666665,
          0
         ],
         "z": [
          0,
          0
         ]
        },
        {
         "line": {
          "color": "rgb(42, 220, 220)",
          "width": 2
         },
         "marker": {
          "color": "rgb(42, 220, 220)",
          "size": 2
         },
         "mode": "lines+markers",
         "type": "scatter3d",
         "x": [
          0,
          null
         ],
         "y": [
          0.06666666666666665,
          0
         ],
         "z": [
          0,
          0
         ]
        },
        {
         "line": {
          "color": "rgb(76, 242, 206)",
          "width": 2
         },
         "marker": {
          "color": "rgb(76, 242, 206)",
          "size": 2
         },
         "mode": "lines+markers",
         "type": "scatter3d",
         "x": [
          0,
          null
         ],
         "y": [
          0.06666666666666665,
          0
         ],
         "z": [
          0,
          0
         ]
        },
        {
         "line": {
          "color": "rgb(110, 253, 189)",
          "width": 2
         },
         "marker": {
          "color": "rgb(110, 253, 189)",
          "size": 2
         },
         "mode": "lines+markers",
         "type": "scatter3d",
         "x": [
          0,
          null
         ],
         "y": [
          0.06666666666666665,
          0
         ],
         "z": [
          0,
          0
         ]
        },
        {
         "line": {
          "color": "rgb(144, 253, 170)",
          "width": 2
         },
         "marker": {
          "color": "rgb(144, 253, 170)",
          "size": 2
         },
         "mode": "lines+markers",
         "type": "scatter3d",
         "x": [
          0.06666666666666665,
          0.0741516
         ],
         "y": [
          0.06666666666666665,
          0.0673587
         ],
         "z": [
          0,
          0
         ]
        },
        {
         "line": {
          "color": "rgb(178, 242, 149)",
          "width": 2
         },
         "marker": {
          "color": "rgb(178, 242, 149)",
          "size": 2
         },
         "mode": "lines+markers",
         "type": "scatter3d",
         "x": [
          0.19999999999999996,
          0.227235
         ],
         "y": [
          0.06666666666666665,
          0.0663164
         ],
         "z": [
          0,
          0
         ]
        },
        {
         "line": {
          "color": "rgb(212, 220, 127)",
          "width": 2
         },
         "marker": {
          "color": "rgb(212, 220, 127)",
          "size": 2
         },
         "mode": "lines+markers",
         "type": "scatter3d",
         "x": [
          0.33333333333333326,
          0.3932
         ],
         "y": [
          0.06666666666666665,
          0.067621
         ],
         "z": [
          0,
          0
         ]
        },
        {
         "line": {
          "color": "rgb(246, 189, 103)",
          "width": 2
         },
         "marker": {
          "color": "rgb(246, 189, 103)",
          "size": 2
         },
         "mode": "lines+markers",
         "type": "scatter3d",
         "x": [
          0.46666666666666656,
          0.568205
         ],
         "y": [
          0.06666666666666665,
          0.0659942
         ],
         "z": [
          0,
          0
         ]
        },
        {
         "line": {
          "color": "rgb(255, 149, 78)",
          "width": 2
         },
         "marker": {
          "color": "rgb(255, 149, 78)",
          "size": 2
         },
         "mode": "lines+markers",
         "type": "scatter3d",
         "x": [
          0.6000000000000001,
          0.757878
         ],
         "y": [
          0.06666666666666665,
          0.0659816
         ],
         "z": [
          0,
          0
         ]
        },
        {
         "line": {
          "color": "rgb(255, 103, 53)",
          "width": 2
         },
         "marker": {
          "color": "rgb(255, 103, 53)",
          "size": 2
         },
         "mode": "lines+markers",
         "type": "scatter3d",
         "x": [
          0.7333333333333334,
          0.96327
         ],
         "y": [
          0.06666666666666665,
          0.0659754
         ],
         "z": [
          0,
          0
         ]
        },
        {
         "line": {
          "color": "rgb(255, 53, 26)",
          "width": 2
         },
         "marker": {
          "color": "rgb(255, 53, 26)",
          "size": 2
         },
         "mode": "lines+markers",
         "type": "scatter3d",
         "x": [
          0.8666666666666667,
          1.17576
         ],
         "y": [
          0.06666666666666665,
          0.0676162
         ],
         "z": [
          0,
          0
         ]
        },
        {
         "line": {
          "color": "rgb(255, 0, 0)",
          "width": 2
         },
         "marker": {
          "color": "rgb(255, 0, 0)",
          "size": 2
         },
         "mode": "lines+markers",
         "type": "scatter3d",
         "x": [
          1,
          1.4
         ],
         "y": [
          0.06666666666666665,
          0.0666665
         ],
         "z": [
          0,
          0
         ]
        },
        {
         "line": {
          "color": "rgb(127, 0, 255)",
          "width": 2
         },
         "marker": {
          "color": "rgb(127, 0, 255)",
          "size": 2
         },
         "mode": "lines+markers",
         "type": "scatter3d",
         "x": [
          0,
          null
         ],
         "y": [
          0.19999999999999996,
          0
         ],
         "z": [
          0,
          0
         ]
        },
        {
         "line": {
          "color": "rgb(93, 53, 253)",
          "width": 2
         },
         "marker": {
          "color": "rgb(93, 53, 253)",
          "size": 2
         },
         "mode": "lines+markers",
         "type": "scatter3d",
         "x": [
          0,
          null
         ],
         "y": [
          0.19999999999999996,
          0
         ],
         "z": [
          0,
          0
         ]
        },
        {
         "line": {
          "color": "rgb(59, 103, 249)",
          "width": 2
         },
         "marker": {
          "color": "rgb(59, 103, 249)",
          "size": 2
         },
         "mode": "lines+markers",
         "type": "scatter3d",
         "x": [
          0,
          null
         ],
         "y": [
          0.19999999999999996,
          0
         ],
         "z": [
          0,
          0
         ]
        },
        {
         "line": {
          "color": "rgb(25, 149, 242)",
          "width": 2
         },
         "marker": {
          "color": "rgb(25, 149, 242)",
          "size": 2
         },
         "mode": "lines+markers",
         "type": "scatter3d",
         "x": [
          0,
          null
         ],
         "y": [
          0.19999999999999996,
          0
         ],
         "z": [
          0,
          0
         ]
        },
        {
         "line": {
          "color": "rgb(8, 189, 232)",
          "width": 2
         },
         "marker": {
          "color": "rgb(8, 189, 232)",
          "size": 2
         },
         "mode": "lines+markers",
         "type": "scatter3d",
         "x": [
          0,
          null
         ],
         "y": [
          0.19999999999999996,
          0
         ],
         "z": [
          0,
          0
         ]
        },
        {
         "line": {
          "color": "rgb(42, 220, 220)",
          "width": 2
         },
         "marker": {
          "color": "rgb(42, 220, 220)",
          "size": 2
         },
         "mode": "lines+markers",
         "type": "scatter3d",
         "x": [
          0,
          null
         ],
         "y": [
          0.19999999999999996,
          0
         ],
         "z": [
          0,
          0
         ]
        },
        {
         "line": {
          "color": "rgb(76, 242, 206)",
          "width": 2
         },
         "marker": {
          "color": "rgb(76, 242, 206)",
          "size": 2
         },
         "mode": "lines+markers",
         "type": "scatter3d",
         "x": [
          0,
          null
         ],
         "y": [
          0.19999999999999996,
          0
         ],
         "z": [
          0,
          0
         ]
        },
        {
         "line": {
          "color": "rgb(110, 253, 189)",
          "width": 2
         },
         "marker": {
          "color": "rgb(110, 253, 189)",
          "size": 2
         },
         "mode": "lines+markers",
         "type": "scatter3d",
         "x": [
          0,
          null
         ],
         "y": [
          0.19999999999999996,
          0
         ],
         "z": [
          0,
          0
         ]
        },
        {
         "line": {
          "color": "rgb(144, 253, 170)",
          "width": 2
         },
         "marker": {
          "color": "rgb(144, 253, 170)",
          "size": 2
         },
         "mode": "lines+markers",
         "type": "scatter3d",
         "x": [
          0.06666666666666665,
          0.0773872
         ],
         "y": [
          0.19999999999999996,
          0.198567
         ],
         "z": [
          0,
          0
         ]
        },
        {
         "line": {
          "color": "rgb(178, 242, 149)",
          "width": 2
         },
         "marker": {
          "color": "rgb(178, 242, 149)",
          "size": 2
         },
         "mode": "lines+markers",
         "type": "scatter3d",
         "x": [
          0.19999999999999996,
          0.243036
         ],
         "y": [
          0.19999999999999996,
          0.201356
         ],
         "z": [
          0,
          0
         ]
        },
        {
         "line": {
          "color": "rgb(212, 220, 127)",
          "width": 2
         },
         "marker": {
          "color": "rgb(212, 220, 127)",
          "size": 2
         },
         "mode": "lines+markers",
         "type": "scatter3d",
         "x": [
          0.33333333333333326,
          0.41495
         ],
         "y": [
          0.19999999999999996,
          0.199551
         ],
         "z": [
          0,
          0
         ]
        },
        {
         "line": {
          "color": "rgb(246, 189, 103)",
          "width": 2
         },
         "marker": {
          "color": "rgb(246, 189, 103)",
          "size": 2
         },
         "mode": "lines+markers",
         "type": "scatter3d",
         "x": [
          0.46666666666666656,
          0.594598
         ],
         "y": [
          0.19999999999999996,
          0.200029
         ],
         "z": [
          0,
          0
         ]
        },
        {
         "line": {
          "color": "rgb(255, 149, 78)",
          "width": 2
         },
         "marker": {
          "color": "rgb(255, 149, 78)",
          "size": 2
         },
         "mode": "lines+markers",
         "type": "scatter3d",
         "x": [
          0.6000000000000001,
          0.779118
         ],
         "y": [
          0.19999999999999996,
          0.201731
         ],
         "z": [
          0,
          0
         ]
        },
        {
         "line": {
          "color": "rgb(255, 103, 53)",
          "width": 2
         },
         "marker": {
          "color": "rgb(255, 103, 53)",
          "size": 2
         },
         "mode": "lines+markers",
         "type": "scatter3d",
         "x": [
          0.7333333333333334,
          0.980264
         ],
         "y": [
          0.19999999999999996,
          0.200203
         ],
         "z": [
          0,
          0
         ]
        },
        {
         "line": {
          "color": "rgb(255, 53, 26)",
          "width": 2
         },
         "marker": {
          "color": "rgb(255, 53, 26)",
          "size": 2
         },
         "mode": "lines+markers",
         "type": "scatter3d",
         "x": [
          0.8666666666666667,
          1.18687
         ],
         "y": [
          0.19999999999999996,
          0.199554
         ],
         "z": [
          0,
          0
         ]
        },
        {
         "line": {
          "color": "rgb(255, 0, 0)",
          "width": 2
         },
         "marker": {
          "color": "rgb(255, 0, 0)",
          "size": 2
         },
         "mode": "lines+markers",
         "type": "scatter3d",
         "x": [
          1,
          1.4
         ],
         "y": [
          0.19999999999999996,
          0.2
         ],
         "z": [
          0,
          0
         ]
        },
        {
         "line": {
          "color": "rgb(127, 0, 255)",
          "width": 2
         },
         "marker": {
          "color": "rgb(127, 0, 255)",
          "size": 2
         },
         "mode": "lines+markers",
         "type": "scatter3d",
         "x": [
          0,
          null
         ],
         "y": [
          0.33333333333333326,
          0
         ],
         "z": [
          0,
          0
         ]
        },
        {
         "line": {
          "color": "rgb(93, 53, 253)",
          "width": 2
         },
         "marker": {
          "color": "rgb(93, 53, 253)",
          "size": 2
         },
         "mode": "lines+markers",
         "type": "scatter3d",
         "x": [
          0,
          null
         ],
         "y": [
          0.33333333333333326,
          0
         ],
         "z": [
          0,
          0
         ]
        },
        {
         "line": {
          "color": "rgb(59, 103, 249)",
          "width": 2
         },
         "marker": {
          "color": "rgb(59, 103, 249)",
          "size": 2
         },
         "mode": "lines+markers",
         "type": "scatter3d",
         "x": [
          0,
          null
         ],
         "y": [
          0.33333333333333326,
          0
         ],
         "z": [
          0,
          0
         ]
        },
        {
         "line": {
          "color": "rgb(25, 149, 242)",
          "width": 2
         },
         "marker": {
          "color": "rgb(25, 149, 242)",
          "size": 2
         },
         "mode": "lines+markers",
         "type": "scatter3d",
         "x": [
          0,
          null
         ],
         "y": [
          0.33333333333333326,
          0
         ],
         "z": [
          0,
          0
         ]
        },
        {
         "line": {
          "color": "rgb(8, 189, 232)",
          "width": 2
         },
         "marker": {
          "color": "rgb(8, 189, 232)",
          "size": 2
         },
         "mode": "lines+markers",
         "type": "scatter3d",
         "x": [
          0,
          null
         ],
         "y": [
          0.33333333333333326,
          0
         ],
         "z": [
          0,
          0
         ]
        },
        {
         "line": {
          "color": "rgb(42, 220, 220)",
          "width": 2
         },
         "marker": {
          "color": "rgb(42, 220, 220)",
          "size": 2
         },
         "mode": "lines+markers",
         "type": "scatter3d",
         "x": [
          0,
          null
         ],
         "y": [
          0.33333333333333326,
          0
         ],
         "z": [
          0,
          0
         ]
        },
        {
         "line": {
          "color": "rgb(76, 242, 206)",
          "width": 2
         },
         "marker": {
          "color": "rgb(76, 242, 206)",
          "size": 2
         },
         "mode": "lines+markers",
         "type": "scatter3d",
         "x": [
          0,
          null
         ],
         "y": [
          0.33333333333333326,
          0
         ],
         "z": [
          0,
          0
         ]
        },
        {
         "line": {
          "color": "rgb(110, 253, 189)",
          "width": 2
         },
         "marker": {
          "color": "rgb(110, 253, 189)",
          "size": 2
         },
         "mode": "lines+markers",
         "type": "scatter3d",
         "x": [
          0,
          null
         ],
         "y": [
          0.33333333333333326,
          0
         ],
         "z": [
          0,
          0
         ]
        },
        {
         "line": {
          "color": "rgb(144, 253, 170)",
          "width": 2
         },
         "marker": {
          "color": "rgb(144, 253, 170)",
          "size": 2
         },
         "mode": "lines+markers",
         "type": "scatter3d",
         "x": [
          0.06666666666666665,
          0.0851753
         ],
         "y": [
          0.33333333333333326,
          0.333409
         ],
         "z": [
          0,
          0
         ]
        },
        {
         "line": {
          "color": "rgb(178, 242, 149)",
          "width": 2
         },
         "marker": {
          "color": "rgb(178, 242, 149)",
          "size": 2
         },
         "mode": "lines+markers",
         "type": "scatter3d",
         "x": [
          0.19999999999999996,
          0.249987
         ],
         "y": [
          0.33333333333333326,
          0.331007
         ],
         "z": [
          0,
          0
         ]
        },
        {
         "line": {
          "color": "rgb(212, 220, 127)",
          "width": 2
         },
         "marker": {
          "color": "rgb(212, 220, 127)",
          "size": 2
         },
         "mode": "lines+markers",
         "type": "scatter3d",
         "x": [
          0.33333333333333326,
          0.425731
         ],
         "y": [
          0.33333333333333326,
          0.333812
         ],
         "z": [
          0,
          0
         ]
        },
        {
         "line": {
          "color": "rgb(246, 189, 103)",
          "width": 2
         },
         "marker": {
          "color": "rgb(246, 189, 103)",
          "size": 2
         },
         "mode": "lines+markers",
         "type": "scatter3d",
         "x": [
          0.46666666666666656,
          0.609418
         ],
         "y": [
          0.33333333333333326,
          0.335452
         ],
         "z": [
          0,
          0
         ]
        },
        {
         "line": {
          "color": "rgb(255, 149, 78)",
          "width": 2
         },
         "marker": {
          "color": "rgb(255, 149, 78)",
          "size": 2
         },
         "mode": "lines+markers",
         "type": "scatter3d",
         "x": [
          0.6000000000000001,
          0.791609
         ],
         "y": [
          0.33333333333333326,
          0.333371
         ],
         "z": [
          0,
          0
         ]
        },
        {
         "line": {
          "color": "rgb(255, 103, 53)",
          "width": 2
         },
         "marker": {
          "color": "rgb(255, 103, 53)",
          "size": 2
         },
         "mode": "lines+markers",
         "type": "scatter3d",
         "x": [
          0.7333333333333334,
          0.992739
         ],
         "y": [
          0.33333333333333326,
          0.334059
         ],
         "z": [
          0,
          0
         ]
        },
        {
         "line": {
          "color": "rgb(255, 53, 26)",
          "width": 2
         },
         "marker": {
          "color": "rgb(255, 53, 26)",
          "size": 2
         },
         "mode": "lines+markers",
         "type": "scatter3d",
         "x": [
          0.8666666666666667,
          1.19364
         ],
         "y": [
          0.33333333333333326,
          0.33291
         ],
         "z": [
          0,
          0
         ]
        },
        {
         "line": {
          "color": "rgb(255, 0, 0)",
          "width": 2
         },
         "marker": {
          "color": "rgb(255, 0, 0)",
          "size": 2
         },
         "mode": "lines+markers",
         "type": "scatter3d",
         "x": [
          1,
          1.4
         ],
         "y": [
          0.33333333333333326,
          0.333333
         ],
         "z": [
          0,
          0
         ]
        },
        {
         "line": {
          "color": "rgb(127, 0, 255)",
          "width": 2
         },
         "marker": {
          "color": "rgb(127, 0, 255)",
          "size": 2
         },
         "mode": "lines+markers",
         "type": "scatter3d",
         "x": [
          0,
          null
         ],
         "y": [
          0.46666666666666656,
          0
         ],
         "z": [
          0,
          0
         ]
        },
        {
         "line": {
          "color": "rgb(93, 53, 253)",
          "width": 2
         },
         "marker": {
          "color": "rgb(93, 53, 253)",
          "size": 2
         },
         "mode": "lines+markers",
         "type": "scatter3d",
         "x": [
          0,
          null
         ],
         "y": [
          0.46666666666666656,
          0
         ],
         "z": [
          0,
          0
         ]
        },
        {
         "line": {
          "color": "rgb(59, 103, 249)",
          "width": 2
         },
         "marker": {
          "color": "rgb(59, 103, 249)",
          "size": 2
         },
         "mode": "lines+markers",
         "type": "scatter3d",
         "x": [
          0,
          null
         ],
         "y": [
          0.46666666666666656,
          0
         ],
         "z": [
          0,
          0
         ]
        },
        {
         "line": {
          "color": "rgb(25, 149, 242)",
          "width": 2
         },
         "marker": {
          "color": "rgb(25, 149, 242)",
          "size": 2
         },
         "mode": "lines+markers",
         "type": "scatter3d",
         "x": [
          0,
          null
         ],
         "y": [
          0.46666666666666656,
          0
         ],
         "z": [
          0,
          0
         ]
        },
        {
         "line": {
          "color": "rgb(8, 189, 232)",
          "width": 2
         },
         "marker": {
          "color": "rgb(8, 189, 232)",
          "size": 2
         },
         "mode": "lines+markers",
         "type": "scatter3d",
         "x": [
          0,
          null
         ],
         "y": [
          0.46666666666666656,
          0
         ],
         "z": [
          0,
          0
         ]
        },
        {
         "line": {
          "color": "rgb(42, 220, 220)",
          "width": 2
         },
         "marker": {
          "color": "rgb(42, 220, 220)",
          "size": 2
         },
         "mode": "lines+markers",
         "type": "scatter3d",
         "x": [
          0,
          null
         ],
         "y": [
          0.46666666666666656,
          0
         ],
         "z": [
          0,
          0
         ]
        },
        {
         "line": {
          "color": "rgb(76, 242, 206)",
          "width": 2
         },
         "marker": {
          "color": "rgb(76, 242, 206)",
          "size": 2
         },
         "mode": "lines+markers",
         "type": "scatter3d",
         "x": [
          0,
          null
         ],
         "y": [
          0.46666666666666656,
          0
         ],
         "z": [
          0,
          0
         ]
        },
        {
         "line": {
          "color": "rgb(110, 253, 189)",
          "width": 2
         },
         "marker": {
          "color": "rgb(110, 253, 189)",
          "size": 2
         },
         "mode": "lines+markers",
         "type": "scatter3d",
         "x": [
          0,
          null
         ],
         "y": [
          0.46666666666666656,
          0
         ],
         "z": [
          0,
          0
         ]
        },
        {
         "line": {
          "color": "rgb(144, 253, 170)",
          "width": 2
         },
         "marker": {
          "color": "rgb(144, 253, 170)",
          "size": 2
         },
         "mode": "lines+markers",
         "type": "scatter3d",
         "x": [
          0.06666666666666665,
          0.0852152
         ],
         "y": [
          0.46666666666666656,
          0.465485
         ],
         "z": [
          0,
          0
         ]
        },
        {
         "line": {
          "color": "rgb(178, 242, 149)",
          "width": 2
         },
         "marker": {
          "color": "rgb(178, 242, 149)",
          "size": 2
         },
         "mode": "lines+markers",
         "type": "scatter3d",
         "x": [
          0.19999999999999996,
          0.257294
         ],
         "y": [
          0.46666666666666656,
          0.463848
         ],
         "z": [
          0,
          0
         ]
        },
        {
         "line": {
          "color": "rgb(212, 220, 127)",
          "width": 2
         },
         "marker": {
          "color": "rgb(212, 220, 127)",
          "size": 2
         },
         "mode": "lines+markers",
         "type": "scatter3d",
         "x": [
          0.33333333333333326,
          0.435097
         ],
         "y": [
          0.46666666666666656,
          0.466125
         ],
         "z": [
          0,
          0
         ]
        },
        {
         "line": {
          "color": "rgb(246, 189, 103)",
          "width": 2
         },
         "marker": {
          "color": "rgb(246, 189, 103)",
          "size": 2
         },
         "mode": "lines+markers",
         "type": "scatter3d",
         "x": [
          0.46666666666666656,
          0.611657
         ],
         "y": [
          0.46666666666666656,
          0.465998
         ],
         "z": [
          0,
          0
         ]
        },
        {
         "line": {
          "color": "rgb(255, 149, 78)",
          "width": 2
         },
         "marker": {
          "color": "rgb(255, 149, 78)",
          "size": 2
         },
         "mode": "lines+markers",
         "type": "scatter3d",
         "x": [
          0.6000000000000001,
          0.802236
         ],
         "y": [
          0.46666666666666656,
          0.467917
         ],
         "z": [
          0,
          0
         ]
        },
        {
         "line": {
          "color": "rgb(255, 103, 53)",
          "width": 2
         },
         "marker": {
          "color": "rgb(255, 103, 53)",
          "size": 2
         },
         "mode": "lines+markers",
         "type": "scatter3d",
         "x": [
          0.7333333333333334,
          0.996909
         ],
         "y": [
          0.46666666666666656,
          0.464906
         ],
         "z": [
          0,
          0
         ]
        },
        {
         "line": {
          "color": "rgb(255, 53, 26)",
          "width": 2
         },
         "marker": {
          "color": "rgb(255, 53, 26)",
          "size": 2
         },
         "mode": "lines+markers",
         "type": "scatter3d",
         "x": [
          0.8666666666666667,
          1.19442
         ],
         "y": [
          0.46666666666666656,
          0.467646
         ],
         "z": [
          0,
          0
         ]
        },
        {
         "line": {
          "color": "rgb(255, 0, 0)",
          "width": 2
         },
         "marker": {
          "color": "rgb(255, 0, 0)",
          "size": 2
         },
         "mode": "lines+markers",
         "type": "scatter3d",
         "x": [
          1,
          1.4
         ],
         "y": [
          0.46666666666666656,
          0.466667
         ],
         "z": [
          0,
          0
         ]
        },
        {
         "line": {
          "color": "rgb(127, 0, 255)",
          "width": 2
         },
         "marker": {
          "color": "rgb(127, 0, 255)",
          "size": 2
         },
         "mode": "lines+markers",
         "type": "scatter3d",
         "x": [
          0,
          null
         ],
         "y": [
          0.6000000000000001,
          0
         ],
         "z": [
          0,
          0
         ]
        },
        {
         "line": {
          "color": "rgb(93, 53, 253)",
          "width": 2
         },
         "marker": {
          "color": "rgb(93, 53, 253)",
          "size": 2
         },
         "mode": "lines+markers",
         "type": "scatter3d",
         "x": [
          0,
          null
         ],
         "y": [
          0.6000000000000001,
          0
         ],
         "z": [
          0,
          0
         ]
        },
        {
         "line": {
          "color": "rgb(59, 103, 249)",
          "width": 2
         },
         "marker": {
          "color": "rgb(59, 103, 249)",
          "size": 2
         },
         "mode": "lines+markers",
         "type": "scatter3d",
         "x": [
          0,
          null
         ],
         "y": [
          0.6000000000000001,
          0
         ],
         "z": [
          0,
          0
         ]
        },
        {
         "line": {
          "color": "rgb(25, 149, 242)",
          "width": 2
         },
         "marker": {
          "color": "rgb(25, 149, 242)",
          "size": 2
         },
         "mode": "lines+markers",
         "type": "scatter3d",
         "x": [
          0,
          null
         ],
         "y": [
          0.6000000000000001,
          0
         ],
         "z": [
          0,
          0
         ]
        },
        {
         "line": {
          "color": "rgb(8, 189, 232)",
          "width": 2
         },
         "marker": {
          "color": "rgb(8, 189, 232)",
          "size": 2
         },
         "mode": "lines+markers",
         "type": "scatter3d",
         "x": [
          0,
          null
         ],
         "y": [
          0.6000000000000001,
          0
         ],
         "z": [
          0,
          0
         ]
        },
        {
         "line": {
          "color": "rgb(42, 220, 220)",
          "width": 2
         },
         "marker": {
          "color": "rgb(42, 220, 220)",
          "size": 2
         },
         "mode": "lines+markers",
         "type": "scatter3d",
         "x": [
          0,
          null
         ],
         "y": [
          0.6000000000000001,
          0
         ],
         "z": [
          0,
          0
         ]
        },
        {
         "line": {
          "color": "rgb(76, 242, 206)",
          "width": 2
         },
         "marker": {
          "color": "rgb(76, 242, 206)",
          "size": 2
         },
         "mode": "lines+markers",
         "type": "scatter3d",
         "x": [
          0,
          null
         ],
         "y": [
          0.6000000000000001,
          0
         ],
         "z": [
          0,
          0
         ]
        },
        {
         "line": {
          "color": "rgb(110, 253, 189)",
          "width": 2
         },
         "marker": {
          "color": "rgb(110, 253, 189)",
          "size": 2
         },
         "mode": "lines+markers",
         "type": "scatter3d",
         "x": [
          0,
          null
         ],
         "y": [
          0.6000000000000001,
          0
         ],
         "z": [
          0,
          0
         ]
        },
        {
         "line": {
          "color": "rgb(144, 253, 170)",
          "width": 2
         },
         "marker": {
          "color": "rgb(144, 253, 170)",
          "size": 2
         },
         "mode": "lines+markers",
         "type": "scatter3d",
         "x": [
          0.06666666666666665,
          0.0846193
         ],
         "y": [
          0.6000000000000001,
          0.600822
         ],
         "z": [
          0,
          0
         ]
        },
        {
         "line": {
          "color": "rgb(178, 242, 149)",
          "width": 2
         },
         "marker": {
          "color": "rgb(178, 242, 149)",
          "size": 2
         },
         "mode": "lines+markers",
         "type": "scatter3d",
         "x": [
          0.19999999999999996,
          0.254068
         ],
         "y": [
          0.6000000000000001,
          0.603311
         ],
         "z": [
          0,
          0
         ]
        },
        {
         "line": {
          "color": "rgb(212, 220, 127)",
          "width": 2
         },
         "marker": {
          "color": "rgb(212, 220, 127)",
          "size": 2
         },
         "mode": "lines+markers",
         "type": "scatter3d",
         "x": [
          0.33333333333333326,
          0.428198
         ],
         "y": [
          0.6000000000000001,
          0.600923
         ],
         "z": [
          0,
          0
         ]
        },
        {
         "line": {
          "color": "rgb(246, 189, 103)",
          "width": 2
         },
         "marker": {
          "color": "rgb(246, 189, 103)",
          "size": 2
         },
         "mode": "lines+markers",
         "type": "scatter3d",
         "x": [
          0.46666666666666656,
          0.606506
         ],
         "y": [
          0.6000000000000001,
          0.600435
         ],
         "z": [
          0,
          0
         ]
        },
        {
         "line": {
          "color": "rgb(255, 149, 78)",
          "width": 2
         },
         "marker": {
          "color": "rgb(255, 149, 78)",
          "size": 2
         },
         "mode": "lines+markers",
         "type": "scatter3d",
         "x": [
          0.6000000000000001,
          0.799349
         ],
         "y": [
          0.6000000000000001,
          0.601619
         ],
         "z": [
          0,
          0
         ]
        },
        {
         "line": {
          "color": "rgb(255, 103, 53)",
          "width": 2
         },
         "marker": {
          "color": "rgb(255, 103, 53)",
          "size": 2
         },
         "mode": "lines+markers",
         "type": "scatter3d",
         "x": [
          0.7333333333333334,
          0.993658
         ],
         "y": [
          0.6000000000000001,
          0.599137
         ],
         "z": [
          0,
          0
         ]
        },
        {
         "line": {
          "color": "rgb(255, 53, 26)",
          "width": 2
         },
         "marker": {
          "color": "rgb(255, 53, 26)",
          "size": 2
         },
         "mode": "lines+markers",
         "type": "scatter3d",
         "x": [
          0.8666666666666667,
          1.19513
         ],
         "y": [
          0.6000000000000001,
          0.598916
         ],
         "z": [
          0,
          0
         ]
        },
        {
         "line": {
          "color": "rgb(255, 0, 0)",
          "width": 2
         },
         "marker": {
          "color": "rgb(255, 0, 0)",
          "size": 2
         },
         "mode": "lines+markers",
         "type": "scatter3d",
         "x": [
          1,
          1.4
         ],
         "y": [
          0.6000000000000001,
          0.6
         ],
         "z": [
          0,
          0
         ]
        },
        {
         "line": {
          "color": "rgb(127, 0, 255)",
          "width": 2
         },
         "marker": {
          "color": "rgb(127, 0, 255)",
          "size": 2
         },
         "mode": "lines+markers",
         "type": "scatter3d",
         "x": [
          0,
          null
         ],
         "y": [
          0.7333333333333334,
          0
         ],
         "z": [
          0,
          0
         ]
        },
        {
         "line": {
          "color": "rgb(93, 53, 253)",
          "width": 2
         },
         "marker": {
          "color": "rgb(93, 53, 253)",
          "size": 2
         },
         "mode": "lines+markers",
         "type": "scatter3d",
         "x": [
          0,
          null
         ],
         "y": [
          0.7333333333333334,
          0
         ],
         "z": [
          0,
          0
         ]
        },
        {
         "line": {
          "color": "rgb(59, 103, 249)",
          "width": 2
         },
         "marker": {
          "color": "rgb(59, 103, 249)",
          "size": 2
         },
         "mode": "lines+markers",
         "type": "scatter3d",
         "x": [
          0,
          null
         ],
         "y": [
          0.7333333333333334,
          0
         ],
         "z": [
          0,
          0
         ]
        },
        {
         "line": {
          "color": "rgb(25, 149, 242)",
          "width": 2
         },
         "marker": {
          "color": "rgb(25, 149, 242)",
          "size": 2
         },
         "mode": "lines+markers",
         "type": "scatter3d",
         "x": [
          0,
          null
         ],
         "y": [
          0.7333333333333334,
          0
         ],
         "z": [
          0,
          0
         ]
        },
        {
         "line": {
          "color": "rgb(8, 189, 232)",
          "width": 2
         },
         "marker": {
          "color": "rgb(8, 189, 232)",
          "size": 2
         },
         "mode": "lines+markers",
         "type": "scatter3d",
         "x": [
          0,
          null
         ],
         "y": [
          0.7333333333333334,
          0
         ],
         "z": [
          0,
          0
         ]
        },
        {
         "line": {
          "color": "rgb(42, 220, 220)",
          "width": 2
         },
         "marker": {
          "color": "rgb(42, 220, 220)",
          "size": 2
         },
         "mode": "lines+markers",
         "type": "scatter3d",
         "x": [
          0,
          null
         ],
         "y": [
          0.7333333333333334,
          0
         ],
         "z": [
          0,
          0
         ]
        },
        {
         "line": {
          "color": "rgb(76, 242, 206)",
          "width": 2
         },
         "marker": {
          "color": "rgb(76, 242, 206)",
          "size": 2
         },
         "mode": "lines+markers",
         "type": "scatter3d",
         "x": [
          0,
          null
         ],
         "y": [
          0.7333333333333334,
          0
         ],
         "z": [
          0,
          0
         ]
        },
        {
         "line": {
          "color": "rgb(110, 253, 189)",
          "width": 2
         },
         "marker": {
          "color": "rgb(110, 253, 189)",
          "size": 2
         },
         "mode": "lines+markers",
         "type": "scatter3d",
         "x": [
          0,
          null
         ],
         "y": [
          0.7333333333333334,
          0
         ],
         "z": [
          0,
          0
         ]
        },
        {
         "line": {
          "color": "rgb(144, 253, 170)",
          "width": 2
         },
         "marker": {
          "color": "rgb(144, 253, 170)",
          "size": 2
         },
         "mode": "lines+markers",
         "type": "scatter3d",
         "x": [
          0.06666666666666665,
          0.0809387
         ],
         "y": [
          0.7333333333333334,
          0.732774
         ],
         "z": [
          0,
          0
         ]
        },
        {
         "line": {
          "color": "rgb(178, 242, 149)",
          "width": 2
         },
         "marker": {
          "color": "rgb(178, 242, 149)",
          "size": 2
         },
         "mode": "lines+markers",
         "type": "scatter3d",
         "x": [
          0.19999999999999996,
          0.248143
         ],
         "y": [
          0.7333333333333334,
          0.734412
         ],
         "z": [
          0,
          0
         ]
        },
        {
         "line": {
          "color": "rgb(212, 220, 127)",
          "width": 2
         },
         "marker": {
          "color": "rgb(212, 220, 127)",
          "size": 2
         },
         "mode": "lines+markers",
         "type": "scatter3d",
         "x": [
          0.33333333333333326,
          0.422568
         ],
         "y": [
          0.7333333333333334,
          0.730949
         ],
         "z": [
          0,
          0
         ]
        },
        {
         "line": {
          "color": "rgb(246, 189, 103)",
          "width": 2
         },
         "marker": {
          "color": "rgb(246, 189, 103)",
          "size": 2
         },
         "mode": "lines+markers",
         "type": "scatter3d",
         "x": [
          0.46666666666666656,
          0.603588
         ],
         "y": [
          0.7333333333333334,
          0.734299
         ],
         "z": [
          0,
          0
         ]
        },
        {
         "line": {
          "color": "rgb(255, 149, 78)",
          "width": 2
         },
         "marker": {
          "color": "rgb(255, 149, 78)",
          "size": 2
         },
         "mode": "lines+markers",
         "type": "scatter3d",
         "x": [
          0.6000000000000001,
          0.789047
         ],
         "y": [
          0.7333333333333334,
          0.732913
         ],
         "z": [
          0,
          0
         ]
        },
        {
         "line": {
          "color": "rgb(255, 103, 53)",
          "width": 2
         },
         "marker": {
          "color": "rgb(255, 103, 53)",
          "size": 2
         },
         "mode": "lines+markers",
         "type": "scatter3d",
         "x": [
          0.7333333333333334,
          0.98873
         ],
         "y": [
          0.7333333333333334,
          0.732886
         ],
         "z": [
          0,
          0
         ]
        },
        {
         "line": {
          "color": "rgb(255, 53, 26)",
          "width": 2
         },
         "marker": {
          "color": "rgb(255, 53, 26)",
          "size": 2
         },
         "mode": "lines+markers",
         "type": "scatter3d",
         "x": [
          0.8666666666666667,
          1.19172
         ],
         "y": [
          0.7333333333333334,
          0.732579
         ],
         "z": [
          0,
          0
         ]
        },
        {
         "line": {
          "color": "rgb(255, 0, 0)",
          "width": 2
         },
         "marker": {
          "color": "rgb(255, 0, 0)",
          "size": 2
         },
         "mode": "lines+markers",
         "type": "scatter3d",
         "x": [
          1,
          1.4
         ],
         "y": [
          0.7333333333333334,
          0.733333
         ],
         "z": [
          0,
          0
         ]
        },
        {
         "line": {
          "color": "rgb(127, 0, 255)",
          "width": 2
         },
         "marker": {
          "color": "rgb(127, 0, 255)",
          "size": 2
         },
         "mode": "lines+markers",
         "type": "scatter3d",
         "x": [
          0,
          null
         ],
         "y": [
          0.8666666666666667,
          0
         ],
         "z": [
          0,
          0
         ]
        },
        {
         "line": {
          "color": "rgb(93, 53, 253)",
          "width": 2
         },
         "marker": {
          "color": "rgb(93, 53, 253)",
          "size": 2
         },
         "mode": "lines+markers",
         "type": "scatter3d",
         "x": [
          0,
          null
         ],
         "y": [
          0.8666666666666667,
          0
         ],
         "z": [
          0,
          0
         ]
        },
        {
         "line": {
          "color": "rgb(59, 103, 249)",
          "width": 2
         },
         "marker": {
          "color": "rgb(59, 103, 249)",
          "size": 2
         },
         "mode": "lines+markers",
         "type": "scatter3d",
         "x": [
          0,
          null
         ],
         "y": [
          0.8666666666666667,
          0
         ],
         "z": [
          0,
          0
         ]
        },
        {
         "line": {
          "color": "rgb(25, 149, 242)",
          "width": 2
         },
         "marker": {
          "color": "rgb(25, 149, 242)",
          "size": 2
         },
         "mode": "lines+markers",
         "type": "scatter3d",
         "x": [
          0,
          null
         ],
         "y": [
          0.8666666666666667,
          0
         ],
         "z": [
          0,
          0
         ]
        },
        {
         "line": {
          "color": "rgb(8, 189, 232)",
          "width": 2
         },
         "marker": {
          "color": "rgb(8, 189, 232)",
          "size": 2
         },
         "mode": "lines+markers",
         "type": "scatter3d",
         "x": [
          0,
          null
         ],
         "y": [
          0.8666666666666667,
          0
         ],
         "z": [
          0,
          0
         ]
        },
        {
         "line": {
          "color": "rgb(42, 220, 220)",
          "width": 2
         },
         "marker": {
          "color": "rgb(42, 220, 220)",
          "size": 2
         },
         "mode": "lines+markers",
         "type": "scatter3d",
         "x": [
          0,
          null
         ],
         "y": [
          0.8666666666666667,
          0
         ],
         "z": [
          0,
          0
         ]
        },
        {
         "line": {
          "color": "rgb(76, 242, 206)",
          "width": 2
         },
         "marker": {
          "color": "rgb(76, 242, 206)",
          "size": 2
         },
         "mode": "lines+markers",
         "type": "scatter3d",
         "x": [
          0,
          null
         ],
         "y": [
          0.8666666666666667,
          0
         ],
         "z": [
          0,
          0
         ]
        },
        {
         "line": {
          "color": "rgb(110, 253, 189)",
          "width": 2
         },
         "marker": {
          "color": "rgb(110, 253, 189)",
          "size": 2
         },
         "mode": "lines+markers",
         "type": "scatter3d",
         "x": [
          0,
          null
         ],
         "y": [
          0.8666666666666667,
          0
         ],
         "z": [
          0,
          0
         ]
        },
        {
         "line": {
          "color": "rgb(144, 253, 170)",
          "width": 2
         },
         "marker": {
          "color": "rgb(144, 253, 170)",
          "size": 2
         },
         "mode": "lines+markers",
         "type": "scatter3d",
         "x": [
          0.06666666666666665,
          0.0783744
         ],
         "y": [
          0.8666666666666667,
          0.867034
         ],
         "z": [
          0,
          0
         ]
        },
        {
         "line": {
          "color": "rgb(178, 242, 149)",
          "width": 2
         },
         "marker": {
          "color": "rgb(178, 242, 149)",
          "size": 2
         },
         "mode": "lines+markers",
         "type": "scatter3d",
         "x": [
          0.19999999999999996,
          0.23842
         ],
         "y": [
          0.8666666666666667,
          0.866755
         ],
         "z": [
          0,
          0
         ]
        },
        {
         "line": {
          "color": "rgb(212, 220, 127)",
          "width": 2
         },
         "marker": {
          "color": "rgb(212, 220, 127)",
          "size": 2
         },
         "mode": "lines+markers",
         "type": "scatter3d",
         "x": [
          0.33333333333333326,
          0.403472
         ],
         "y": [
          0.8666666666666667,
          0.868114
         ],
         "z": [
          0,
          0
         ]
        },
        {
         "line": {
          "color": "rgb(246, 189, 103)",
          "width": 2
         },
         "marker": {
          "color": "rgb(246, 189, 103)",
          "size": 2
         },
         "mode": "lines+markers",
         "type": "scatter3d",
         "x": [
          0.46666666666666656,
          0.587077
         ],
         "y": [
          0.8666666666666667,
          0.863894
         ],
         "z": [
          0,
          0
         ]
        },
        {
         "line": {
          "color": "rgb(255, 149, 78)",
          "width": 2
         },
         "marker": {
          "color": "rgb(255, 149, 78)",
          "size": 2
         },
         "mode": "lines+markers",
         "type": "scatter3d",
         "x": [
          0.6000000000000001,
          0.772752
         ],
         "y": [
          0.8666666666666667,
          0.867898
         ],
         "z": [
          0,
          0
         ]
        },
        {
         "line": {
          "color": "rgb(255, 103, 53)",
          "width": 2
         },
         "marker": {
          "color": "rgb(255, 103, 53)",
          "size": 2
         },
         "mode": "lines+markers",
         "type": "scatter3d",
         "x": [
          0.7333333333333334,
          0.970954
         ],
         "y": [
          0.8666666666666667,
          0.866155
         ],
         "z": [
          0,
          0
         ]
        },
        {
         "line": {
          "color": "rgb(255, 53, 26)",
          "width": 2
         },
         "marker": {
          "color": "rgb(255, 53, 26)",
          "size": 2
         },
         "mode": "lines+markers",
         "type": "scatter3d",
         "x": [
          0.8666666666666667,
          1.18306
         ],
         "y": [
          0.8666666666666667,
          0.866024
         ],
         "z": [
          0,
          0
         ]
        },
        {
         "line": {
          "color": "rgb(255, 0, 0)",
          "width": 2
         },
         "marker": {
          "color": "rgb(255, 0, 0)",
          "size": 2
         },
         "mode": "lines+markers",
         "type": "scatter3d",
         "x": [
          1,
          1.4
         ],
         "y": [
          0.8666666666666667,
          0.866667
         ],
         "z": [
          0,
          0
         ]
        },
        {
         "line": {
          "color": "rgb(127, 0, 255)",
          "width": 2
         },
         "marker": {
          "color": "rgb(127, 0, 255)",
          "size": 2
         },
         "mode": "lines+markers",
         "type": "scatter3d",
         "x": [
          0,
          null
         ],
         "y": [
          1,
          0
         ],
         "z": [
          0,
          0
         ]
        },
        {
         "line": {
          "color": "rgb(93, 53, 253)",
          "width": 2
         },
         "marker": {
          "color": "rgb(93, 53, 253)",
          "size": 2
         },
         "mode": "lines+markers",
         "type": "scatter3d",
         "x": [
          0,
          null
         ],
         "y": [
          1,
          0
         ],
         "z": [
          0,
          0
         ]
        },
        {
         "line": {
          "color": "rgb(59, 103, 249)",
          "width": 2
         },
         "marker": {
          "color": "rgb(59, 103, 249)",
          "size": 2
         },
         "mode": "lines+markers",
         "type": "scatter3d",
         "x": [
          0,
          null
         ],
         "y": [
          1,
          0
         ],
         "z": [
          0,
          0
         ]
        },
        {
         "line": {
          "color": "rgb(25, 149, 242)",
          "width": 2
         },
         "marker": {
          "color": "rgb(25, 149, 242)",
          "size": 2
         },
         "mode": "lines+markers",
         "type": "scatter3d",
         "x": [
          0,
          null
         ],
         "y": [
          1,
          0
         ],
         "z": [
          0,
          0
         ]
        },
        {
         "line": {
          "color": "rgb(8, 189, 232)",
          "width": 2
         },
         "marker": {
          "color": "rgb(8, 189, 232)",
          "size": 2
         },
         "mode": "lines+markers",
         "type": "scatter3d",
         "x": [
          0,
          null
         ],
         "y": [
          1,
          0
         ],
         "z": [
          0,
          0
         ]
        },
        {
         "line": {
          "color": "rgb(42, 220, 220)",
          "width": 2
         },
         "marker": {
          "color": "rgb(42, 220, 220)",
          "size": 2
         },
         "mode": "lines+markers",
         "type": "scatter3d",
         "x": [
          0,
          null
         ],
         "y": [
          1,
          0
         ],
         "z": [
          0,
          0
         ]
        },
        {
         "line": {
          "color": "rgb(76, 242, 206)",
          "width": 2
         },
         "marker": {
          "color": "rgb(76, 242, 206)",
          "size": 2
         },
         "mode": "lines+markers",
         "type": "scatter3d",
         "x": [
          0,
          null
         ],
         "y": [
          1,
          0
         ],
         "z": [
          0,
          0
         ]
        },
        {
         "line": {
          "color": "rgb(110, 253, 189)",
          "width": 2
         },
         "marker": {
          "color": "rgb(110, 253, 189)",
          "size": 2
         },
         "mode": "lines+markers",
         "type": "scatter3d",
         "x": [
          0,
          null
         ],
         "y": [
          1,
          0
         ],
         "z": [
          0,
          0
         ]
        },
        {
         "line": {
          "color": "rgb(144, 253, 170)",
          "width": 2
         },
         "marker": {
          "color": "rgb(144, 253, 170)",
          "size": 2
         },
         "mode": "lines+markers",
         "type": "scatter3d",
         "x": [
          0.06666666666666665,
          0.0684446
         ],
         "y": [
          1,
          1
         ],
         "z": [
          0,
          0
         ]
        },
        {
         "line": {
          "color": "rgb(178, 242, 149)",
          "width": 2
         },
         "marker": {
          "color": "rgb(178, 242, 149)",
          "size": 2
         },
         "mode": "lines+markers",
         "type": "scatter3d",
         "x": [
          0.19999999999999996,
          0.216
         ],
         "y": [
          1,
          1
         ],
         "z": [
          0,
          0
         ]
        },
        {
         "line": {
          "color": "rgb(212, 220, 127)",
          "width": 2
         },
         "marker": {
          "color": "rgb(212, 220, 127)",
          "size": 2
         },
         "mode": "lines+markers",
         "type": "scatter3d",
         "x": [
          0.33333333333333326,
          0.377778
         ],
         "y": [
          1,
          1
         ],
         "z": [
          0,
          0
         ]
        },
        {
         "line": {
          "color": "rgb(246, 189, 103)",
          "width": 2
         },
         "marker": {
          "color": "rgb(246, 189, 103)",
          "size": 2
         },
         "mode": "lines+markers",
         "type": "scatter3d",
         "x": [
          0.46666666666666656,
          0.553778
         ],
         "y": [
          1,
          1
         ],
         "z": [
          0,
          0
         ]
        },
        {
         "line": {
          "color": "rgb(255, 149, 78)",
          "width": 2
         },
         "marker": {
          "color": "rgb(255, 149, 78)",
          "size": 2
         },
         "mode": "lines+markers",
         "type": "scatter3d",
         "x": [
          0.6000000000000001,
          0.744
         ],
         "y": [
          1,
          1
         ],
         "z": [
          0,
          0
         ]
        },
        {
         "line": {
          "color": "rgb(255, 103, 53)",
          "width": 2
         },
         "marker": {
          "color": "rgb(255, 103, 53)",
          "size": 2
         },
         "mode": "lines+markers",
         "type": "scatter3d",
         "x": [
          0.7333333333333334,
          0.948444
         ],
         "y": [
          1,
          1
         ],
         "z": [
          0,
          0
         ]
        },
        {
         "line": {
          "color": "rgb(255, 53, 26)",
          "width": 2
         },
         "marker": {
          "color": "rgb(255, 53, 26)",
          "size": 2
         },
         "mode": "lines+markers",
         "type": "scatter3d",
         "x": [
          0.8666666666666667,
          1.16711
         ],
         "y": [
          1,
          1
         ],
         "z": [
          0,
          0
         ]
        },
        {
         "line": {
          "color": "rgb(255, 0, 0)",
          "width": 2
         },
         "marker": {
          "color": "rgb(255, 0, 0)",
          "size": 2
         },
         "mode": "lines+markers",
         "type": "scatter3d",
         "x": [
          1,
          null
         ],
         "y": [
          1,
          0
         ],
         "z": [
          0,
          0
         ]
        }
       ],
       "layout": {
        "scene": {
         "aspectmode": "cube",
         "xaxis": {
          "title": {
           "text": "X"
          }
         },
         "yaxis": {
          "title": {
           "text": "Y"
          }
         },
         "zaxis": {
          "title": {
           "text": "Z"
          }
         }
        },
        "template": {
         "data": {
          "bar": [
           {
            "error_x": {
             "color": "#2a3f5f"
            },
            "error_y": {
             "color": "#2a3f5f"
            },
            "marker": {
             "line": {
              "color": "#E5ECF6",
              "width": 0.5
             },
             "pattern": {
              "fillmode": "overlay",
              "size": 10,
              "solidity": 0.2
             }
            },
            "type": "bar"
           }
          ],
          "barpolar": [
           {
            "marker": {
             "line": {
              "color": "#E5ECF6",
              "width": 0.5
             },
             "pattern": {
              "fillmode": "overlay",
              "size": 10,
              "solidity": 0.2
             }
            },
            "type": "barpolar"
           }
          ],
          "carpet": [
           {
            "aaxis": {
             "endlinecolor": "#2a3f5f",
             "gridcolor": "white",
             "linecolor": "white",
             "minorgridcolor": "white",
             "startlinecolor": "#2a3f5f"
            },
            "baxis": {
             "endlinecolor": "#2a3f5f",
             "gridcolor": "white",
             "linecolor": "white",
             "minorgridcolor": "white",
             "startlinecolor": "#2a3f5f"
            },
            "type": "carpet"
           }
          ],
          "choropleth": [
           {
            "colorbar": {
             "outlinewidth": 0,
             "ticks": ""
            },
            "type": "choropleth"
           }
          ],
          "contour": [
           {
            "colorbar": {
             "outlinewidth": 0,
             "ticks": ""
            },
            "colorscale": [
             [
              0,
              "#0d0887"
             ],
             [
              0.1111111111111111,
              "#46039f"
             ],
             [
              0.2222222222222222,
              "#7201a8"
             ],
             [
              0.3333333333333333,
              "#9c179e"
             ],
             [
              0.4444444444444444,
              "#bd3786"
             ],
             [
              0.5555555555555556,
              "#d8576b"
             ],
             [
              0.6666666666666666,
              "#ed7953"
             ],
             [
              0.7777777777777778,
              "#fb9f3a"
             ],
             [
              0.8888888888888888,
              "#fdca26"
             ],
             [
              1,
              "#f0f921"
             ]
            ],
            "type": "contour"
           }
          ],
          "contourcarpet": [
           {
            "colorbar": {
             "outlinewidth": 0,
             "ticks": ""
            },
            "type": "contourcarpet"
           }
          ],
          "heatmap": [
           {
            "colorbar": {
             "outlinewidth": 0,
             "ticks": ""
            },
            "colorscale": [
             [
              0,
              "#0d0887"
             ],
             [
              0.1111111111111111,
              "#46039f"
             ],
             [
              0.2222222222222222,
              "#7201a8"
             ],
             [
              0.3333333333333333,
              "#9c179e"
             ],
             [
              0.4444444444444444,
              "#bd3786"
             ],
             [
              0.5555555555555556,
              "#d8576b"
             ],
             [
              0.6666666666666666,
              "#ed7953"
             ],
             [
              0.7777777777777778,
              "#fb9f3a"
             ],
             [
              0.8888888888888888,
              "#fdca26"
             ],
             [
              1,
              "#f0f921"
             ]
            ],
            "type": "heatmap"
           }
          ],
          "heatmapgl": [
           {
            "colorbar": {
             "outlinewidth": 0,
             "ticks": ""
            },
            "colorscale": [
             [
              0,
              "#0d0887"
             ],
             [
              0.1111111111111111,
              "#46039f"
             ],
             [
              0.2222222222222222,
              "#7201a8"
             ],
             [
              0.3333333333333333,
              "#9c179e"
             ],
             [
              0.4444444444444444,
              "#bd3786"
             ],
             [
              0.5555555555555556,
              "#d8576b"
             ],
             [
              0.6666666666666666,
              "#ed7953"
             ],
             [
              0.7777777777777778,
              "#fb9f3a"
             ],
             [
              0.8888888888888888,
              "#fdca26"
             ],
             [
              1,
              "#f0f921"
             ]
            ],
            "type": "heatmapgl"
           }
          ],
          "histogram": [
           {
            "marker": {
             "pattern": {
              "fillmode": "overlay",
              "size": 10,
              "solidity": 0.2
             }
            },
            "type": "histogram"
           }
          ],
          "histogram2d": [
           {
            "colorbar": {
             "outlinewidth": 0,
             "ticks": ""
            },
            "colorscale": [
             [
              0,
              "#0d0887"
             ],
             [
              0.1111111111111111,
              "#46039f"
             ],
             [
              0.2222222222222222,
              "#7201a8"
             ],
             [
              0.3333333333333333,
              "#9c179e"
             ],
             [
              0.4444444444444444,
              "#bd3786"
             ],
             [
              0.5555555555555556,
              "#d8576b"
             ],
             [
              0.6666666666666666,
              "#ed7953"
             ],
             [
              0.7777777777777778,
              "#fb9f3a"
             ],
             [
              0.8888888888888888,
              "#fdca26"
             ],
             [
              1,
              "#f0f921"
             ]
            ],
            "type": "histogram2d"
           }
          ],
          "histogram2dcontour": [
           {
            "colorbar": {
             "outlinewidth": 0,
             "ticks": ""
            },
            "colorscale": [
             [
              0,
              "#0d0887"
             ],
             [
              0.1111111111111111,
              "#46039f"
             ],
             [
              0.2222222222222222,
              "#7201a8"
             ],
             [
              0.3333333333333333,
              "#9c179e"
             ],
             [
              0.4444444444444444,
              "#bd3786"
             ],
             [
              0.5555555555555556,
              "#d8576b"
             ],
             [
              0.6666666666666666,
              "#ed7953"
             ],
             [
              0.7777777777777778,
              "#fb9f3a"
             ],
             [
              0.8888888888888888,
              "#fdca26"
             ],
             [
              1,
              "#f0f921"
             ]
            ],
            "type": "histogram2dcontour"
           }
          ],
          "mesh3d": [
           {
            "colorbar": {
             "outlinewidth": 0,
             "ticks": ""
            },
            "type": "mesh3d"
           }
          ],
          "parcoords": [
           {
            "line": {
             "colorbar": {
              "outlinewidth": 0,
              "ticks": ""
             }
            },
            "type": "parcoords"
           }
          ],
          "pie": [
           {
            "automargin": true,
            "type": "pie"
           }
          ],
          "scatter": [
           {
            "fillpattern": {
             "fillmode": "overlay",
             "size": 10,
             "solidity": 0.2
            },
            "type": "scatter"
           }
          ],
          "scatter3d": [
           {
            "line": {
             "colorbar": {
              "outlinewidth": 0,
              "ticks": ""
             }
            },
            "marker": {
             "colorbar": {
              "outlinewidth": 0,
              "ticks": ""
             }
            },
            "type": "scatter3d"
           }
          ],
          "scattercarpet": [
           {
            "marker": {
             "colorbar": {
              "outlinewidth": 0,
              "ticks": ""
             }
            },
            "type": "scattercarpet"
           }
          ],
          "scattergeo": [
           {
            "marker": {
             "colorbar": {
              "outlinewidth": 0,
              "ticks": ""
             }
            },
            "type": "scattergeo"
           }
          ],
          "scattergl": [
           {
            "marker": {
             "colorbar": {
              "outlinewidth": 0,
              "ticks": ""
             }
            },
            "type": "scattergl"
           }
          ],
          "scattermapbox": [
           {
            "marker": {
             "colorbar": {
              "outlinewidth": 0,
              "ticks": ""
             }
            },
            "type": "scattermapbox"
           }
          ],
          "scatterpolar": [
           {
            "marker": {
             "colorbar": {
              "outlinewidth": 0,
              "ticks": ""
             }
            },
            "type": "scatterpolar"
           }
          ],
          "scatterpolargl": [
           {
            "marker": {
             "colorbar": {
              "outlinewidth": 0,
              "ticks": ""
             }
            },
            "type": "scatterpolargl"
           }
          ],
          "scatterternary": [
           {
            "marker": {
             "colorbar": {
              "outlinewidth": 0,
              "ticks": ""
             }
            },
            "type": "scatterternary"
           }
          ],
          "surface": [
           {
            "colorbar": {
             "outlinewidth": 0,
             "ticks": ""
            },
            "colorscale": [
             [
              0,
              "#0d0887"
             ],
             [
              0.1111111111111111,
              "#46039f"
             ],
             [
              0.2222222222222222,
              "#7201a8"
             ],
             [
              0.3333333333333333,
              "#9c179e"
             ],
             [
              0.4444444444444444,
              "#bd3786"
             ],
             [
              0.5555555555555556,
              "#d8576b"
             ],
             [
              0.6666666666666666,
              "#ed7953"
             ],
             [
              0.7777777777777778,
              "#fb9f3a"
             ],
             [
              0.8888888888888888,
              "#fdca26"
             ],
             [
              1,
              "#f0f921"
             ]
            ],
            "type": "surface"
           }
          ],
          "table": [
           {
            "cells": {
             "fill": {
              "color": "#EBF0F8"
             },
             "line": {
              "color": "white"
             }
            },
            "header": {
             "fill": {
              "color": "#C8D4E3"
             },
             "line": {
              "color": "white"
             }
            },
            "type": "table"
           }
          ]
         },
         "layout": {
          "annotationdefaults": {
           "arrowcolor": "#2a3f5f",
           "arrowhead": 0,
           "arrowwidth": 1
          },
          "autotypenumbers": "strict",
          "coloraxis": {
           "colorbar": {
            "outlinewidth": 0,
            "ticks": ""
           }
          },
          "colorscale": {
           "diverging": [
            [
             0,
             "#8e0152"
            ],
            [
             0.1,
             "#c51b7d"
            ],
            [
             0.2,
             "#de77ae"
            ],
            [
             0.3,
             "#f1b6da"
            ],
            [
             0.4,
             "#fde0ef"
            ],
            [
             0.5,
             "#f7f7f7"
            ],
            [
             0.6,
             "#e6f5d0"
            ],
            [
             0.7,
             "#b8e186"
            ],
            [
             0.8,
             "#7fbc41"
            ],
            [
             0.9,
             "#4d9221"
            ],
            [
             1,
             "#276419"
            ]
           ],
           "sequential": [
            [
             0,
             "#0d0887"
            ],
            [
             0.1111111111111111,
             "#46039f"
            ],
            [
             0.2222222222222222,
             "#7201a8"
            ],
            [
             0.3333333333333333,
             "#9c179e"
            ],
            [
             0.4444444444444444,
             "#bd3786"
            ],
            [
             0.5555555555555556,
             "#d8576b"
            ],
            [
             0.6666666666666666,
             "#ed7953"
            ],
            [
             0.7777777777777778,
             "#fb9f3a"
            ],
            [
             0.8888888888888888,
             "#fdca26"
            ],
            [
             1,
             "#f0f921"
            ]
           ],
           "sequentialminus": [
            [
             0,
             "#0d0887"
            ],
            [
             0.1111111111111111,
             "#46039f"
            ],
            [
             0.2222222222222222,
             "#7201a8"
            ],
            [
             0.3333333333333333,
             "#9c179e"
            ],
            [
             0.4444444444444444,
             "#bd3786"
            ],
            [
             0.5555555555555556,
             "#d8576b"
            ],
            [
             0.6666666666666666,
             "#ed7953"
            ],
            [
             0.7777777777777778,
             "#fb9f3a"
            ],
            [
             0.8888888888888888,
             "#fdca26"
            ],
            [
             1,
             "#f0f921"
            ]
           ]
          },
          "colorway": [
           "#636efa",
           "#EF553B",
           "#00cc96",
           "#ab63fa",
           "#FFA15A",
           "#19d3f3",
           "#FF6692",
           "#B6E880",
           "#FF97FF",
           "#FECB52"
          ],
          "font": {
           "color": "#2a3f5f"
          },
          "geo": {
           "bgcolor": "white",
           "lakecolor": "white",
           "landcolor": "#E5ECF6",
           "showlakes": true,
           "showland": true,
           "subunitcolor": "white"
          },
          "hoverlabel": {
           "align": "left"
          },
          "hovermode": "closest",
          "mapbox": {
           "style": "light"
          },
          "paper_bgcolor": "white",
          "plot_bgcolor": "#E5ECF6",
          "polar": {
           "angularaxis": {
            "gridcolor": "white",
            "linecolor": "white",
            "ticks": ""
           },
           "bgcolor": "#E5ECF6",
           "radialaxis": {
            "gridcolor": "white",
            "linecolor": "white",
            "ticks": ""
           }
          },
          "scene": {
           "xaxis": {
            "backgroundcolor": "#E5ECF6",
            "gridcolor": "white",
            "gridwidth": 2,
            "linecolor": "white",
            "showbackground": true,
            "ticks": "",
            "zerolinecolor": "white"
           },
           "yaxis": {
            "backgroundcolor": "#E5ECF6",
            "gridcolor": "white",
            "gridwidth": 2,
            "linecolor": "white",
            "showbackground": true,
            "ticks": "",
            "zerolinecolor": "white"
           },
           "zaxis": {
            "backgroundcolor": "#E5ECF6",
            "gridcolor": "white",
            "gridwidth": 2,
            "linecolor": "white",
            "showbackground": true,
            "ticks": "",
            "zerolinecolor": "white"
           }
          },
          "shapedefaults": {
           "line": {
            "color": "#2a3f5f"
           }
          },
          "ternary": {
           "aaxis": {
            "gridcolor": "white",
            "linecolor": "white",
            "ticks": ""
           },
           "baxis": {
            "gridcolor": "white",
            "linecolor": "white",
            "ticks": ""
           },
           "bgcolor": "#E5ECF6",
           "caxis": {
            "gridcolor": "white",
            "linecolor": "white",
            "ticks": ""
           }
          },
          "title": {
           "x": 0.05
          },
          "xaxis": {
           "automargin": true,
           "gridcolor": "white",
           "linecolor": "white",
           "ticks": "",
           "title": {
            "standoff": 15
           },
           "zerolinecolor": "white",
           "zerolinewidth": 2
          },
          "yaxis": {
           "automargin": true,
           "gridcolor": "white",
           "linecolor": "white",
           "ticks": "",
           "title": {
            "standoff": 15
           },
           "zerolinecolor": "white",
           "zerolinewidth": 2
          }
         }
        }
       }
      }
     },
     "metadata": {},
     "output_type": "display_data"
    },
    {
     "name": "stdout",
     "output_type": "stream",
     "text": [
      "Figure saved as ../output/displacement_vector_field.png\n"
     ]
    }
   ],
   "source": [
    "import numpy as np\n",
    "import pandas as pd\n",
    "import plotly.graph_objects as go\n",
    "from matplotlib import cm\n",
    "\n",
    "def parse_csv_for_xy(path):\n",
    "    # Read CSV assuming pairs of x, y coordinates (x1, y1, x2, y2, ...)\n",
    "    data = pd.read_csv(path, header=None)\n",
    "    \n",
    "    # Convert all values to numeric, forcing errors to NaN (which makes them easier to handle)\n",
    "    data = data.apply(pd.to_numeric, errors='coerce')\n",
    "\n",
    "    # Flatten the data into x and y arrays\n",
    "    x_vals = data.iloc[:, 0::2].values.flatten()  # Extract x values (every other column starting from 0)\n",
    "    y_vals = data.iloc[:, 1::2].values.flatten()  # Extract y values (every other column starting from 1)\n",
    "\n",
    "    return x_vals, y_vals\n",
    "\n",
    "def get_original_points(s=16):\n",
    "    x = []\n",
    "    y = []\n",
    "    for j in range(s):\n",
    "        for i in range(s):\n",
    "            x.append((i / (s - 1)) * 2 - 1)\n",
    "            y.append((j / (s - 1)) * 2 - 1)\n",
    "    x = np.array(x)\n",
    "    y = np.array(y)\n",
    "    x = np.clip(x, 0, 1)\n",
    "    y = np.clip(y, 0, 1)\n",
    "    return x, y\n",
    "\n",
    "def visualize_displacement_with_arrows(path, output_path=\"./displacement_vector_field.png\", s=16):\n",
    "    # Parse CSV to get x, y values after deformation\n",
    "    x_vals_deformed, y_vals_deformed = parse_csv_for_xy(path)\n",
    "    \n",
    "    # Get original points in the elastic material\n",
    "    x_original, y_original = get_original_points(s)\n",
    "    \n",
    "    # Ensure lengths match between original and deformed points\n",
    "    assert len(x_original) == len(x_vals_deformed), \"Original and deformed points must have the same length.\"\n",
    "    assert len(y_original) == len(y_vals_deformed), \"Original and deformed points must have the same length.\"\n",
    "\n",
    "    # Number of unique colors needed, based on columns\n",
    "    num_colors = s\n",
    "    colors = cm.rainbow(np.linspace(0, 1, num_colors))  # Use a colormap to generate unique colors\n",
    "\n",
    "    # Create a figure for plotting\n",
    "    fig = go.Figure()\n",
    "\n",
    "    # Add a vector field plot to represent displacement, color-coded by column\n",
    "    for idx, (x0, y0, x1, y1) in enumerate(zip(x_original, y_original, x_vals_deformed, y_vals_deformed)):\n",
    "        col_index = idx % s  # Determine the column index (0 to s-1)\n",
    "        color = 'rgb({}, {}, {})'.format(*[int(255 * c) for c in colors[col_index][:3]])  # Convert color to RGB\n",
    "        \n",
    "        # Add an arrow from the original point to the deformed point\n",
    "        fig.add_trace(go.Scatter3d(\n",
    "            x=[x0, x1],  # Line starts at original point and ends at deformed point\n",
    "            y=[y0, y1],\n",
    "            z=[0, 0],  # Assuming displacement in 2D plane, set Z to 0\n",
    "            mode='lines+markers',\n",
    "            marker=dict(size=2, color=color),\n",
    "            line=dict(color=color, width=2)\n",
    "        ))\n",
    "    \n",
    "    # Add layout adjustments\n",
    "    fig.update_layout(scene=dict(\n",
    "        xaxis_title='X',\n",
    "        yaxis_title='Y',\n",
    "        zaxis_title='Z',\n",
    "        aspectmode='cube'\n",
    "    ))\n",
    "\n",
    "    # Show the plot and save to file\n",
    "    fig.show()\n",
    "    fig.write_image(output_path)\n",
    "    print(f\"Figure saved as {output_path}\")\n",
    "\n",
    "# Example usage\n",
    "visualize_displacement_with_arrows(csv_dir + shape_csv, output_path=csv_dir + \"displacement_vector_field.png\")\n"
   ]
  },
  {
   "cell_type": "markdown",
   "metadata": {},
   "source": [
    "### Stress Visualizer "
   ]
  },
  {
   "cell_type": "code",
   "execution_count": null,
   "metadata": {},
   "outputs": [],
   "source": [
    "import autograd.numpy as np\n",
    "from autograd import jacobian\n",
    "\n",
    "def calculate_individual_displacement_gradient_2D(original_points, deformed_points):\n",
    "    assert len(original_points) == len(deformed_points)\n",
    "    displacements = deformed_points - original_points\n",
    "    dx = original_points[1, 0] - original_points[0, 0]\n",
    "    dy = original_points[1, 1] - original_points[0, 1]\n",
    "    if dx == 0 or dy == 0:\n",
    "        raise ValueError(\"Finite difference requires non-zero changes in x and y.\")\n",
    "    dudx = (displacements[1, 0] - displacements[0, 0]) / dx  # ∂u_x/∂x\n",
    "    dudy = (displacements[1, 0] - displacements[0, 0]) / dy  # ∂u_x/∂y\n",
    "    dvdx = (displacements[1, 1] - displacements[0, 1]) / dx  # ∂u_y/∂x\n",
    "    dvdy = (displacements[1, 1] - displacements[0, 1]) / dy  # ∂u_y/∂y\n",
    "    gradient = np.array([[dudx, dudy],\n",
    "                         [dvdx, dvdy]])\n",
    "    return gradient\n",
    "\n",
    "def calculate_displacement_gradient_2D(original_points, deformed_points):\n",
    "    assert len(original_points) == len(deformed_points)\n",
    "    gradients = np.zeros((len(original_points) - 1, 2, 2))\n",
    "    for i in range(len(original_points) - 1):\n",
    "        gradients[i] = calculate_individual_displacement_gradient_2D(original_points[i:i+2], deformed_points[i:i+2])\n",
    "    return gradients\n",
    "\n",
    "def calculate_individual_strain_2D(displacement_gradient):\n",
    "    return 0.5 * (displacement_gradient + displacement_gradient.T)\n",
    "\n",
    "def calculate_strain_2D(original_points, deformed_points):\n",
    "    assert len(original_points) == len(deformed_points)\n",
    "    strain = np.zeros((len(original_points) - 1, 2, 2))\n",
    "    for i in range(len(original_points) - 1):\n",
    "        strain[i] = calculate_individual_strain_2D(calculate_individual_displacement_gradient_2D(original_points[i:i+2], deformed_points[i:i+2]))\n",
    "    return strain \n",
    "\n",
    "## linear elasticity \n",
    "## 2D isotropic materia\n",
    "def calculate_individual_stress_2D(strain, lam, mu):\n",
    "    return lam * np.trace(strain) * np.eye(strain.shape[0]) + 2 * mu * strain\n",
    "\n",
    "def calculate_stress_2D(original_points, deformed_points, lam, mu):\n",
    "    assert len(original_points) == len(deformed_points)\n",
    "    stress = np.zeros((len(original_points) - 1, 2, 2))\n",
    "    for i in range(len(original_points) - 1):\n",
    "        displacement_gradient = calculate_individual_displacement_gradient_2D(original_points[i:i+2], deformed_points[i:i+2])\n",
    "        strain = calculate_individual_strain_2D(displacement_gradient)\n",
    "        stress[i] = calculate_individual_stress_2D(strain, lam, mu)\n",
    "    return stress\n",
    "    \n",
    "def calculate_traction(stress, normal):\n",
    "    return np.dot(stress, normal)"
   ]
  },
  {
   "cell_type": "code",
   "execution_count": 220,
   "metadata": {},
   "outputs": [
    {
     "ename": "ValueError",
     "evalue": "operands could not be broadcast together with shapes (2,) (0,0) ",
     "output_type": "error",
     "traceback": [
      "\u001b[0;31m---------------------------------------------------------------------------\u001b[0m",
      "\u001b[0;31mValueError\u001b[0m                                Traceback (most recent call last)",
      "Cell \u001b[0;32mIn[220], line 8\u001b[0m\n\u001b[1;32m      6\u001b[0m strain \u001b[38;5;241m=\u001b[39m calculate_strain_2D(original_points, deformed_points)\n\u001b[1;32m      7\u001b[0m lam, mu \u001b[38;5;241m=\u001b[39m \u001b[38;5;241m0.1\u001b[39m, \u001b[38;5;241m0.5\u001b[39m\n\u001b[0;32m----> 8\u001b[0m stress \u001b[38;5;241m=\u001b[39m \u001b[43mcalculate_stress_2D\u001b[49m\u001b[43m(\u001b[49m\u001b[43mstrain\u001b[49m\u001b[43m,\u001b[49m\u001b[43m \u001b[49m\u001b[43mlam\u001b[49m\u001b[43m,\u001b[49m\u001b[43m \u001b[49m\u001b[43mmu\u001b[49m\u001b[43m)\u001b[49m\n\u001b[1;32m      9\u001b[0m \u001b[38;5;66;03m# traction = calculate_traction(stress, normal)\u001b[39;00m\n",
      "Cell \u001b[0;32mIn[219], line 39\u001b[0m, in \u001b[0;36mcalculate_stress_2D\u001b[0;34m(strain, lam, mu)\u001b[0m\n\u001b[1;32m     38\u001b[0m \u001b[38;5;28;01mdef\u001b[39;00m \u001b[38;5;21mcalculate_stress_2D\u001b[39m(strain, lam, mu):\n\u001b[0;32m---> 39\u001b[0m     \u001b[38;5;28;01mreturn\u001b[39;00m \u001b[43mlam\u001b[49m\u001b[43m \u001b[49m\u001b[38;5;241;43m*\u001b[39;49m\u001b[43m \u001b[49m\u001b[43mnp\u001b[49m\u001b[38;5;241;43m.\u001b[39;49m\u001b[43mtrace\u001b[49m\u001b[43m(\u001b[49m\u001b[43mstrain\u001b[49m\u001b[43m)\u001b[49m\u001b[43m \u001b[49m\u001b[38;5;241;43m*\u001b[39;49m\u001b[43m \u001b[49m\u001b[43mnp\u001b[49m\u001b[38;5;241;43m.\u001b[39;49m\u001b[43meye\u001b[49m\u001b[43m(\u001b[49m\u001b[43mstrain\u001b[49m\u001b[38;5;241;43m.\u001b[39;49m\u001b[43mshape\u001b[49m\u001b[43m[\u001b[49m\u001b[38;5;241;43m0\u001b[39;49m\u001b[43m]\u001b[49m\u001b[43m)\u001b[49m \u001b[38;5;241m+\u001b[39m \u001b[38;5;241m2\u001b[39m \u001b[38;5;241m*\u001b[39m mu \u001b[38;5;241m*\u001b[39m strain\n",
      "\u001b[0;31mValueError\u001b[0m: operands could not be broadcast together with shapes (2,) (0,0) "
     ]
    }
   ],
   "source": [
    "deformed_x, deformed_y = parse_csv_for_xy(csv_dir + shape_csv)\n",
    "original_x, original_y = get_original_points(s = 16)\n",
    "deformed_points = np.dstack((deformed_x, deformed_y))\n",
    "original_points = np.dstack((original_x, original_y))\n",
    "displacement_gradient = calculate_displacement_gradient_2D(original_points, deformed_points)\n",
    "strain = calculate_strain_2D(original_points, deformed_points)\n",
    "lam, mu = 0.1, 0.5\n",
    "stress = calculate_stress_2D(strain, lam, mu)\n",
    "# traction = calculate_traction(stress, normal)"
   ]
  },
  {
   "cell_type": "code",
   "execution_count": null,
   "metadata": {},
   "outputs": [],
   "source": []
  }
 ],
 "metadata": {
  "kernelspec": {
   "display_name": "Python 3",
   "language": "python",
   "name": "python3"
  },
  "language_info": {
   "codemirror_mode": {
    "name": "ipython",
    "version": 3
   },
   "file_extension": ".py",
   "mimetype": "text/x-python",
   "name": "python",
   "nbconvert_exporter": "python",
   "pygments_lexer": "ipython3",
   "version": "3.9.6"
  }
 },
 "nbformat": 4,
 "nbformat_minor": 2
}
