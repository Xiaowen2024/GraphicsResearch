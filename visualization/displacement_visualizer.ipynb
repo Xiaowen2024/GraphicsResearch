{
 "cells": [
  {
   "cell_type": "markdown",
   "metadata": {},
   "source": [
    "# Helpers"
   ]
  },
  {
   "cell_type": "code",
   "execution_count": 2,
   "metadata": {},
   "outputs": [],
   "source": [
    "import numpy as np\n",
    "import pandas as pd\n",
    "import plotly.graph_objects as go\n",
    "from scipy.interpolate import griddata"
   ]
  },
  {
   "cell_type": "code",
   "execution_count": 3,
   "metadata": {},
   "outputs": [],
   "source": [
    "csv_dir = \"../output/\""
   ]
  },
  {
   "cell_type": "code",
   "execution_count": 97,
   "metadata": {},
   "outputs": [],
   "source": [
    "def parse_boundary(csv_path):\n",
    "    data = pd.read_csv(csv_path, header=None)\n",
    "    x, y, z = data[0], data[1], data[2]\n",
    "    # x, y = (x + 1) / 2, (y + 1) / 2\n",
    "    return x, y, z"
   ]
  },
  {
   "cell_type": "code",
   "execution_count": null,
   "metadata": {},
   "outputs": [],
   "source": [
    "import numpy as np\n",
    "import pandas as pd\n",
    "import plotly.graph_objects as go\n",
    "from scipy.interpolate import griddata\n",
    "\n",
    "def parse_csv_for_xy(path):\n",
    "    # Read CSV assuming pairs of x, y coordinates (x1, y1, x2, y2, ...)\n",
    "    data = pd.read_csv(path, header=None)\n",
    "    \n",
    "    # Convert all values to numeric, forcing errors to NaN (which makes them easier to handle)\n",
    "    data = data.apply(pd.to_numeric, errors='coerce')\n",
    "\n",
    "    # Flatten the data into x and y arrays\n",
    "    x_vals = data.iloc[:, 0::2].values.flatten()  # Extract x values (every other column starting from 0)\n",
    "    y_vals = data.iloc[:, 1::2].values.flatten()  # Extract y values (every other column starting from 1)\n",
    "\n",
    "    return x_vals, y_vals\n",
    "\n",
    "def get_original_points(s = 16):\n",
    "    x = []\n",
    "    y = []\n",
    "    for j in range(s):\n",
    "        for i in range(s):\n",
    "            x.append((i / (s - 1)) * 2 - 1)\n",
    "            y.append((j / (s - 1)) * 2 - 1)\n",
    "    x = np.array(x)\n",
    "    y = np.array(y)\n",
    "    x = np.clip(x, 0, 1)\n",
    "    y = np.clip(y, 0, 1)\n",
    "    return x, y\n",
    "        \n",
    "\n",
    "def visualize_csv_output_vector(path, output_path=\"./solver_output_plot.png\", original_point=None, xstart=0, ystart=0, xend=1, yend=1, surface=False):\n",
    "    # Parse CSV to get x, y values\n",
    "    x_vals, y_vals = parse_csv_for_xy(path)\n",
    "    \n",
    "    # Remove NaN values from the data\n",
    "    valid_mask = ~np.isnan(x_vals) & ~np.isnan(y_vals)  # Create mask for non-NaN values in x and y\n",
    "    x_vals = x_vals[valid_mask]  \n",
    "    y_vals = y_vals[valid_mask] \n",
    "    \n",
    "    assert len(x_vals) == len(y_vals), \"x_vals and y_vals must have the same length\"\n",
    "    z_vals = np.zeros_like(x_vals)\n",
    "    \n",
    "    x = np.linspace(xstart, xend, 100)  # Increase resolution if necessary\n",
    "    y = np.linspace(ystart, yend, 100)  # Increase resolution if necessary\n",
    "    X, Y = np.meshgrid(x, y)\n",
    "    \n",
    "    # Interpolate the Z values onto the grid (if you want smooth surface interpolation)\n",
    "    Z_interp = griddata((x_vals, y_vals), z_vals, (X, Y), method='linear')\n",
    "\n",
    "    # Create a figure for plotting\n",
    "    fig = go.Figure()\n",
    "\n",
    "    # Add surface plot with interpolated Z values (if surface is true)\n",
    "    if surface: \n",
    "        fig.add_trace(go.Surface(z=Z_interp, x=X, y=Y, colorscale='Viridis', showscale=True))\n",
    "\n",
    "    # Add a scatter plot for the original points (if surface is false)\n",
    "    if not surface:\n",
    "        fig.add_trace(go.Scatter3d(x=x_vals, y=y_vals, z=z_vals, mode='markers',\n",
    "            marker=dict(size=2, color='blue') \n",
    "        ))\n",
    "        \n",
    "    \n",
    "    # Add boundary if provided\n",
    "    if original_point is not None: \n",
    "        x_original, y_original = get_original_points()\n",
    "        z_original = np.zeros_like(x_original) - 0.001\n",
    "        fig.add_trace(go.Scatter3d(x=x_original, y=y_original, z=z_original, mode='markers',\n",
    "            marker=dict(size=2, color='red')  \n",
    "        ))\n",
    "\n",
    "    # Update layout for better visualization\n",
    "    fig.update_layout(scene=dict(\n",
    "        xaxis_title='X',\n",
    "        yaxis_title='Y',\n",
    "        zaxis_title='Z',\n",
    "        zaxis=dict(\n",
    "            range=[-0.01, 0.01]  # Set the Z-axis range (adjust these values as needed)\n",
    "        ),\n",
    "        aspectmode='cube'  # Ensures that all axes are scaled equally\n",
    "    ))\n",
    "\n",
    "    # Show the plot and save to file\n",
    "    fig.show()\n",
    "    fig.write_image(output_path)\n",
    "    print(f\"Figure saved as {output_path}\")\n",
    "    \n",
    "def visualize_csv_output_x(path, output_path=\"./solver_output_plot.png\", original_point=False, xstart=0, ystart=0, xend=1, yend=1):\n",
    "    data = pd.read_csv(path, header=None)\n",
    "    x = np.linspace(xstart, xend, data.shape[1])\n",
    "    y = np.linspace(ystart, yend, data.shape[0])\n",
    "    X, Y = np.meshgrid(x, y)\n",
    "    solved_X = data.values         \n",
    "\n",
    "    # Create a mask for valid points\n",
    "    valid_mask = ~np.isnan(solved_X)\n",
    "\n",
    "    # Filter X, Y, Z using the mask\n",
    "    X_valid = X[valid_mask]\n",
    "    Y_valid = Y[valid_mask]\n",
    "    solved_X_valid = solved_X[valid_mask]\n",
    "\n",
    "    # Create a scatter plot for valid points\n",
    "    fig = go.Figure()\n",
    "\n",
    "    # Add a scatter plot for the valid points\n",
    "    Z = np.zeros_like(solved_X_valid)\n",
    "    fig.add_trace(go.Scatter3d(x=solved_X_valid, y=Y_valid, z=Z, mode='markers',\n",
    "            marker=dict(size=2, color='blue')  # Customize marker appearance if needed\n",
    "    ))\n",
    "    \n",
    "    if original_point: \n",
    "        x_original, y_original = get_original_points()\n",
    "        z_original = np.zeros_like(x_original) - 0.001\n",
    "        fig.add_trace(go.Scatter3d(x=x_original, y=y_original, z=z_original, mode='markers',\n",
    "            marker=dict(size=2, color='red')  \n",
    "        ))\n",
    "\n",
    "    fig.update_layout(scene=dict(\n",
    "        xaxis_title='X',\n",
    "        yaxis_title='Y',\n",
    "        zaxis_title='Z',\n",
    "        aspectmode='cube'\n",
    "    ))\n",
    "\n",
    "    fig.show()\n",
    "    fig.write_image(output_path)\n",
    "    print(f\"Figure saved as {output_path}\")\n"
   ]
  },
  {
   "cell_type": "code",
   "execution_count": 67,
   "metadata": {},
   "outputs": [],
   "source": [
    "import plotly.graph_objects as go\n",
    "def print_boundary_dirichlet(path=None, shape=None, dir=None): \n",
    "    if path is None: path = dir + shape + 'BoundaryDirichlet.csv'\n",
    "    x, y, z = parse_boundary(path)\n",
    "    fig = go.Figure()\n",
    "    for i in range(len(x)):\n",
    "        fig.add_trace(go.Scatter3d(\n",
    "            x=[x[i], x[(i + 1) % len(x)]],\n",
    "            y=[y[i], y[(i + 1) % len(y)]],\n",
    "            z=[z[i], z[(i + 1) % len(z)]],\n",
    "            mode='lines',\n",
    "            line=dict(color='blue', width=2)\n",
    "        ))\n",
    "    fig.add_trace(go.Scatter3d(x=x,y=y,z=z,mode='markers',\n",
    "        marker=dict(size=5, color='red', opacity=0.8)  # Color points\n",
    "    ))\n",
    "\n",
    "    fig.update_layout(title_text='3D Star Shape on a Tilted Plane',\n",
    "                  scene=dict(\n",
    "                      xaxis_title='X-axis',\n",
    "                      yaxis_title='Y-axis',\n",
    "                      zaxis_title='Z-axis'),\n",
    "                  )\n",
    "\n",
    "    fig.show()"
   ]
  },
  {
   "cell_type": "code",
   "execution_count": 26,
   "metadata": {},
   "outputs": [],
   "source": [
    "def get_shape_csv(shape): \n",
    "    return shape + \".csv\"\n",
    "def get_boundaryD_csv(shape): \n",
    "    return shape + \"BoundaryDirichlet.csv\""
   ]
  },
  {
   "cell_type": "markdown",
   "metadata": {},
   "source": [
    "# Plot Deformed Rectangle"
   ]
  },
  {
   "cell_type": "code",
   "execution_count": 202,
   "metadata": {},
   "outputs": [],
   "source": [
    "shape = \"rectangle_displacement\"\n",
    "shape_csv = get_shape_csv(shape)\n",
    "boundary_csv = get_boundaryD_csv(shape)"
   ]
  },
  {
   "cell_type": "code",
   "execution_count": 203,
   "metadata": {},
   "outputs": [
    {
     "data": {
      "application/vnd.plotly.v1+json": {
       "config": {
        "plotlyServerURL": "https://plot.ly"
       },
       "data": [
        {
         "line": {
          "color": "blue",
          "width": 2
         },
         "mode": "lines",
         "type": "scatter3d",
         "x": [
          0,
          1.4
         ],
         "y": [
          0,
          0
         ],
         "z": [
          1,
          1
         ]
        },
        {
         "line": {
          "color": "blue",
          "width": 2
         },
         "mode": "lines",
         "type": "scatter3d",
         "x": [
          1.4,
          1.4
         ],
         "y": [
          0,
          1
         ],
         "z": [
          1,
          1
         ]
        },
        {
         "line": {
          "color": "blue",
          "width": 2
         },
         "mode": "lines",
         "type": "scatter3d",
         "x": [
          1.4,
          0
         ],
         "y": [
          1,
          1
         ],
         "z": [
          1,
          1
         ]
        },
        {
         "line": {
          "color": "blue",
          "width": 2
         },
         "mode": "lines",
         "type": "scatter3d",
         "x": [
          0,
          0
         ],
         "y": [
          1,
          0
         ],
         "z": [
          1,
          1
         ]
        },
        {
         "line": {
          "color": "blue",
          "width": 2
         },
         "mode": "lines",
         "type": "scatter3d",
         "x": [
          0,
          0
         ],
         "y": [
          0,
          0
         ],
         "z": [
          1,
          1
         ]
        },
        {
         "marker": {
          "color": "red",
          "opacity": 0.8,
          "size": 5
         },
         "mode": "markers",
         "type": "scatter3d",
         "x": [
          0,
          1.4,
          1.4,
          0,
          0
         ],
         "y": [
          0,
          0,
          1,
          1,
          0
         ],
         "z": [
          1,
          1,
          1,
          1,
          1
         ]
        }
       ],
       "layout": {
        "scene": {
         "xaxis": {
          "title": {
           "text": "X-axis"
          }
         },
         "yaxis": {
          "title": {
           "text": "Y-axis"
          }
         },
         "zaxis": {
          "title": {
           "text": "Z-axis"
          }
         }
        },
        "template": {
         "data": {
          "bar": [
           {
            "error_x": {
             "color": "#2a3f5f"
            },
            "error_y": {
             "color": "#2a3f5f"
            },
            "marker": {
             "line": {
              "color": "#E5ECF6",
              "width": 0.5
             },
             "pattern": {
              "fillmode": "overlay",
              "size": 10,
              "solidity": 0.2
             }
            },
            "type": "bar"
           }
          ],
          "barpolar": [
           {
            "marker": {
             "line": {
              "color": "#E5ECF6",
              "width": 0.5
             },
             "pattern": {
              "fillmode": "overlay",
              "size": 10,
              "solidity": 0.2
             }
            },
            "type": "barpolar"
           }
          ],
          "carpet": [
           {
            "aaxis": {
             "endlinecolor": "#2a3f5f",
             "gridcolor": "white",
             "linecolor": "white",
             "minorgridcolor": "white",
             "startlinecolor": "#2a3f5f"
            },
            "baxis": {
             "endlinecolor": "#2a3f5f",
             "gridcolor": "white",
             "linecolor": "white",
             "minorgridcolor": "white",
             "startlinecolor": "#2a3f5f"
            },
            "type": "carpet"
           }
          ],
          "choropleth": [
           {
            "colorbar": {
             "outlinewidth": 0,
             "ticks": ""
            },
            "type": "choropleth"
           }
          ],
          "contour": [
           {
            "colorbar": {
             "outlinewidth": 0,
             "ticks": ""
            },
            "colorscale": [
             [
              0,
              "#0d0887"
             ],
             [
              0.1111111111111111,
              "#46039f"
             ],
             [
              0.2222222222222222,
              "#7201a8"
             ],
             [
              0.3333333333333333,
              "#9c179e"
             ],
             [
              0.4444444444444444,
              "#bd3786"
             ],
             [
              0.5555555555555556,
              "#d8576b"
             ],
             [
              0.6666666666666666,
              "#ed7953"
             ],
             [
              0.7777777777777778,
              "#fb9f3a"
             ],
             [
              0.8888888888888888,
              "#fdca26"
             ],
             [
              1,
              "#f0f921"
             ]
            ],
            "type": "contour"
           }
          ],
          "contourcarpet": [
           {
            "colorbar": {
             "outlinewidth": 0,
             "ticks": ""
            },
            "type": "contourcarpet"
           }
          ],
          "heatmap": [
           {
            "colorbar": {
             "outlinewidth": 0,
             "ticks": ""
            },
            "colorscale": [
             [
              0,
              "#0d0887"
             ],
             [
              0.1111111111111111,
              "#46039f"
             ],
             [
              0.2222222222222222,
              "#7201a8"
             ],
             [
              0.3333333333333333,
              "#9c179e"
             ],
             [
              0.4444444444444444,
              "#bd3786"
             ],
             [
              0.5555555555555556,
              "#d8576b"
             ],
             [
              0.6666666666666666,
              "#ed7953"
             ],
             [
              0.7777777777777778,
              "#fb9f3a"
             ],
             [
              0.8888888888888888,
              "#fdca26"
             ],
             [
              1,
              "#f0f921"
             ]
            ],
            "type": "heatmap"
           }
          ],
          "heatmapgl": [
           {
            "colorbar": {
             "outlinewidth": 0,
             "ticks": ""
            },
            "colorscale": [
             [
              0,
              "#0d0887"
             ],
             [
              0.1111111111111111,
              "#46039f"
             ],
             [
              0.2222222222222222,
              "#7201a8"
             ],
             [
              0.3333333333333333,
              "#9c179e"
             ],
             [
              0.4444444444444444,
              "#bd3786"
             ],
             [
              0.5555555555555556,
              "#d8576b"
             ],
             [
              0.6666666666666666,
              "#ed7953"
             ],
             [
              0.7777777777777778,
              "#fb9f3a"
             ],
             [
              0.8888888888888888,
              "#fdca26"
             ],
             [
              1,
              "#f0f921"
             ]
            ],
            "type": "heatmapgl"
           }
          ],
          "histogram": [
           {
            "marker": {
             "pattern": {
              "fillmode": "overlay",
              "size": 10,
              "solidity": 0.2
             }
            },
            "type": "histogram"
           }
          ],
          "histogram2d": [
           {
            "colorbar": {
             "outlinewidth": 0,
             "ticks": ""
            },
            "colorscale": [
             [
              0,
              "#0d0887"
             ],
             [
              0.1111111111111111,
              "#46039f"
             ],
             [
              0.2222222222222222,
              "#7201a8"
             ],
             [
              0.3333333333333333,
              "#9c179e"
             ],
             [
              0.4444444444444444,
              "#bd3786"
             ],
             [
              0.5555555555555556,
              "#d8576b"
             ],
             [
              0.6666666666666666,
              "#ed7953"
             ],
             [
              0.7777777777777778,
              "#fb9f3a"
             ],
             [
              0.8888888888888888,
              "#fdca26"
             ],
             [
              1,
              "#f0f921"
             ]
            ],
            "type": "histogram2d"
           }
          ],
          "histogram2dcontour": [
           {
            "colorbar": {
             "outlinewidth": 0,
             "ticks": ""
            },
            "colorscale": [
             [
              0,
              "#0d0887"
             ],
             [
              0.1111111111111111,
              "#46039f"
             ],
             [
              0.2222222222222222,
              "#7201a8"
             ],
             [
              0.3333333333333333,
              "#9c179e"
             ],
             [
              0.4444444444444444,
              "#bd3786"
             ],
             [
              0.5555555555555556,
              "#d8576b"
             ],
             [
              0.6666666666666666,
              "#ed7953"
             ],
             [
              0.7777777777777778,
              "#fb9f3a"
             ],
             [
              0.8888888888888888,
              "#fdca26"
             ],
             [
              1,
              "#f0f921"
             ]
            ],
            "type": "histogram2dcontour"
           }
          ],
          "mesh3d": [
           {
            "colorbar": {
             "outlinewidth": 0,
             "ticks": ""
            },
            "type": "mesh3d"
           }
          ],
          "parcoords": [
           {
            "line": {
             "colorbar": {
              "outlinewidth": 0,
              "ticks": ""
             }
            },
            "type": "parcoords"
           }
          ],
          "pie": [
           {
            "automargin": true,
            "type": "pie"
           }
          ],
          "scatter": [
           {
            "fillpattern": {
             "fillmode": "overlay",
             "size": 10,
             "solidity": 0.2
            },
            "type": "scatter"
           }
          ],
          "scatter3d": [
           {
            "line": {
             "colorbar": {
              "outlinewidth": 0,
              "ticks": ""
             }
            },
            "marker": {
             "colorbar": {
              "outlinewidth": 0,
              "ticks": ""
             }
            },
            "type": "scatter3d"
           }
          ],
          "scattercarpet": [
           {
            "marker": {
             "colorbar": {
              "outlinewidth": 0,
              "ticks": ""
             }
            },
            "type": "scattercarpet"
           }
          ],
          "scattergeo": [
           {
            "marker": {
             "colorbar": {
              "outlinewidth": 0,
              "ticks": ""
             }
            },
            "type": "scattergeo"
           }
          ],
          "scattergl": [
           {
            "marker": {
             "colorbar": {
              "outlinewidth": 0,
              "ticks": ""
             }
            },
            "type": "scattergl"
           }
          ],
          "scattermapbox": [
           {
            "marker": {
             "colorbar": {
              "outlinewidth": 0,
              "ticks": ""
             }
            },
            "type": "scattermapbox"
           }
          ],
          "scatterpolar": [
           {
            "marker": {
             "colorbar": {
              "outlinewidth": 0,
              "ticks": ""
             }
            },
            "type": "scatterpolar"
           }
          ],
          "scatterpolargl": [
           {
            "marker": {
             "colorbar": {
              "outlinewidth": 0,
              "ticks": ""
             }
            },
            "type": "scatterpolargl"
           }
          ],
          "scatterternary": [
           {
            "marker": {
             "colorbar": {
              "outlinewidth": 0,
              "ticks": ""
             }
            },
            "type": "scatterternary"
           }
          ],
          "surface": [
           {
            "colorbar": {
             "outlinewidth": 0,
             "ticks": ""
            },
            "colorscale": [
             [
              0,
              "#0d0887"
             ],
             [
              0.1111111111111111,
              "#46039f"
             ],
             [
              0.2222222222222222,
              "#7201a8"
             ],
             [
              0.3333333333333333,
              "#9c179e"
             ],
             [
              0.4444444444444444,
              "#bd3786"
             ],
             [
              0.5555555555555556,
              "#d8576b"
             ],
             [
              0.6666666666666666,
              "#ed7953"
             ],
             [
              0.7777777777777778,
              "#fb9f3a"
             ],
             [
              0.8888888888888888,
              "#fdca26"
             ],
             [
              1,
              "#f0f921"
             ]
            ],
            "type": "surface"
           }
          ],
          "table": [
           {
            "cells": {
             "fill": {
              "color": "#EBF0F8"
             },
             "line": {
              "color": "white"
             }
            },
            "header": {
             "fill": {
              "color": "#C8D4E3"
             },
             "line": {
              "color": "white"
             }
            },
            "type": "table"
           }
          ]
         },
         "layout": {
          "annotationdefaults": {
           "arrowcolor": "#2a3f5f",
           "arrowhead": 0,
           "arrowwidth": 1
          },
          "autotypenumbers": "strict",
          "coloraxis": {
           "colorbar": {
            "outlinewidth": 0,
            "ticks": ""
           }
          },
          "colorscale": {
           "diverging": [
            [
             0,
             "#8e0152"
            ],
            [
             0.1,
             "#c51b7d"
            ],
            [
             0.2,
             "#de77ae"
            ],
            [
             0.3,
             "#f1b6da"
            ],
            [
             0.4,
             "#fde0ef"
            ],
            [
             0.5,
             "#f7f7f7"
            ],
            [
             0.6,
             "#e6f5d0"
            ],
            [
             0.7,
             "#b8e186"
            ],
            [
             0.8,
             "#7fbc41"
            ],
            [
             0.9,
             "#4d9221"
            ],
            [
             1,
             "#276419"
            ]
           ],
           "sequential": [
            [
             0,
             "#0d0887"
            ],
            [
             0.1111111111111111,
             "#46039f"
            ],
            [
             0.2222222222222222,
             "#7201a8"
            ],
            [
             0.3333333333333333,
             "#9c179e"
            ],
            [
             0.4444444444444444,
             "#bd3786"
            ],
            [
             0.5555555555555556,
             "#d8576b"
            ],
            [
             0.6666666666666666,
             "#ed7953"
            ],
            [
             0.7777777777777778,
             "#fb9f3a"
            ],
            [
             0.8888888888888888,
             "#fdca26"
            ],
            [
             1,
             "#f0f921"
            ]
           ],
           "sequentialminus": [
            [
             0,
             "#0d0887"
            ],
            [
             0.1111111111111111,
             "#46039f"
            ],
            [
             0.2222222222222222,
             "#7201a8"
            ],
            [
             0.3333333333333333,
             "#9c179e"
            ],
            [
             0.4444444444444444,
             "#bd3786"
            ],
            [
             0.5555555555555556,
             "#d8576b"
            ],
            [
             0.6666666666666666,
             "#ed7953"
            ],
            [
             0.7777777777777778,
             "#fb9f3a"
            ],
            [
             0.8888888888888888,
             "#fdca26"
            ],
            [
             1,
             "#f0f921"
            ]
           ]
          },
          "colorway": [
           "#636efa",
           "#EF553B",
           "#00cc96",
           "#ab63fa",
           "#FFA15A",
           "#19d3f3",
           "#FF6692",
           "#B6E880",
           "#FF97FF",
           "#FECB52"
          ],
          "font": {
           "color": "#2a3f5f"
          },
          "geo": {
           "bgcolor": "white",
           "lakecolor": "white",
           "landcolor": "#E5ECF6",
           "showlakes": true,
           "showland": true,
           "subunitcolor": "white"
          },
          "hoverlabel": {
           "align": "left"
          },
          "hovermode": "closest",
          "mapbox": {
           "style": "light"
          },
          "paper_bgcolor": "white",
          "plot_bgcolor": "#E5ECF6",
          "polar": {
           "angularaxis": {
            "gridcolor": "white",
            "linecolor": "white",
            "ticks": ""
           },
           "bgcolor": "#E5ECF6",
           "radialaxis": {
            "gridcolor": "white",
            "linecolor": "white",
            "ticks": ""
           }
          },
          "scene": {
           "xaxis": {
            "backgroundcolor": "#E5ECF6",
            "gridcolor": "white",
            "gridwidth": 2,
            "linecolor": "white",
            "showbackground": true,
            "ticks": "",
            "zerolinecolor": "white"
           },
           "yaxis": {
            "backgroundcolor": "#E5ECF6",
            "gridcolor": "white",
            "gridwidth": 2,
            "linecolor": "white",
            "showbackground": true,
            "ticks": "",
            "zerolinecolor": "white"
           },
           "zaxis": {
            "backgroundcolor": "#E5ECF6",
            "gridcolor": "white",
            "gridwidth": 2,
            "linecolor": "white",
            "showbackground": true,
            "ticks": "",
            "zerolinecolor": "white"
           }
          },
          "shapedefaults": {
           "line": {
            "color": "#2a3f5f"
           }
          },
          "ternary": {
           "aaxis": {
            "gridcolor": "white",
            "linecolor": "white",
            "ticks": ""
           },
           "baxis": {
            "gridcolor": "white",
            "linecolor": "white",
            "ticks": ""
           },
           "bgcolor": "#E5ECF6",
           "caxis": {
            "gridcolor": "white",
            "linecolor": "white",
            "ticks": ""
           }
          },
          "title": {
           "x": 0.05
          },
          "xaxis": {
           "automargin": true,
           "gridcolor": "white",
           "linecolor": "white",
           "ticks": "",
           "title": {
            "standoff": 15
           },
           "zerolinecolor": "white",
           "zerolinewidth": 2
          },
          "yaxis": {
           "automargin": true,
           "gridcolor": "white",
           "linecolor": "white",
           "ticks": "",
           "title": {
            "standoff": 15
           },
           "zerolinecolor": "white",
           "zerolinewidth": 2
          }
         }
        },
        "title": {
         "text": "3D Star Shape on a Tilted Plane"
        }
       }
      }
     },
     "metadata": {},
     "output_type": "display_data"
    }
   ],
   "source": [
    "print_boundary_dirichlet(path=csv_dir + boundary_csv) "
   ]
  },
  {
   "cell_type": "code",
   "execution_count": 204,
   "metadata": {},
   "outputs": [
    {
     "data": {
      "application/vnd.plotly.v1+json": {
       "config": {
        "plotlyServerURL": "https://plot.ly"
       },
       "data": [
        {
         "marker": {
          "color": "blue",
          "size": 2
         },
         "mode": "markers",
         "type": "scatter3d",
         "x": [
          0,
          0,
          0,
          0,
          0,
          0,
          0,
          0,
          0,
          0,
          0,
          0,
          0,
          0,
          0,
          0,
          0,
          0,
          0,
          0,
          0,
          0,
          0,
          0,
          0,
          0,
          0,
          0,
          0,
          0,
          0,
          0,
          0,
          0,
          0,
          0,
          0,
          0,
          0,
          0,
          0,
          0,
          0,
          0,
          0,
          0,
          0,
          0,
          0,
          0,
          0,
          0,
          0,
          0,
          0,
          0,
          0,
          0,
          0,
          0,
          0,
          0,
          0,
          0,
          0,
          0,
          0,
          0,
          0,
          0,
          0,
          0,
          0,
          0,
          0,
          0,
          0,
          0,
          0,
          0,
          0,
          0,
          0,
          0,
          0,
          0,
          0,
          0,
          0,
          0,
          0,
          0,
          0,
          0,
          0,
          0,
          0,
          0,
          0,
          0,
          0,
          0,
          0,
          0,
          0,
          0,
          0,
          0,
          0,
          0,
          0,
          0,
          0,
          0,
          0,
          0,
          0,
          0,
          0,
          0,
          0,
          0,
          0,
          0,
          0,
          0,
          0,
          0,
          0,
          0,
          0,
          0,
          0,
          0,
          0,
          0,
          0.0741516,
          0.0673587,
          0.227235,
          0.0663164,
          0.3932,
          0.067621,
          0.568205,
          0.0659942,
          0.757878,
          0.0659816,
          0.96327,
          0.0659754,
          1.17576,
          0.0676162,
          1.4,
          0.0666665,
          0,
          0,
          0,
          0,
          0,
          0,
          0,
          0,
          0.0773872,
          0.198567,
          0.243036,
          0.201356,
          0.41495,
          0.199551,
          0.594598,
          0.200029,
          0.779118,
          0.201731,
          0.980264,
          0.200203,
          1.18687,
          0.199554,
          1.4,
          0.2,
          0,
          0,
          0,
          0,
          0,
          0,
          0,
          0,
          0.0851753,
          0.333409,
          0.249987,
          0.331007,
          0.425731,
          0.333812,
          0.609418,
          0.335452,
          0.791609,
          0.333371,
          0.992739,
          0.334059,
          1.19364,
          0.33291,
          1.4,
          0.333333,
          0,
          0,
          0,
          0,
          0,
          0,
          0,
          0,
          0.0852152,
          0.465485,
          0.257294,
          0.463848,
          0.435097,
          0.466125,
          0.611657,
          0.465998,
          0.802236,
          0.467917,
          0.996909,
          0.464906,
          1.19442,
          0.467646,
          1.4,
          0.466667,
          0,
          0,
          0,
          0,
          0,
          0,
          0,
          0,
          0.0846193,
          0.600822,
          0.254068,
          0.603311,
          0.428198,
          0.600923,
          0.606506,
          0.600435,
          0.799349,
          0.601619,
          0.993658,
          0.599137,
          1.19513,
          0.598916,
          1.4,
          0.6,
          0,
          0,
          0,
          0,
          0,
          0,
          0,
          0,
          0.0809387,
          0.732774,
          0.248143,
          0.734412,
          0.422568,
          0.730949,
          0.603588,
          0.734299,
          0.789047,
          0.732913,
          0.98873,
          0.732886,
          1.19172,
          0.732579,
          1.4,
          0.733333,
          0,
          0,
          0,
          0,
          0,
          0,
          0,
          0,
          0.0783744,
          0.867034,
          0.23842,
          0.866755,
          0.403472,
          0.868114,
          0.587077,
          0.863894,
          0.772752,
          0.867898,
          0.970954,
          0.866155,
          1.18306,
          0.866024,
          1.4,
          0.866667,
          0,
          0,
          0,
          0,
          0,
          0,
          0,
          0,
          0.0684446,
          1,
          0.216,
          1,
          0.377778,
          1,
          0.553778,
          1,
          0.744,
          1,
          0.948444,
          1,
          1.16711,
          1,
          0
         ],
         "y": [
          0,
          0,
          0,
          0,
          0,
          0,
          0,
          0,
          0,
          0,
          0,
          0,
          0,
          0,
          0,
          0,
          0.06666666666666667,
          0.06666666666666667,
          0.06666666666666667,
          0.06666666666666667,
          0.06666666666666667,
          0.06666666666666667,
          0.06666666666666667,
          0.06666666666666667,
          0.06666666666666667,
          0.06666666666666667,
          0.06666666666666667,
          0.06666666666666667,
          0.06666666666666667,
          0.06666666666666667,
          0.06666666666666667,
          0.06666666666666667,
          0.13333333333333333,
          0.13333333333333333,
          0.13333333333333333,
          0.13333333333333333,
          0.13333333333333333,
          0.13333333333333333,
          0.13333333333333333,
          0.13333333333333333,
          0.13333333333333333,
          0.13333333333333333,
          0.13333333333333333,
          0.13333333333333333,
          0.13333333333333333,
          0.13333333333333333,
          0.13333333333333333,
          0.13333333333333333,
          0.2,
          0.2,
          0.2,
          0.2,
          0.2,
          0.2,
          0.2,
          0.2,
          0.2,
          0.2,
          0.2,
          0.2,
          0.2,
          0.2,
          0.2,
          0.2,
          0.26666666666666666,
          0.26666666666666666,
          0.26666666666666666,
          0.26666666666666666,
          0.26666666666666666,
          0.26666666666666666,
          0.26666666666666666,
          0.26666666666666666,
          0.26666666666666666,
          0.26666666666666666,
          0.26666666666666666,
          0.26666666666666666,
          0.26666666666666666,
          0.26666666666666666,
          0.26666666666666666,
          0.26666666666666666,
          0.3333333333333333,
          0.3333333333333333,
          0.3333333333333333,
          0.3333333333333333,
          0.3333333333333333,
          0.3333333333333333,
          0.3333333333333333,
          0.3333333333333333,
          0.3333333333333333,
          0.3333333333333333,
          0.3333333333333333,
          0.3333333333333333,
          0.3333333333333333,
          0.3333333333333333,
          0.3333333333333333,
          0.3333333333333333,
          0.4,
          0.4,
          0.4,
          0.4,
          0.4,
          0.4,
          0.4,
          0.4,
          0.4,
          0.4,
          0.4,
          0.4,
          0.4,
          0.4,
          0.4,
          0.4,
          0.4666666666666667,
          0.4666666666666667,
          0.4666666666666667,
          0.4666666666666667,
          0.4666666666666667,
          0.4666666666666667,
          0.4666666666666667,
          0.4666666666666667,
          0.4666666666666667,
          0.4666666666666667,
          0.4666666666666667,
          0.4666666666666667,
          0.4666666666666667,
          0.4666666666666667,
          0.4666666666666667,
          0.4666666666666667,
          0.5333333333333333,
          0.5333333333333333,
          0.5333333333333333,
          0.5333333333333333,
          0.5333333333333333,
          0.5333333333333333,
          0.5333333333333333,
          0.5333333333333333,
          0.5333333333333333,
          0.5333333333333333,
          0.5333333333333333,
          0.5333333333333333,
          0.5333333333333333,
          0.5333333333333333,
          0.5333333333333333,
          0.5333333333333333,
          0.5333333333333333,
          0.5333333333333333,
          0.5333333333333333,
          0.5333333333333333,
          0.5333333333333333,
          0.5333333333333333,
          0.5333333333333333,
          0.5333333333333333,
          0.6,
          0.6,
          0.6,
          0.6,
          0.6,
          0.6,
          0.6,
          0.6,
          0.6,
          0.6,
          0.6,
          0.6,
          0.6,
          0.6,
          0.6,
          0.6,
          0.6,
          0.6,
          0.6,
          0.6,
          0.6,
          0.6,
          0.6,
          0.6,
          0.6666666666666666,
          0.6666666666666666,
          0.6666666666666666,
          0.6666666666666666,
          0.6666666666666666,
          0.6666666666666666,
          0.6666666666666666,
          0.6666666666666666,
          0.6666666666666666,
          0.6666666666666666,
          0.6666666666666666,
          0.6666666666666666,
          0.6666666666666666,
          0.6666666666666666,
          0.6666666666666666,
          0.6666666666666666,
          0.6666666666666666,
          0.6666666666666666,
          0.6666666666666666,
          0.6666666666666666,
          0.6666666666666666,
          0.6666666666666666,
          0.6666666666666666,
          0.6666666666666666,
          0.7333333333333333,
          0.7333333333333333,
          0.7333333333333333,
          0.7333333333333333,
          0.7333333333333333,
          0.7333333333333333,
          0.7333333333333333,
          0.7333333333333333,
          0.7333333333333333,
          0.7333333333333333,
          0.7333333333333333,
          0.7333333333333333,
          0.7333333333333333,
          0.7333333333333333,
          0.7333333333333333,
          0.7333333333333333,
          0.7333333333333333,
          0.7333333333333333,
          0.7333333333333333,
          0.7333333333333333,
          0.7333333333333333,
          0.7333333333333333,
          0.7333333333333333,
          0.7333333333333333,
          0.8,
          0.8,
          0.8,
          0.8,
          0.8,
          0.8,
          0.8,
          0.8,
          0.8,
          0.8,
          0.8,
          0.8,
          0.8,
          0.8,
          0.8,
          0.8,
          0.8,
          0.8,
          0.8,
          0.8,
          0.8,
          0.8,
          0.8,
          0.8,
          0.8666666666666667,
          0.8666666666666667,
          0.8666666666666667,
          0.8666666666666667,
          0.8666666666666667,
          0.8666666666666667,
          0.8666666666666667,
          0.8666666666666667,
          0.8666666666666667,
          0.8666666666666667,
          0.8666666666666667,
          0.8666666666666667,
          0.8666666666666667,
          0.8666666666666667,
          0.8666666666666667,
          0.8666666666666667,
          0.8666666666666667,
          0.8666666666666667,
          0.8666666666666667,
          0.8666666666666667,
          0.8666666666666667,
          0.8666666666666667,
          0.8666666666666667,
          0.8666666666666667,
          0.9333333333333333,
          0.9333333333333333,
          0.9333333333333333,
          0.9333333333333333,
          0.9333333333333333,
          0.9333333333333333,
          0.9333333333333333,
          0.9333333333333333,
          0.9333333333333333,
          0.9333333333333333,
          0.9333333333333333,
          0.9333333333333333,
          0.9333333333333333,
          0.9333333333333333,
          0.9333333333333333,
          0.9333333333333333,
          0.9333333333333333,
          0.9333333333333333,
          0.9333333333333333,
          0.9333333333333333,
          0.9333333333333333,
          0.9333333333333333,
          0.9333333333333333,
          0.9333333333333333,
          1,
          1,
          1,
          1,
          1,
          1,
          1,
          1,
          1,
          1,
          1,
          1,
          1,
          1,
          1,
          1,
          1,
          1,
          1,
          1,
          1,
          1,
          1
         ],
         "z": [
          0,
          0,
          0,
          0,
          0,
          0,
          0,
          0,
          0,
          0,
          0,
          0,
          0,
          0,
          0,
          0,
          0,
          0,
          0,
          0,
          0,
          0,
          0,
          0,
          0,
          0,
          0,
          0,
          0,
          0,
          0,
          0,
          0,
          0,
          0,
          0,
          0,
          0,
          0,
          0,
          0,
          0,
          0,
          0,
          0,
          0,
          0,
          0,
          0,
          0,
          0,
          0,
          0,
          0,
          0,
          0,
          0,
          0,
          0,
          0,
          0,
          0,
          0,
          0,
          0,
          0,
          0,
          0,
          0,
          0,
          0,
          0,
          0,
          0,
          0,
          0,
          0,
          0,
          0,
          0,
          0,
          0,
          0,
          0,
          0,
          0,
          0,
          0,
          0,
          0,
          0,
          0,
          0,
          0,
          0,
          0,
          0,
          0,
          0,
          0,
          0,
          0,
          0,
          0,
          0,
          0,
          0,
          0,
          0,
          0,
          0,
          0,
          0,
          0,
          0,
          0,
          0,
          0,
          0,
          0,
          0,
          0,
          0,
          0,
          0,
          0,
          0,
          0,
          0,
          0,
          0,
          0,
          0,
          0,
          0,
          0,
          0,
          0,
          0,
          0,
          0,
          0,
          0,
          0,
          0,
          0,
          0,
          0,
          0,
          0,
          0,
          0,
          0,
          0,
          0,
          0,
          0,
          0,
          0,
          0,
          0,
          0,
          0,
          0,
          0,
          0,
          0,
          0,
          0,
          0,
          0,
          0,
          0,
          0,
          0,
          0,
          0,
          0,
          0,
          0,
          0,
          0,
          0,
          0,
          0,
          0,
          0,
          0,
          0,
          0,
          0,
          0,
          0,
          0,
          0,
          0,
          0,
          0,
          0,
          0,
          0,
          0,
          0,
          0,
          0,
          0,
          0,
          0,
          0,
          0,
          0,
          0,
          0,
          0,
          0,
          0,
          0,
          0,
          0,
          0,
          0,
          0,
          0,
          0,
          0,
          0,
          0,
          0,
          0,
          0,
          0,
          0,
          0,
          0,
          0,
          0,
          0,
          0,
          0,
          0,
          0,
          0,
          0,
          0,
          0,
          0,
          0,
          0,
          0,
          0,
          0,
          0,
          0,
          0,
          0,
          0,
          0,
          0,
          0,
          0,
          0,
          0,
          0,
          0,
          0,
          0,
          0,
          0,
          0,
          0,
          0,
          0,
          0,
          0,
          0,
          0,
          0,
          0,
          0,
          0,
          0,
          0,
          0,
          0,
          0,
          0,
          0,
          0,
          0,
          0,
          0,
          0,
          0,
          0,
          0,
          0,
          0,
          0,
          0,
          0,
          0,
          0,
          0,
          0,
          0,
          0,
          0,
          0,
          0,
          0,
          0,
          0,
          0,
          0,
          0,
          0,
          0,
          0,
          0
         ]
        },
        {
         "marker": {
          "color": "red",
          "size": 2
         },
         "mode": "markers",
         "type": "scatter3d",
         "x": [
          0,
          0,
          0,
          0,
          0,
          0,
          0,
          0,
          0.06666666666666665,
          0.19999999999999996,
          0.33333333333333326,
          0.46666666666666656,
          0.6000000000000001,
          0.7333333333333334,
          0.8666666666666667,
          1,
          0,
          0,
          0,
          0,
          0,
          0,
          0,
          0,
          0.06666666666666665,
          0.19999999999999996,
          0.33333333333333326,
          0.46666666666666656,
          0.6000000000000001,
          0.7333333333333334,
          0.8666666666666667,
          1,
          0,
          0,
          0,
          0,
          0,
          0,
          0,
          0,
          0.06666666666666665,
          0.19999999999999996,
          0.33333333333333326,
          0.46666666666666656,
          0.6000000000000001,
          0.7333333333333334,
          0.8666666666666667,
          1,
          0,
          0,
          0,
          0,
          0,
          0,
          0,
          0,
          0.06666666666666665,
          0.19999999999999996,
          0.33333333333333326,
          0.46666666666666656,
          0.6000000000000001,
          0.7333333333333334,
          0.8666666666666667,
          1,
          0,
          0,
          0,
          0,
          0,
          0,
          0,
          0,
          0.06666666666666665,
          0.19999999999999996,
          0.33333333333333326,
          0.46666666666666656,
          0.6000000000000001,
          0.7333333333333334,
          0.8666666666666667,
          1,
          0,
          0,
          0,
          0,
          0,
          0,
          0,
          0,
          0.06666666666666665,
          0.19999999999999996,
          0.33333333333333326,
          0.46666666666666656,
          0.6000000000000001,
          0.7333333333333334,
          0.8666666666666667,
          1,
          0,
          0,
          0,
          0,
          0,
          0,
          0,
          0,
          0.06666666666666665,
          0.19999999999999996,
          0.33333333333333326,
          0.46666666666666656,
          0.6000000000000001,
          0.7333333333333334,
          0.8666666666666667,
          1,
          0,
          0,
          0,
          0,
          0,
          0,
          0,
          0,
          0.06666666666666665,
          0.19999999999999996,
          0.33333333333333326,
          0.46666666666666656,
          0.6000000000000001,
          0.7333333333333334,
          0.8666666666666667,
          1,
          0,
          0,
          0,
          0,
          0,
          0,
          0,
          0,
          0.06666666666666665,
          0.19999999999999996,
          0.33333333333333326,
          0.46666666666666656,
          0.6000000000000001,
          0.7333333333333334,
          0.8666666666666667,
          1,
          0,
          0,
          0,
          0,
          0,
          0,
          0,
          0,
          0.06666666666666665,
          0.19999999999999996,
          0.33333333333333326,
          0.46666666666666656,
          0.6000000000000001,
          0.7333333333333334,
          0.8666666666666667,
          1,
          0,
          0,
          0,
          0,
          0,
          0,
          0,
          0,
          0.06666666666666665,
          0.19999999999999996,
          0.33333333333333326,
          0.46666666666666656,
          0.6000000000000001,
          0.7333333333333334,
          0.8666666666666667,
          1,
          0,
          0,
          0,
          0,
          0,
          0,
          0,
          0,
          0.06666666666666665,
          0.19999999999999996,
          0.33333333333333326,
          0.46666666666666656,
          0.6000000000000001,
          0.7333333333333334,
          0.8666666666666667,
          1,
          0,
          0,
          0,
          0,
          0,
          0,
          0,
          0,
          0.06666666666666665,
          0.19999999999999996,
          0.33333333333333326,
          0.46666666666666656,
          0.6000000000000001,
          0.7333333333333334,
          0.8666666666666667,
          1,
          0,
          0,
          0,
          0,
          0,
          0,
          0,
          0,
          0.06666666666666665,
          0.19999999999999996,
          0.33333333333333326,
          0.46666666666666656,
          0.6000000000000001,
          0.7333333333333334,
          0.8666666666666667,
          1,
          0,
          0,
          0,
          0,
          0,
          0,
          0,
          0,
          0.06666666666666665,
          0.19999999999999996,
          0.33333333333333326,
          0.46666666666666656,
          0.6000000000000001,
          0.7333333333333334,
          0.8666666666666667,
          1,
          0,
          0,
          0,
          0,
          0,
          0,
          0,
          0,
          0.06666666666666665,
          0.19999999999999996,
          0.33333333333333326,
          0.46666666666666656,
          0.6000000000000001,
          0.7333333333333334,
          0.8666666666666667,
          1
         ],
         "y": [
          0,
          0,
          0,
          0,
          0,
          0,
          0,
          0,
          0,
          0,
          0,
          0,
          0,
          0,
          0,
          0,
          0,
          0,
          0,
          0,
          0,
          0,
          0,
          0,
          0,
          0,
          0,
          0,
          0,
          0,
          0,
          0,
          0,
          0,
          0,
          0,
          0,
          0,
          0,
          0,
          0,
          0,
          0,
          0,
          0,
          0,
          0,
          0,
          0,
          0,
          0,
          0,
          0,
          0,
          0,
          0,
          0,
          0,
          0,
          0,
          0,
          0,
          0,
          0,
          0,
          0,
          0,
          0,
          0,
          0,
          0,
          0,
          0,
          0,
          0,
          0,
          0,
          0,
          0,
          0,
          0,
          0,
          0,
          0,
          0,
          0,
          0,
          0,
          0,
          0,
          0,
          0,
          0,
          0,
          0,
          0,
          0,
          0,
          0,
          0,
          0,
          0,
          0,
          0,
          0,
          0,
          0,
          0,
          0,
          0,
          0,
          0,
          0,
          0,
          0,
          0,
          0,
          0,
          0,
          0,
          0,
          0,
          0,
          0,
          0,
          0,
          0,
          0,
          0.06666666666666665,
          0.06666666666666665,
          0.06666666666666665,
          0.06666666666666665,
          0.06666666666666665,
          0.06666666666666665,
          0.06666666666666665,
          0.06666666666666665,
          0.06666666666666665,
          0.06666666666666665,
          0.06666666666666665,
          0.06666666666666665,
          0.06666666666666665,
          0.06666666666666665,
          0.06666666666666665,
          0.06666666666666665,
          0.19999999999999996,
          0.19999999999999996,
          0.19999999999999996,
          0.19999999999999996,
          0.19999999999999996,
          0.19999999999999996,
          0.19999999999999996,
          0.19999999999999996,
          0.19999999999999996,
          0.19999999999999996,
          0.19999999999999996,
          0.19999999999999996,
          0.19999999999999996,
          0.19999999999999996,
          0.19999999999999996,
          0.19999999999999996,
          0.33333333333333326,
          0.33333333333333326,
          0.33333333333333326,
          0.33333333333333326,
          0.33333333333333326,
          0.33333333333333326,
          0.33333333333333326,
          0.33333333333333326,
          0.33333333333333326,
          0.33333333333333326,
          0.33333333333333326,
          0.33333333333333326,
          0.33333333333333326,
          0.33333333333333326,
          0.33333333333333326,
          0.33333333333333326,
          0.46666666666666656,
          0.46666666666666656,
          0.46666666666666656,
          0.46666666666666656,
          0.46666666666666656,
          0.46666666666666656,
          0.46666666666666656,
          0.46666666666666656,
          0.46666666666666656,
          0.46666666666666656,
          0.46666666666666656,
          0.46666666666666656,
          0.46666666666666656,
          0.46666666666666656,
          0.46666666666666656,
          0.46666666666666656,
          0.6000000000000001,
          0.6000000000000001,
          0.6000000000000001,
          0.6000000000000001,
          0.6000000000000001,
          0.6000000000000001,
          0.6000000000000001,
          0.6000000000000001,
          0.6000000000000001,
          0.6000000000000001,
          0.6000000000000001,
          0.6000000000000001,
          0.6000000000000001,
          0.6000000000000001,
          0.6000000000000001,
          0.6000000000000001,
          0.7333333333333334,
          0.7333333333333334,
          0.7333333333333334,
          0.7333333333333334,
          0.7333333333333334,
          0.7333333333333334,
          0.7333333333333334,
          0.7333333333333334,
          0.7333333333333334,
          0.7333333333333334,
          0.7333333333333334,
          0.7333333333333334,
          0.7333333333333334,
          0.7333333333333334,
          0.7333333333333334,
          0.7333333333333334,
          0.8666666666666667,
          0.8666666666666667,
          0.8666666666666667,
          0.8666666666666667,
          0.8666666666666667,
          0.8666666666666667,
          0.8666666666666667,
          0.8666666666666667,
          0.8666666666666667,
          0.8666666666666667,
          0.8666666666666667,
          0.8666666666666667,
          0.8666666666666667,
          0.8666666666666667,
          0.8666666666666667,
          0.8666666666666667,
          1,
          1,
          1,
          1,
          1,
          1,
          1,
          1,
          1,
          1,
          1,
          1,
          1,
          1,
          1,
          1
         ],
         "z": [
          -0.001,
          -0.001,
          -0.001,
          -0.001,
          -0.001,
          -0.001,
          -0.001,
          -0.001,
          -0.001,
          -0.001,
          -0.001,
          -0.001,
          -0.001,
          -0.001,
          -0.001,
          -0.001,
          -0.001,
          -0.001,
          -0.001,
          -0.001,
          -0.001,
          -0.001,
          -0.001,
          -0.001,
          -0.001,
          -0.001,
          -0.001,
          -0.001,
          -0.001,
          -0.001,
          -0.001,
          -0.001,
          -0.001,
          -0.001,
          -0.001,
          -0.001,
          -0.001,
          -0.001,
          -0.001,
          -0.001,
          -0.001,
          -0.001,
          -0.001,
          -0.001,
          -0.001,
          -0.001,
          -0.001,
          -0.001,
          -0.001,
          -0.001,
          -0.001,
          -0.001,
          -0.001,
          -0.001,
          -0.001,
          -0.001,
          -0.001,
          -0.001,
          -0.001,
          -0.001,
          -0.001,
          -0.001,
          -0.001,
          -0.001,
          -0.001,
          -0.001,
          -0.001,
          -0.001,
          -0.001,
          -0.001,
          -0.001,
          -0.001,
          -0.001,
          -0.001,
          -0.001,
          -0.001,
          -0.001,
          -0.001,
          -0.001,
          -0.001,
          -0.001,
          -0.001,
          -0.001,
          -0.001,
          -0.001,
          -0.001,
          -0.001,
          -0.001,
          -0.001,
          -0.001,
          -0.001,
          -0.001,
          -0.001,
          -0.001,
          -0.001,
          -0.001,
          -0.001,
          -0.001,
          -0.001,
          -0.001,
          -0.001,
          -0.001,
          -0.001,
          -0.001,
          -0.001,
          -0.001,
          -0.001,
          -0.001,
          -0.001,
          -0.001,
          -0.001,
          -0.001,
          -0.001,
          -0.001,
          -0.001,
          -0.001,
          -0.001,
          -0.001,
          -0.001,
          -0.001,
          -0.001,
          -0.001,
          -0.001,
          -0.001,
          -0.001,
          -0.001,
          -0.001,
          -0.001,
          -0.001,
          -0.001,
          -0.001,
          -0.001,
          -0.001,
          -0.001,
          -0.001,
          -0.001,
          -0.001,
          -0.001,
          -0.001,
          -0.001,
          -0.001,
          -0.001,
          -0.001,
          -0.001,
          -0.001,
          -0.001,
          -0.001,
          -0.001,
          -0.001,
          -0.001,
          -0.001,
          -0.001,
          -0.001,
          -0.001,
          -0.001,
          -0.001,
          -0.001,
          -0.001,
          -0.001,
          -0.001,
          -0.001,
          -0.001,
          -0.001,
          -0.001,
          -0.001,
          -0.001,
          -0.001,
          -0.001,
          -0.001,
          -0.001,
          -0.001,
          -0.001,
          -0.001,
          -0.001,
          -0.001,
          -0.001,
          -0.001,
          -0.001,
          -0.001,
          -0.001,
          -0.001,
          -0.001,
          -0.001,
          -0.001,
          -0.001,
          -0.001,
          -0.001,
          -0.001,
          -0.001,
          -0.001,
          -0.001,
          -0.001,
          -0.001,
          -0.001,
          -0.001,
          -0.001,
          -0.001,
          -0.001,
          -0.001,
          -0.001,
          -0.001,
          -0.001,
          -0.001,
          -0.001,
          -0.001,
          -0.001,
          -0.001,
          -0.001,
          -0.001,
          -0.001,
          -0.001,
          -0.001,
          -0.001,
          -0.001,
          -0.001,
          -0.001,
          -0.001,
          -0.001,
          -0.001,
          -0.001,
          -0.001,
          -0.001,
          -0.001,
          -0.001,
          -0.001,
          -0.001,
          -0.001,
          -0.001,
          -0.001,
          -0.001,
          -0.001,
          -0.001,
          -0.001,
          -0.001,
          -0.001,
          -0.001,
          -0.001,
          -0.001,
          -0.001,
          -0.001,
          -0.001,
          -0.001,
          -0.001,
          -0.001,
          -0.001,
          -0.001,
          -0.001,
          -0.001,
          -0.001,
          -0.001,
          -0.001,
          -0.001,
          -0.001,
          -0.001,
          -0.001,
          -0.001
         ]
        }
       ],
       "layout": {
        "scene": {
         "aspectmode": "cube",
         "xaxis": {
          "title": {
           "text": "X"
          }
         },
         "yaxis": {
          "title": {
           "text": "Y"
          }
         },
         "zaxis": {
          "title": {
           "text": "Z"
          }
         }
        },
        "template": {
         "data": {
          "bar": [
           {
            "error_x": {
             "color": "#2a3f5f"
            },
            "error_y": {
             "color": "#2a3f5f"
            },
            "marker": {
             "line": {
              "color": "#E5ECF6",
              "width": 0.5
             },
             "pattern": {
              "fillmode": "overlay",
              "size": 10,
              "solidity": 0.2
             }
            },
            "type": "bar"
           }
          ],
          "barpolar": [
           {
            "marker": {
             "line": {
              "color": "#E5ECF6",
              "width": 0.5
             },
             "pattern": {
              "fillmode": "overlay",
              "size": 10,
              "solidity": 0.2
             }
            },
            "type": "barpolar"
           }
          ],
          "carpet": [
           {
            "aaxis": {
             "endlinecolor": "#2a3f5f",
             "gridcolor": "white",
             "linecolor": "white",
             "minorgridcolor": "white",
             "startlinecolor": "#2a3f5f"
            },
            "baxis": {
             "endlinecolor": "#2a3f5f",
             "gridcolor": "white",
             "linecolor": "white",
             "minorgridcolor": "white",
             "startlinecolor": "#2a3f5f"
            },
            "type": "carpet"
           }
          ],
          "choropleth": [
           {
            "colorbar": {
             "outlinewidth": 0,
             "ticks": ""
            },
            "type": "choropleth"
           }
          ],
          "contour": [
           {
            "colorbar": {
             "outlinewidth": 0,
             "ticks": ""
            },
            "colorscale": [
             [
              0,
              "#0d0887"
             ],
             [
              0.1111111111111111,
              "#46039f"
             ],
             [
              0.2222222222222222,
              "#7201a8"
             ],
             [
              0.3333333333333333,
              "#9c179e"
             ],
             [
              0.4444444444444444,
              "#bd3786"
             ],
             [
              0.5555555555555556,
              "#d8576b"
             ],
             [
              0.6666666666666666,
              "#ed7953"
             ],
             [
              0.7777777777777778,
              "#fb9f3a"
             ],
             [
              0.8888888888888888,
              "#fdca26"
             ],
             [
              1,
              "#f0f921"
             ]
            ],
            "type": "contour"
           }
          ],
          "contourcarpet": [
           {
            "colorbar": {
             "outlinewidth": 0,
             "ticks": ""
            },
            "type": "contourcarpet"
           }
          ],
          "heatmap": [
           {
            "colorbar": {
             "outlinewidth": 0,
             "ticks": ""
            },
            "colorscale": [
             [
              0,
              "#0d0887"
             ],
             [
              0.1111111111111111,
              "#46039f"
             ],
             [
              0.2222222222222222,
              "#7201a8"
             ],
             [
              0.3333333333333333,
              "#9c179e"
             ],
             [
              0.4444444444444444,
              "#bd3786"
             ],
             [
              0.5555555555555556,
              "#d8576b"
             ],
             [
              0.6666666666666666,
              "#ed7953"
             ],
             [
              0.7777777777777778,
              "#fb9f3a"
             ],
             [
              0.8888888888888888,
              "#fdca26"
             ],
             [
              1,
              "#f0f921"
             ]
            ],
            "type": "heatmap"
           }
          ],
          "heatmapgl": [
           {
            "colorbar": {
             "outlinewidth": 0,
             "ticks": ""
            },
            "colorscale": [
             [
              0,
              "#0d0887"
             ],
             [
              0.1111111111111111,
              "#46039f"
             ],
             [
              0.2222222222222222,
              "#7201a8"
             ],
             [
              0.3333333333333333,
              "#9c179e"
             ],
             [
              0.4444444444444444,
              "#bd3786"
             ],
             [
              0.5555555555555556,
              "#d8576b"
             ],
             [
              0.6666666666666666,
              "#ed7953"
             ],
             [
              0.7777777777777778,
              "#fb9f3a"
             ],
             [
              0.8888888888888888,
              "#fdca26"
             ],
             [
              1,
              "#f0f921"
             ]
            ],
            "type": "heatmapgl"
           }
          ],
          "histogram": [
           {
            "marker": {
             "pattern": {
              "fillmode": "overlay",
              "size": 10,
              "solidity": 0.2
             }
            },
            "type": "histogram"
           }
          ],
          "histogram2d": [
           {
            "colorbar": {
             "outlinewidth": 0,
             "ticks": ""
            },
            "colorscale": [
             [
              0,
              "#0d0887"
             ],
             [
              0.1111111111111111,
              "#46039f"
             ],
             [
              0.2222222222222222,
              "#7201a8"
             ],
             [
              0.3333333333333333,
              "#9c179e"
             ],
             [
              0.4444444444444444,
              "#bd3786"
             ],
             [
              0.5555555555555556,
              "#d8576b"
             ],
             [
              0.6666666666666666,
              "#ed7953"
             ],
             [
              0.7777777777777778,
              "#fb9f3a"
             ],
             [
              0.8888888888888888,
              "#fdca26"
             ],
             [
              1,
              "#f0f921"
             ]
            ],
            "type": "histogram2d"
           }
          ],
          "histogram2dcontour": [
           {
            "colorbar": {
             "outlinewidth": 0,
             "ticks": ""
            },
            "colorscale": [
             [
              0,
              "#0d0887"
             ],
             [
              0.1111111111111111,
              "#46039f"
             ],
             [
              0.2222222222222222,
              "#7201a8"
             ],
             [
              0.3333333333333333,
              "#9c179e"
             ],
             [
              0.4444444444444444,
              "#bd3786"
             ],
             [
              0.5555555555555556,
              "#d8576b"
             ],
             [
              0.6666666666666666,
              "#ed7953"
             ],
             [
              0.7777777777777778,
              "#fb9f3a"
             ],
             [
              0.8888888888888888,
              "#fdca26"
             ],
             [
              1,
              "#f0f921"
             ]
            ],
            "type": "histogram2dcontour"
           }
          ],
          "mesh3d": [
           {
            "colorbar": {
             "outlinewidth": 0,
             "ticks": ""
            },
            "type": "mesh3d"
           }
          ],
          "parcoords": [
           {
            "line": {
             "colorbar": {
              "outlinewidth": 0,
              "ticks": ""
             }
            },
            "type": "parcoords"
           }
          ],
          "pie": [
           {
            "automargin": true,
            "type": "pie"
           }
          ],
          "scatter": [
           {
            "fillpattern": {
             "fillmode": "overlay",
             "size": 10,
             "solidity": 0.2
            },
            "type": "scatter"
           }
          ],
          "scatter3d": [
           {
            "line": {
             "colorbar": {
              "outlinewidth": 0,
              "ticks": ""
             }
            },
            "marker": {
             "colorbar": {
              "outlinewidth": 0,
              "ticks": ""
             }
            },
            "type": "scatter3d"
           }
          ],
          "scattercarpet": [
           {
            "marker": {
             "colorbar": {
              "outlinewidth": 0,
              "ticks": ""
             }
            },
            "type": "scattercarpet"
           }
          ],
          "scattergeo": [
           {
            "marker": {
             "colorbar": {
              "outlinewidth": 0,
              "ticks": ""
             }
            },
            "type": "scattergeo"
           }
          ],
          "scattergl": [
           {
            "marker": {
             "colorbar": {
              "outlinewidth": 0,
              "ticks": ""
             }
            },
            "type": "scattergl"
           }
          ],
          "scattermapbox": [
           {
            "marker": {
             "colorbar": {
              "outlinewidth": 0,
              "ticks": ""
             }
            },
            "type": "scattermapbox"
           }
          ],
          "scatterpolar": [
           {
            "marker": {
             "colorbar": {
              "outlinewidth": 0,
              "ticks": ""
             }
            },
            "type": "scatterpolar"
           }
          ],
          "scatterpolargl": [
           {
            "marker": {
             "colorbar": {
              "outlinewidth": 0,
              "ticks": ""
             }
            },
            "type": "scatterpolargl"
           }
          ],
          "scatterternary": [
           {
            "marker": {
             "colorbar": {
              "outlinewidth": 0,
              "ticks": ""
             }
            },
            "type": "scatterternary"
           }
          ],
          "surface": [
           {
            "colorbar": {
             "outlinewidth": 0,
             "ticks": ""
            },
            "colorscale": [
             [
              0,
              "#0d0887"
             ],
             [
              0.1111111111111111,
              "#46039f"
             ],
             [
              0.2222222222222222,
              "#7201a8"
             ],
             [
              0.3333333333333333,
              "#9c179e"
             ],
             [
              0.4444444444444444,
              "#bd3786"
             ],
             [
              0.5555555555555556,
              "#d8576b"
             ],
             [
              0.6666666666666666,
              "#ed7953"
             ],
             [
              0.7777777777777778,
              "#fb9f3a"
             ],
             [
              0.8888888888888888,
              "#fdca26"
             ],
             [
              1,
              "#f0f921"
             ]
            ],
            "type": "surface"
           }
          ],
          "table": [
           {
            "cells": {
             "fill": {
              "color": "#EBF0F8"
             },
             "line": {
              "color": "white"
             }
            },
            "header": {
             "fill": {
              "color": "#C8D4E3"
             },
             "line": {
              "color": "white"
             }
            },
            "type": "table"
           }
          ]
         },
         "layout": {
          "annotationdefaults": {
           "arrowcolor": "#2a3f5f",
           "arrowhead": 0,
           "arrowwidth": 1
          },
          "autotypenumbers": "strict",
          "coloraxis": {
           "colorbar": {
            "outlinewidth": 0,
            "ticks": ""
           }
          },
          "colorscale": {
           "diverging": [
            [
             0,
             "#8e0152"
            ],
            [
             0.1,
             "#c51b7d"
            ],
            [
             0.2,
             "#de77ae"
            ],
            [
             0.3,
             "#f1b6da"
            ],
            [
             0.4,
             "#fde0ef"
            ],
            [
             0.5,
             "#f7f7f7"
            ],
            [
             0.6,
             "#e6f5d0"
            ],
            [
             0.7,
             "#b8e186"
            ],
            [
             0.8,
             "#7fbc41"
            ],
            [
             0.9,
             "#4d9221"
            ],
            [
             1,
             "#276419"
            ]
           ],
           "sequential": [
            [
             0,
             "#0d0887"
            ],
            [
             0.1111111111111111,
             "#46039f"
            ],
            [
             0.2222222222222222,
             "#7201a8"
            ],
            [
             0.3333333333333333,
             "#9c179e"
            ],
            [
             0.4444444444444444,
             "#bd3786"
            ],
            [
             0.5555555555555556,
             "#d8576b"
            ],
            [
             0.6666666666666666,
             "#ed7953"
            ],
            [
             0.7777777777777778,
             "#fb9f3a"
            ],
            [
             0.8888888888888888,
             "#fdca26"
            ],
            [
             1,
             "#f0f921"
            ]
           ],
           "sequentialminus": [
            [
             0,
             "#0d0887"
            ],
            [
             0.1111111111111111,
             "#46039f"
            ],
            [
             0.2222222222222222,
             "#7201a8"
            ],
            [
             0.3333333333333333,
             "#9c179e"
            ],
            [
             0.4444444444444444,
             "#bd3786"
            ],
            [
             0.5555555555555556,
             "#d8576b"
            ],
            [
             0.6666666666666666,
             "#ed7953"
            ],
            [
             0.7777777777777778,
             "#fb9f3a"
            ],
            [
             0.8888888888888888,
             "#fdca26"
            ],
            [
             1,
             "#f0f921"
            ]
           ]
          },
          "colorway": [
           "#636efa",
           "#EF553B",
           "#00cc96",
           "#ab63fa",
           "#FFA15A",
           "#19d3f3",
           "#FF6692",
           "#B6E880",
           "#FF97FF",
           "#FECB52"
          ],
          "font": {
           "color": "#2a3f5f"
          },
          "geo": {
           "bgcolor": "white",
           "lakecolor": "white",
           "landcolor": "#E5ECF6",
           "showlakes": true,
           "showland": true,
           "subunitcolor": "white"
          },
          "hoverlabel": {
           "align": "left"
          },
          "hovermode": "closest",
          "mapbox": {
           "style": "light"
          },
          "paper_bgcolor": "white",
          "plot_bgcolor": "#E5ECF6",
          "polar": {
           "angularaxis": {
            "gridcolor": "white",
            "linecolor": "white",
            "ticks": ""
           },
           "bgcolor": "#E5ECF6",
           "radialaxis": {
            "gridcolor": "white",
            "linecolor": "white",
            "ticks": ""
           }
          },
          "scene": {
           "xaxis": {
            "backgroundcolor": "#E5ECF6",
            "gridcolor": "white",
            "gridwidth": 2,
            "linecolor": "white",
            "showbackground": true,
            "ticks": "",
            "zerolinecolor": "white"
           },
           "yaxis": {
            "backgroundcolor": "#E5ECF6",
            "gridcolor": "white",
            "gridwidth": 2,
            "linecolor": "white",
            "showbackground": true,
            "ticks": "",
            "zerolinecolor": "white"
           },
           "zaxis": {
            "backgroundcolor": "#E5ECF6",
            "gridcolor": "white",
            "gridwidth": 2,
            "linecolor": "white",
            "showbackground": true,
            "ticks": "",
            "zerolinecolor": "white"
           }
          },
          "shapedefaults": {
           "line": {
            "color": "#2a3f5f"
           }
          },
          "ternary": {
           "aaxis": {
            "gridcolor": "white",
            "linecolor": "white",
            "ticks": ""
           },
           "baxis": {
            "gridcolor": "white",
            "linecolor": "white",
            "ticks": ""
           },
           "bgcolor": "#E5ECF6",
           "caxis": {
            "gridcolor": "white",
            "linecolor": "white",
            "ticks": ""
           }
          },
          "title": {
           "x": 0.05
          },
          "xaxis": {
           "automargin": true,
           "gridcolor": "white",
           "linecolor": "white",
           "ticks": "",
           "title": {
            "standoff": 15
           },
           "zerolinecolor": "white",
           "zerolinewidth": 2
          },
          "yaxis": {
           "automargin": true,
           "gridcolor": "white",
           "linecolor": "white",
           "ticks": "",
           "title": {
            "standoff": 15
           },
           "zerolinecolor": "white",
           "zerolinewidth": 2
          }
         }
        }
       }
      }
     },
     "metadata": {},
     "output_type": "display_data"
    },
    {
     "name": "stdout",
     "output_type": "stream",
     "text": [
      "Figure saved as ./solver_output_plot.png\n"
     ]
    }
   ],
   "source": [
    "visualize_csv_output_x(csv_dir + shape_csv, original_point=True) "
   ]
  },
  {
   "cell_type": "code",
   "execution_count": 201,
   "metadata": {},
   "outputs": [
    {
     "name": "stdout",
     "output_type": "stream",
     "text": [
      "[0.06666667 0.2        0.33333333 0.46666667 0.6        0.73333333\n",
      " 0.86666667 1.         0.06666667 0.2        0.33333333 0.46666667\n",
      " 0.6        0.73333333 0.86666667 1.         0.06666667 0.2\n",
      " 0.33333333 0.46666667 0.6        0.73333333 0.86666667 1.\n",
      " 0.06666667 0.2        0.33333333 0.46666667 0.6        0.73333333\n",
      " 0.86666667 1.         0.06666667 0.2        0.33333333 0.46666667\n",
      " 0.6        0.73333333 0.86666667 1.         0.06666667 0.2\n",
      " 0.33333333 0.46666667 0.6        0.73333333 0.86666667 1.\n",
      " 0.06666667 0.2        0.33333333 0.46666667 0.6        0.73333333\n",
      " 0.86666667 1.         0.06666667 0.2        0.33333333 0.46666667\n",
      " 0.6        0.73333333 0.86666667]\n"
     ]
    },
    {
     "data": {
      "text/plain": [
       "array([0.0673427, 0.199679 , 0.332422 , 0.465166 , 0.599564 , 0.732032 ,\n",
       "       0.866845 , 1.       , 0.0658678, 0.200125 , 0.334627 , 0.467648 ,\n",
       "       0.599005 , 0.733914 , 0.86687  , 1.       , 0.0669325, 0.198812 ,\n",
       "       0.335359 , 0.465971 , 0.599873 , 0.733041 , 0.866818 , 1.       ,\n",
       "       0.0654518, 0.200044 , 0.334253 , 0.467314 , 0.599847 , 0.731713 ,\n",
       "       0.867992 , 1.       , 0.0676252, 0.199154 , 0.334295 , 0.466636 ,\n",
       "       0.60009  , 0.732645 , 0.866907 , 1.       , 0.0670446, 0.198807 ,\n",
       "       0.33312  , 0.466694 , 0.601031 , 0.734402 , 0.867491 , 1.       ,\n",
       "       0.0672787, 0.200524 , 0.332565 , 0.467108 , 0.599618 , 0.73141  ,\n",
       "       0.866376 , 1.       , 0.066667 , 0.2      , 0.333333 , 0.466667 ,\n",
       "       0.6      , 0.733333 , 0.866667 ])"
      ]
     },
     "execution_count": 201,
     "metadata": {},
     "output_type": "execute_result"
    }
   ],
   "source": [
    "import numpy as np\n",
    "import plotly.graph_objects as go\n",
    "\n",
    "# Flatten the arrays\n",
    "data = pd.read_csv(csv_dir + shape_csv, header=None)\n",
    "solved_x = data.values\n",
    "valid_mask = ~np.isnan(solved_x)\n",
    "solved_X_valid = solved_x[valid_mask]\n",
    "\n",
    "x_original, y_original = get_original_points(s = 16)\n",
    "# x_original, y_original = np.meshgrid(x_original, y_original)\n",
    "\n",
    "x_original = x_original.reshape(16, 16)\n",
    "x_original = x_original[valid_mask]\n",
    "print(x_original)\n",
    "solved_X_valid"
   ]
  },
  {
   "cell_type": "code",
   "execution_count": 163,
   "metadata": {},
   "outputs": [
    {
     "data": {
      "text/plain": [
       "-0.0021060000000000523"
      ]
     },
     "execution_count": 163,
     "metadata": {},
     "output_type": "execute_result"
    }
   ],
   "source": [
    "min(x_vals - x_original)\n"
   ]
  },
  {
   "cell_type": "code",
   "execution_count": 165,
   "metadata": {},
   "outputs": [
    {
     "data": {
      "text/plain": [
       "-0.0031003333333332606"
      ]
     },
     "execution_count": 165,
     "metadata": {},
     "output_type": "execute_result"
    }
   ],
   "source": [
    "min(y_vals - y_original)\n"
   ]
  },
  {
   "cell_type": "code",
   "execution_count": 161,
   "metadata": {},
   "outputs": [
    {
     "data": {
      "text/plain": [
       "array([0.06666667, 0.2       , 0.33333333, 0.46666667, 0.6       ,\n",
       "       0.73333333, 0.86666667, 1.        , 0.06666667, 0.2       ,\n",
       "       0.33333333, 0.46666667, 0.6       , 0.73333333, 0.86666667,\n",
       "       1.        , 0.06666667, 0.2       , 0.33333333, 0.46666667,\n",
       "       0.6       , 0.73333333, 0.86666667, 1.        , 0.06666667,\n",
       "       0.2       , 0.33333333, 0.46666667, 0.6       , 0.73333333,\n",
       "       0.86666667, 1.        , 0.06666667, 0.2       , 0.33333333,\n",
       "       0.46666667, 0.6       , 0.73333333, 0.86666667, 1.        ,\n",
       "       0.06666667, 0.2       , 0.33333333, 0.46666667, 0.6       ,\n",
       "       0.73333333, 0.86666667, 1.        , 0.06666667, 0.2       ,\n",
       "       0.33333333, 0.46666667, 0.6       , 0.73333333, 0.86666667,\n",
       "       1.        , 0.06666667, 0.2       , 0.33333333, 0.46666667,\n",
       "       0.6       , 0.73333333, 0.86666667])"
      ]
     },
     "execution_count": 161,
     "metadata": {},
     "output_type": "execute_result"
    }
   ],
   "source": [
    "x_original"
   ]
  },
  {
   "cell_type": "code",
   "execution_count": 160,
   "metadata": {},
   "outputs": [
    {
     "data": {
      "text/plain": [
       "array([0.065957 , 0.200682 , 0.332834 , 0.466393 , 0.600029 , 0.733143 ,\n",
       "       0.866304 , 1.       , 0.0665616, 0.200429 , 0.333983 , 0.466873 ,\n",
       "       0.601339 , 0.734319 , 0.866526 , 1.       , 0.0666529, 0.200571 ,\n",
       "       0.33308  , 0.464923 , 0.599984 , 0.733689 , 0.866313 , 1.       ,\n",
       "       0.0662684, 0.202189 , 0.334418 , 0.469048 , 0.599661 , 0.731565 ,\n",
       "       0.866078 , 1.       , 0.0666674, 0.198588 , 0.333006 , 0.466372 ,\n",
       "       0.601175 , 0.732253 , 0.868288 , 1.       , 0.0670922, 0.200095 ,\n",
       "       0.332204 , 0.464912 , 0.597894 , 0.731409 , 0.865139 , 1.       ,\n",
       "       0.0662816, 0.200295 , 0.332323 , 0.465792 , 0.599963 , 0.733074 ,\n",
       "       0.866684 , 1.       , 0.0666669, 0.2      , 0.333333 , 0.466667 ,\n",
       "       0.6      , 0.733333 , 0.866667 ])"
      ]
     },
     "execution_count": 160,
     "metadata": {},
     "output_type": "execute_result"
    }
   ],
   "source": [
    "x_vals"
   ]
  }
 ],
 "metadata": {
  "kernelspec": {
   "display_name": "Python 3",
   "language": "python",
   "name": "python3"
  },
  "language_info": {
   "codemirror_mode": {
    "name": "ipython",
    "version": 3
   },
   "file_extension": ".py",
   "mimetype": "text/x-python",
   "name": "python",
   "nbconvert_exporter": "python",
   "pygments_lexer": "ipython3",
   "version": "3.9.6"
  }
 },
 "nbformat": 4,
 "nbformat_minor": 2
}
