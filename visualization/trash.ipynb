{
 "cells": [
  {
   "cell_type": "code",
   "execution_count": null,
   "metadata": {
    "vscode": {
     "languageId": "plaintext"
    }
   },
   "outputs": [],
   "source": [
    "   // for each boundary, add it by 1 then divide by 2 \n",
    "   for (int i = 0; i < boundaryDirichlet[0].size(); i++) {\n",
    "      Vec2D point = boundaryDirichlet[0][i];\n",
    "      point = (point + Vec2D(1, 1)) * 0.5;\n",
    "      boundaryDirichlet[0][i] = point;\n",
    "      cout << \"boundary \" << i << \": \" << boundaryDirichlet[0][i] << std::endl;\n",
    "\n",
    "      // cout << \"boundary \" << i << \": \" << boundaryDirichlet[i][0] << std::endl;\n",
    "   //    Polyline p = boundaryDirichlet[i];\n",
    "   //    for (int j = 0; j < p.size(); j++) {\n",
    "   //       p[j] = p[j] * 0.5 + Vec2D(0.5, 0.5);\n",
    "   //    }\n",
    "   //    boundaryDirichlet.push_back(p);\n",
    "   }\n"
   ]
  }
 ],
 "metadata": {
  "language_info": {
   "name": "python"
  }
 },
 "nbformat": 4,
 "nbformat_minor": 2
}
