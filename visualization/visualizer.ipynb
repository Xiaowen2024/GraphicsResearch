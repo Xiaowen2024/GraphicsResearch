{
 "cells": [
  {
   "cell_type": "code",
   "execution_count": 11,
   "metadata": {},
   "outputs": [],
   "source": [
    "import numpy as np\n",
    "import pandas as pd\n",
    "import plotly.graph_objects as go\n",
    "\n",
    "csv_dir = \"../output/\"\n",
    "def visualize_csv_output( path, output_path = \"./solver_output_plot.png\", xstart = 0, ystart = 0, xend = 1, yend = 1):\n",
    "    data = pd.read_csv(path, header=None)\n",
    "    x = np.linspace(xstart, xend, data.shape[1])\n",
    "    y = np.linspace(ystart, yend, data.shape[0])\n",
    "    X, Y = np.meshgrid(x, y)\n",
    "    Z = data.values         \n",
    "    fig = go.Figure(data=[go.Surface(z=Z, x=X, y=Y, colorscale='Viridis')])\n",
    "    fig.update_layout(scene=dict(\n",
    "        xaxis_title='X',\n",
    "        yaxis_title='Y',\n",
    "        zaxis_title='Z',\n",
    "        \n",
    "        # Fix the axis ranges for equal scaling\n",
    "        xaxis=dict(range=[-1, 1]),\n",
    "        yaxis=dict(range=[-1, 1]),\n",
    "        zaxis=dict(range=[-1, 1]),\n",
    "        \n",
    "        # Set aspect ratio to ensure fixed scale\n",
    "        aspectmode='cube'  # Ensures that all axes are scaled equally\n",
    "    ))\n",
    "\n",
    "\n",
    "    fig.show()\n",
    "    fig.write_image(output_path)\n",
    "    print(f\"Figure saved as {output_path}\")\n"
   ]
  },
  {
   "cell_type": "markdown",
   "metadata": {},
   "source": [
    "### Simple Rectangle Reference"
   ]
  },
  {
   "cell_type": "code",
   "execution_count": null,
   "metadata": {},
   "outputs": [],
   "source": [
    "import numpy as np\n",
    "import matplotlib.pyplot as plt\n",
    "from mpl_toolkits.mplot3d.art3d import Poly3DCollection\n",
    "\n",
    "\n",
    "vertices = np.array([\n",
    "    [0, 0, 0],\n",
    "    [1, 0, 1],\n",
    "    [1, 1, 1],\n",
    "    [0, 1, 0],\n",
    "])\n",
    "\n",
    "faces = [[vertices[0], vertices[1], vertices[2], vertices[3]]]\n",
    "\n",
    "fig = plt.figure()\n",
    "ax = fig.add_subplot(111, projection='3d')\n",
    "\n",
    "rectangle = Poly3DCollection(faces, facecolors='cyan', linewidths=1, edgecolors='r', alpha=0.5)\n",
    "\n",
    "ax.add_collection3d(rectangle)\n",
    "\n",
    "ax.set_xlim([0, 1])\n",
    "ax.set_ylim([0, 1])\n",
    "ax.set_zlim([0, 1])\n",
    "ax.set_xlabel('X')\n",
    "ax.set_ylabel('Y')\n",
    "ax.set_zlabel('Z')\n",
    "\n",
    "plt.show()"
   ]
  },
  {
   "cell_type": "markdown",
   "metadata": {},
   "source": [
    "### Simple Rectangle Result"
   ]
  },
  {
   "cell_type": "code",
   "execution_count": null,
   "metadata": {},
   "outputs": [],
   "source": [
    "visualize_csv_output(f\"{output_path}/polygon_solver_out.csv\",\"./simple_rectangle_output_plot.png\" )"
   ]
  },
  {
   "cell_type": "markdown",
   "metadata": {},
   "source": [
    "### Modified version of  f (x, y) = x^2 - y^2"
   ]
  },
  {
   "cell_type": "code",
   "execution_count": 4,
   "metadata": {},
   "outputs": [],
   "source": [
    "def create_saddle_point_boundary(x1, y1, x2, y2, num_points):\n",
    "    result = []\n",
    "    boundary = []\n",
    "\n",
    "    x_step = (x2 - x1) / num_points\n",
    "    y_step = (y2 - y1) / num_points\n",
    "\n",
    "    # Bottom edge (left to right)\n",
    "    x = x1\n",
    "    while x <= x2:\n",
    "        boundary.append([x, y1, x*x - y1*y1])\n",
    "        x += x_step\n",
    "\n",
    "    # Right edge (bottom to top)\n",
    "    y = y1 + y_step\n",
    "    while y <= y2:\n",
    "        boundary.append([x2, y, x2*x2 - y*y])\n",
    "        y += y_step\n",
    "\n",
    "    # Top edge (right to left)\n",
    "    x = x2 - x_step\n",
    "    while x >= x1:\n",
    "        boundary.append([x, y2, x*x - y2*y2])\n",
    "        x -= x_step\n",
    "\n",
    "    # Left edge (top to bottom)\n",
    "    y = y2 - y_step\n",
    "    while y > y1:\n",
    "        boundary.append([x1, y, x1*x1 - y*y])\n",
    "        y -= y_step\n",
    "\n",
    "    result.append(boundary)\n",
    "    return np.array(result)\n"
   ]
  },
  {
   "cell_type": "code",
   "execution_count": 5,
   "metadata": {},
   "outputs": [],
   "source": [
    "saddle_point_boundary = create_saddle_point_boundary(0, 0, 1, 1, 30)"
   ]
  },
  {
   "cell_type": "code",
   "execution_count": null,
   "metadata": {},
   "outputs": [],
   "source": [
    "import plotly.graph_objects as go\n",
    "\n",
    "# Example individual points defined by x, y, and z\n",
    "x = saddle_point_boundary[0][:, 0]\n",
    "y = saddle_point_boundary[0][:, 1]\n",
    "z = saddle_point_boundary[0][:, 2]\n",
    "\n",
    "# Create a 3D scatter plot using Plotly\n",
    "# fig = go.Figure(data=[go.Scatter3d(\n",
    "#     x=x,\n",
    "#     y=y,\n",
    "#     z=z,\n",
    "#     mode='markers+lines',  \n",
    "#     marker=dict(size=5, color='black'),  \n",
    "#     line=dict(color='black', width=2)  \n",
    "# )])\n",
    "\n",
    "\n",
    "fig = go.Figure()\n",
    "# Add lines connecting the points\n",
    "fig.add_trace(go.Scatter3d(\n",
    "    x=x,\n",
    "    y=y,\n",
    "    z=z,\n",
    "    mode='lines',  # Use lines to connect points\n",
    "    line=dict(color='black', width=2)  # Customize line color and width\n",
    "))\n",
    "# Set axis labels\n",
    "fig.update_layout(scene=dict(\n",
    "    xaxis_title='X',\n",
    "    yaxis_title='Y',\n",
    "    zaxis_title='Z',\n",
    "    \n",
    "    # Fix the axis ranges for equal scaling\n",
    "    xaxis=dict(range=[-1, 1]),\n",
    "    yaxis=dict(range=[-1, 1]),\n",
    "    zaxis=dict(range=[-1, 1]),\n",
    "    \n",
    "    # Set aspect ratio to ensure fixed scale\n",
    "    aspectmode='cube'  # Ensures that all axes are scaled equally\n",
    "))\n",
    "\n",
    "# Show the interactive plot\n",
    "fig.show()\n"
   ]
  },
  {
   "cell_type": "markdown",
   "metadata": {},
   "source": [
    "### Result for modified version of f (x, y) = x^2 - y^2"
   ]
  },
  {
   "cell_type": "code",
   "execution_count": null,
   "metadata": {},
   "outputs": [],
   "source": [
    "visualize_csv_output(f\"{output_path}/saddlePointStar.csv\",\"./saddle_point_output_plot.png\" )"
   ]
  },
  {
   "cell_type": "markdown",
   "metadata": {},
   "source": [
    "### Corrected version of f (x, y) = x^2 - y^2"
   ]
  },
  {
   "cell_type": "code",
   "execution_count": 14,
   "metadata": {},
   "outputs": [],
   "source": [
    "corrected_saddle_point_boundary = create_saddle_point_boundary(-1, -1, 1, 1, 30)"
   ]
  },
  {
   "cell_type": "code",
   "execution_count": null,
   "metadata": {},
   "outputs": [],
   "source": [
    "import plotly.graph_objects as go\n",
    "\n",
    "# Example individual points defined by x, y, and z\n",
    "x = corrected_saddle_point_boundary[0][:, 0]\n",
    "y = corrected_saddle_point_boundary[0][:, 1]\n",
    "z = corrected_saddle_point_boundary[0][:, 2]\n",
    "\n",
    "# Create a 3D scatter plot using Plotly\n",
    "# fig = go.Figure(data=[go.Scatter3d(\n",
    "#     x=x,\n",
    "#     y=y,\n",
    "#     z=z,\n",
    "#     mode='markers+lines',  \n",
    "#     marker=dict(size=5, color='black'),  \n",
    "#     line=dict(color='black', width=2)  \n",
    "# )])\n",
    "\n",
    "\n",
    "fig = go.Figure()\n",
    "# Add lines connecting the points\n",
    "fig.add_trace(go.Scatter3d(\n",
    "    x=x,\n",
    "    y=y,\n",
    "    z=z,\n",
    "    mode='lines',  # Use lines to connect points\n",
    "    line=dict(color='black', width=2)  # Customize line color and width\n",
    "))\n",
    "# Set axis labels\n",
    "fig.update_layout(scene=dict(\n",
    "    xaxis_title='X',\n",
    "    yaxis_title='Y',\n",
    "    zaxis_title='Z',\n",
    "    \n",
    "    # Fix the axis ranges for equal scaling\n",
    "    xaxis=dict(range=[-1, 1]),\n",
    "    yaxis=dict(range=[-1, 1]),\n",
    "    zaxis=dict(range=[-1, 1]),\n",
    "    \n",
    "    # Set aspect ratio to ensure fixed scale\n",
    "    aspectmode='cube'  # Ensures that all axes are scaled equally\n",
    "))\n",
    "\n",
    "# Show the interactive plot\n",
    "fig.show()\n"
   ]
  },
  {
   "cell_type": "code",
   "execution_count": 16,
   "metadata": {},
   "outputs": [],
   "source": [
    "def plot_saddle_point_surface(x1, x2, y1, y2, num_points):\n",
    "    # Generate x and y values\n",
    "    x_values = np.linspace(x1, x2, num_points)\n",
    "    y_values = np.linspace(y1, y2, num_points)\n",
    "    X, Y = np.meshgrid(x_values, y_values)\n",
    "    \n",
    "    # Calculate Z values based on the saddle point function\n",
    "    Z = X**2 - Y**2 \n",
    "        \n",
    "    # Create the surface plot\n",
    "    fig = go.Figure(data=[go.Surface(z=Z, x=X, y=Y, colorscale='Viridis')])\n",
    "    \n",
    "    # Set axis labels and ranges for equal scaling\n",
    "    fig.update_layout(scene=dict(\n",
    "        xaxis_title='X',\n",
    "        yaxis_title='Y',\n",
    "        zaxis_title='Z',\n",
    "    ),  autosize=True\n",
    "    )\n",
    "    \n",
    "    # Display the plot\n",
    "    fig.show()\n"
   ]
  },
  {
   "cell_type": "code",
   "execution_count": null,
   "metadata": {},
   "outputs": [],
   "source": [
    "plot_saddle_point_surface(-1, 1, -1, 1, 50) "
   ]
  },
  {
   "cell_type": "code",
   "execution_count": null,
   "metadata": {},
   "outputs": [],
   "source": [
    "visualize_csv_output(\"../solver/saddlePointCorrected.csv\",\"./saddle_corrected.png\" )"
   ]
  },
  {
   "cell_type": "markdown",
   "metadata": {},
   "source": [
    "### Sinusoid Reference"
   ]
  },
  {
   "cell_type": "code",
   "execution_count": null,
   "metadata": {},
   "outputs": [],
   "source": [
    "import numpy as np\n",
    "import matplotlib.pyplot as plt\n",
    "from mpl_toolkits.mplot3d import Axes3D\n",
    "\n",
    "# Parameters\n",
    "num_points = 100\n",
    "amplitude = 0.1\n",
    "frequency = 2 * np.pi\n",
    "\n",
    "# Generate the 3D sinusoidal surface\n",
    "x = np.linspace(0, 1, num_points)\n",
    "y = np.linspace(0, 1, num_points)\n",
    "X, Y = np.meshgrid(x, y)\n",
    "Z = amplitude * np.sin(frequency * X) * np.sin(frequency * Y)\n",
    "\n",
    "# Create the 3D plot\n",
    "fig = plt.figure(figsize=(10, 8))\n",
    "ax = fig.add_subplot(111, projection='3d')\n",
    "\n",
    "# Plot the surface\n",
    "surf = ax.plot_surface(X, Y, Z, cmap='viridis')\n",
    "\n",
    "# Set plot limits and labels\n",
    "ax.set_xlim(0, 1)\n",
    "ax.set_ylim(0, 1)\n",
    "ax.set_zlim(-amplitude, amplitude)\n",
    "ax.set_xlabel('X')\n",
    "ax.set_ylabel('Y')\n",
    "ax.set_zlabel('Z')\n",
    "ax.set_title('3D Sinusoidal Surface')\n",
    "\n",
    "# Add a color bar\n",
    "fig.colorbar(surf)\n",
    "\n",
    "# Show the plot\n",
    "plt.show()"
   ]
  },
  {
   "cell_type": "code",
   "execution_count": null,
   "metadata": {},
   "outputs": [],
   "source": [
    "visualize_csv_output(\"../solver/out.csv\",\"./sinusoid_output_plot.png\" ) "
   ]
  },
  {
   "cell_type": "code",
   "execution_count": null,
   "metadata": {},
   "outputs": [],
   "source": [
    "visualize_csv_output(\"../output/sample_out.csv\",\"./sinusoid_output_plot.png\" )"
   ]
  },
  {
   "cell_type": "markdown",
   "metadata": {},
   "source": [
    "### Star shape reference"
   ]
  },
  {
   "cell_type": "code",
   "execution_count": 22,
   "metadata": {},
   "outputs": [
    {
     "data": {
      "application/vnd.plotly.v1+json": {
       "config": {
        "plotlyServerURL": "https://plot.ly"
       },
       "data": [
        {
         "line": {
          "color": "blue",
          "width": 2
         },
         "mode": "lines",
         "type": "scatter3d",
         "x": [
          1,
          0.4045084971874737
         ],
         "y": [
          0,
          0.29389262614623657
         ],
         "z": [
          0.5773502691896256,
          0.23354308974067886
         ]
        },
        {
         "line": {
          "color": "blue",
          "width": 2
         },
         "mode": "lines",
         "type": "scatter3d",
         "x": [
          0.4045084971874737,
          0.30901699437494745
         ],
         "y": [
          0.29389262614623657,
          0.9510565162951535
         ],
         "z": [
          0.23354308974067886,
          0.17841104488654494
         ]
        },
        {
         "line": {
          "color": "blue",
          "width": 2
         },
         "mode": "lines",
         "type": "scatter3d",
         "x": [
          0.30901699437494745,
          -0.15450849718747367
         ],
         "y": [
          0.9510565162951535,
          0.4755282581475768
         ],
         "z": [
          0.17841104488654494,
          -0.08920552244327244
         ]
        },
        {
         "line": {
          "color": "blue",
          "width": 2
         },
         "mode": "lines",
         "type": "scatter3d",
         "x": [
          -0.15450849718747367,
          -0.8090169943749473
         ],
         "y": [
          0.4755282581475768,
          0.5877852522924732
         ],
         "z": [
          -0.08920552244327244,
          -0.46708617948135767
         ]
        },
        {
         "line": {
          "color": "blue",
          "width": 2
         },
         "mode": "lines",
         "type": "scatter3d",
         "x": [
          -0.8090169943749473,
          -0.5
         ],
         "y": [
          0.5877852522924732,
          6.123233995736766e-17
         ],
         "z": [
          -0.46708617948135767,
          -0.2886751345948128
         ]
        },
        {
         "line": {
          "color": "blue",
          "width": 2
         },
         "mode": "lines",
         "type": "scatter3d",
         "x": [
          -0.5,
          -0.8090169943749475
         ],
         "y": [
          6.123233995736766e-17,
          -0.587785252292473
         ],
         "z": [
          -0.2886751345948128,
          -0.4670861794813577
         ]
        },
        {
         "line": {
          "color": "blue",
          "width": 2
         },
         "mode": "lines",
         "type": "scatter3d",
         "x": [
          -0.8090169943749475,
          -0.15450849718747378
         ],
         "y": [
          -0.587785252292473,
          -0.47552825814757677
         ],
         "z": [
          -0.4670861794813577,
          -0.0892055224432725
         ]
        },
        {
         "line": {
          "color": "blue",
          "width": 2
         },
         "mode": "lines",
         "type": "scatter3d",
         "x": [
          -0.15450849718747378,
          0.30901699437494723
         ],
         "y": [
          -0.47552825814757677,
          -0.9510565162951536
         ],
         "z": [
          -0.0892055224432725,
          0.1784110448865448
         ]
        },
        {
         "line": {
          "color": "blue",
          "width": 2
         },
         "mode": "lines",
         "type": "scatter3d",
         "x": [
          0.30901699437494723,
          0.40450849718747367
         ],
         "y": [
          -0.9510565162951536,
          -0.2938926261462367
         ],
         "z": [
          0.1784110448865448,
          0.23354308974067883
         ]
        },
        {
         "line": {
          "color": "blue",
          "width": 2
         },
         "mode": "lines",
         "type": "scatter3d",
         "x": [
          0.40450849718747367,
          1
         ],
         "y": [
          -0.2938926261462367,
          0
         ],
         "z": [
          0.23354308974067883,
          0.5773502691896256
         ]
        },
        {
         "marker": {
          "color": "red",
          "opacity": 0.8,
          "size": 5
         },
         "mode": "markers",
         "type": "scatter3d",
         "x": [
          1,
          0.4045084971874737,
          0.30901699437494745,
          -0.15450849718747367,
          -0.8090169943749473,
          -0.5,
          -0.8090169943749475,
          -0.15450849718747378,
          0.30901699437494723,
          0.40450849718747367
         ],
         "y": [
          0,
          0.29389262614623657,
          0.9510565162951535,
          0.4755282581475768,
          0.5877852522924732,
          6.123233995736766e-17,
          -0.587785252292473,
          -0.47552825814757677,
          -0.9510565162951536,
          -0.2938926261462367
         ],
         "z": [
          0.5773502691896256,
          0.23354308974067886,
          0.17841104488654494,
          -0.08920552244327244,
          -0.46708617948135767,
          -0.2886751345948128,
          -0.4670861794813577,
          -0.0892055224432725,
          0.1784110448865448,
          0.23354308974067883
         ]
        }
       ],
       "layout": {
        "scene": {
         "xaxis": {
          "title": {
           "text": "X-axis"
          }
         },
         "yaxis": {
          "title": {
           "text": "Y-axis"
          }
         },
         "zaxis": {
          "title": {
           "text": "Z-axis"
          }
         }
        },
        "template": {
         "data": {
          "bar": [
           {
            "error_x": {
             "color": "#2a3f5f"
            },
            "error_y": {
             "color": "#2a3f5f"
            },
            "marker": {
             "line": {
              "color": "#E5ECF6",
              "width": 0.5
             },
             "pattern": {
              "fillmode": "overlay",
              "size": 10,
              "solidity": 0.2
             }
            },
            "type": "bar"
           }
          ],
          "barpolar": [
           {
            "marker": {
             "line": {
              "color": "#E5ECF6",
              "width": 0.5
             },
             "pattern": {
              "fillmode": "overlay",
              "size": 10,
              "solidity": 0.2
             }
            },
            "type": "barpolar"
           }
          ],
          "carpet": [
           {
            "aaxis": {
             "endlinecolor": "#2a3f5f",
             "gridcolor": "white",
             "linecolor": "white",
             "minorgridcolor": "white",
             "startlinecolor": "#2a3f5f"
            },
            "baxis": {
             "endlinecolor": "#2a3f5f",
             "gridcolor": "white",
             "linecolor": "white",
             "minorgridcolor": "white",
             "startlinecolor": "#2a3f5f"
            },
            "type": "carpet"
           }
          ],
          "choropleth": [
           {
            "colorbar": {
             "outlinewidth": 0,
             "ticks": ""
            },
            "type": "choropleth"
           }
          ],
          "contour": [
           {
            "colorbar": {
             "outlinewidth": 0,
             "ticks": ""
            },
            "colorscale": [
             [
              0,
              "#0d0887"
             ],
             [
              0.1111111111111111,
              "#46039f"
             ],
             [
              0.2222222222222222,
              "#7201a8"
             ],
             [
              0.3333333333333333,
              "#9c179e"
             ],
             [
              0.4444444444444444,
              "#bd3786"
             ],
             [
              0.5555555555555556,
              "#d8576b"
             ],
             [
              0.6666666666666666,
              "#ed7953"
             ],
             [
              0.7777777777777778,
              "#fb9f3a"
             ],
             [
              0.8888888888888888,
              "#fdca26"
             ],
             [
              1,
              "#f0f921"
             ]
            ],
            "type": "contour"
           }
          ],
          "contourcarpet": [
           {
            "colorbar": {
             "outlinewidth": 0,
             "ticks": ""
            },
            "type": "contourcarpet"
           }
          ],
          "heatmap": [
           {
            "colorbar": {
             "outlinewidth": 0,
             "ticks": ""
            },
            "colorscale": [
             [
              0,
              "#0d0887"
             ],
             [
              0.1111111111111111,
              "#46039f"
             ],
             [
              0.2222222222222222,
              "#7201a8"
             ],
             [
              0.3333333333333333,
              "#9c179e"
             ],
             [
              0.4444444444444444,
              "#bd3786"
             ],
             [
              0.5555555555555556,
              "#d8576b"
             ],
             [
              0.6666666666666666,
              "#ed7953"
             ],
             [
              0.7777777777777778,
              "#fb9f3a"
             ],
             [
              0.8888888888888888,
              "#fdca26"
             ],
             [
              1,
              "#f0f921"
             ]
            ],
            "type": "heatmap"
           }
          ],
          "heatmapgl": [
           {
            "colorbar": {
             "outlinewidth": 0,
             "ticks": ""
            },
            "colorscale": [
             [
              0,
              "#0d0887"
             ],
             [
              0.1111111111111111,
              "#46039f"
             ],
             [
              0.2222222222222222,
              "#7201a8"
             ],
             [
              0.3333333333333333,
              "#9c179e"
             ],
             [
              0.4444444444444444,
              "#bd3786"
             ],
             [
              0.5555555555555556,
              "#d8576b"
             ],
             [
              0.6666666666666666,
              "#ed7953"
             ],
             [
              0.7777777777777778,
              "#fb9f3a"
             ],
             [
              0.8888888888888888,
              "#fdca26"
             ],
             [
              1,
              "#f0f921"
             ]
            ],
            "type": "heatmapgl"
           }
          ],
          "histogram": [
           {
            "marker": {
             "pattern": {
              "fillmode": "overlay",
              "size": 10,
              "solidity": 0.2
             }
            },
            "type": "histogram"
           }
          ],
          "histogram2d": [
           {
            "colorbar": {
             "outlinewidth": 0,
             "ticks": ""
            },
            "colorscale": [
             [
              0,
              "#0d0887"
             ],
             [
              0.1111111111111111,
              "#46039f"
             ],
             [
              0.2222222222222222,
              "#7201a8"
             ],
             [
              0.3333333333333333,
              "#9c179e"
             ],
             [
              0.4444444444444444,
              "#bd3786"
             ],
             [
              0.5555555555555556,
              "#d8576b"
             ],
             [
              0.6666666666666666,
              "#ed7953"
             ],
             [
              0.7777777777777778,
              "#fb9f3a"
             ],
             [
              0.8888888888888888,
              "#fdca26"
             ],
             [
              1,
              "#f0f921"
             ]
            ],
            "type": "histogram2d"
           }
          ],
          "histogram2dcontour": [
           {
            "colorbar": {
             "outlinewidth": 0,
             "ticks": ""
            },
            "colorscale": [
             [
              0,
              "#0d0887"
             ],
             [
              0.1111111111111111,
              "#46039f"
             ],
             [
              0.2222222222222222,
              "#7201a8"
             ],
             [
              0.3333333333333333,
              "#9c179e"
             ],
             [
              0.4444444444444444,
              "#bd3786"
             ],
             [
              0.5555555555555556,
              "#d8576b"
             ],
             [
              0.6666666666666666,
              "#ed7953"
             ],
             [
              0.7777777777777778,
              "#fb9f3a"
             ],
             [
              0.8888888888888888,
              "#fdca26"
             ],
             [
              1,
              "#f0f921"
             ]
            ],
            "type": "histogram2dcontour"
           }
          ],
          "mesh3d": [
           {
            "colorbar": {
             "outlinewidth": 0,
             "ticks": ""
            },
            "type": "mesh3d"
           }
          ],
          "parcoords": [
           {
            "line": {
             "colorbar": {
              "outlinewidth": 0,
              "ticks": ""
             }
            },
            "type": "parcoords"
           }
          ],
          "pie": [
           {
            "automargin": true,
            "type": "pie"
           }
          ],
          "scatter": [
           {
            "fillpattern": {
             "fillmode": "overlay",
             "size": 10,
             "solidity": 0.2
            },
            "type": "scatter"
           }
          ],
          "scatter3d": [
           {
            "line": {
             "colorbar": {
              "outlinewidth": 0,
              "ticks": ""
             }
            },
            "marker": {
             "colorbar": {
              "outlinewidth": 0,
              "ticks": ""
             }
            },
            "type": "scatter3d"
           }
          ],
          "scattercarpet": [
           {
            "marker": {
             "colorbar": {
              "outlinewidth": 0,
              "ticks": ""
             }
            },
            "type": "scattercarpet"
           }
          ],
          "scattergeo": [
           {
            "marker": {
             "colorbar": {
              "outlinewidth": 0,
              "ticks": ""
             }
            },
            "type": "scattergeo"
           }
          ],
          "scattergl": [
           {
            "marker": {
             "colorbar": {
              "outlinewidth": 0,
              "ticks": ""
             }
            },
            "type": "scattergl"
           }
          ],
          "scattermapbox": [
           {
            "marker": {
             "colorbar": {
              "outlinewidth": 0,
              "ticks": ""
             }
            },
            "type": "scattermapbox"
           }
          ],
          "scatterpolar": [
           {
            "marker": {
             "colorbar": {
              "outlinewidth": 0,
              "ticks": ""
             }
            },
            "type": "scatterpolar"
           }
          ],
          "scatterpolargl": [
           {
            "marker": {
             "colorbar": {
              "outlinewidth": 0,
              "ticks": ""
             }
            },
            "type": "scatterpolargl"
           }
          ],
          "scatterternary": [
           {
            "marker": {
             "colorbar": {
              "outlinewidth": 0,
              "ticks": ""
             }
            },
            "type": "scatterternary"
           }
          ],
          "surface": [
           {
            "colorbar": {
             "outlinewidth": 0,
             "ticks": ""
            },
            "colorscale": [
             [
              0,
              "#0d0887"
             ],
             [
              0.1111111111111111,
              "#46039f"
             ],
             [
              0.2222222222222222,
              "#7201a8"
             ],
             [
              0.3333333333333333,
              "#9c179e"
             ],
             [
              0.4444444444444444,
              "#bd3786"
             ],
             [
              0.5555555555555556,
              "#d8576b"
             ],
             [
              0.6666666666666666,
              "#ed7953"
             ],
             [
              0.7777777777777778,
              "#fb9f3a"
             ],
             [
              0.8888888888888888,
              "#fdca26"
             ],
             [
              1,
              "#f0f921"
             ]
            ],
            "type": "surface"
           }
          ],
          "table": [
           {
            "cells": {
             "fill": {
              "color": "#EBF0F8"
             },
             "line": {
              "color": "white"
             }
            },
            "header": {
             "fill": {
              "color": "#C8D4E3"
             },
             "line": {
              "color": "white"
             }
            },
            "type": "table"
           }
          ]
         },
         "layout": {
          "annotationdefaults": {
           "arrowcolor": "#2a3f5f",
           "arrowhead": 0,
           "arrowwidth": 1
          },
          "autotypenumbers": "strict",
          "coloraxis": {
           "colorbar": {
            "outlinewidth": 0,
            "ticks": ""
           }
          },
          "colorscale": {
           "diverging": [
            [
             0,
             "#8e0152"
            ],
            [
             0.1,
             "#c51b7d"
            ],
            [
             0.2,
             "#de77ae"
            ],
            [
             0.3,
             "#f1b6da"
            ],
            [
             0.4,
             "#fde0ef"
            ],
            [
             0.5,
             "#f7f7f7"
            ],
            [
             0.6,
             "#e6f5d0"
            ],
            [
             0.7,
             "#b8e186"
            ],
            [
             0.8,
             "#7fbc41"
            ],
            [
             0.9,
             "#4d9221"
            ],
            [
             1,
             "#276419"
            ]
           ],
           "sequential": [
            [
             0,
             "#0d0887"
            ],
            [
             0.1111111111111111,
             "#46039f"
            ],
            [
             0.2222222222222222,
             "#7201a8"
            ],
            [
             0.3333333333333333,
             "#9c179e"
            ],
            [
             0.4444444444444444,
             "#bd3786"
            ],
            [
             0.5555555555555556,
             "#d8576b"
            ],
            [
             0.6666666666666666,
             "#ed7953"
            ],
            [
             0.7777777777777778,
             "#fb9f3a"
            ],
            [
             0.8888888888888888,
             "#fdca26"
            ],
            [
             1,
             "#f0f921"
            ]
           ],
           "sequentialminus": [
            [
             0,
             "#0d0887"
            ],
            [
             0.1111111111111111,
             "#46039f"
            ],
            [
             0.2222222222222222,
             "#7201a8"
            ],
            [
             0.3333333333333333,
             "#9c179e"
            ],
            [
             0.4444444444444444,
             "#bd3786"
            ],
            [
             0.5555555555555556,
             "#d8576b"
            ],
            [
             0.6666666666666666,
             "#ed7953"
            ],
            [
             0.7777777777777778,
             "#fb9f3a"
            ],
            [
             0.8888888888888888,
             "#fdca26"
            ],
            [
             1,
             "#f0f921"
            ]
           ]
          },
          "colorway": [
           "#636efa",
           "#EF553B",
           "#00cc96",
           "#ab63fa",
           "#FFA15A",
           "#19d3f3",
           "#FF6692",
           "#B6E880",
           "#FF97FF",
           "#FECB52"
          ],
          "font": {
           "color": "#2a3f5f"
          },
          "geo": {
           "bgcolor": "white",
           "lakecolor": "white",
           "landcolor": "#E5ECF6",
           "showlakes": true,
           "showland": true,
           "subunitcolor": "white"
          },
          "hoverlabel": {
           "align": "left"
          },
          "hovermode": "closest",
          "mapbox": {
           "style": "light"
          },
          "paper_bgcolor": "white",
          "plot_bgcolor": "#E5ECF6",
          "polar": {
           "angularaxis": {
            "gridcolor": "white",
            "linecolor": "white",
            "ticks": ""
           },
           "bgcolor": "#E5ECF6",
           "radialaxis": {
            "gridcolor": "white",
            "linecolor": "white",
            "ticks": ""
           }
          },
          "scene": {
           "xaxis": {
            "backgroundcolor": "#E5ECF6",
            "gridcolor": "white",
            "gridwidth": 2,
            "linecolor": "white",
            "showbackground": true,
            "ticks": "",
            "zerolinecolor": "white"
           },
           "yaxis": {
            "backgroundcolor": "#E5ECF6",
            "gridcolor": "white",
            "gridwidth": 2,
            "linecolor": "white",
            "showbackground": true,
            "ticks": "",
            "zerolinecolor": "white"
           },
           "zaxis": {
            "backgroundcolor": "#E5ECF6",
            "gridcolor": "white",
            "gridwidth": 2,
            "linecolor": "white",
            "showbackground": true,
            "ticks": "",
            "zerolinecolor": "white"
           }
          },
          "shapedefaults": {
           "line": {
            "color": "#2a3f5f"
           }
          },
          "ternary": {
           "aaxis": {
            "gridcolor": "white",
            "linecolor": "white",
            "ticks": ""
           },
           "baxis": {
            "gridcolor": "white",
            "linecolor": "white",
            "ticks": ""
           },
           "bgcolor": "#E5ECF6",
           "caxis": {
            "gridcolor": "white",
            "linecolor": "white",
            "ticks": ""
           }
          },
          "title": {
           "x": 0.05
          },
          "xaxis": {
           "automargin": true,
           "gridcolor": "white",
           "linecolor": "white",
           "ticks": "",
           "title": {
            "standoff": 15
           },
           "zerolinecolor": "white",
           "zerolinewidth": 2
          },
          "yaxis": {
           "automargin": true,
           "gridcolor": "white",
           "linecolor": "white",
           "ticks": "",
           "title": {
            "standoff": 15
           },
           "zerolinecolor": "white",
           "zerolinewidth": 2
          }
         }
        },
        "title": {
         "text": "3D Star Shape on a Tilted Plane"
        }
       }
      }
     },
     "metadata": {},
     "output_type": "display_data"
    }
   ],
   "source": [
    "import numpy as np\n",
    "import plotly.graph_objects as go\n",
    "\n",
    "# Function to generate a complete 3D star-shaped polygon on a tilted plane\n",
    "def generate_complete_3d_star(num_points=5, outer_radius=1, inner_radius=0.5, height_variation=0.5, tilt_angle=np.pi / 6):\n",
    "    angles = np.linspace(0, 2 * np.pi, num_points * 2, endpoint=False)\n",
    "    \n",
    "    # Generate x and y coordinates for the star shape\n",
    "    x = np.array([outer_radius * np.cos(angle) if i % 2 == 0 else inner_radius * np.cos(angle) for i, angle in enumerate(angles)])\n",
    "    y = np.array([outer_radius * np.sin(angle) if i % 2 == 0 else inner_radius * np.sin(angle) for i, angle in enumerate(angles)])\n",
    "    \n",
    "    # Define the tilted plane transformation\n",
    "    z = np.zeros_like(x)  # Start with all z-coordinates at zero\n",
    "    z += np.tan(tilt_angle) * x  # Adjust z based on x to create a tilted plane\n",
    "    # z += np.random.uniform(-height_variation, height_variation, size=len(x))  # Add random heights to create variability\n",
    "    \n",
    "    return x, y, z\n",
    "\n",
    "# Generate the star shape\n",
    "x, y, z = generate_complete_3d_star(num_points=5, outer_radius=1, inner_radius=0.5, height_variation=0.5, tilt_angle=np.pi / 6)\n",
    "\n",
    "# Prepare data for plotting the star shape using plotly\n",
    "fig = go.Figure()\n",
    "\n",
    "# Add lines connecting the vertices\n",
    "for i in range(len(x)):\n",
    "    fig.add_trace(go.Scatter3d(\n",
    "        x=[x[i], x[(i + 1) % len(x)]],\n",
    "        y=[y[i], y[(i + 1) % len(y)]],\n",
    "        z=[z[i], z[(i + 1) % len(z)]],\n",
    "        mode='lines',\n",
    "        line=dict(color='blue', width=2)\n",
    "    ))\n",
    "\n",
    "# Add the points for visibility\n",
    "fig.add_trace(go.Scatter3d(\n",
    "    x=x,\n",
    "    y=y,\n",
    "    z=z,\n",
    "    mode='markers',\n",
    "    marker=dict(size=5, color='red', opacity=0.8)  # Color points\n",
    "))\n",
    "\n",
    "# Setting labels and title\n",
    "fig.update_layout(title_text='3D Star Shape on a Tilted Plane',\n",
    "                  scene=dict(\n",
    "                      xaxis_title='X-axis',\n",
    "                      yaxis_title='Y-axis',\n",
    "                      zaxis_title='Z-axis'),\n",
    "                  )\n",
    "\n",
    "fig.show()"
   ]
  },
  {
   "cell_type": "code",
   "execution_count": null,
   "metadata": {},
   "outputs": [],
   "source": [
    "print(z)"
   ]
  },
  {
   "cell_type": "code",
   "execution_count": null,
   "metadata": {},
   "outputs": [],
   "source": []
  },
  {
   "cell_type": "markdown",
   "metadata": {},
   "source": [
    "# Saddle Point Star"
   ]
  },
  {
   "cell_type": "code",
   "execution_count": 13,
   "metadata": {},
   "outputs": [
    {
     "data": {
      "application/vnd.plotly.v1+json": {
       "config": {
        "plotlyServerURL": "https://plot.ly"
       },
       "data": [
        {
         "colorscale": [
          [
           0,
           "#440154"
          ],
          [
           0.1111111111111111,
           "#482878"
          ],
          [
           0.2222222222222222,
           "#3e4989"
          ],
          [
           0.3333333333333333,
           "#31688e"
          ],
          [
           0.4444444444444444,
           "#26828e"
          ],
          [
           0.5555555555555556,
           "#1f9e89"
          ],
          [
           0.6666666666666666,
           "#35b779"
          ],
          [
           0.7777777777777778,
           "#6ece58"
          ],
          [
           0.8888888888888888,
           "#b5de2b"
          ],
          [
           1,
           "#fde725"
          ]
         ],
         "type": "surface",
         "x": [
          [
           0,
           0.06666666666666667,
           0.13333333333333333,
           0.2,
           0.26666666666666666,
           0.3333333333333333,
           0.4,
           0.4666666666666667,
           0.5333333333333333,
           0.6,
           0.6666666666666666,
           0.7333333333333333,
           0.8,
           0.8666666666666667,
           0.9333333333333333,
           1
          ],
          [
           0,
           0.06666666666666667,
           0.13333333333333333,
           0.2,
           0.26666666666666666,
           0.3333333333333333,
           0.4,
           0.4666666666666667,
           0.5333333333333333,
           0.6,
           0.6666666666666666,
           0.7333333333333333,
           0.8,
           0.8666666666666667,
           0.9333333333333333,
           1
          ],
          [
           0,
           0.06666666666666667,
           0.13333333333333333,
           0.2,
           0.26666666666666666,
           0.3333333333333333,
           0.4,
           0.4666666666666667,
           0.5333333333333333,
           0.6,
           0.6666666666666666,
           0.7333333333333333,
           0.8,
           0.8666666666666667,
           0.9333333333333333,
           1
          ],
          [
           0,
           0.06666666666666667,
           0.13333333333333333,
           0.2,
           0.26666666666666666,
           0.3333333333333333,
           0.4,
           0.4666666666666667,
           0.5333333333333333,
           0.6,
           0.6666666666666666,
           0.7333333333333333,
           0.8,
           0.8666666666666667,
           0.9333333333333333,
           1
          ],
          [
           0,
           0.06666666666666667,
           0.13333333333333333,
           0.2,
           0.26666666666666666,
           0.3333333333333333,
           0.4,
           0.4666666666666667,
           0.5333333333333333,
           0.6,
           0.6666666666666666,
           0.7333333333333333,
           0.8,
           0.8666666666666667,
           0.9333333333333333,
           1
          ],
          [
           0,
           0.06666666666666667,
           0.13333333333333333,
           0.2,
           0.26666666666666666,
           0.3333333333333333,
           0.4,
           0.4666666666666667,
           0.5333333333333333,
           0.6,
           0.6666666666666666,
           0.7333333333333333,
           0.8,
           0.8666666666666667,
           0.9333333333333333,
           1
          ],
          [
           0,
           0.06666666666666667,
           0.13333333333333333,
           0.2,
           0.26666666666666666,
           0.3333333333333333,
           0.4,
           0.4666666666666667,
           0.5333333333333333,
           0.6,
           0.6666666666666666,
           0.7333333333333333,
           0.8,
           0.8666666666666667,
           0.9333333333333333,
           1
          ],
          [
           0,
           0.06666666666666667,
           0.13333333333333333,
           0.2,
           0.26666666666666666,
           0.3333333333333333,
           0.4,
           0.4666666666666667,
           0.5333333333333333,
           0.6,
           0.6666666666666666,
           0.7333333333333333,
           0.8,
           0.8666666666666667,
           0.9333333333333333,
           1
          ],
          [
           0,
           0.06666666666666667,
           0.13333333333333333,
           0.2,
           0.26666666666666666,
           0.3333333333333333,
           0.4,
           0.4666666666666667,
           0.5333333333333333,
           0.6,
           0.6666666666666666,
           0.7333333333333333,
           0.8,
           0.8666666666666667,
           0.9333333333333333,
           1
          ],
          [
           0,
           0.06666666666666667,
           0.13333333333333333,
           0.2,
           0.26666666666666666,
           0.3333333333333333,
           0.4,
           0.4666666666666667,
           0.5333333333333333,
           0.6,
           0.6666666666666666,
           0.7333333333333333,
           0.8,
           0.8666666666666667,
           0.9333333333333333,
           1
          ],
          [
           0,
           0.06666666666666667,
           0.13333333333333333,
           0.2,
           0.26666666666666666,
           0.3333333333333333,
           0.4,
           0.4666666666666667,
           0.5333333333333333,
           0.6,
           0.6666666666666666,
           0.7333333333333333,
           0.8,
           0.8666666666666667,
           0.9333333333333333,
           1
          ],
          [
           0,
           0.06666666666666667,
           0.13333333333333333,
           0.2,
           0.26666666666666666,
           0.3333333333333333,
           0.4,
           0.4666666666666667,
           0.5333333333333333,
           0.6,
           0.6666666666666666,
           0.7333333333333333,
           0.8,
           0.8666666666666667,
           0.9333333333333333,
           1
          ],
          [
           0,
           0.06666666666666667,
           0.13333333333333333,
           0.2,
           0.26666666666666666,
           0.3333333333333333,
           0.4,
           0.4666666666666667,
           0.5333333333333333,
           0.6,
           0.6666666666666666,
           0.7333333333333333,
           0.8,
           0.8666666666666667,
           0.9333333333333333,
           1
          ],
          [
           0,
           0.06666666666666667,
           0.13333333333333333,
           0.2,
           0.26666666666666666,
           0.3333333333333333,
           0.4,
           0.4666666666666667,
           0.5333333333333333,
           0.6,
           0.6666666666666666,
           0.7333333333333333,
           0.8,
           0.8666666666666667,
           0.9333333333333333,
           1
          ],
          [
           0,
           0.06666666666666667,
           0.13333333333333333,
           0.2,
           0.26666666666666666,
           0.3333333333333333,
           0.4,
           0.4666666666666667,
           0.5333333333333333,
           0.6,
           0.6666666666666666,
           0.7333333333333333,
           0.8,
           0.8666666666666667,
           0.9333333333333333,
           1
          ],
          [
           0,
           0.06666666666666667,
           0.13333333333333333,
           0.2,
           0.26666666666666666,
           0.3333333333333333,
           0.4,
           0.4666666666666667,
           0.5333333333333333,
           0.6,
           0.6666666666666666,
           0.7333333333333333,
           0.8,
           0.8666666666666667,
           0.9333333333333333,
           1
          ]
         ],
         "y": [
          [
           0,
           0,
           0,
           0,
           0,
           0,
           0,
           0,
           0,
           0,
           0,
           0,
           0,
           0,
           0,
           0
          ],
          [
           0.06666666666666667,
           0.06666666666666667,
           0.06666666666666667,
           0.06666666666666667,
           0.06666666666666667,
           0.06666666666666667,
           0.06666666666666667,
           0.06666666666666667,
           0.06666666666666667,
           0.06666666666666667,
           0.06666666666666667,
           0.06666666666666667,
           0.06666666666666667,
           0.06666666666666667,
           0.06666666666666667,
           0.06666666666666667
          ],
          [
           0.13333333333333333,
           0.13333333333333333,
           0.13333333333333333,
           0.13333333333333333,
           0.13333333333333333,
           0.13333333333333333,
           0.13333333333333333,
           0.13333333333333333,
           0.13333333333333333,
           0.13333333333333333,
           0.13333333333333333,
           0.13333333333333333,
           0.13333333333333333,
           0.13333333333333333,
           0.13333333333333333,
           0.13333333333333333
          ],
          [
           0.2,
           0.2,
           0.2,
           0.2,
           0.2,
           0.2,
           0.2,
           0.2,
           0.2,
           0.2,
           0.2,
           0.2,
           0.2,
           0.2,
           0.2,
           0.2
          ],
          [
           0.26666666666666666,
           0.26666666666666666,
           0.26666666666666666,
           0.26666666666666666,
           0.26666666666666666,
           0.26666666666666666,
           0.26666666666666666,
           0.26666666666666666,
           0.26666666666666666,
           0.26666666666666666,
           0.26666666666666666,
           0.26666666666666666,
           0.26666666666666666,
           0.26666666666666666,
           0.26666666666666666,
           0.26666666666666666
          ],
          [
           0.3333333333333333,
           0.3333333333333333,
           0.3333333333333333,
           0.3333333333333333,
           0.3333333333333333,
           0.3333333333333333,
           0.3333333333333333,
           0.3333333333333333,
           0.3333333333333333,
           0.3333333333333333,
           0.3333333333333333,
           0.3333333333333333,
           0.3333333333333333,
           0.3333333333333333,
           0.3333333333333333,
           0.3333333333333333
          ],
          [
           0.4,
           0.4,
           0.4,
           0.4,
           0.4,
           0.4,
           0.4,
           0.4,
           0.4,
           0.4,
           0.4,
           0.4,
           0.4,
           0.4,
           0.4,
           0.4
          ],
          [
           0.4666666666666667,
           0.4666666666666667,
           0.4666666666666667,
           0.4666666666666667,
           0.4666666666666667,
           0.4666666666666667,
           0.4666666666666667,
           0.4666666666666667,
           0.4666666666666667,
           0.4666666666666667,
           0.4666666666666667,
           0.4666666666666667,
           0.4666666666666667,
           0.4666666666666667,
           0.4666666666666667,
           0.4666666666666667
          ],
          [
           0.5333333333333333,
           0.5333333333333333,
           0.5333333333333333,
           0.5333333333333333,
           0.5333333333333333,
           0.5333333333333333,
           0.5333333333333333,
           0.5333333333333333,
           0.5333333333333333,
           0.5333333333333333,
           0.5333333333333333,
           0.5333333333333333,
           0.5333333333333333,
           0.5333333333333333,
           0.5333333333333333,
           0.5333333333333333
          ],
          [
           0.6,
           0.6,
           0.6,
           0.6,
           0.6,
           0.6,
           0.6,
           0.6,
           0.6,
           0.6,
           0.6,
           0.6,
           0.6,
           0.6,
           0.6,
           0.6
          ],
          [
           0.6666666666666666,
           0.6666666666666666,
           0.6666666666666666,
           0.6666666666666666,
           0.6666666666666666,
           0.6666666666666666,
           0.6666666666666666,
           0.6666666666666666,
           0.6666666666666666,
           0.6666666666666666,
           0.6666666666666666,
           0.6666666666666666,
           0.6666666666666666,
           0.6666666666666666,
           0.6666666666666666,
           0.6666666666666666
          ],
          [
           0.7333333333333333,
           0.7333333333333333,
           0.7333333333333333,
           0.7333333333333333,
           0.7333333333333333,
           0.7333333333333333,
           0.7333333333333333,
           0.7333333333333333,
           0.7333333333333333,
           0.7333333333333333,
           0.7333333333333333,
           0.7333333333333333,
           0.7333333333333333,
           0.7333333333333333,
           0.7333333333333333,
           0.7333333333333333
          ],
          [
           0.8,
           0.8,
           0.8,
           0.8,
           0.8,
           0.8,
           0.8,
           0.8,
           0.8,
           0.8,
           0.8,
           0.8,
           0.8,
           0.8,
           0.8,
           0.8
          ],
          [
           0.8666666666666667,
           0.8666666666666667,
           0.8666666666666667,
           0.8666666666666667,
           0.8666666666666667,
           0.8666666666666667,
           0.8666666666666667,
           0.8666666666666667,
           0.8666666666666667,
           0.8666666666666667,
           0.8666666666666667,
           0.8666666666666667,
           0.8666666666666667,
           0.8666666666666667,
           0.8666666666666667,
           0.8666666666666667
          ],
          [
           0.9333333333333333,
           0.9333333333333333,
           0.9333333333333333,
           0.9333333333333333,
           0.9333333333333333,
           0.9333333333333333,
           0.9333333333333333,
           0.9333333333333333,
           0.9333333333333333,
           0.9333333333333333,
           0.9333333333333333,
           0.9333333333333333,
           0.9333333333333333,
           0.9333333333333333,
           0.9333333333333333,
           0.9333333333333333
          ],
          [
           1,
           1,
           1,
           1,
           1,
           1,
           1,
           1,
           1,
           1,
           1,
           1,
           1,
           1,
           1,
           1
          ]
         ],
         "z": [
          [
           null,
           null,
           null,
           null,
           null,
           null,
           null,
           null,
           null,
           null,
           null,
           null,
           null,
           null,
           null,
           null
          ],
          [
           null,
           null,
           null,
           null,
           null,
           null,
           null,
           null,
           null,
           null,
           null,
           null,
           null,
           null,
           null,
           null
          ],
          [
           null,
           null,
           null,
           null,
           null,
           null,
           null,
           null,
           null,
           0.115283,
           0.192406,
           null,
           null,
           null,
           null,
           null
          ],
          [
           null,
           null,
           null,
           null,
           null,
           null,
           null,
           null,
           0.0386982,
           0.1148,
           0.192505,
           null,
           null,
           null,
           null,
           null
          ],
          [
           null,
           null,
           -0.423412,
           -0.346199,
           -0.27008,
           -0.192271,
           -0.11581,
           -0.0389151,
           0.0372197,
           0.115134,
           0.192328,
           null,
           null,
           null,
           null,
           null
          ],
          [
           null,
           null,
           null,
           -0.346669,
           -0.268869,
           -0.192529,
           -0.114986,
           -0.0379327,
           0.0378591,
           0.114196,
           0.192224,
           null,
           null,
           null,
           null,
           null
          ],
          [
           null,
           null,
           null,
           -0.346406,
           -0.269427,
           -0.193477,
           -0.115728,
           -0.0382998,
           0.0386114,
           0.115503,
           0.192108,
           0.269904,
           null,
           null,
           null,
           null
          ],
          [
           null,
           null,
           null,
           null,
           -0.26937,
           -0.19307,
           -0.114619,
           -0.0370861,
           0.0370002,
           0.114435,
           0.192508,
           0.26888,
           0.346398,
           0.422909,
           null,
           null
          ],
          [
           null,
           null,
           null,
           null,
           -0.270489,
           -0.192613,
           -0.114275,
           -0.0382372,
           0.0391846,
           0.115749,
           0.193192,
           0.270494,
           0.34655,
           0.423398,
           null,
           null
          ],
          [
           null,
           null,
           null,
           -0.346545,
           -0.268691,
           -0.191635,
           -0.115506,
           -0.0381027,
           0.0390379,
           0.114369,
           0.193346,
           0.269247,
           null,
           null,
           null,
           null
          ],
          [
           null,
           null,
           null,
           -0.346824,
           -0.268921,
           -0.192703,
           -0.115924,
           -0.0381669,
           0.0383366,
           0.116074,
           0.192513,
           null,
           null,
           null,
           null,
           null
          ],
          [
           null,
           null,
           -0.423387,
           -0.346276,
           -0.270166,
           -0.191998,
           -0.115021,
           -0.0384776,
           0.0370538,
           0.115501,
           0.192604,
           null,
           null,
           null,
           null,
           null
          ],
          [
           null,
           null,
           null,
           null,
           null,
           null,
           null,
           null,
           0.0384956,
           0.115482,
           0.192241,
           null,
           null,
           null,
           null,
           null
          ],
          [
           null,
           null,
           null,
           null,
           null,
           null,
           null,
           null,
           null,
           0.115296,
           0.192458,
           null,
           null,
           null,
           null,
           null
          ],
          [
           null,
           null,
           null,
           null,
           null,
           null,
           null,
           null,
           null,
           null,
           null,
           null,
           null,
           null,
           null,
           null
          ],
          [
           null,
           null,
           null,
           null,
           null,
           null,
           null,
           null,
           null,
           null,
           null,
           null,
           null,
           null,
           null,
           null
          ]
         ]
        }
       ],
       "layout": {
        "scene": {
         "aspectmode": "cube",
         "xaxis": {
          "range": [
           -1,
           1
          ],
          "title": {
           "text": "X"
          }
         },
         "yaxis": {
          "range": [
           -1,
           1
          ],
          "title": {
           "text": "Y"
          }
         },
         "zaxis": {
          "range": [
           -1,
           1
          ],
          "title": {
           "text": "Z"
          }
         }
        },
        "template": {
         "data": {
          "bar": [
           {
            "error_x": {
             "color": "#2a3f5f"
            },
            "error_y": {
             "color": "#2a3f5f"
            },
            "marker": {
             "line": {
              "color": "#E5ECF6",
              "width": 0.5
             },
             "pattern": {
              "fillmode": "overlay",
              "size": 10,
              "solidity": 0.2
             }
            },
            "type": "bar"
           }
          ],
          "barpolar": [
           {
            "marker": {
             "line": {
              "color": "#E5ECF6",
              "width": 0.5
             },
             "pattern": {
              "fillmode": "overlay",
              "size": 10,
              "solidity": 0.2
             }
            },
            "type": "barpolar"
           }
          ],
          "carpet": [
           {
            "aaxis": {
             "endlinecolor": "#2a3f5f",
             "gridcolor": "white",
             "linecolor": "white",
             "minorgridcolor": "white",
             "startlinecolor": "#2a3f5f"
            },
            "baxis": {
             "endlinecolor": "#2a3f5f",
             "gridcolor": "white",
             "linecolor": "white",
             "minorgridcolor": "white",
             "startlinecolor": "#2a3f5f"
            },
            "type": "carpet"
           }
          ],
          "choropleth": [
           {
            "colorbar": {
             "outlinewidth": 0,
             "ticks": ""
            },
            "type": "choropleth"
           }
          ],
          "contour": [
           {
            "colorbar": {
             "outlinewidth": 0,
             "ticks": ""
            },
            "colorscale": [
             [
              0,
              "#0d0887"
             ],
             [
              0.1111111111111111,
              "#46039f"
             ],
             [
              0.2222222222222222,
              "#7201a8"
             ],
             [
              0.3333333333333333,
              "#9c179e"
             ],
             [
              0.4444444444444444,
              "#bd3786"
             ],
             [
              0.5555555555555556,
              "#d8576b"
             ],
             [
              0.6666666666666666,
              "#ed7953"
             ],
             [
              0.7777777777777778,
              "#fb9f3a"
             ],
             [
              0.8888888888888888,
              "#fdca26"
             ],
             [
              1,
              "#f0f921"
             ]
            ],
            "type": "contour"
           }
          ],
          "contourcarpet": [
           {
            "colorbar": {
             "outlinewidth": 0,
             "ticks": ""
            },
            "type": "contourcarpet"
           }
          ],
          "heatmap": [
           {
            "colorbar": {
             "outlinewidth": 0,
             "ticks": ""
            },
            "colorscale": [
             [
              0,
              "#0d0887"
             ],
             [
              0.1111111111111111,
              "#46039f"
             ],
             [
              0.2222222222222222,
              "#7201a8"
             ],
             [
              0.3333333333333333,
              "#9c179e"
             ],
             [
              0.4444444444444444,
              "#bd3786"
             ],
             [
              0.5555555555555556,
              "#d8576b"
             ],
             [
              0.6666666666666666,
              "#ed7953"
             ],
             [
              0.7777777777777778,
              "#fb9f3a"
             ],
             [
              0.8888888888888888,
              "#fdca26"
             ],
             [
              1,
              "#f0f921"
             ]
            ],
            "type": "heatmap"
           }
          ],
          "heatmapgl": [
           {
            "colorbar": {
             "outlinewidth": 0,
             "ticks": ""
            },
            "colorscale": [
             [
              0,
              "#0d0887"
             ],
             [
              0.1111111111111111,
              "#46039f"
             ],
             [
              0.2222222222222222,
              "#7201a8"
             ],
             [
              0.3333333333333333,
              "#9c179e"
             ],
             [
              0.4444444444444444,
              "#bd3786"
             ],
             [
              0.5555555555555556,
              "#d8576b"
             ],
             [
              0.6666666666666666,
              "#ed7953"
             ],
             [
              0.7777777777777778,
              "#fb9f3a"
             ],
             [
              0.8888888888888888,
              "#fdca26"
             ],
             [
              1,
              "#f0f921"
             ]
            ],
            "type": "heatmapgl"
           }
          ],
          "histogram": [
           {
            "marker": {
             "pattern": {
              "fillmode": "overlay",
              "size": 10,
              "solidity": 0.2
             }
            },
            "type": "histogram"
           }
          ],
          "histogram2d": [
           {
            "colorbar": {
             "outlinewidth": 0,
             "ticks": ""
            },
            "colorscale": [
             [
              0,
              "#0d0887"
             ],
             [
              0.1111111111111111,
              "#46039f"
             ],
             [
              0.2222222222222222,
              "#7201a8"
             ],
             [
              0.3333333333333333,
              "#9c179e"
             ],
             [
              0.4444444444444444,
              "#bd3786"
             ],
             [
              0.5555555555555556,
              "#d8576b"
             ],
             [
              0.6666666666666666,
              "#ed7953"
             ],
             [
              0.7777777777777778,
              "#fb9f3a"
             ],
             [
              0.8888888888888888,
              "#fdca26"
             ],
             [
              1,
              "#f0f921"
             ]
            ],
            "type": "histogram2d"
           }
          ],
          "histogram2dcontour": [
           {
            "colorbar": {
             "outlinewidth": 0,
             "ticks": ""
            },
            "colorscale": [
             [
              0,
              "#0d0887"
             ],
             [
              0.1111111111111111,
              "#46039f"
             ],
             [
              0.2222222222222222,
              "#7201a8"
             ],
             [
              0.3333333333333333,
              "#9c179e"
             ],
             [
              0.4444444444444444,
              "#bd3786"
             ],
             [
              0.5555555555555556,
              "#d8576b"
             ],
             [
              0.6666666666666666,
              "#ed7953"
             ],
             [
              0.7777777777777778,
              "#fb9f3a"
             ],
             [
              0.8888888888888888,
              "#fdca26"
             ],
             [
              1,
              "#f0f921"
             ]
            ],
            "type": "histogram2dcontour"
           }
          ],
          "mesh3d": [
           {
            "colorbar": {
             "outlinewidth": 0,
             "ticks": ""
            },
            "type": "mesh3d"
           }
          ],
          "parcoords": [
           {
            "line": {
             "colorbar": {
              "outlinewidth": 0,
              "ticks": ""
             }
            },
            "type": "parcoords"
           }
          ],
          "pie": [
           {
            "automargin": true,
            "type": "pie"
           }
          ],
          "scatter": [
           {
            "fillpattern": {
             "fillmode": "overlay",
             "size": 10,
             "solidity": 0.2
            },
            "type": "scatter"
           }
          ],
          "scatter3d": [
           {
            "line": {
             "colorbar": {
              "outlinewidth": 0,
              "ticks": ""
             }
            },
            "marker": {
             "colorbar": {
              "outlinewidth": 0,
              "ticks": ""
             }
            },
            "type": "scatter3d"
           }
          ],
          "scattercarpet": [
           {
            "marker": {
             "colorbar": {
              "outlinewidth": 0,
              "ticks": ""
             }
            },
            "type": "scattercarpet"
           }
          ],
          "scattergeo": [
           {
            "marker": {
             "colorbar": {
              "outlinewidth": 0,
              "ticks": ""
             }
            },
            "type": "scattergeo"
           }
          ],
          "scattergl": [
           {
            "marker": {
             "colorbar": {
              "outlinewidth": 0,
              "ticks": ""
             }
            },
            "type": "scattergl"
           }
          ],
          "scattermapbox": [
           {
            "marker": {
             "colorbar": {
              "outlinewidth": 0,
              "ticks": ""
             }
            },
            "type": "scattermapbox"
           }
          ],
          "scatterpolar": [
           {
            "marker": {
             "colorbar": {
              "outlinewidth": 0,
              "ticks": ""
             }
            },
            "type": "scatterpolar"
           }
          ],
          "scatterpolargl": [
           {
            "marker": {
             "colorbar": {
              "outlinewidth": 0,
              "ticks": ""
             }
            },
            "type": "scatterpolargl"
           }
          ],
          "scatterternary": [
           {
            "marker": {
             "colorbar": {
              "outlinewidth": 0,
              "ticks": ""
             }
            },
            "type": "scatterternary"
           }
          ],
          "surface": [
           {
            "colorbar": {
             "outlinewidth": 0,
             "ticks": ""
            },
            "colorscale": [
             [
              0,
              "#0d0887"
             ],
             [
              0.1111111111111111,
              "#46039f"
             ],
             [
              0.2222222222222222,
              "#7201a8"
             ],
             [
              0.3333333333333333,
              "#9c179e"
             ],
             [
              0.4444444444444444,
              "#bd3786"
             ],
             [
              0.5555555555555556,
              "#d8576b"
             ],
             [
              0.6666666666666666,
              "#ed7953"
             ],
             [
              0.7777777777777778,
              "#fb9f3a"
             ],
             [
              0.8888888888888888,
              "#fdca26"
             ],
             [
              1,
              "#f0f921"
             ]
            ],
            "type": "surface"
           }
          ],
          "table": [
           {
            "cells": {
             "fill": {
              "color": "#EBF0F8"
             },
             "line": {
              "color": "white"
             }
            },
            "header": {
             "fill": {
              "color": "#C8D4E3"
             },
             "line": {
              "color": "white"
             }
            },
            "type": "table"
           }
          ]
         },
         "layout": {
          "annotationdefaults": {
           "arrowcolor": "#2a3f5f",
           "arrowhead": 0,
           "arrowwidth": 1
          },
          "autotypenumbers": "strict",
          "coloraxis": {
           "colorbar": {
            "outlinewidth": 0,
            "ticks": ""
           }
          },
          "colorscale": {
           "diverging": [
            [
             0,
             "#8e0152"
            ],
            [
             0.1,
             "#c51b7d"
            ],
            [
             0.2,
             "#de77ae"
            ],
            [
             0.3,
             "#f1b6da"
            ],
            [
             0.4,
             "#fde0ef"
            ],
            [
             0.5,
             "#f7f7f7"
            ],
            [
             0.6,
             "#e6f5d0"
            ],
            [
             0.7,
             "#b8e186"
            ],
            [
             0.8,
             "#7fbc41"
            ],
            [
             0.9,
             "#4d9221"
            ],
            [
             1,
             "#276419"
            ]
           ],
           "sequential": [
            [
             0,
             "#0d0887"
            ],
            [
             0.1111111111111111,
             "#46039f"
            ],
            [
             0.2222222222222222,
             "#7201a8"
            ],
            [
             0.3333333333333333,
             "#9c179e"
            ],
            [
             0.4444444444444444,
             "#bd3786"
            ],
            [
             0.5555555555555556,
             "#d8576b"
            ],
            [
             0.6666666666666666,
             "#ed7953"
            ],
            [
             0.7777777777777778,
             "#fb9f3a"
            ],
            [
             0.8888888888888888,
             "#fdca26"
            ],
            [
             1,
             "#f0f921"
            ]
           ],
           "sequentialminus": [
            [
             0,
             "#0d0887"
            ],
            [
             0.1111111111111111,
             "#46039f"
            ],
            [
             0.2222222222222222,
             "#7201a8"
            ],
            [
             0.3333333333333333,
             "#9c179e"
            ],
            [
             0.4444444444444444,
             "#bd3786"
            ],
            [
             0.5555555555555556,
             "#d8576b"
            ],
            [
             0.6666666666666666,
             "#ed7953"
            ],
            [
             0.7777777777777778,
             "#fb9f3a"
            ],
            [
             0.8888888888888888,
             "#fdca26"
            ],
            [
             1,
             "#f0f921"
            ]
           ]
          },
          "colorway": [
           "#636efa",
           "#EF553B",
           "#00cc96",
           "#ab63fa",
           "#FFA15A",
           "#19d3f3",
           "#FF6692",
           "#B6E880",
           "#FF97FF",
           "#FECB52"
          ],
          "font": {
           "color": "#2a3f5f"
          },
          "geo": {
           "bgcolor": "white",
           "lakecolor": "white",
           "landcolor": "#E5ECF6",
           "showlakes": true,
           "showland": true,
           "subunitcolor": "white"
          },
          "hoverlabel": {
           "align": "left"
          },
          "hovermode": "closest",
          "mapbox": {
           "style": "light"
          },
          "paper_bgcolor": "white",
          "plot_bgcolor": "#E5ECF6",
          "polar": {
           "angularaxis": {
            "gridcolor": "white",
            "linecolor": "white",
            "ticks": ""
           },
           "bgcolor": "#E5ECF6",
           "radialaxis": {
            "gridcolor": "white",
            "linecolor": "white",
            "ticks": ""
           }
          },
          "scene": {
           "xaxis": {
            "backgroundcolor": "#E5ECF6",
            "gridcolor": "white",
            "gridwidth": 2,
            "linecolor": "white",
            "showbackground": true,
            "ticks": "",
            "zerolinecolor": "white"
           },
           "yaxis": {
            "backgroundcolor": "#E5ECF6",
            "gridcolor": "white",
            "gridwidth": 2,
            "linecolor": "white",
            "showbackground": true,
            "ticks": "",
            "zerolinecolor": "white"
           },
           "zaxis": {
            "backgroundcolor": "#E5ECF6",
            "gridcolor": "white",
            "gridwidth": 2,
            "linecolor": "white",
            "showbackground": true,
            "ticks": "",
            "zerolinecolor": "white"
           }
          },
          "shapedefaults": {
           "line": {
            "color": "#2a3f5f"
           }
          },
          "ternary": {
           "aaxis": {
            "gridcolor": "white",
            "linecolor": "white",
            "ticks": ""
           },
           "baxis": {
            "gridcolor": "white",
            "linecolor": "white",
            "ticks": ""
           },
           "bgcolor": "#E5ECF6",
           "caxis": {
            "gridcolor": "white",
            "linecolor": "white",
            "ticks": ""
           }
          },
          "title": {
           "x": 0.05
          },
          "xaxis": {
           "automargin": true,
           "gridcolor": "white",
           "linecolor": "white",
           "ticks": "",
           "title": {
            "standoff": 15
           },
           "zerolinecolor": "white",
           "zerolinewidth": 2
          },
          "yaxis": {
           "automargin": true,
           "gridcolor": "white",
           "linecolor": "white",
           "ticks": "",
           "title": {
            "standoff": 15
           },
           "zerolinecolor": "white",
           "zerolinewidth": 2
          }
         }
        }
       }
      }
     },
     "metadata": {},
     "output_type": "display_data"
    },
    {
     "name": "stdout",
     "output_type": "stream",
     "text": [
      "Figure saved as ./solver_output_plot.png\n"
     ]
    }
   ],
   "source": [
    "file=\"saddlePointStar.csv\"\n",
    "visualize_csv_output(csv_dir + file)"
   ]
  }
 ],
 "metadata": {
  "kernelspec": {
   "display_name": "my_tf_env",
   "language": "python",
   "name": "python3"
  },
  "language_info": {
   "codemirror_mode": {
    "name": "ipython",
    "version": 3
   },
   "file_extension": ".py",
   "mimetype": "text/x-python",
   "name": "python",
   "nbconvert_exporter": "python",
   "pygments_lexer": "ipython3",
   "version": "3.9.18"
  }
 },
 "nbformat": 4,
 "nbformat_minor": 2
}
