{
 "cells": [
  {
   "cell_type": "markdown",
   "metadata": {},
   "source": [
    "# Helpers"
   ]
  },
  {
   "cell_type": "code",
   "execution_count": 38,
   "metadata": {},
   "outputs": [],
   "source": [
    "import numpy as np\n",
    "import pandas as pd\n",
    "import plotly.graph_objects as go\n",
    "from scipy.interpolate import griddata"
   ]
  },
  {
   "cell_type": "code",
   "execution_count": 39,
   "metadata": {},
   "outputs": [],
   "source": [
    "csv_dir = \"../output/\""
   ]
  },
  {
   "cell_type": "code",
   "execution_count": 87,
   "metadata": {},
   "outputs": [],
   "source": [
    "def parse_boundary(csv_path):\n",
    "    data = pd.read_csv(csv_path, header=None)\n",
    "    x, y, z = data[0], data[1], data[2]\n",
    "    x, y = (x + 1) / 2, (y + 1) / 2\n",
    "    return x, y, z"
   ]
  },
  {
   "cell_type": "code",
   "execution_count": 80,
   "metadata": {},
   "outputs": [],
   "source": [
    "def visualize_csv_output(path, output_path=\"./solver_output_plot.png\", boundary_path=None, xstart=0, ystart=0, xend=1, yend=1, surface=False):\n",
    "    data = pd.read_csv(path, header=None)\n",
    "    x = np.linspace(xstart, xend, data.shape[1])\n",
    "    y = np.linspace(ystart, yend, data.shape[0])\n",
    "    X, Y = np.meshgrid(x, y)\n",
    "    Z = data.values         \n",
    "\n",
    "    # Create a mask for valid points\n",
    "    valid_mask = ~np.isnan(Z)\n",
    "\n",
    "    # Filter X, Y, Z using the mask\n",
    "    X_valid = X[valid_mask]\n",
    "    Y_valid = Y[valid_mask]\n",
    "    Z_valid = Z[valid_mask]\n",
    "\n",
    "    # Interpolating to fill in NaN values for surface plotting\n",
    "    Z_interp = griddata((X_valid, Y_valid), Z_valid, (X, Y), method='linear')\n",
    "\n",
    "    # Create a scatter plot for valid points\n",
    "    fig = go.Figure()\n",
    "\n",
    "    # Add surface plot with interpolated Z values\n",
    "    if surface: \n",
    "        fig.add_trace(go.Surface(z=Z_interp, x=X, y=Y, colorscale='Viridis', showscale=True))\n",
    "\n",
    "    # Add a scatter plot for the valid points\n",
    "    if not surface:\n",
    "        fig.add_trace(go.Scatter3d(x=X_valid, y=Y_valid, z=Z_valid, mode='markers',\n",
    "            marker=dict(size=2, color='blue')  # Customize marker appearance if needed\n",
    "        ))\n",
    "    \n",
    "    # add boundary if provided\n",
    "    if boundary_path is not None: \n",
    "        x_boundary, y_boundary, z_boundary = parse_boundary(boundary_path)\n",
    "        fig.add_trace(go.Scatter3d(x=x_boundary, y=y_boundary, z=z_boundary, mode='markers',\n",
    "            marker=dict(size=2, color='red')  \n",
    "        ))\n",
    "\n",
    "    fig.update_layout(scene=dict(\n",
    "        xaxis_title='X',\n",
    "        yaxis_title='Y',\n",
    "        zaxis_title='Z',\n",
    "\n",
    "        # Set aspect ratio to ensure fixed scale\n",
    "        aspectmode='cube'  # Ensures that all axes are scaled equally\n",
    "    ))\n",
    "\n",
    "    fig.show()\n",
    "    fig.write_image(output_path)\n",
    "    print(f\"Figure saved as {output_path}\")\n",
    "\n",
    "# Example usage\n",
    "# visualize_csv_output(\"your_file.csv\")\n"
   ]
  },
  {
   "cell_type": "code",
   "execution_count": 42,
   "metadata": {},
   "outputs": [],
   "source": [
    "import plotly.graph_objects as go\n",
    "def print_boundary_dirichlet(path=None, shape=None, dir=None): \n",
    "    if path is None: path = dir + shape + 'BoundaryDirichlet.csv'\n",
    "    x, y, z = parse_boundary(path)\n",
    "    fig = go.Figure()\n",
    "    for i in range(len(x)):\n",
    "        fig.add_trace(go.Scatter3d(\n",
    "            x=[x[i], x[(i + 1) % len(x)]],\n",
    "            y=[y[i], y[(i + 1) % len(y)]],\n",
    "            z=[z[i], z[(i + 1) % len(z)]],\n",
    "            mode='lines',\n",
    "            line=dict(color='blue', width=2)\n",
    "        ))\n",
    "    fig.add_trace(go.Scatter3d(x=x,y=y,z=z,mode='markers',\n",
    "        marker=dict(size=5, color='red', opacity=0.8)  # Color points\n",
    "    ))\n",
    "\n",
    "    fig.update_layout(title_text='3D Star Shape on a Tilted Plane',\n",
    "                  scene=dict(\n",
    "                      xaxis_title='X-axis',\n",
    "                      yaxis_title='Y-axis',\n",
    "                      zaxis_title='Z-axis'),\n",
    "                  )\n",
    "\n",
    "    fig.show()\n",
    "    "
   ]
  },
  {
   "cell_type": "code",
   "execution_count": 102,
   "metadata": {},
   "outputs": [],
   "source": [
    "def get_shape_csv(shape): \n",
    "    return shape + \".csv\"\n",
    "def get_boundaryD_csv(shape): \n",
    "    return shape + \"BoundaryDirichlet.csv\""
   ]
  },
  {
   "cell_type": "markdown",
   "metadata": {},
   "source": [
    "# Plot Saddle"
   ]
  },
  {
   "cell_type": "code",
   "execution_count": 103,
   "metadata": {},
   "outputs": [],
   "source": [
    "shape = \"saddlePoint\"\n",
    "shape_csv = get_shape_csv(shape)\n",
    "boundary_csv = get_boundaryD_csv(shape)"
   ]
  },
  {
   "cell_type": "code",
   "execution_count": 91,
   "metadata": {},
   "outputs": [
    {
     "data": {
      "application/vnd.plotly.v1+json": {
       "config": {
        "plotlyServerURL": "https://plot.ly"
       },
       "data": [
        {
         "line": {
          "color": "blue",
          "width": 2
         },
         "mode": "lines",
         "type": "scatter3d",
         "x": [
          0,
          0.033333500000000016
         ],
         "y": [
          0,
          0
         ],
         "z": [
          0,
          -0.128889
         ]
        },
        {
         "line": {
          "color": "blue",
          "width": 2
         },
         "mode": "lines",
         "type": "scatter3d",
         "x": [
          0.033333500000000016,
          0.06666650000000002
         ],
         "y": [
          0,
          0
         ],
         "z": [
          -0.128889,
          -0.248889
         ]
        },
        {
         "line": {
          "color": "blue",
          "width": 2
         },
         "mode": "lines",
         "type": "scatter3d",
         "x": [
          0.06666650000000002,
          0.09999999999999998
         ],
         "y": [
          0,
          0
         ],
         "z": [
          -0.248889,
          -0.36
         ]
        },
        {
         "line": {
          "color": "blue",
          "width": 2
         },
         "mode": "lines",
         "type": "scatter3d",
         "x": [
          0.09999999999999998,
          0.1333335
         ],
         "y": [
          0,
          0
         ],
         "z": [
          -0.36,
          -0.462222
         ]
        },
        {
         "line": {
          "color": "blue",
          "width": 2
         },
         "mode": "lines",
         "type": "scatter3d",
         "x": [
          0.1333335,
          0.1666665
         ],
         "y": [
          0,
          0
         ],
         "z": [
          -0.462222,
          -0.555556
         ]
        },
        {
         "line": {
          "color": "blue",
          "width": 2
         },
         "mode": "lines",
         "type": "scatter3d",
         "x": [
          0.1666665,
          0.2
         ],
         "y": [
          0,
          0
         ],
         "z": [
          -0.555556,
          -0.64
         ]
        },
        {
         "line": {
          "color": "blue",
          "width": 2
         },
         "mode": "lines",
         "type": "scatter3d",
         "x": [
          0.2,
          0.23333350000000003
         ],
         "y": [
          0,
          0
         ],
         "z": [
          -0.64,
          -0.715556
         ]
        },
        {
         "line": {
          "color": "blue",
          "width": 2
         },
         "mode": "lines",
         "type": "scatter3d",
         "x": [
          0.23333350000000003,
          0.26666650000000003
         ],
         "y": [
          0,
          0
         ],
         "z": [
          -0.715556,
          -0.782222
         ]
        },
        {
         "line": {
          "color": "blue",
          "width": 2
         },
         "mode": "lines",
         "type": "scatter3d",
         "x": [
          0.26666650000000003,
          0.3
         ],
         "y": [
          0,
          0
         ],
         "z": [
          -0.782222,
          -0.84
         ]
        },
        {
         "line": {
          "color": "blue",
          "width": 2
         },
         "mode": "lines",
         "type": "scatter3d",
         "x": [
          0.3,
          0.3333335
         ],
         "y": [
          0,
          0
         ],
         "z": [
          -0.84,
          -0.888889
         ]
        },
        {
         "line": {
          "color": "blue",
          "width": 2
         },
         "mode": "lines",
         "type": "scatter3d",
         "x": [
          0.3333335,
          0.3666665
         ],
         "y": [
          0,
          0
         ],
         "z": [
          -0.888889,
          -0.928889
         ]
        },
        {
         "line": {
          "color": "blue",
          "width": 2
         },
         "mode": "lines",
         "type": "scatter3d",
         "x": [
          0.3666665,
          0.4
         ],
         "y": [
          0,
          0
         ],
         "z": [
          -0.928889,
          -0.96
         ]
        },
        {
         "line": {
          "color": "blue",
          "width": 2
         },
         "mode": "lines",
         "type": "scatter3d",
         "x": [
          0.4,
          0.4333335
         ],
         "y": [
          0,
          0
         ],
         "z": [
          -0.96,
          -0.982222
         ]
        },
        {
         "line": {
          "color": "blue",
          "width": 2
         },
         "mode": "lines",
         "type": "scatter3d",
         "x": [
          0.4333335,
          0.46666665
         ],
         "y": [
          0,
          0
         ],
         "z": [
          -0.982222,
          -0.995556
         ]
        },
        {
         "line": {
          "color": "blue",
          "width": 2
         },
         "mode": "lines",
         "type": "scatter3d",
         "x": [
          0.46666665,
          0.4999999999999999
         ],
         "y": [
          0,
          0
         ],
         "z": [
          -0.995556,
          -1
         ]
        },
        {
         "line": {
          "color": "blue",
          "width": 2
         },
         "mode": "lines",
         "type": "scatter3d",
         "x": [
          0.4999999999999999,
          0.53333335
         ],
         "y": [
          0,
          0
         ],
         "z": [
          -1,
          -0.995556
         ]
        },
        {
         "line": {
          "color": "blue",
          "width": 2
         },
         "mode": "lines",
         "type": "scatter3d",
         "x": [
          0.53333335,
          0.5666665
         ],
         "y": [
          0,
          0
         ],
         "z": [
          -0.995556,
          -0.982222
         ]
        },
        {
         "line": {
          "color": "blue",
          "width": 2
         },
         "mode": "lines",
         "type": "scatter3d",
         "x": [
          0.5666665,
          0.6
         ],
         "y": [
          0,
          0
         ],
         "z": [
          -0.982222,
          -0.96
         ]
        },
        {
         "line": {
          "color": "blue",
          "width": 2
         },
         "mode": "lines",
         "type": "scatter3d",
         "x": [
          0.6,
          0.6333335
         ],
         "y": [
          0,
          0
         ],
         "z": [
          -0.96,
          -0.928889
         ]
        },
        {
         "line": {
          "color": "blue",
          "width": 2
         },
         "mode": "lines",
         "type": "scatter3d",
         "x": [
          0.6333335,
          0.6666665
         ],
         "y": [
          0,
          0
         ],
         "z": [
          -0.928889,
          -0.888889
         ]
        },
        {
         "line": {
          "color": "blue",
          "width": 2
         },
         "mode": "lines",
         "type": "scatter3d",
         "x": [
          0.6666665,
          0.7
         ],
         "y": [
          0,
          0
         ],
         "z": [
          -0.888889,
          -0.84
         ]
        },
        {
         "line": {
          "color": "blue",
          "width": 2
         },
         "mode": "lines",
         "type": "scatter3d",
         "x": [
          0.7,
          0.7333335
         ],
         "y": [
          0,
          0
         ],
         "z": [
          -0.84,
          -0.782222
         ]
        },
        {
         "line": {
          "color": "blue",
          "width": 2
         },
         "mode": "lines",
         "type": "scatter3d",
         "x": [
          0.7333335,
          0.7666664999999999
         ],
         "y": [
          0,
          0
         ],
         "z": [
          -0.782222,
          -0.715556
         ]
        },
        {
         "line": {
          "color": "blue",
          "width": 2
         },
         "mode": "lines",
         "type": "scatter3d",
         "x": [
          0.7666664999999999,
          0.8
         ],
         "y": [
          0,
          0
         ],
         "z": [
          -0.715556,
          -0.64
         ]
        },
        {
         "line": {
          "color": "blue",
          "width": 2
         },
         "mode": "lines",
         "type": "scatter3d",
         "x": [
          0.8,
          0.8333335
         ],
         "y": [
          0,
          0
         ],
         "z": [
          -0.64,
          -0.555556
         ]
        },
        {
         "line": {
          "color": "blue",
          "width": 2
         },
         "mode": "lines",
         "type": "scatter3d",
         "x": [
          0.8333335,
          0.8666665
         ],
         "y": [
          0,
          0
         ],
         "z": [
          -0.555556,
          -0.462222
         ]
        },
        {
         "line": {
          "color": "blue",
          "width": 2
         },
         "mode": "lines",
         "type": "scatter3d",
         "x": [
          0.8666665,
          0.9
         ],
         "y": [
          0,
          0
         ],
         "z": [
          -0.462222,
          -0.36
         ]
        },
        {
         "line": {
          "color": "blue",
          "width": 2
         },
         "mode": "lines",
         "type": "scatter3d",
         "x": [
          0.9,
          0.9333335
         ],
         "y": [
          0,
          0
         ],
         "z": [
          -0.36,
          -0.248889
         ]
        },
        {
         "line": {
          "color": "blue",
          "width": 2
         },
         "mode": "lines",
         "type": "scatter3d",
         "x": [
          0.9333335,
          0.9666665
         ],
         "y": [
          0,
          0
         ],
         "z": [
          -0.248889,
          -0.128889
         ]
        },
        {
         "line": {
          "color": "blue",
          "width": 2
         },
         "mode": "lines",
         "type": "scatter3d",
         "x": [
          0.9666665,
          1
         ],
         "y": [
          0,
          0
         ],
         "z": [
          -0.128889,
          -6.66134e-16
         ]
        },
        {
         "line": {
          "color": "blue",
          "width": 2
         },
         "mode": "lines",
         "type": "scatter3d",
         "x": [
          1,
          1
         ],
         "y": [
          0,
          0.033333500000000016
         ],
         "z": [
          -6.66134e-16,
          0.128889
         ]
        },
        {
         "line": {
          "color": "blue",
          "width": 2
         },
         "mode": "lines",
         "type": "scatter3d",
         "x": [
          1,
          1
         ],
         "y": [
          0.033333500000000016,
          0.06666650000000002
         ],
         "z": [
          0.128889,
          0.248889
         ]
        },
        {
         "line": {
          "color": "blue",
          "width": 2
         },
         "mode": "lines",
         "type": "scatter3d",
         "x": [
          1,
          1
         ],
         "y": [
          0.06666650000000002,
          0.09999999999999998
         ],
         "z": [
          0.248889,
          0.36
         ]
        },
        {
         "line": {
          "color": "blue",
          "width": 2
         },
         "mode": "lines",
         "type": "scatter3d",
         "x": [
          1,
          1
         ],
         "y": [
          0.09999999999999998,
          0.1333335
         ],
         "z": [
          0.36,
          0.462222
         ]
        },
        {
         "line": {
          "color": "blue",
          "width": 2
         },
         "mode": "lines",
         "type": "scatter3d",
         "x": [
          1,
          1
         ],
         "y": [
          0.1333335,
          0.1666665
         ],
         "z": [
          0.462222,
          0.555556
         ]
        },
        {
         "line": {
          "color": "blue",
          "width": 2
         },
         "mode": "lines",
         "type": "scatter3d",
         "x": [
          1,
          1
         ],
         "y": [
          0.1666665,
          0.2
         ],
         "z": [
          0.555556,
          0.64
         ]
        },
        {
         "line": {
          "color": "blue",
          "width": 2
         },
         "mode": "lines",
         "type": "scatter3d",
         "x": [
          1,
          1
         ],
         "y": [
          0.2,
          0.23333350000000003
         ],
         "z": [
          0.64,
          0.715556
         ]
        },
        {
         "line": {
          "color": "blue",
          "width": 2
         },
         "mode": "lines",
         "type": "scatter3d",
         "x": [
          1,
          1
         ],
         "y": [
          0.23333350000000003,
          0.26666650000000003
         ],
         "z": [
          0.715556,
          0.782222
         ]
        },
        {
         "line": {
          "color": "blue",
          "width": 2
         },
         "mode": "lines",
         "type": "scatter3d",
         "x": [
          1,
          1
         ],
         "y": [
          0.26666650000000003,
          0.3
         ],
         "z": [
          0.782222,
          0.84
         ]
        },
        {
         "line": {
          "color": "blue",
          "width": 2
         },
         "mode": "lines",
         "type": "scatter3d",
         "x": [
          1,
          1
         ],
         "y": [
          0.3,
          0.3333335
         ],
         "z": [
          0.84,
          0.888889
         ]
        },
        {
         "line": {
          "color": "blue",
          "width": 2
         },
         "mode": "lines",
         "type": "scatter3d",
         "x": [
          1,
          1
         ],
         "y": [
          0.3333335,
          0.3666665
         ],
         "z": [
          0.888889,
          0.928889
         ]
        },
        {
         "line": {
          "color": "blue",
          "width": 2
         },
         "mode": "lines",
         "type": "scatter3d",
         "x": [
          1,
          1
         ],
         "y": [
          0.3666665,
          0.4
         ],
         "z": [
          0.928889,
          0.96
         ]
        },
        {
         "line": {
          "color": "blue",
          "width": 2
         },
         "mode": "lines",
         "type": "scatter3d",
         "x": [
          1,
          1
         ],
         "y": [
          0.4,
          0.4333335
         ],
         "z": [
          0.96,
          0.982222
         ]
        },
        {
         "line": {
          "color": "blue",
          "width": 2
         },
         "mode": "lines",
         "type": "scatter3d",
         "x": [
          1,
          1
         ],
         "y": [
          0.4333335,
          0.46666665
         ],
         "z": [
          0.982222,
          0.995556
         ]
        },
        {
         "line": {
          "color": "blue",
          "width": 2
         },
         "mode": "lines",
         "type": "scatter3d",
         "x": [
          1,
          1
         ],
         "y": [
          0.46666665,
          0.4999999999999999
         ],
         "z": [
          0.995556,
          1
         ]
        },
        {
         "line": {
          "color": "blue",
          "width": 2
         },
         "mode": "lines",
         "type": "scatter3d",
         "x": [
          1,
          1
         ],
         "y": [
          0.4999999999999999,
          0.53333335
         ],
         "z": [
          1,
          0.995556
         ]
        },
        {
         "line": {
          "color": "blue",
          "width": 2
         },
         "mode": "lines",
         "type": "scatter3d",
         "x": [
          1,
          1
         ],
         "y": [
          0.53333335,
          0.5666665
         ],
         "z": [
          0.995556,
          0.982222
         ]
        },
        {
         "line": {
          "color": "blue",
          "width": 2
         },
         "mode": "lines",
         "type": "scatter3d",
         "x": [
          1,
          1
         ],
         "y": [
          0.5666665,
          0.6
         ],
         "z": [
          0.982222,
          0.96
         ]
        },
        {
         "line": {
          "color": "blue",
          "width": 2
         },
         "mode": "lines",
         "type": "scatter3d",
         "x": [
          1,
          1
         ],
         "y": [
          0.6,
          0.6333335
         ],
         "z": [
          0.96,
          0.928889
         ]
        },
        {
         "line": {
          "color": "blue",
          "width": 2
         },
         "mode": "lines",
         "type": "scatter3d",
         "x": [
          1,
          1
         ],
         "y": [
          0.6333335,
          0.6666665
         ],
         "z": [
          0.928889,
          0.888889
         ]
        },
        {
         "line": {
          "color": "blue",
          "width": 2
         },
         "mode": "lines",
         "type": "scatter3d",
         "x": [
          1,
          1
         ],
         "y": [
          0.6666665,
          0.7
         ],
         "z": [
          0.888889,
          0.84
         ]
        },
        {
         "line": {
          "color": "blue",
          "width": 2
         },
         "mode": "lines",
         "type": "scatter3d",
         "x": [
          1,
          1
         ],
         "y": [
          0.7,
          0.7333335
         ],
         "z": [
          0.84,
          0.782222
         ]
        },
        {
         "line": {
          "color": "blue",
          "width": 2
         },
         "mode": "lines",
         "type": "scatter3d",
         "x": [
          1,
          1
         ],
         "y": [
          0.7333335,
          0.7666664999999999
         ],
         "z": [
          0.782222,
          0.715556
         ]
        },
        {
         "line": {
          "color": "blue",
          "width": 2
         },
         "mode": "lines",
         "type": "scatter3d",
         "x": [
          1,
          1
         ],
         "y": [
          0.7666664999999999,
          0.8
         ],
         "z": [
          0.715556,
          0.64
         ]
        },
        {
         "line": {
          "color": "blue",
          "width": 2
         },
         "mode": "lines",
         "type": "scatter3d",
         "x": [
          1,
          1
         ],
         "y": [
          0.8,
          0.8333335
         ],
         "z": [
          0.64,
          0.555556
         ]
        },
        {
         "line": {
          "color": "blue",
          "width": 2
         },
         "mode": "lines",
         "type": "scatter3d",
         "x": [
          1,
          1
         ],
         "y": [
          0.8333335,
          0.8666665
         ],
         "z": [
          0.555556,
          0.462222
         ]
        },
        {
         "line": {
          "color": "blue",
          "width": 2
         },
         "mode": "lines",
         "type": "scatter3d",
         "x": [
          1,
          1
         ],
         "y": [
          0.8666665,
          0.9
         ],
         "z": [
          0.462222,
          0.36
         ]
        },
        {
         "line": {
          "color": "blue",
          "width": 2
         },
         "mode": "lines",
         "type": "scatter3d",
         "x": [
          1,
          1
         ],
         "y": [
          0.9,
          0.9333335
         ],
         "z": [
          0.36,
          0.248889
         ]
        },
        {
         "line": {
          "color": "blue",
          "width": 2
         },
         "mode": "lines",
         "type": "scatter3d",
         "x": [
          1,
          1
         ],
         "y": [
          0.9333335,
          0.9666665
         ],
         "z": [
          0.248889,
          0.128889
         ]
        },
        {
         "line": {
          "color": "blue",
          "width": 2
         },
         "mode": "lines",
         "type": "scatter3d",
         "x": [
          1,
          1
         ],
         "y": [
          0.9666665,
          1
         ],
         "z": [
          0.128889,
          6.66134e-16
         ]
        },
        {
         "line": {
          "color": "blue",
          "width": 2
         },
         "mode": "lines",
         "type": "scatter3d",
         "x": [
          1,
          0.9666665
         ],
         "y": [
          1,
          1
         ],
         "z": [
          6.66134e-16,
          -0.128889
         ]
        },
        {
         "line": {
          "color": "blue",
          "width": 2
         },
         "mode": "lines",
         "type": "scatter3d",
         "x": [
          0.9666665,
          0.9333335
         ],
         "y": [
          1,
          1
         ],
         "z": [
          -0.128889,
          -0.248889
         ]
        },
        {
         "line": {
          "color": "blue",
          "width": 2
         },
         "mode": "lines",
         "type": "scatter3d",
         "x": [
          0.9333335,
          0.9
         ],
         "y": [
          1,
          1
         ],
         "z": [
          -0.248889,
          -0.36
         ]
        },
        {
         "line": {
          "color": "blue",
          "width": 2
         },
         "mode": "lines",
         "type": "scatter3d",
         "x": [
          0.9,
          0.8666665
         ],
         "y": [
          1,
          1
         ],
         "z": [
          -0.36,
          -0.462222
         ]
        },
        {
         "line": {
          "color": "blue",
          "width": 2
         },
         "mode": "lines",
         "type": "scatter3d",
         "x": [
          0.8666665,
          0.8333335
         ],
         "y": [
          1,
          1
         ],
         "z": [
          -0.462222,
          -0.555556
         ]
        },
        {
         "line": {
          "color": "blue",
          "width": 2
         },
         "mode": "lines",
         "type": "scatter3d",
         "x": [
          0.8333335,
          0.8
         ],
         "y": [
          1,
          1
         ],
         "z": [
          -0.555556,
          -0.64
         ]
        },
        {
         "line": {
          "color": "blue",
          "width": 2
         },
         "mode": "lines",
         "type": "scatter3d",
         "x": [
          0.8,
          0.7666664999999999
         ],
         "y": [
          1,
          1
         ],
         "z": [
          -0.64,
          -0.715556
         ]
        },
        {
         "line": {
          "color": "blue",
          "width": 2
         },
         "mode": "lines",
         "type": "scatter3d",
         "x": [
          0.7666664999999999,
          0.7333335
         ],
         "y": [
          1,
          1
         ],
         "z": [
          -0.715556,
          -0.782222
         ]
        },
        {
         "line": {
          "color": "blue",
          "width": 2
         },
         "mode": "lines",
         "type": "scatter3d",
         "x": [
          0.7333335,
          0.7
         ],
         "y": [
          1,
          1
         ],
         "z": [
          -0.782222,
          -0.84
         ]
        },
        {
         "line": {
          "color": "blue",
          "width": 2
         },
         "mode": "lines",
         "type": "scatter3d",
         "x": [
          0.7,
          0.6666665
         ],
         "y": [
          1,
          1
         ],
         "z": [
          -0.84,
          -0.888889
         ]
        },
        {
         "line": {
          "color": "blue",
          "width": 2
         },
         "mode": "lines",
         "type": "scatter3d",
         "x": [
          0.6666665,
          0.6333335
         ],
         "y": [
          1,
          1
         ],
         "z": [
          -0.888889,
          -0.928889
         ]
        },
        {
         "line": {
          "color": "blue",
          "width": 2
         },
         "mode": "lines",
         "type": "scatter3d",
         "x": [
          0.6333335,
          0.6
         ],
         "y": [
          1,
          1
         ],
         "z": [
          -0.928889,
          -0.96
         ]
        },
        {
         "line": {
          "color": "blue",
          "width": 2
         },
         "mode": "lines",
         "type": "scatter3d",
         "x": [
          0.6,
          0.5666665
         ],
         "y": [
          1,
          1
         ],
         "z": [
          -0.96,
          -0.982222
         ]
        },
        {
         "line": {
          "color": "blue",
          "width": 2
         },
         "mode": "lines",
         "type": "scatter3d",
         "x": [
          0.5666665,
          0.53333335
         ],
         "y": [
          1,
          1
         ],
         "z": [
          -0.982222,
          -0.995556
         ]
        },
        {
         "line": {
          "color": "blue",
          "width": 2
         },
         "mode": "lines",
         "type": "scatter3d",
         "x": [
          0.53333335,
          0.5000000000000001
         ],
         "y": [
          1,
          1
         ],
         "z": [
          -0.995556,
          -1
         ]
        },
        {
         "line": {
          "color": "blue",
          "width": 2
         },
         "mode": "lines",
         "type": "scatter3d",
         "x": [
          0.5000000000000001,
          0.46666665
         ],
         "y": [
          1,
          1
         ],
         "z": [
          -1,
          -0.995556
         ]
        },
        {
         "line": {
          "color": "blue",
          "width": 2
         },
         "mode": "lines",
         "type": "scatter3d",
         "x": [
          0.46666665,
          0.4333335
         ],
         "y": [
          1,
          1
         ],
         "z": [
          -0.995556,
          -0.982222
         ]
        },
        {
         "line": {
          "color": "blue",
          "width": 2
         },
         "mode": "lines",
         "type": "scatter3d",
         "x": [
          0.4333335,
          0.4
         ],
         "y": [
          1,
          1
         ],
         "z": [
          -0.982222,
          -0.96
         ]
        },
        {
         "line": {
          "color": "blue",
          "width": 2
         },
         "mode": "lines",
         "type": "scatter3d",
         "x": [
          0.4,
          0.3666665
         ],
         "y": [
          1,
          1
         ],
         "z": [
          -0.96,
          -0.928889
         ]
        },
        {
         "line": {
          "color": "blue",
          "width": 2
         },
         "mode": "lines",
         "type": "scatter3d",
         "x": [
          0.3666665,
          0.3333335
         ],
         "y": [
          1,
          1
         ],
         "z": [
          -0.928889,
          -0.888889
         ]
        },
        {
         "line": {
          "color": "blue",
          "width": 2
         },
         "mode": "lines",
         "type": "scatter3d",
         "x": [
          0.3333335,
          0.3
         ],
         "y": [
          1,
          1
         ],
         "z": [
          -0.888889,
          -0.84
         ]
        },
        {
         "line": {
          "color": "blue",
          "width": 2
         },
         "mode": "lines",
         "type": "scatter3d",
         "x": [
          0.3,
          0.26666650000000003
         ],
         "y": [
          1,
          1
         ],
         "z": [
          -0.84,
          -0.782222
         ]
        },
        {
         "line": {
          "color": "blue",
          "width": 2
         },
         "mode": "lines",
         "type": "scatter3d",
         "x": [
          0.26666650000000003,
          0.23333350000000003
         ],
         "y": [
          1,
          1
         ],
         "z": [
          -0.782222,
          -0.715556
         ]
        },
        {
         "line": {
          "color": "blue",
          "width": 2
         },
         "mode": "lines",
         "type": "scatter3d",
         "x": [
          0.23333350000000003,
          0.2
         ],
         "y": [
          1,
          1
         ],
         "z": [
          -0.715556,
          -0.64
         ]
        },
        {
         "line": {
          "color": "blue",
          "width": 2
         },
         "mode": "lines",
         "type": "scatter3d",
         "x": [
          0.2,
          0.1666665
         ],
         "y": [
          1,
          1
         ],
         "z": [
          -0.64,
          -0.555556
         ]
        },
        {
         "line": {
          "color": "blue",
          "width": 2
         },
         "mode": "lines",
         "type": "scatter3d",
         "x": [
          0.1666665,
          0.1333335
         ],
         "y": [
          1,
          1
         ],
         "z": [
          -0.555556,
          -0.462222
         ]
        },
        {
         "line": {
          "color": "blue",
          "width": 2
         },
         "mode": "lines",
         "type": "scatter3d",
         "x": [
          0.1333335,
          0.09999999999999998
         ],
         "y": [
          1,
          1
         ],
         "z": [
          -0.462222,
          -0.36
         ]
        },
        {
         "line": {
          "color": "blue",
          "width": 2
         },
         "mode": "lines",
         "type": "scatter3d",
         "x": [
          0.09999999999999998,
          0.06666650000000002
         ],
         "y": [
          1,
          1
         ],
         "z": [
          -0.36,
          -0.248889
         ]
        },
        {
         "line": {
          "color": "blue",
          "width": 2
         },
         "mode": "lines",
         "type": "scatter3d",
         "x": [
          0.06666650000000002,
          0.033333500000000016
         ],
         "y": [
          1,
          1
         ],
         "z": [
          -0.248889,
          -0.128889
         ]
        },
        {
         "line": {
          "color": "blue",
          "width": 2
         },
         "mode": "lines",
         "type": "scatter3d",
         "x": [
          0.033333500000000016,
          0
         ],
         "y": [
          1,
          1
         ],
         "z": [
          -0.128889,
          -6.66134e-16
         ]
        },
        {
         "line": {
          "color": "blue",
          "width": 2
         },
         "mode": "lines",
         "type": "scatter3d",
         "x": [
          0,
          0
         ],
         "y": [
          1,
          0.9666665
         ],
         "z": [
          -6.66134e-16,
          0.128889
         ]
        },
        {
         "line": {
          "color": "blue",
          "width": 2
         },
         "mode": "lines",
         "type": "scatter3d",
         "x": [
          0,
          0
         ],
         "y": [
          0.9666665,
          0.9333335
         ],
         "z": [
          0.128889,
          0.248889
         ]
        },
        {
         "line": {
          "color": "blue",
          "width": 2
         },
         "mode": "lines",
         "type": "scatter3d",
         "x": [
          0,
          0
         ],
         "y": [
          0.9333335,
          0.9
         ],
         "z": [
          0.248889,
          0.36
         ]
        },
        {
         "line": {
          "color": "blue",
          "width": 2
         },
         "mode": "lines",
         "type": "scatter3d",
         "x": [
          0,
          0
         ],
         "y": [
          0.9,
          0.8666665
         ],
         "z": [
          0.36,
          0.462222
         ]
        },
        {
         "line": {
          "color": "blue",
          "width": 2
         },
         "mode": "lines",
         "type": "scatter3d",
         "x": [
          0,
          0
         ],
         "y": [
          0.8666665,
          0.8333335
         ],
         "z": [
          0.462222,
          0.555556
         ]
        },
        {
         "line": {
          "color": "blue",
          "width": 2
         },
         "mode": "lines",
         "type": "scatter3d",
         "x": [
          0,
          0
         ],
         "y": [
          0.8333335,
          0.8
         ],
         "z": [
          0.555556,
          0.64
         ]
        },
        {
         "line": {
          "color": "blue",
          "width": 2
         },
         "mode": "lines",
         "type": "scatter3d",
         "x": [
          0,
          0
         ],
         "y": [
          0.8,
          0.7666664999999999
         ],
         "z": [
          0.64,
          0.715556
         ]
        },
        {
         "line": {
          "color": "blue",
          "width": 2
         },
         "mode": "lines",
         "type": "scatter3d",
         "x": [
          0,
          0
         ],
         "y": [
          0.7666664999999999,
          0.7333335
         ],
         "z": [
          0.715556,
          0.782222
         ]
        },
        {
         "line": {
          "color": "blue",
          "width": 2
         },
         "mode": "lines",
         "type": "scatter3d",
         "x": [
          0,
          0
         ],
         "y": [
          0.7333335,
          0.7
         ],
         "z": [
          0.782222,
          0.84
         ]
        },
        {
         "line": {
          "color": "blue",
          "width": 2
         },
         "mode": "lines",
         "type": "scatter3d",
         "x": [
          0,
          0
         ],
         "y": [
          0.7,
          0.6666665
         ],
         "z": [
          0.84,
          0.888889
         ]
        },
        {
         "line": {
          "color": "blue",
          "width": 2
         },
         "mode": "lines",
         "type": "scatter3d",
         "x": [
          0,
          0
         ],
         "y": [
          0.6666665,
          0.6333335
         ],
         "z": [
          0.888889,
          0.928889
         ]
        },
        {
         "line": {
          "color": "blue",
          "width": 2
         },
         "mode": "lines",
         "type": "scatter3d",
         "x": [
          0,
          0
         ],
         "y": [
          0.6333335,
          0.6
         ],
         "z": [
          0.928889,
          0.96
         ]
        },
        {
         "line": {
          "color": "blue",
          "width": 2
         },
         "mode": "lines",
         "type": "scatter3d",
         "x": [
          0,
          0
         ],
         "y": [
          0.6,
          0.5666665
         ],
         "z": [
          0.96,
          0.982222
         ]
        },
        {
         "line": {
          "color": "blue",
          "width": 2
         },
         "mode": "lines",
         "type": "scatter3d",
         "x": [
          0,
          0
         ],
         "y": [
          0.5666665,
          0.53333335
         ],
         "z": [
          0.982222,
          0.995556
         ]
        },
        {
         "line": {
          "color": "blue",
          "width": 2
         },
         "mode": "lines",
         "type": "scatter3d",
         "x": [
          0,
          0
         ],
         "y": [
          0.53333335,
          0.5000000000000001
         ],
         "z": [
          0.995556,
          1
         ]
        },
        {
         "line": {
          "color": "blue",
          "width": 2
         },
         "mode": "lines",
         "type": "scatter3d",
         "x": [
          0,
          0
         ],
         "y": [
          0.5000000000000001,
          0.46666665
         ],
         "z": [
          1,
          0.995556
         ]
        },
        {
         "line": {
          "color": "blue",
          "width": 2
         },
         "mode": "lines",
         "type": "scatter3d",
         "x": [
          0,
          0
         ],
         "y": [
          0.46666665,
          0.4333335
         ],
         "z": [
          0.995556,
          0.982222
         ]
        },
        {
         "line": {
          "color": "blue",
          "width": 2
         },
         "mode": "lines",
         "type": "scatter3d",
         "x": [
          0,
          0
         ],
         "y": [
          0.4333335,
          0.4
         ],
         "z": [
          0.982222,
          0.96
         ]
        },
        {
         "line": {
          "color": "blue",
          "width": 2
         },
         "mode": "lines",
         "type": "scatter3d",
         "x": [
          0,
          0
         ],
         "y": [
          0.4,
          0.3666665
         ],
         "z": [
          0.96,
          0.928889
         ]
        },
        {
         "line": {
          "color": "blue",
          "width": 2
         },
         "mode": "lines",
         "type": "scatter3d",
         "x": [
          0,
          0
         ],
         "y": [
          0.3666665,
          0.3333335
         ],
         "z": [
          0.928889,
          0.888889
         ]
        },
        {
         "line": {
          "color": "blue",
          "width": 2
         },
         "mode": "lines",
         "type": "scatter3d",
         "x": [
          0,
          0
         ],
         "y": [
          0.3333335,
          0.3
         ],
         "z": [
          0.888889,
          0.84
         ]
        },
        {
         "line": {
          "color": "blue",
          "width": 2
         },
         "mode": "lines",
         "type": "scatter3d",
         "x": [
          0,
          0
         ],
         "y": [
          0.3,
          0.26666650000000003
         ],
         "z": [
          0.84,
          0.782222
         ]
        },
        {
         "line": {
          "color": "blue",
          "width": 2
         },
         "mode": "lines",
         "type": "scatter3d",
         "x": [
          0,
          0
         ],
         "y": [
          0.26666650000000003,
          0.23333350000000003
         ],
         "z": [
          0.782222,
          0.715556
         ]
        },
        {
         "line": {
          "color": "blue",
          "width": 2
         },
         "mode": "lines",
         "type": "scatter3d",
         "x": [
          0,
          0
         ],
         "y": [
          0.23333350000000003,
          0.2
         ],
         "z": [
          0.715556,
          0.64
         ]
        },
        {
         "line": {
          "color": "blue",
          "width": 2
         },
         "mode": "lines",
         "type": "scatter3d",
         "x": [
          0,
          0
         ],
         "y": [
          0.2,
          0.1666665
         ],
         "z": [
          0.64,
          0.555556
         ]
        },
        {
         "line": {
          "color": "blue",
          "width": 2
         },
         "mode": "lines",
         "type": "scatter3d",
         "x": [
          0,
          0
         ],
         "y": [
          0.1666665,
          0.1333335
         ],
         "z": [
          0.555556,
          0.462222
         ]
        },
        {
         "line": {
          "color": "blue",
          "width": 2
         },
         "mode": "lines",
         "type": "scatter3d",
         "x": [
          0,
          0
         ],
         "y": [
          0.1333335,
          0.09999999999999998
         ],
         "z": [
          0.462222,
          0.36
         ]
        },
        {
         "line": {
          "color": "blue",
          "width": 2
         },
         "mode": "lines",
         "type": "scatter3d",
         "x": [
          0,
          0
         ],
         "y": [
          0.09999999999999998,
          0.06666650000000002
         ],
         "z": [
          0.36,
          0.248889
         ]
        },
        {
         "line": {
          "color": "blue",
          "width": 2
         },
         "mode": "lines",
         "type": "scatter3d",
         "x": [
          0,
          0
         ],
         "y": [
          0.06666650000000002,
          0.033333500000000016
         ],
         "z": [
          0.248889,
          0.128889
         ]
        },
        {
         "line": {
          "color": "blue",
          "width": 2
         },
         "mode": "lines",
         "type": "scatter3d",
         "x": [
          0,
          0
         ],
         "y": [
          0.033333500000000016,
          0
         ],
         "z": [
          0.128889,
          6.66134e-16
         ]
        },
        {
         "line": {
          "color": "blue",
          "width": 2
         },
         "mode": "lines",
         "type": "scatter3d",
         "x": [
          0,
          0
         ],
         "y": [
          0,
          0
         ],
         "z": [
          6.66134e-16,
          0
         ]
        },
        {
         "marker": {
          "color": "red",
          "opacity": 0.8,
          "size": 5
         },
         "mode": "markers",
         "type": "scatter3d",
         "x": [
          0,
          0.033333500000000016,
          0.06666650000000002,
          0.09999999999999998,
          0.1333335,
          0.1666665,
          0.2,
          0.23333350000000003,
          0.26666650000000003,
          0.3,
          0.3333335,
          0.3666665,
          0.4,
          0.4333335,
          0.46666665,
          0.4999999999999999,
          0.53333335,
          0.5666665,
          0.6,
          0.6333335,
          0.6666665,
          0.7,
          0.7333335,
          0.7666664999999999,
          0.8,
          0.8333335,
          0.8666665,
          0.9,
          0.9333335,
          0.9666665,
          1,
          1,
          1,
          1,
          1,
          1,
          1,
          1,
          1,
          1,
          1,
          1,
          1,
          1,
          1,
          1,
          1,
          1,
          1,
          1,
          1,
          1,
          1,
          1,
          1,
          1,
          1,
          1,
          1,
          1,
          1,
          0.9666665,
          0.9333335,
          0.9,
          0.8666665,
          0.8333335,
          0.8,
          0.7666664999999999,
          0.7333335,
          0.7,
          0.6666665,
          0.6333335,
          0.6,
          0.5666665,
          0.53333335,
          0.5000000000000001,
          0.46666665,
          0.4333335,
          0.4,
          0.3666665,
          0.3333335,
          0.3,
          0.26666650000000003,
          0.23333350000000003,
          0.2,
          0.1666665,
          0.1333335,
          0.09999999999999998,
          0.06666650000000002,
          0.033333500000000016,
          0,
          0,
          0,
          0,
          0,
          0,
          0,
          0,
          0,
          0,
          0,
          0,
          0,
          0,
          0,
          0,
          0,
          0,
          0,
          0,
          0,
          0,
          0,
          0,
          0,
          0,
          0,
          0,
          0,
          0,
          0
         ],
         "y": [
          0,
          0,
          0,
          0,
          0,
          0,
          0,
          0,
          0,
          0,
          0,
          0,
          0,
          0,
          0,
          0,
          0,
          0,
          0,
          0,
          0,
          0,
          0,
          0,
          0,
          0,
          0,
          0,
          0,
          0,
          0,
          0.033333500000000016,
          0.06666650000000002,
          0.09999999999999998,
          0.1333335,
          0.1666665,
          0.2,
          0.23333350000000003,
          0.26666650000000003,
          0.3,
          0.3333335,
          0.3666665,
          0.4,
          0.4333335,
          0.46666665,
          0.4999999999999999,
          0.53333335,
          0.5666665,
          0.6,
          0.6333335,
          0.6666665,
          0.7,
          0.7333335,
          0.7666664999999999,
          0.8,
          0.8333335,
          0.8666665,
          0.9,
          0.9333335,
          0.9666665,
          1,
          1,
          1,
          1,
          1,
          1,
          1,
          1,
          1,
          1,
          1,
          1,
          1,
          1,
          1,
          1,
          1,
          1,
          1,
          1,
          1,
          1,
          1,
          1,
          1,
          1,
          1,
          1,
          1,
          1,
          1,
          0.9666665,
          0.9333335,
          0.9,
          0.8666665,
          0.8333335,
          0.8,
          0.7666664999999999,
          0.7333335,
          0.7,
          0.6666665,
          0.6333335,
          0.6,
          0.5666665,
          0.53333335,
          0.5000000000000001,
          0.46666665,
          0.4333335,
          0.4,
          0.3666665,
          0.3333335,
          0.3,
          0.26666650000000003,
          0.23333350000000003,
          0.2,
          0.1666665,
          0.1333335,
          0.09999999999999998,
          0.06666650000000002,
          0.033333500000000016,
          0
         ],
         "z": [
          0,
          -0.128889,
          -0.248889,
          -0.36,
          -0.462222,
          -0.555556,
          -0.64,
          -0.715556,
          -0.782222,
          -0.84,
          -0.888889,
          -0.928889,
          -0.96,
          -0.982222,
          -0.995556,
          -1,
          -0.995556,
          -0.982222,
          -0.96,
          -0.928889,
          -0.888889,
          -0.84,
          -0.782222,
          -0.715556,
          -0.64,
          -0.555556,
          -0.462222,
          -0.36,
          -0.248889,
          -0.128889,
          -6.66134e-16,
          0.128889,
          0.248889,
          0.36,
          0.462222,
          0.555556,
          0.64,
          0.715556,
          0.782222,
          0.84,
          0.888889,
          0.928889,
          0.96,
          0.982222,
          0.995556,
          1,
          0.995556,
          0.982222,
          0.96,
          0.928889,
          0.888889,
          0.84,
          0.782222,
          0.715556,
          0.64,
          0.555556,
          0.462222,
          0.36,
          0.248889,
          0.128889,
          6.66134e-16,
          -0.128889,
          -0.248889,
          -0.36,
          -0.462222,
          -0.555556,
          -0.64,
          -0.715556,
          -0.782222,
          -0.84,
          -0.888889,
          -0.928889,
          -0.96,
          -0.982222,
          -0.995556,
          -1,
          -0.995556,
          -0.982222,
          -0.96,
          -0.928889,
          -0.888889,
          -0.84,
          -0.782222,
          -0.715556,
          -0.64,
          -0.555556,
          -0.462222,
          -0.36,
          -0.248889,
          -0.128889,
          -6.66134e-16,
          0.128889,
          0.248889,
          0.36,
          0.462222,
          0.555556,
          0.64,
          0.715556,
          0.782222,
          0.84,
          0.888889,
          0.928889,
          0.96,
          0.982222,
          0.995556,
          1,
          0.995556,
          0.982222,
          0.96,
          0.928889,
          0.888889,
          0.84,
          0.782222,
          0.715556,
          0.64,
          0.555556,
          0.462222,
          0.36,
          0.248889,
          0.128889,
          6.66134e-16
         ]
        }
       ],
       "layout": {
        "scene": {
         "xaxis": {
          "title": {
           "text": "X-axis"
          }
         },
         "yaxis": {
          "title": {
           "text": "Y-axis"
          }
         },
         "zaxis": {
          "title": {
           "text": "Z-axis"
          }
         }
        },
        "template": {
         "data": {
          "bar": [
           {
            "error_x": {
             "color": "#2a3f5f"
            },
            "error_y": {
             "color": "#2a3f5f"
            },
            "marker": {
             "line": {
              "color": "#E5ECF6",
              "width": 0.5
             },
             "pattern": {
              "fillmode": "overlay",
              "size": 10,
              "solidity": 0.2
             }
            },
            "type": "bar"
           }
          ],
          "barpolar": [
           {
            "marker": {
             "line": {
              "color": "#E5ECF6",
              "width": 0.5
             },
             "pattern": {
              "fillmode": "overlay",
              "size": 10,
              "solidity": 0.2
             }
            },
            "type": "barpolar"
           }
          ],
          "carpet": [
           {
            "aaxis": {
             "endlinecolor": "#2a3f5f",
             "gridcolor": "white",
             "linecolor": "white",
             "minorgridcolor": "white",
             "startlinecolor": "#2a3f5f"
            },
            "baxis": {
             "endlinecolor": "#2a3f5f",
             "gridcolor": "white",
             "linecolor": "white",
             "minorgridcolor": "white",
             "startlinecolor": "#2a3f5f"
            },
            "type": "carpet"
           }
          ],
          "choropleth": [
           {
            "colorbar": {
             "outlinewidth": 0,
             "ticks": ""
            },
            "type": "choropleth"
           }
          ],
          "contour": [
           {
            "colorbar": {
             "outlinewidth": 0,
             "ticks": ""
            },
            "colorscale": [
             [
              0,
              "#0d0887"
             ],
             [
              0.1111111111111111,
              "#46039f"
             ],
             [
              0.2222222222222222,
              "#7201a8"
             ],
             [
              0.3333333333333333,
              "#9c179e"
             ],
             [
              0.4444444444444444,
              "#bd3786"
             ],
             [
              0.5555555555555556,
              "#d8576b"
             ],
             [
              0.6666666666666666,
              "#ed7953"
             ],
             [
              0.7777777777777778,
              "#fb9f3a"
             ],
             [
              0.8888888888888888,
              "#fdca26"
             ],
             [
              1,
              "#f0f921"
             ]
            ],
            "type": "contour"
           }
          ],
          "contourcarpet": [
           {
            "colorbar": {
             "outlinewidth": 0,
             "ticks": ""
            },
            "type": "contourcarpet"
           }
          ],
          "heatmap": [
           {
            "colorbar": {
             "outlinewidth": 0,
             "ticks": ""
            },
            "colorscale": [
             [
              0,
              "#0d0887"
             ],
             [
              0.1111111111111111,
              "#46039f"
             ],
             [
              0.2222222222222222,
              "#7201a8"
             ],
             [
              0.3333333333333333,
              "#9c179e"
             ],
             [
              0.4444444444444444,
              "#bd3786"
             ],
             [
              0.5555555555555556,
              "#d8576b"
             ],
             [
              0.6666666666666666,
              "#ed7953"
             ],
             [
              0.7777777777777778,
              "#fb9f3a"
             ],
             [
              0.8888888888888888,
              "#fdca26"
             ],
             [
              1,
              "#f0f921"
             ]
            ],
            "type": "heatmap"
           }
          ],
          "heatmapgl": [
           {
            "colorbar": {
             "outlinewidth": 0,
             "ticks": ""
            },
            "colorscale": [
             [
              0,
              "#0d0887"
             ],
             [
              0.1111111111111111,
              "#46039f"
             ],
             [
              0.2222222222222222,
              "#7201a8"
             ],
             [
              0.3333333333333333,
              "#9c179e"
             ],
             [
              0.4444444444444444,
              "#bd3786"
             ],
             [
              0.5555555555555556,
              "#d8576b"
             ],
             [
              0.6666666666666666,
              "#ed7953"
             ],
             [
              0.7777777777777778,
              "#fb9f3a"
             ],
             [
              0.8888888888888888,
              "#fdca26"
             ],
             [
              1,
              "#f0f921"
             ]
            ],
            "type": "heatmapgl"
           }
          ],
          "histogram": [
           {
            "marker": {
             "pattern": {
              "fillmode": "overlay",
              "size": 10,
              "solidity": 0.2
             }
            },
            "type": "histogram"
           }
          ],
          "histogram2d": [
           {
            "colorbar": {
             "outlinewidth": 0,
             "ticks": ""
            },
            "colorscale": [
             [
              0,
              "#0d0887"
             ],
             [
              0.1111111111111111,
              "#46039f"
             ],
             [
              0.2222222222222222,
              "#7201a8"
             ],
             [
              0.3333333333333333,
              "#9c179e"
             ],
             [
              0.4444444444444444,
              "#bd3786"
             ],
             [
              0.5555555555555556,
              "#d8576b"
             ],
             [
              0.6666666666666666,
              "#ed7953"
             ],
             [
              0.7777777777777778,
              "#fb9f3a"
             ],
             [
              0.8888888888888888,
              "#fdca26"
             ],
             [
              1,
              "#f0f921"
             ]
            ],
            "type": "histogram2d"
           }
          ],
          "histogram2dcontour": [
           {
            "colorbar": {
             "outlinewidth": 0,
             "ticks": ""
            },
            "colorscale": [
             [
              0,
              "#0d0887"
             ],
             [
              0.1111111111111111,
              "#46039f"
             ],
             [
              0.2222222222222222,
              "#7201a8"
             ],
             [
              0.3333333333333333,
              "#9c179e"
             ],
             [
              0.4444444444444444,
              "#bd3786"
             ],
             [
              0.5555555555555556,
              "#d8576b"
             ],
             [
              0.6666666666666666,
              "#ed7953"
             ],
             [
              0.7777777777777778,
              "#fb9f3a"
             ],
             [
              0.8888888888888888,
              "#fdca26"
             ],
             [
              1,
              "#f0f921"
             ]
            ],
            "type": "histogram2dcontour"
           }
          ],
          "mesh3d": [
           {
            "colorbar": {
             "outlinewidth": 0,
             "ticks": ""
            },
            "type": "mesh3d"
           }
          ],
          "parcoords": [
           {
            "line": {
             "colorbar": {
              "outlinewidth": 0,
              "ticks": ""
             }
            },
            "type": "parcoords"
           }
          ],
          "pie": [
           {
            "automargin": true,
            "type": "pie"
           }
          ],
          "scatter": [
           {
            "fillpattern": {
             "fillmode": "overlay",
             "size": 10,
             "solidity": 0.2
            },
            "type": "scatter"
           }
          ],
          "scatter3d": [
           {
            "line": {
             "colorbar": {
              "outlinewidth": 0,
              "ticks": ""
             }
            },
            "marker": {
             "colorbar": {
              "outlinewidth": 0,
              "ticks": ""
             }
            },
            "type": "scatter3d"
           }
          ],
          "scattercarpet": [
           {
            "marker": {
             "colorbar": {
              "outlinewidth": 0,
              "ticks": ""
             }
            },
            "type": "scattercarpet"
           }
          ],
          "scattergeo": [
           {
            "marker": {
             "colorbar": {
              "outlinewidth": 0,
              "ticks": ""
             }
            },
            "type": "scattergeo"
           }
          ],
          "scattergl": [
           {
            "marker": {
             "colorbar": {
              "outlinewidth": 0,
              "ticks": ""
             }
            },
            "type": "scattergl"
           }
          ],
          "scattermapbox": [
           {
            "marker": {
             "colorbar": {
              "outlinewidth": 0,
              "ticks": ""
             }
            },
            "type": "scattermapbox"
           }
          ],
          "scatterpolar": [
           {
            "marker": {
             "colorbar": {
              "outlinewidth": 0,
              "ticks": ""
             }
            },
            "type": "scatterpolar"
           }
          ],
          "scatterpolargl": [
           {
            "marker": {
             "colorbar": {
              "outlinewidth": 0,
              "ticks": ""
             }
            },
            "type": "scatterpolargl"
           }
          ],
          "scatterternary": [
           {
            "marker": {
             "colorbar": {
              "outlinewidth": 0,
              "ticks": ""
             }
            },
            "type": "scatterternary"
           }
          ],
          "surface": [
           {
            "colorbar": {
             "outlinewidth": 0,
             "ticks": ""
            },
            "colorscale": [
             [
              0,
              "#0d0887"
             ],
             [
              0.1111111111111111,
              "#46039f"
             ],
             [
              0.2222222222222222,
              "#7201a8"
             ],
             [
              0.3333333333333333,
              "#9c179e"
             ],
             [
              0.4444444444444444,
              "#bd3786"
             ],
             [
              0.5555555555555556,
              "#d8576b"
             ],
             [
              0.6666666666666666,
              "#ed7953"
             ],
             [
              0.7777777777777778,
              "#fb9f3a"
             ],
             [
              0.8888888888888888,
              "#fdca26"
             ],
             [
              1,
              "#f0f921"
             ]
            ],
            "type": "surface"
           }
          ],
          "table": [
           {
            "cells": {
             "fill": {
              "color": "#EBF0F8"
             },
             "line": {
              "color": "white"
             }
            },
            "header": {
             "fill": {
              "color": "#C8D4E3"
             },
             "line": {
              "color": "white"
             }
            },
            "type": "table"
           }
          ]
         },
         "layout": {
          "annotationdefaults": {
           "arrowcolor": "#2a3f5f",
           "arrowhead": 0,
           "arrowwidth": 1
          },
          "autotypenumbers": "strict",
          "coloraxis": {
           "colorbar": {
            "outlinewidth": 0,
            "ticks": ""
           }
          },
          "colorscale": {
           "diverging": [
            [
             0,
             "#8e0152"
            ],
            [
             0.1,
             "#c51b7d"
            ],
            [
             0.2,
             "#de77ae"
            ],
            [
             0.3,
             "#f1b6da"
            ],
            [
             0.4,
             "#fde0ef"
            ],
            [
             0.5,
             "#f7f7f7"
            ],
            [
             0.6,
             "#e6f5d0"
            ],
            [
             0.7,
             "#b8e186"
            ],
            [
             0.8,
             "#7fbc41"
            ],
            [
             0.9,
             "#4d9221"
            ],
            [
             1,
             "#276419"
            ]
           ],
           "sequential": [
            [
             0,
             "#0d0887"
            ],
            [
             0.1111111111111111,
             "#46039f"
            ],
            [
             0.2222222222222222,
             "#7201a8"
            ],
            [
             0.3333333333333333,
             "#9c179e"
            ],
            [
             0.4444444444444444,
             "#bd3786"
            ],
            [
             0.5555555555555556,
             "#d8576b"
            ],
            [
             0.6666666666666666,
             "#ed7953"
            ],
            [
             0.7777777777777778,
             "#fb9f3a"
            ],
            [
             0.8888888888888888,
             "#fdca26"
            ],
            [
             1,
             "#f0f921"
            ]
           ],
           "sequentialminus": [
            [
             0,
             "#0d0887"
            ],
            [
             0.1111111111111111,
             "#46039f"
            ],
            [
             0.2222222222222222,
             "#7201a8"
            ],
            [
             0.3333333333333333,
             "#9c179e"
            ],
            [
             0.4444444444444444,
             "#bd3786"
            ],
            [
             0.5555555555555556,
             "#d8576b"
            ],
            [
             0.6666666666666666,
             "#ed7953"
            ],
            [
             0.7777777777777778,
             "#fb9f3a"
            ],
            [
             0.8888888888888888,
             "#fdca26"
            ],
            [
             1,
             "#f0f921"
            ]
           ]
          },
          "colorway": [
           "#636efa",
           "#EF553B",
           "#00cc96",
           "#ab63fa",
           "#FFA15A",
           "#19d3f3",
           "#FF6692",
           "#B6E880",
           "#FF97FF",
           "#FECB52"
          ],
          "font": {
           "color": "#2a3f5f"
          },
          "geo": {
           "bgcolor": "white",
           "lakecolor": "white",
           "landcolor": "#E5ECF6",
           "showlakes": true,
           "showland": true,
           "subunitcolor": "white"
          },
          "hoverlabel": {
           "align": "left"
          },
          "hovermode": "closest",
          "mapbox": {
           "style": "light"
          },
          "paper_bgcolor": "white",
          "plot_bgcolor": "#E5ECF6",
          "polar": {
           "angularaxis": {
            "gridcolor": "white",
            "linecolor": "white",
            "ticks": ""
           },
           "bgcolor": "#E5ECF6",
           "radialaxis": {
            "gridcolor": "white",
            "linecolor": "white",
            "ticks": ""
           }
          },
          "scene": {
           "xaxis": {
            "backgroundcolor": "#E5ECF6",
            "gridcolor": "white",
            "gridwidth": 2,
            "linecolor": "white",
            "showbackground": true,
            "ticks": "",
            "zerolinecolor": "white"
           },
           "yaxis": {
            "backgroundcolor": "#E5ECF6",
            "gridcolor": "white",
            "gridwidth": 2,
            "linecolor": "white",
            "showbackground": true,
            "ticks": "",
            "zerolinecolor": "white"
           },
           "zaxis": {
            "backgroundcolor": "#E5ECF6",
            "gridcolor": "white",
            "gridwidth": 2,
            "linecolor": "white",
            "showbackground": true,
            "ticks": "",
            "zerolinecolor": "white"
           }
          },
          "shapedefaults": {
           "line": {
            "color": "#2a3f5f"
           }
          },
          "ternary": {
           "aaxis": {
            "gridcolor": "white",
            "linecolor": "white",
            "ticks": ""
           },
           "baxis": {
            "gridcolor": "white",
            "linecolor": "white",
            "ticks": ""
           },
           "bgcolor": "#E5ECF6",
           "caxis": {
            "gridcolor": "white",
            "linecolor": "white",
            "ticks": ""
           }
          },
          "title": {
           "x": 0.05
          },
          "xaxis": {
           "automargin": true,
           "gridcolor": "white",
           "linecolor": "white",
           "ticks": "",
           "title": {
            "standoff": 15
           },
           "zerolinecolor": "white",
           "zerolinewidth": 2
          },
          "yaxis": {
           "automargin": true,
           "gridcolor": "white",
           "linecolor": "white",
           "ticks": "",
           "title": {
            "standoff": 15
           },
           "zerolinecolor": "white",
           "zerolinewidth": 2
          }
         }
        },
        "title": {
         "text": "3D Star Shape on a Tilted Plane"
        }
       }
      }
     },
     "metadata": {},
     "output_type": "display_data"
    }
   ],
   "source": [
    "print_boundary_dirichlet(path=csv_dir + boundary_csv) "
   ]
  },
  {
   "cell_type": "code",
   "execution_count": 93,
   "metadata": {},
   "outputs": [
    {
     "data": {
      "application/vnd.plotly.v1+json": {
       "config": {
        "plotlyServerURL": "https://plot.ly"
       },
       "data": [
        {
         "marker": {
          "color": "blue",
          "size": 2
         },
         "mode": "markers",
         "type": "scatter3d",
         "x": [
          0.06666666666666667,
          0.13333333333333333,
          0.2,
          0.26666666666666666,
          0.3333333333333333,
          0.4,
          0.4666666666666667,
          0.5333333333333333,
          0.6,
          0.6666666666666666,
          0.7333333333333333,
          0.8,
          0.8666666666666667,
          0.9333333333333333,
          0.06666666666666667,
          0.13333333333333333,
          0.2,
          0.26666666666666666,
          0.3333333333333333,
          0.4,
          0.4666666666666667,
          0.5333333333333333,
          0.6,
          0.6666666666666666,
          0.7333333333333333,
          0.8,
          0.8666666666666667,
          0.9333333333333333,
          0.06666666666666667,
          0.13333333333333333,
          0.2,
          0.26666666666666666,
          0.3333333333333333,
          0.4,
          0.4666666666666667,
          0.5333333333333333,
          0.6,
          0.6666666666666666,
          0.7333333333333333,
          0.8,
          0.8666666666666667,
          0.9333333333333333,
          1,
          0.06666666666666667,
          0.13333333333333333,
          0.2,
          0.26666666666666666,
          0.3333333333333333,
          0.4,
          0.4666666666666667,
          0.5333333333333333,
          0.6,
          0.6666666666666666,
          0.7333333333333333,
          0.8,
          0.8666666666666667,
          0.9333333333333333,
          1,
          0.06666666666666667,
          0.13333333333333333,
          0.2,
          0.26666666666666666,
          0.3333333333333333,
          0.4,
          0.4666666666666667,
          0.5333333333333333,
          0.6,
          0.6666666666666666,
          0.7333333333333333,
          0.8,
          0.8666666666666667,
          0.9333333333333333,
          1,
          0.06666666666666667,
          0.13333333333333333,
          0.2,
          0.26666666666666666,
          0.3333333333333333,
          0.4,
          0.4666666666666667,
          0.5333333333333333,
          0.6,
          0.6666666666666666,
          0.7333333333333333,
          0.8,
          0.8666666666666667,
          0.9333333333333333,
          1,
          0.06666666666666667,
          0.13333333333333333,
          0.2,
          0.26666666666666666,
          0.3333333333333333,
          0.4,
          0.4666666666666667,
          0.5333333333333333,
          0.6,
          0.6666666666666666,
          0.7333333333333333,
          0.8,
          0.8666666666666667,
          0.9333333333333333,
          1,
          0.06666666666666667,
          0.13333333333333333,
          0.2,
          0.26666666666666666,
          0.3333333333333333,
          0.4,
          0.4666666666666667,
          0.5333333333333333,
          0.6,
          0.6666666666666666,
          0.7333333333333333,
          0.8,
          0.8666666666666667,
          0.9333333333333333,
          1,
          0.06666666666666667,
          0.13333333333333333,
          0.2,
          0.26666666666666666,
          0.3333333333333333,
          0.4,
          0.4666666666666667,
          0.5333333333333333,
          0.6,
          0.6666666666666666,
          0.7333333333333333,
          0.8,
          0.8666666666666667,
          0.9333333333333333,
          1,
          0.06666666666666667,
          0.13333333333333333,
          0.2,
          0.26666666666666666,
          0.3333333333333333,
          0.4,
          0.4666666666666667,
          0.5333333333333333,
          0.6,
          0.6666666666666666,
          0.7333333333333333,
          0.8,
          0.8666666666666667,
          0.9333333333333333,
          1,
          0.06666666666666667,
          0.13333333333333333,
          0.2,
          0.26666666666666666,
          0.3333333333333333,
          0.4,
          0.4666666666666667,
          0.5333333333333333,
          0.6,
          0.6666666666666666,
          0.7333333333333333,
          0.8,
          0.8666666666666667,
          0.9333333333333333,
          1,
          0.06666666666666667,
          0.13333333333333333,
          0.2,
          0.26666666666666666,
          0.3333333333333333,
          0.4,
          0.4666666666666667,
          0.5333333333333333,
          0.6,
          0.6666666666666666,
          0.7333333333333333,
          0.8,
          0.8666666666666667,
          0.9333333333333333,
          1,
          0.06666666666666667,
          0.13333333333333333,
          0.2,
          0.26666666666666666,
          0.3333333333333333,
          0.4,
          0.4666666666666667,
          0.5333333333333333,
          0.6,
          0.6666666666666666,
          0.7333333333333333,
          0.8,
          0.8666666666666667,
          0.9333333333333333,
          1,
          0.06666666666666667,
          0.13333333333333333,
          0.2,
          0.26666666666666666,
          0.3333333333333333,
          0.4,
          0.4666666666666667,
          0.5333333333333333,
          0.6,
          0.6666666666666666,
          0.7333333333333333,
          0.8,
          0.8666666666666667,
          0.9333333333333333,
          1,
          0.06666666666666667,
          0.13333333333333333,
          0.2,
          0.26666666666666666,
          0.3333333333333333,
          0.4,
          0.4666666666666667,
          0.5333333333333333,
          0.6,
          0.6666666666666666,
          0.7333333333333333
         ],
         "y": [
          0.06666666666666667,
          0.06666666666666667,
          0.06666666666666667,
          0.06666666666666667,
          0.06666666666666667,
          0.06666666666666667,
          0.06666666666666667,
          0.06666666666666667,
          0.06666666666666667,
          0.06666666666666667,
          0.06666666666666667,
          0.06666666666666667,
          0.06666666666666667,
          0.06666666666666667,
          0.13333333333333333,
          0.13333333333333333,
          0.13333333333333333,
          0.13333333333333333,
          0.13333333333333333,
          0.13333333333333333,
          0.13333333333333333,
          0.13333333333333333,
          0.13333333333333333,
          0.13333333333333333,
          0.13333333333333333,
          0.13333333333333333,
          0.13333333333333333,
          0.13333333333333333,
          0.2,
          0.2,
          0.2,
          0.2,
          0.2,
          0.2,
          0.2,
          0.2,
          0.2,
          0.2,
          0.2,
          0.2,
          0.2,
          0.2,
          0.2,
          0.26666666666666666,
          0.26666666666666666,
          0.26666666666666666,
          0.26666666666666666,
          0.26666666666666666,
          0.26666666666666666,
          0.26666666666666666,
          0.26666666666666666,
          0.26666666666666666,
          0.26666666666666666,
          0.26666666666666666,
          0.26666666666666666,
          0.26666666666666666,
          0.26666666666666666,
          0.26666666666666666,
          0.3333333333333333,
          0.3333333333333333,
          0.3333333333333333,
          0.3333333333333333,
          0.3333333333333333,
          0.3333333333333333,
          0.3333333333333333,
          0.3333333333333333,
          0.3333333333333333,
          0.3333333333333333,
          0.3333333333333333,
          0.3333333333333333,
          0.3333333333333333,
          0.3333333333333333,
          0.3333333333333333,
          0.4,
          0.4,
          0.4,
          0.4,
          0.4,
          0.4,
          0.4,
          0.4,
          0.4,
          0.4,
          0.4,
          0.4,
          0.4,
          0.4,
          0.4,
          0.4666666666666667,
          0.4666666666666667,
          0.4666666666666667,
          0.4666666666666667,
          0.4666666666666667,
          0.4666666666666667,
          0.4666666666666667,
          0.4666666666666667,
          0.4666666666666667,
          0.4666666666666667,
          0.4666666666666667,
          0.4666666666666667,
          0.4666666666666667,
          0.4666666666666667,
          0.4666666666666667,
          0.5333333333333333,
          0.5333333333333333,
          0.5333333333333333,
          0.5333333333333333,
          0.5333333333333333,
          0.5333333333333333,
          0.5333333333333333,
          0.5333333333333333,
          0.5333333333333333,
          0.5333333333333333,
          0.5333333333333333,
          0.5333333333333333,
          0.5333333333333333,
          0.5333333333333333,
          0.5333333333333333,
          0.6,
          0.6,
          0.6,
          0.6,
          0.6,
          0.6,
          0.6,
          0.6,
          0.6,
          0.6,
          0.6,
          0.6,
          0.6,
          0.6,
          0.6,
          0.6666666666666666,
          0.6666666666666666,
          0.6666666666666666,
          0.6666666666666666,
          0.6666666666666666,
          0.6666666666666666,
          0.6666666666666666,
          0.6666666666666666,
          0.6666666666666666,
          0.6666666666666666,
          0.6666666666666666,
          0.6666666666666666,
          0.6666666666666666,
          0.6666666666666666,
          0.6666666666666666,
          0.7333333333333333,
          0.7333333333333333,
          0.7333333333333333,
          0.7333333333333333,
          0.7333333333333333,
          0.7333333333333333,
          0.7333333333333333,
          0.7333333333333333,
          0.7333333333333333,
          0.7333333333333333,
          0.7333333333333333,
          0.7333333333333333,
          0.7333333333333333,
          0.7333333333333333,
          0.7333333333333333,
          0.8,
          0.8,
          0.8,
          0.8,
          0.8,
          0.8,
          0.8,
          0.8,
          0.8,
          0.8,
          0.8,
          0.8,
          0.8,
          0.8,
          0.8,
          0.8666666666666667,
          0.8666666666666667,
          0.8666666666666667,
          0.8666666666666667,
          0.8666666666666667,
          0.8666666666666667,
          0.8666666666666667,
          0.8666666666666667,
          0.8666666666666667,
          0.8666666666666667,
          0.8666666666666667,
          0.8666666666666667,
          0.8666666666666667,
          0.8666666666666667,
          0.8666666666666667,
          0.9333333333333333,
          0.9333333333333333,
          0.9333333333333333,
          0.9333333333333333,
          0.9333333333333333,
          0.9333333333333333,
          0.9333333333333333,
          0.9333333333333333,
          0.9333333333333333,
          0.9333333333333333,
          0.9333333333333333,
          0.9333333333333333,
          0.9333333333333333,
          0.9333333333333333,
          0.9333333333333333,
          1,
          1,
          1,
          1,
          1,
          1,
          1,
          1,
          1,
          1,
          1
         ],
         "z": [
          0.0021147,
          -0.211948,
          -0.396022,
          -0.535782,
          -0.639763,
          -0.711605,
          -0.743987,
          -0.741633,
          -0.712364,
          -0.643335,
          -0.533044,
          -0.393099,
          -0.217142,
          0.00252314,
          0.215347,
          -0.00303395,
          -0.180681,
          -0.321933,
          -0.426724,
          -0.500427,
          -0.533759,
          -0.534988,
          -0.501239,
          -0.424442,
          -0.317532,
          -0.182893,
          0.00170329,
          0.217054,
          0.391888,
          0.185023,
          -0.00162256,
          -0.143921,
          -0.250842,
          -0.318356,
          -0.356099,
          -0.357089,
          -0.321744,
          -0.247086,
          -0.145707,
          -0.00651367,
          0.178911,
          0.392471,
          0.640001,
          0.533863,
          0.3196,
          0.135656,
          0.00302831,
          -0.107583,
          -0.174231,
          -0.215204,
          -0.215219,
          -0.177592,
          -0.102366,
          -0.00210943,
          0.14199,
          0.320914,
          0.5357,
          0.782223,
          0.641716,
          0.429169,
          0.251051,
          0.1067,
          0.000449503,
          -0.0735626,
          -0.106253,
          -0.108083,
          -0.067934,
          -0.000636743,
          0.106452,
          0.247586,
          0.430385,
          0.642912,
          0.888889,
          0.708797,
          0.498023,
          0.321289,
          0.181379,
          0.0678416,
          -0.000672073,
          -0.0359942,
          -0.027614,
          0.00753395,
          0.0736713,
          0.176726,
          0.320357,
          0.498224,
          0.710446,
          0.959999,
          0.747931,
          0.532816,
          0.350796,
          0.21381,
          0.106175,
          0.0392084,
          -0.000299229,
          0.00144915,
          0.0368801,
          0.109255,
          0.214729,
          0.354538,
          0.535012,
          0.744417,
          0.995556,
          0.743257,
          0.529843,
          0.354177,
          0.20733,
          0.107222,
          0.0362009,
          -0.00426762,
          0.000907155,
          0.0394978,
          0.108177,
          0.209877,
          0.356563,
          0.528268,
          0.746467,
          0.995555,
          0.706889,
          0.498648,
          0.316131,
          0.174996,
          0.0681169,
          0.000829329,
          -0.0407604,
          -0.0393826,
          0.00269637,
          0.0711618,
          0.176016,
          0.320717,
          0.498417,
          0.713147,
          0.959999,
          0.643788,
          0.427061,
          0.251736,
          0.110828,
          0.00114916,
          -0.0695503,
          -0.100779,
          -0.101608,
          -0.0724433,
          0.0041835,
          0.109239,
          0.250179,
          0.427585,
          0.637937,
          0.888888,
          0.534583,
          0.317923,
          0.141369,
          -0.00490738,
          -0.102008,
          -0.175651,
          -0.220897,
          -0.216288,
          -0.181025,
          -0.109782,
          -0.00603797,
          0.142677,
          0.315462,
          0.53631,
          0.782222,
          0.391307,
          0.173712,
          0.00410496,
          -0.140771,
          -0.254268,
          -0.31812,
          -0.359846,
          -0.357862,
          -0.32494,
          -0.253319,
          -0.144417,
          -0.000517332,
          0.176089,
          0.391528,
          0.64,
          0.213873,
          0.000639895,
          -0.182341,
          -0.31597,
          -0.430354,
          -0.499979,
          -0.527363,
          -0.532884,
          -0.498445,
          -0.431308,
          -0.319535,
          -0.179569,
          0.00404514,
          0.212857,
          0.462221,
          -0.00225174,
          -0.214155,
          -0.390518,
          -0.533897,
          -0.63573,
          -0.707235,
          -0.744942,
          -0.749819,
          -0.709509,
          -0.641635,
          -0.531324,
          -0.391899,
          -0.213156,
          -0.00117459,
          0.248888,
          -0.248888,
          -0.462221,
          -0.640001,
          -0.782222,
          -0.888889,
          -0.96,
          -0.995556,
          -0.995556,
          -0.96,
          -0.888889,
          -0.782222
         ]
        },
        {
         "marker": {
          "color": "red",
          "size": 2
         },
         "mode": "markers",
         "type": "scatter3d",
         "x": [
          0,
          0.033333500000000016,
          0.06666650000000002,
          0.09999999999999998,
          0.1333335,
          0.1666665,
          0.2,
          0.23333350000000003,
          0.26666650000000003,
          0.3,
          0.3333335,
          0.3666665,
          0.4,
          0.4333335,
          0.46666665,
          0.4999999999999999,
          0.53333335,
          0.5666665,
          0.6,
          0.6333335,
          0.6666665,
          0.7,
          0.7333335,
          0.7666664999999999,
          0.8,
          0.8333335,
          0.8666665,
          0.9,
          0.9333335,
          0.9666665,
          1,
          1,
          1,
          1,
          1,
          1,
          1,
          1,
          1,
          1,
          1,
          1,
          1,
          1,
          1,
          1,
          1,
          1,
          1,
          1,
          1,
          1,
          1,
          1,
          1,
          1,
          1,
          1,
          1,
          1,
          1,
          0.9666665,
          0.9333335,
          0.9,
          0.8666665,
          0.8333335,
          0.8,
          0.7666664999999999,
          0.7333335,
          0.7,
          0.6666665,
          0.6333335,
          0.6,
          0.5666665,
          0.53333335,
          0.5000000000000001,
          0.46666665,
          0.4333335,
          0.4,
          0.3666665,
          0.3333335,
          0.3,
          0.26666650000000003,
          0.23333350000000003,
          0.2,
          0.1666665,
          0.1333335,
          0.09999999999999998,
          0.06666650000000002,
          0.033333500000000016,
          0,
          0,
          0,
          0,
          0,
          0,
          0,
          0,
          0,
          0,
          0,
          0,
          0,
          0,
          0,
          0,
          0,
          0,
          0,
          0,
          0,
          0,
          0,
          0,
          0,
          0,
          0,
          0,
          0,
          0,
          0
         ],
         "y": [
          0,
          0,
          0,
          0,
          0,
          0,
          0,
          0,
          0,
          0,
          0,
          0,
          0,
          0,
          0,
          0,
          0,
          0,
          0,
          0,
          0,
          0,
          0,
          0,
          0,
          0,
          0,
          0,
          0,
          0,
          0,
          0.033333500000000016,
          0.06666650000000002,
          0.09999999999999998,
          0.1333335,
          0.1666665,
          0.2,
          0.23333350000000003,
          0.26666650000000003,
          0.3,
          0.3333335,
          0.3666665,
          0.4,
          0.4333335,
          0.46666665,
          0.4999999999999999,
          0.53333335,
          0.5666665,
          0.6,
          0.6333335,
          0.6666665,
          0.7,
          0.7333335,
          0.7666664999999999,
          0.8,
          0.8333335,
          0.8666665,
          0.9,
          0.9333335,
          0.9666665,
          1,
          1,
          1,
          1,
          1,
          1,
          1,
          1,
          1,
          1,
          1,
          1,
          1,
          1,
          1,
          1,
          1,
          1,
          1,
          1,
          1,
          1,
          1,
          1,
          1,
          1,
          1,
          1,
          1,
          1,
          1,
          0.9666665,
          0.9333335,
          0.9,
          0.8666665,
          0.8333335,
          0.8,
          0.7666664999999999,
          0.7333335,
          0.7,
          0.6666665,
          0.6333335,
          0.6,
          0.5666665,
          0.53333335,
          0.5000000000000001,
          0.46666665,
          0.4333335,
          0.4,
          0.3666665,
          0.3333335,
          0.3,
          0.26666650000000003,
          0.23333350000000003,
          0.2,
          0.1666665,
          0.1333335,
          0.09999999999999998,
          0.06666650000000002,
          0.033333500000000016,
          0
         ],
         "z": [
          0,
          -0.128889,
          -0.248889,
          -0.36,
          -0.462222,
          -0.555556,
          -0.64,
          -0.715556,
          -0.782222,
          -0.84,
          -0.888889,
          -0.928889,
          -0.96,
          -0.982222,
          -0.995556,
          -1,
          -0.995556,
          -0.982222,
          -0.96,
          -0.928889,
          -0.888889,
          -0.84,
          -0.782222,
          -0.715556,
          -0.64,
          -0.555556,
          -0.462222,
          -0.36,
          -0.248889,
          -0.128889,
          -6.66134e-16,
          0.128889,
          0.248889,
          0.36,
          0.462222,
          0.555556,
          0.64,
          0.715556,
          0.782222,
          0.84,
          0.888889,
          0.928889,
          0.96,
          0.982222,
          0.995556,
          1,
          0.995556,
          0.982222,
          0.96,
          0.928889,
          0.888889,
          0.84,
          0.782222,
          0.715556,
          0.64,
          0.555556,
          0.462222,
          0.36,
          0.248889,
          0.128889,
          6.66134e-16,
          -0.128889,
          -0.248889,
          -0.36,
          -0.462222,
          -0.555556,
          -0.64,
          -0.715556,
          -0.782222,
          -0.84,
          -0.888889,
          -0.928889,
          -0.96,
          -0.982222,
          -0.995556,
          -1,
          -0.995556,
          -0.982222,
          -0.96,
          -0.928889,
          -0.888889,
          -0.84,
          -0.782222,
          -0.715556,
          -0.64,
          -0.555556,
          -0.462222,
          -0.36,
          -0.248889,
          -0.128889,
          -6.66134e-16,
          0.128889,
          0.248889,
          0.36,
          0.462222,
          0.555556,
          0.64,
          0.715556,
          0.782222,
          0.84,
          0.888889,
          0.928889,
          0.96,
          0.982222,
          0.995556,
          1,
          0.995556,
          0.982222,
          0.96,
          0.928889,
          0.888889,
          0.84,
          0.782222,
          0.715556,
          0.64,
          0.555556,
          0.462222,
          0.36,
          0.248889,
          0.128889,
          6.66134e-16
         ]
        }
       ],
       "layout": {
        "scene": {
         "aspectmode": "cube",
         "xaxis": {
          "title": {
           "text": "X"
          }
         },
         "yaxis": {
          "title": {
           "text": "Y"
          }
         },
         "zaxis": {
          "title": {
           "text": "Z"
          }
         }
        },
        "template": {
         "data": {
          "bar": [
           {
            "error_x": {
             "color": "#2a3f5f"
            },
            "error_y": {
             "color": "#2a3f5f"
            },
            "marker": {
             "line": {
              "color": "#E5ECF6",
              "width": 0.5
             },
             "pattern": {
              "fillmode": "overlay",
              "size": 10,
              "solidity": 0.2
             }
            },
            "type": "bar"
           }
          ],
          "barpolar": [
           {
            "marker": {
             "line": {
              "color": "#E5ECF6",
              "width": 0.5
             },
             "pattern": {
              "fillmode": "overlay",
              "size": 10,
              "solidity": 0.2
             }
            },
            "type": "barpolar"
           }
          ],
          "carpet": [
           {
            "aaxis": {
             "endlinecolor": "#2a3f5f",
             "gridcolor": "white",
             "linecolor": "white",
             "minorgridcolor": "white",
             "startlinecolor": "#2a3f5f"
            },
            "baxis": {
             "endlinecolor": "#2a3f5f",
             "gridcolor": "white",
             "linecolor": "white",
             "minorgridcolor": "white",
             "startlinecolor": "#2a3f5f"
            },
            "type": "carpet"
           }
          ],
          "choropleth": [
           {
            "colorbar": {
             "outlinewidth": 0,
             "ticks": ""
            },
            "type": "choropleth"
           }
          ],
          "contour": [
           {
            "colorbar": {
             "outlinewidth": 0,
             "ticks": ""
            },
            "colorscale": [
             [
              0,
              "#0d0887"
             ],
             [
              0.1111111111111111,
              "#46039f"
             ],
             [
              0.2222222222222222,
              "#7201a8"
             ],
             [
              0.3333333333333333,
              "#9c179e"
             ],
             [
              0.4444444444444444,
              "#bd3786"
             ],
             [
              0.5555555555555556,
              "#d8576b"
             ],
             [
              0.6666666666666666,
              "#ed7953"
             ],
             [
              0.7777777777777778,
              "#fb9f3a"
             ],
             [
              0.8888888888888888,
              "#fdca26"
             ],
             [
              1,
              "#f0f921"
             ]
            ],
            "type": "contour"
           }
          ],
          "contourcarpet": [
           {
            "colorbar": {
             "outlinewidth": 0,
             "ticks": ""
            },
            "type": "contourcarpet"
           }
          ],
          "heatmap": [
           {
            "colorbar": {
             "outlinewidth": 0,
             "ticks": ""
            },
            "colorscale": [
             [
              0,
              "#0d0887"
             ],
             [
              0.1111111111111111,
              "#46039f"
             ],
             [
              0.2222222222222222,
              "#7201a8"
             ],
             [
              0.3333333333333333,
              "#9c179e"
             ],
             [
              0.4444444444444444,
              "#bd3786"
             ],
             [
              0.5555555555555556,
              "#d8576b"
             ],
             [
              0.6666666666666666,
              "#ed7953"
             ],
             [
              0.7777777777777778,
              "#fb9f3a"
             ],
             [
              0.8888888888888888,
              "#fdca26"
             ],
             [
              1,
              "#f0f921"
             ]
            ],
            "type": "heatmap"
           }
          ],
          "heatmapgl": [
           {
            "colorbar": {
             "outlinewidth": 0,
             "ticks": ""
            },
            "colorscale": [
             [
              0,
              "#0d0887"
             ],
             [
              0.1111111111111111,
              "#46039f"
             ],
             [
              0.2222222222222222,
              "#7201a8"
             ],
             [
              0.3333333333333333,
              "#9c179e"
             ],
             [
              0.4444444444444444,
              "#bd3786"
             ],
             [
              0.5555555555555556,
              "#d8576b"
             ],
             [
              0.6666666666666666,
              "#ed7953"
             ],
             [
              0.7777777777777778,
              "#fb9f3a"
             ],
             [
              0.8888888888888888,
              "#fdca26"
             ],
             [
              1,
              "#f0f921"
             ]
            ],
            "type": "heatmapgl"
           }
          ],
          "histogram": [
           {
            "marker": {
             "pattern": {
              "fillmode": "overlay",
              "size": 10,
              "solidity": 0.2
             }
            },
            "type": "histogram"
           }
          ],
          "histogram2d": [
           {
            "colorbar": {
             "outlinewidth": 0,
             "ticks": ""
            },
            "colorscale": [
             [
              0,
              "#0d0887"
             ],
             [
              0.1111111111111111,
              "#46039f"
             ],
             [
              0.2222222222222222,
              "#7201a8"
             ],
             [
              0.3333333333333333,
              "#9c179e"
             ],
             [
              0.4444444444444444,
              "#bd3786"
             ],
             [
              0.5555555555555556,
              "#d8576b"
             ],
             [
              0.6666666666666666,
              "#ed7953"
             ],
             [
              0.7777777777777778,
              "#fb9f3a"
             ],
             [
              0.8888888888888888,
              "#fdca26"
             ],
             [
              1,
              "#f0f921"
             ]
            ],
            "type": "histogram2d"
           }
          ],
          "histogram2dcontour": [
           {
            "colorbar": {
             "outlinewidth": 0,
             "ticks": ""
            },
            "colorscale": [
             [
              0,
              "#0d0887"
             ],
             [
              0.1111111111111111,
              "#46039f"
             ],
             [
              0.2222222222222222,
              "#7201a8"
             ],
             [
              0.3333333333333333,
              "#9c179e"
             ],
             [
              0.4444444444444444,
              "#bd3786"
             ],
             [
              0.5555555555555556,
              "#d8576b"
             ],
             [
              0.6666666666666666,
              "#ed7953"
             ],
             [
              0.7777777777777778,
              "#fb9f3a"
             ],
             [
              0.8888888888888888,
              "#fdca26"
             ],
             [
              1,
              "#f0f921"
             ]
            ],
            "type": "histogram2dcontour"
           }
          ],
          "mesh3d": [
           {
            "colorbar": {
             "outlinewidth": 0,
             "ticks": ""
            },
            "type": "mesh3d"
           }
          ],
          "parcoords": [
           {
            "line": {
             "colorbar": {
              "outlinewidth": 0,
              "ticks": ""
             }
            },
            "type": "parcoords"
           }
          ],
          "pie": [
           {
            "automargin": true,
            "type": "pie"
           }
          ],
          "scatter": [
           {
            "fillpattern": {
             "fillmode": "overlay",
             "size": 10,
             "solidity": 0.2
            },
            "type": "scatter"
           }
          ],
          "scatter3d": [
           {
            "line": {
             "colorbar": {
              "outlinewidth": 0,
              "ticks": ""
             }
            },
            "marker": {
             "colorbar": {
              "outlinewidth": 0,
              "ticks": ""
             }
            },
            "type": "scatter3d"
           }
          ],
          "scattercarpet": [
           {
            "marker": {
             "colorbar": {
              "outlinewidth": 0,
              "ticks": ""
             }
            },
            "type": "scattercarpet"
           }
          ],
          "scattergeo": [
           {
            "marker": {
             "colorbar": {
              "outlinewidth": 0,
              "ticks": ""
             }
            },
            "type": "scattergeo"
           }
          ],
          "scattergl": [
           {
            "marker": {
             "colorbar": {
              "outlinewidth": 0,
              "ticks": ""
             }
            },
            "type": "scattergl"
           }
          ],
          "scattermapbox": [
           {
            "marker": {
             "colorbar": {
              "outlinewidth": 0,
              "ticks": ""
             }
            },
            "type": "scattermapbox"
           }
          ],
          "scatterpolar": [
           {
            "marker": {
             "colorbar": {
              "outlinewidth": 0,
              "ticks": ""
             }
            },
            "type": "scatterpolar"
           }
          ],
          "scatterpolargl": [
           {
            "marker": {
             "colorbar": {
              "outlinewidth": 0,
              "ticks": ""
             }
            },
            "type": "scatterpolargl"
           }
          ],
          "scatterternary": [
           {
            "marker": {
             "colorbar": {
              "outlinewidth": 0,
              "ticks": ""
             }
            },
            "type": "scatterternary"
           }
          ],
          "surface": [
           {
            "colorbar": {
             "outlinewidth": 0,
             "ticks": ""
            },
            "colorscale": [
             [
              0,
              "#0d0887"
             ],
             [
              0.1111111111111111,
              "#46039f"
             ],
             [
              0.2222222222222222,
              "#7201a8"
             ],
             [
              0.3333333333333333,
              "#9c179e"
             ],
             [
              0.4444444444444444,
              "#bd3786"
             ],
             [
              0.5555555555555556,
              "#d8576b"
             ],
             [
              0.6666666666666666,
              "#ed7953"
             ],
             [
              0.7777777777777778,
              "#fb9f3a"
             ],
             [
              0.8888888888888888,
              "#fdca26"
             ],
             [
              1,
              "#f0f921"
             ]
            ],
            "type": "surface"
           }
          ],
          "table": [
           {
            "cells": {
             "fill": {
              "color": "#EBF0F8"
             },
             "line": {
              "color": "white"
             }
            },
            "header": {
             "fill": {
              "color": "#C8D4E3"
             },
             "line": {
              "color": "white"
             }
            },
            "type": "table"
           }
          ]
         },
         "layout": {
          "annotationdefaults": {
           "arrowcolor": "#2a3f5f",
           "arrowhead": 0,
           "arrowwidth": 1
          },
          "autotypenumbers": "strict",
          "coloraxis": {
           "colorbar": {
            "outlinewidth": 0,
            "ticks": ""
           }
          },
          "colorscale": {
           "diverging": [
            [
             0,
             "#8e0152"
            ],
            [
             0.1,
             "#c51b7d"
            ],
            [
             0.2,
             "#de77ae"
            ],
            [
             0.3,
             "#f1b6da"
            ],
            [
             0.4,
             "#fde0ef"
            ],
            [
             0.5,
             "#f7f7f7"
            ],
            [
             0.6,
             "#e6f5d0"
            ],
            [
             0.7,
             "#b8e186"
            ],
            [
             0.8,
             "#7fbc41"
            ],
            [
             0.9,
             "#4d9221"
            ],
            [
             1,
             "#276419"
            ]
           ],
           "sequential": [
            [
             0,
             "#0d0887"
            ],
            [
             0.1111111111111111,
             "#46039f"
            ],
            [
             0.2222222222222222,
             "#7201a8"
            ],
            [
             0.3333333333333333,
             "#9c179e"
            ],
            [
             0.4444444444444444,
             "#bd3786"
            ],
            [
             0.5555555555555556,
             "#d8576b"
            ],
            [
             0.6666666666666666,
             "#ed7953"
            ],
            [
             0.7777777777777778,
             "#fb9f3a"
            ],
            [
             0.8888888888888888,
             "#fdca26"
            ],
            [
             1,
             "#f0f921"
            ]
           ],
           "sequentialminus": [
            [
             0,
             "#0d0887"
            ],
            [
             0.1111111111111111,
             "#46039f"
            ],
            [
             0.2222222222222222,
             "#7201a8"
            ],
            [
             0.3333333333333333,
             "#9c179e"
            ],
            [
             0.4444444444444444,
             "#bd3786"
            ],
            [
             0.5555555555555556,
             "#d8576b"
            ],
            [
             0.6666666666666666,
             "#ed7953"
            ],
            [
             0.7777777777777778,
             "#fb9f3a"
            ],
            [
             0.8888888888888888,
             "#fdca26"
            ],
            [
             1,
             "#f0f921"
            ]
           ]
          },
          "colorway": [
           "#636efa",
           "#EF553B",
           "#00cc96",
           "#ab63fa",
           "#FFA15A",
           "#19d3f3",
           "#FF6692",
           "#B6E880",
           "#FF97FF",
           "#FECB52"
          ],
          "font": {
           "color": "#2a3f5f"
          },
          "geo": {
           "bgcolor": "white",
           "lakecolor": "white",
           "landcolor": "#E5ECF6",
           "showlakes": true,
           "showland": true,
           "subunitcolor": "white"
          },
          "hoverlabel": {
           "align": "left"
          },
          "hovermode": "closest",
          "mapbox": {
           "style": "light"
          },
          "paper_bgcolor": "white",
          "plot_bgcolor": "#E5ECF6",
          "polar": {
           "angularaxis": {
            "gridcolor": "white",
            "linecolor": "white",
            "ticks": ""
           },
           "bgcolor": "#E5ECF6",
           "radialaxis": {
            "gridcolor": "white",
            "linecolor": "white",
            "ticks": ""
           }
          },
          "scene": {
           "xaxis": {
            "backgroundcolor": "#E5ECF6",
            "gridcolor": "white",
            "gridwidth": 2,
            "linecolor": "white",
            "showbackground": true,
            "ticks": "",
            "zerolinecolor": "white"
           },
           "yaxis": {
            "backgroundcolor": "#E5ECF6",
            "gridcolor": "white",
            "gridwidth": 2,
            "linecolor": "white",
            "showbackground": true,
            "ticks": "",
            "zerolinecolor": "white"
           },
           "zaxis": {
            "backgroundcolor": "#E5ECF6",
            "gridcolor": "white",
            "gridwidth": 2,
            "linecolor": "white",
            "showbackground": true,
            "ticks": "",
            "zerolinecolor": "white"
           }
          },
          "shapedefaults": {
           "line": {
            "color": "#2a3f5f"
           }
          },
          "ternary": {
           "aaxis": {
            "gridcolor": "white",
            "linecolor": "white",
            "ticks": ""
           },
           "baxis": {
            "gridcolor": "white",
            "linecolor": "white",
            "ticks": ""
           },
           "bgcolor": "#E5ECF6",
           "caxis": {
            "gridcolor": "white",
            "linecolor": "white",
            "ticks": ""
           }
          },
          "title": {
           "x": 0.05
          },
          "xaxis": {
           "automargin": true,
           "gridcolor": "white",
           "linecolor": "white",
           "ticks": "",
           "title": {
            "standoff": 15
           },
           "zerolinecolor": "white",
           "zerolinewidth": 2
          },
          "yaxis": {
           "automargin": true,
           "gridcolor": "white",
           "linecolor": "white",
           "ticks": "",
           "title": {
            "standoff": 15
           },
           "zerolinecolor": "white",
           "zerolinewidth": 2
          }
         }
        }
       }
      }
     },
     "metadata": {},
     "output_type": "display_data"
    },
    {
     "name": "stdout",
     "output_type": "stream",
     "text": [
      "Figure saved as ./solver_output_plot.png\n"
     ]
    }
   ],
   "source": [
    "visualize_csv_output(csv_dir + shape_csv, surface=False, boundary_path=csv_dir + boundary_csv)"
   ]
  },
  {
   "cell_type": "markdown",
   "metadata": {},
   "source": [
    "# Plot Star"
   ]
  },
  {
   "cell_type": "code",
   "execution_count": 105,
   "metadata": {},
   "outputs": [],
   "source": [
    "shape = \"star\"\n",
    "shape_csv = get_shape_csv(shape)\n",
    "boundary_csv = get_boundaryD_csv(shape)"
   ]
  },
  {
   "cell_type": "code",
   "execution_count": 107,
   "metadata": {},
   "outputs": [
    {
     "data": {
      "application/vnd.plotly.v1+json": {
       "config": {
        "plotlyServerURL": "https://plot.ly"
       },
       "data": [
        {
         "line": {
          "color": "blue",
          "width": 2
         },
         "mode": "lines",
         "type": "scatter3d",
         "x": [
          1,
          0.7022539999999999
         ],
         "y": [
          0.5,
          0.6469465
         ],
         "z": [
          0.57735,
          0.233543
         ]
        },
        {
         "line": {
          "color": "blue",
          "width": 2
         },
         "mode": "lines",
         "type": "scatter3d",
         "x": [
          0.7022539999999999,
          0.6545084999999999
         ],
         "y": [
          0.6469465,
          0.9755285
         ],
         "z": [
          0.233543,
          0.178411
         ]
        },
        {
         "line": {
          "color": "blue",
          "width": 2
         },
         "mode": "lines",
         "type": "scatter3d",
         "x": [
          0.6545084999999999,
          0.422746
         ],
         "y": [
          0.9755285,
          0.737764
         ],
         "z": [
          0.178411,
          -0.0892055
         ]
        },
        {
         "line": {
          "color": "blue",
          "width": 2
         },
         "mode": "lines",
         "type": "scatter3d",
         "x": [
          0.422746,
          0.0954915
         ],
         "y": [
          0.737764,
          0.7938925
         ],
         "z": [
          -0.0892055,
          -0.467086
         ]
        },
        {
         "line": {
          "color": "blue",
          "width": 2
         },
         "mode": "lines",
         "type": "scatter3d",
         "x": [
          0.0954915,
          0.25
         ],
         "y": [
          0.7938925,
          0.5
         ],
         "z": [
          -0.467086,
          -0.288675
         ]
        },
        {
         "line": {
          "color": "blue",
          "width": 2
         },
         "mode": "lines",
         "type": "scatter3d",
         "x": [
          0.25,
          0.0954915
         ],
         "y": [
          0.5,
          0.2061075
         ],
         "z": [
          -0.288675,
          -0.467086
         ]
        },
        {
         "line": {
          "color": "blue",
          "width": 2
         },
         "mode": "lines",
         "type": "scatter3d",
         "x": [
          0.0954915,
          0.422746
         ],
         "y": [
          0.2061075,
          0.262236
         ],
         "z": [
          -0.467086,
          -0.0892055
         ]
        },
        {
         "line": {
          "color": "blue",
          "width": 2
         },
         "mode": "lines",
         "type": "scatter3d",
         "x": [
          0.422746,
          0.6545084999999999
         ],
         "y": [
          0.262236,
          0.02447149999999998
         ],
         "z": [
          -0.0892055,
          0.178411
         ]
        },
        {
         "line": {
          "color": "blue",
          "width": 2
         },
         "mode": "lines",
         "type": "scatter3d",
         "x": [
          0.6545084999999999,
          0.7022539999999999
         ],
         "y": [
          0.02447149999999998,
          0.3530535
         ],
         "z": [
          0.178411,
          0.233543
         ]
        },
        {
         "line": {
          "color": "blue",
          "width": 2
         },
         "mode": "lines",
         "type": "scatter3d",
         "x": [
          0.7022539999999999,
          1
         ],
         "y": [
          0.3530535,
          0.5
         ],
         "z": [
          0.233543,
          0.57735
         ]
        },
        {
         "line": {
          "color": "blue",
          "width": 2
         },
         "mode": "lines",
         "type": "scatter3d",
         "x": [
          1,
          1
         ],
         "y": [
          0.5,
          0.5
         ],
         "z": [
          0.57735,
          0.57735
         ]
        },
        {
         "marker": {
          "color": "red",
          "opacity": 0.8,
          "size": 5
         },
         "mode": "markers",
         "type": "scatter3d",
         "x": [
          1,
          0.7022539999999999,
          0.6545084999999999,
          0.422746,
          0.0954915,
          0.25,
          0.0954915,
          0.422746,
          0.6545084999999999,
          0.7022539999999999,
          1
         ],
         "y": [
          0.5,
          0.6469465,
          0.9755285,
          0.737764,
          0.7938925,
          0.5,
          0.2061075,
          0.262236,
          0.02447149999999998,
          0.3530535,
          0.5
         ],
         "z": [
          0.57735,
          0.233543,
          0.178411,
          -0.0892055,
          -0.467086,
          -0.288675,
          -0.467086,
          -0.0892055,
          0.178411,
          0.233543,
          0.57735
         ]
        }
       ],
       "layout": {
        "scene": {
         "xaxis": {
          "title": {
           "text": "X-axis"
          }
         },
         "yaxis": {
          "title": {
           "text": "Y-axis"
          }
         },
         "zaxis": {
          "title": {
           "text": "Z-axis"
          }
         }
        },
        "template": {
         "data": {
          "bar": [
           {
            "error_x": {
             "color": "#2a3f5f"
            },
            "error_y": {
             "color": "#2a3f5f"
            },
            "marker": {
             "line": {
              "color": "#E5ECF6",
              "width": 0.5
             },
             "pattern": {
              "fillmode": "overlay",
              "size": 10,
              "solidity": 0.2
             }
            },
            "type": "bar"
           }
          ],
          "barpolar": [
           {
            "marker": {
             "line": {
              "color": "#E5ECF6",
              "width": 0.5
             },
             "pattern": {
              "fillmode": "overlay",
              "size": 10,
              "solidity": 0.2
             }
            },
            "type": "barpolar"
           }
          ],
          "carpet": [
           {
            "aaxis": {
             "endlinecolor": "#2a3f5f",
             "gridcolor": "white",
             "linecolor": "white",
             "minorgridcolor": "white",
             "startlinecolor": "#2a3f5f"
            },
            "baxis": {
             "endlinecolor": "#2a3f5f",
             "gridcolor": "white",
             "linecolor": "white",
             "minorgridcolor": "white",
             "startlinecolor": "#2a3f5f"
            },
            "type": "carpet"
           }
          ],
          "choropleth": [
           {
            "colorbar": {
             "outlinewidth": 0,
             "ticks": ""
            },
            "type": "choropleth"
           }
          ],
          "contour": [
           {
            "colorbar": {
             "outlinewidth": 0,
             "ticks": ""
            },
            "colorscale": [
             [
              0,
              "#0d0887"
             ],
             [
              0.1111111111111111,
              "#46039f"
             ],
             [
              0.2222222222222222,
              "#7201a8"
             ],
             [
              0.3333333333333333,
              "#9c179e"
             ],
             [
              0.4444444444444444,
              "#bd3786"
             ],
             [
              0.5555555555555556,
              "#d8576b"
             ],
             [
              0.6666666666666666,
              "#ed7953"
             ],
             [
              0.7777777777777778,
              "#fb9f3a"
             ],
             [
              0.8888888888888888,
              "#fdca26"
             ],
             [
              1,
              "#f0f921"
             ]
            ],
            "type": "contour"
           }
          ],
          "contourcarpet": [
           {
            "colorbar": {
             "outlinewidth": 0,
             "ticks": ""
            },
            "type": "contourcarpet"
           }
          ],
          "heatmap": [
           {
            "colorbar": {
             "outlinewidth": 0,
             "ticks": ""
            },
            "colorscale": [
             [
              0,
              "#0d0887"
             ],
             [
              0.1111111111111111,
              "#46039f"
             ],
             [
              0.2222222222222222,
              "#7201a8"
             ],
             [
              0.3333333333333333,
              "#9c179e"
             ],
             [
              0.4444444444444444,
              "#bd3786"
             ],
             [
              0.5555555555555556,
              "#d8576b"
             ],
             [
              0.6666666666666666,
              "#ed7953"
             ],
             [
              0.7777777777777778,
              "#fb9f3a"
             ],
             [
              0.8888888888888888,
              "#fdca26"
             ],
             [
              1,
              "#f0f921"
             ]
            ],
            "type": "heatmap"
           }
          ],
          "heatmapgl": [
           {
            "colorbar": {
             "outlinewidth": 0,
             "ticks": ""
            },
            "colorscale": [
             [
              0,
              "#0d0887"
             ],
             [
              0.1111111111111111,
              "#46039f"
             ],
             [
              0.2222222222222222,
              "#7201a8"
             ],
             [
              0.3333333333333333,
              "#9c179e"
             ],
             [
              0.4444444444444444,
              "#bd3786"
             ],
             [
              0.5555555555555556,
              "#d8576b"
             ],
             [
              0.6666666666666666,
              "#ed7953"
             ],
             [
              0.7777777777777778,
              "#fb9f3a"
             ],
             [
              0.8888888888888888,
              "#fdca26"
             ],
             [
              1,
              "#f0f921"
             ]
            ],
            "type": "heatmapgl"
           }
          ],
          "histogram": [
           {
            "marker": {
             "pattern": {
              "fillmode": "overlay",
              "size": 10,
              "solidity": 0.2
             }
            },
            "type": "histogram"
           }
          ],
          "histogram2d": [
           {
            "colorbar": {
             "outlinewidth": 0,
             "ticks": ""
            },
            "colorscale": [
             [
              0,
              "#0d0887"
             ],
             [
              0.1111111111111111,
              "#46039f"
             ],
             [
              0.2222222222222222,
              "#7201a8"
             ],
             [
              0.3333333333333333,
              "#9c179e"
             ],
             [
              0.4444444444444444,
              "#bd3786"
             ],
             [
              0.5555555555555556,
              "#d8576b"
             ],
             [
              0.6666666666666666,
              "#ed7953"
             ],
             [
              0.7777777777777778,
              "#fb9f3a"
             ],
             [
              0.8888888888888888,
              "#fdca26"
             ],
             [
              1,
              "#f0f921"
             ]
            ],
            "type": "histogram2d"
           }
          ],
          "histogram2dcontour": [
           {
            "colorbar": {
             "outlinewidth": 0,
             "ticks": ""
            },
            "colorscale": [
             [
              0,
              "#0d0887"
             ],
             [
              0.1111111111111111,
              "#46039f"
             ],
             [
              0.2222222222222222,
              "#7201a8"
             ],
             [
              0.3333333333333333,
              "#9c179e"
             ],
             [
              0.4444444444444444,
              "#bd3786"
             ],
             [
              0.5555555555555556,
              "#d8576b"
             ],
             [
              0.6666666666666666,
              "#ed7953"
             ],
             [
              0.7777777777777778,
              "#fb9f3a"
             ],
             [
              0.8888888888888888,
              "#fdca26"
             ],
             [
              1,
              "#f0f921"
             ]
            ],
            "type": "histogram2dcontour"
           }
          ],
          "mesh3d": [
           {
            "colorbar": {
             "outlinewidth": 0,
             "ticks": ""
            },
            "type": "mesh3d"
           }
          ],
          "parcoords": [
           {
            "line": {
             "colorbar": {
              "outlinewidth": 0,
              "ticks": ""
             }
            },
            "type": "parcoords"
           }
          ],
          "pie": [
           {
            "automargin": true,
            "type": "pie"
           }
          ],
          "scatter": [
           {
            "fillpattern": {
             "fillmode": "overlay",
             "size": 10,
             "solidity": 0.2
            },
            "type": "scatter"
           }
          ],
          "scatter3d": [
           {
            "line": {
             "colorbar": {
              "outlinewidth": 0,
              "ticks": ""
             }
            },
            "marker": {
             "colorbar": {
              "outlinewidth": 0,
              "ticks": ""
             }
            },
            "type": "scatter3d"
           }
          ],
          "scattercarpet": [
           {
            "marker": {
             "colorbar": {
              "outlinewidth": 0,
              "ticks": ""
             }
            },
            "type": "scattercarpet"
           }
          ],
          "scattergeo": [
           {
            "marker": {
             "colorbar": {
              "outlinewidth": 0,
              "ticks": ""
             }
            },
            "type": "scattergeo"
           }
          ],
          "scattergl": [
           {
            "marker": {
             "colorbar": {
              "outlinewidth": 0,
              "ticks": ""
             }
            },
            "type": "scattergl"
           }
          ],
          "scattermapbox": [
           {
            "marker": {
             "colorbar": {
              "outlinewidth": 0,
              "ticks": ""
             }
            },
            "type": "scattermapbox"
           }
          ],
          "scatterpolar": [
           {
            "marker": {
             "colorbar": {
              "outlinewidth": 0,
              "ticks": ""
             }
            },
            "type": "scatterpolar"
           }
          ],
          "scatterpolargl": [
           {
            "marker": {
             "colorbar": {
              "outlinewidth": 0,
              "ticks": ""
             }
            },
            "type": "scatterpolargl"
           }
          ],
          "scatterternary": [
           {
            "marker": {
             "colorbar": {
              "outlinewidth": 0,
              "ticks": ""
             }
            },
            "type": "scatterternary"
           }
          ],
          "surface": [
           {
            "colorbar": {
             "outlinewidth": 0,
             "ticks": ""
            },
            "colorscale": [
             [
              0,
              "#0d0887"
             ],
             [
              0.1111111111111111,
              "#46039f"
             ],
             [
              0.2222222222222222,
              "#7201a8"
             ],
             [
              0.3333333333333333,
              "#9c179e"
             ],
             [
              0.4444444444444444,
              "#bd3786"
             ],
             [
              0.5555555555555556,
              "#d8576b"
             ],
             [
              0.6666666666666666,
              "#ed7953"
             ],
             [
              0.7777777777777778,
              "#fb9f3a"
             ],
             [
              0.8888888888888888,
              "#fdca26"
             ],
             [
              1,
              "#f0f921"
             ]
            ],
            "type": "surface"
           }
          ],
          "table": [
           {
            "cells": {
             "fill": {
              "color": "#EBF0F8"
             },
             "line": {
              "color": "white"
             }
            },
            "header": {
             "fill": {
              "color": "#C8D4E3"
             },
             "line": {
              "color": "white"
             }
            },
            "type": "table"
           }
          ]
         },
         "layout": {
          "annotationdefaults": {
           "arrowcolor": "#2a3f5f",
           "arrowhead": 0,
           "arrowwidth": 1
          },
          "autotypenumbers": "strict",
          "coloraxis": {
           "colorbar": {
            "outlinewidth": 0,
            "ticks": ""
           }
          },
          "colorscale": {
           "diverging": [
            [
             0,
             "#8e0152"
            ],
            [
             0.1,
             "#c51b7d"
            ],
            [
             0.2,
             "#de77ae"
            ],
            [
             0.3,
             "#f1b6da"
            ],
            [
             0.4,
             "#fde0ef"
            ],
            [
             0.5,
             "#f7f7f7"
            ],
            [
             0.6,
             "#e6f5d0"
            ],
            [
             0.7,
             "#b8e186"
            ],
            [
             0.8,
             "#7fbc41"
            ],
            [
             0.9,
             "#4d9221"
            ],
            [
             1,
             "#276419"
            ]
           ],
           "sequential": [
            [
             0,
             "#0d0887"
            ],
            [
             0.1111111111111111,
             "#46039f"
            ],
            [
             0.2222222222222222,
             "#7201a8"
            ],
            [
             0.3333333333333333,
             "#9c179e"
            ],
            [
             0.4444444444444444,
             "#bd3786"
            ],
            [
             0.5555555555555556,
             "#d8576b"
            ],
            [
             0.6666666666666666,
             "#ed7953"
            ],
            [
             0.7777777777777778,
             "#fb9f3a"
            ],
            [
             0.8888888888888888,
             "#fdca26"
            ],
            [
             1,
             "#f0f921"
            ]
           ],
           "sequentialminus": [
            [
             0,
             "#0d0887"
            ],
            [
             0.1111111111111111,
             "#46039f"
            ],
            [
             0.2222222222222222,
             "#7201a8"
            ],
            [
             0.3333333333333333,
             "#9c179e"
            ],
            [
             0.4444444444444444,
             "#bd3786"
            ],
            [
             0.5555555555555556,
             "#d8576b"
            ],
            [
             0.6666666666666666,
             "#ed7953"
            ],
            [
             0.7777777777777778,
             "#fb9f3a"
            ],
            [
             0.8888888888888888,
             "#fdca26"
            ],
            [
             1,
             "#f0f921"
            ]
           ]
          },
          "colorway": [
           "#636efa",
           "#EF553B",
           "#00cc96",
           "#ab63fa",
           "#FFA15A",
           "#19d3f3",
           "#FF6692",
           "#B6E880",
           "#FF97FF",
           "#FECB52"
          ],
          "font": {
           "color": "#2a3f5f"
          },
          "geo": {
           "bgcolor": "white",
           "lakecolor": "white",
           "landcolor": "#E5ECF6",
           "showlakes": true,
           "showland": true,
           "subunitcolor": "white"
          },
          "hoverlabel": {
           "align": "left"
          },
          "hovermode": "closest",
          "mapbox": {
           "style": "light"
          },
          "paper_bgcolor": "white",
          "plot_bgcolor": "#E5ECF6",
          "polar": {
           "angularaxis": {
            "gridcolor": "white",
            "linecolor": "white",
            "ticks": ""
           },
           "bgcolor": "#E5ECF6",
           "radialaxis": {
            "gridcolor": "white",
            "linecolor": "white",
            "ticks": ""
           }
          },
          "scene": {
           "xaxis": {
            "backgroundcolor": "#E5ECF6",
            "gridcolor": "white",
            "gridwidth": 2,
            "linecolor": "white",
            "showbackground": true,
            "ticks": "",
            "zerolinecolor": "white"
           },
           "yaxis": {
            "backgroundcolor": "#E5ECF6",
            "gridcolor": "white",
            "gridwidth": 2,
            "linecolor": "white",
            "showbackground": true,
            "ticks": "",
            "zerolinecolor": "white"
           },
           "zaxis": {
            "backgroundcolor": "#E5ECF6",
            "gridcolor": "white",
            "gridwidth": 2,
            "linecolor": "white",
            "showbackground": true,
            "ticks": "",
            "zerolinecolor": "white"
           }
          },
          "shapedefaults": {
           "line": {
            "color": "#2a3f5f"
           }
          },
          "ternary": {
           "aaxis": {
            "gridcolor": "white",
            "linecolor": "white",
            "ticks": ""
           },
           "baxis": {
            "gridcolor": "white",
            "linecolor": "white",
            "ticks": ""
           },
           "bgcolor": "#E5ECF6",
           "caxis": {
            "gridcolor": "white",
            "linecolor": "white",
            "ticks": ""
           }
          },
          "title": {
           "x": 0.05
          },
          "xaxis": {
           "automargin": true,
           "gridcolor": "white",
           "linecolor": "white",
           "ticks": "",
           "title": {
            "standoff": 15
           },
           "zerolinecolor": "white",
           "zerolinewidth": 2
          },
          "yaxis": {
           "automargin": true,
           "gridcolor": "white",
           "linecolor": "white",
           "ticks": "",
           "title": {
            "standoff": 15
           },
           "zerolinecolor": "white",
           "zerolinewidth": 2
          }
         }
        },
        "title": {
         "text": "3D Star Shape on a Tilted Plane"
        }
       }
      }
     },
     "metadata": {},
     "output_type": "display_data"
    }
   ],
   "source": [
    "print_boundary_dirichlet(path=csv_dir + boundary_csv) "
   ]
  },
  {
   "cell_type": "code",
   "execution_count": 108,
   "metadata": {},
   "outputs": [
    {
     "data": {
      "application/vnd.plotly.v1+json": {
       "config": {
        "plotlyServerURL": "https://plot.ly"
       },
       "data": [
        {
         "marker": {
          "color": "blue",
          "size": 2
         },
         "mode": "markers",
         "type": "scatter3d",
         "x": [
          0.6,
          0.6666666666666666,
          0.5333333333333333,
          0.6,
          0.6666666666666666,
          0.13333333333333333,
          0.2,
          0.26666666666666666,
          0.3333333333333333,
          0.4,
          0.4666666666666667,
          0.5333333333333333,
          0.6,
          0.6666666666666666,
          0.2,
          0.26666666666666666,
          0.3333333333333333,
          0.4,
          0.4666666666666667,
          0.5333333333333333,
          0.6,
          0.6666666666666666,
          0.2,
          0.26666666666666666,
          0.3333333333333333,
          0.4,
          0.4666666666666667,
          0.5333333333333333,
          0.6,
          0.6666666666666666,
          0.7333333333333333,
          0.26666666666666666,
          0.3333333333333333,
          0.4,
          0.4666666666666667,
          0.5333333333333333,
          0.6,
          0.6666666666666666,
          0.7333333333333333,
          0.8,
          0.8666666666666667,
          0.26666666666666666,
          0.3333333333333333,
          0.4,
          0.4666666666666667,
          0.5333333333333333,
          0.6,
          0.6666666666666666,
          0.7333333333333333,
          0.8,
          0.8666666666666667,
          0.2,
          0.26666666666666666,
          0.3333333333333333,
          0.4,
          0.4666666666666667,
          0.5333333333333333,
          0.6,
          0.6666666666666666,
          0.7333333333333333,
          0.2,
          0.26666666666666666,
          0.3333333333333333,
          0.4,
          0.4666666666666667,
          0.5333333333333333,
          0.6,
          0.6666666666666666,
          0.13333333333333333,
          0.2,
          0.26666666666666666,
          0.3333333333333333,
          0.4,
          0.4666666666666667,
          0.5333333333333333,
          0.6,
          0.6666666666666666,
          0.5333333333333333,
          0.6,
          0.6666666666666666,
          0.6,
          0.6666666666666666
         ],
         "y": [
          0.13333333333333333,
          0.13333333333333333,
          0.2,
          0.2,
          0.2,
          0.26666666666666666,
          0.26666666666666666,
          0.26666666666666666,
          0.26666666666666666,
          0.26666666666666666,
          0.26666666666666666,
          0.26666666666666666,
          0.26666666666666666,
          0.26666666666666666,
          0.3333333333333333,
          0.3333333333333333,
          0.3333333333333333,
          0.3333333333333333,
          0.3333333333333333,
          0.3333333333333333,
          0.3333333333333333,
          0.3333333333333333,
          0.4,
          0.4,
          0.4,
          0.4,
          0.4,
          0.4,
          0.4,
          0.4,
          0.4,
          0.4666666666666667,
          0.4666666666666667,
          0.4666666666666667,
          0.4666666666666667,
          0.4666666666666667,
          0.4666666666666667,
          0.4666666666666667,
          0.4666666666666667,
          0.4666666666666667,
          0.4666666666666667,
          0.5333333333333333,
          0.5333333333333333,
          0.5333333333333333,
          0.5333333333333333,
          0.5333333333333333,
          0.5333333333333333,
          0.5333333333333333,
          0.5333333333333333,
          0.5333333333333333,
          0.5333333333333333,
          0.6,
          0.6,
          0.6,
          0.6,
          0.6,
          0.6,
          0.6,
          0.6,
          0.6,
          0.6666666666666666,
          0.6666666666666666,
          0.6666666666666666,
          0.6666666666666666,
          0.6666666666666666,
          0.6666666666666666,
          0.6666666666666666,
          0.6666666666666666,
          0.7333333333333333,
          0.7333333333333333,
          0.7333333333333333,
          0.7333333333333333,
          0.7333333333333333,
          0.7333333333333333,
          0.7333333333333333,
          0.7333333333333333,
          0.7333333333333333,
          0.8,
          0.8,
          0.8,
          0.8666666666666667,
          0.8666666666666667
         ],
         "z": [
          0.115098,
          0.192524,
          0.0390088,
          0.11517,
          0.19233,
          -0.423342,
          -0.346295,
          -0.268805,
          -0.192277,
          -0.115393,
          -0.038607,
          0.0378623,
          0.115052,
          0.192042,
          -0.346661,
          -0.269997,
          -0.193069,
          -0.115897,
          -0.0373244,
          0.0389821,
          0.115334,
          0.192505,
          -0.346412,
          -0.269603,
          -0.191985,
          -0.115603,
          -0.0377905,
          0.0391158,
          0.114719,
          0.192129,
          0.268776,
          -0.269224,
          -0.192134,
          -0.1148,
          -0.0388977,
          0.038964,
          0.115917,
          0.191835,
          0.268765,
          0.345813,
          0.423426,
          -0.269599,
          -0.191623,
          -0.116789,
          -0.0378506,
          0.0378884,
          0.113944,
          0.193449,
          0.269401,
          0.345954,
          0.423415,
          -0.346422,
          -0.2701,
          -0.191432,
          -0.115828,
          -0.038332,
          0.0393526,
          0.116132,
          0.192456,
          0.269302,
          -0.345917,
          -0.269548,
          -0.191912,
          -0.114115,
          -0.0388213,
          0.0377766,
          0.115152,
          0.192126,
          -0.423398,
          -0.346294,
          -0.269534,
          -0.192684,
          -0.115519,
          -0.039458,
          0.0370744,
          0.116429,
          0.192789,
          0.039023,
          0.115413,
          0.192678,
          0.115431,
          0.192422
         ]
        },
        {
         "marker": {
          "color": "red",
          "size": 2
         },
         "mode": "markers",
         "type": "scatter3d",
         "x": [
          1,
          0.7022539999999999,
          0.6545084999999999,
          0.422746,
          0.0954915,
          0.25,
          0.0954915,
          0.422746,
          0.6545084999999999,
          0.7022539999999999,
          1
         ],
         "y": [
          0.5,
          0.6469465,
          0.9755285,
          0.737764,
          0.7938925,
          0.5,
          0.2061075,
          0.262236,
          0.02447149999999998,
          0.3530535,
          0.5
         ],
         "z": [
          0.57735,
          0.233543,
          0.178411,
          -0.0892055,
          -0.467086,
          -0.288675,
          -0.467086,
          -0.0892055,
          0.178411,
          0.233543,
          0.57735
         ]
        }
       ],
       "layout": {
        "scene": {
         "aspectmode": "cube",
         "xaxis": {
          "title": {
           "text": "X"
          }
         },
         "yaxis": {
          "title": {
           "text": "Y"
          }
         },
         "zaxis": {
          "title": {
           "text": "Z"
          }
         }
        },
        "template": {
         "data": {
          "bar": [
           {
            "error_x": {
             "color": "#2a3f5f"
            },
            "error_y": {
             "color": "#2a3f5f"
            },
            "marker": {
             "line": {
              "color": "#E5ECF6",
              "width": 0.5
             },
             "pattern": {
              "fillmode": "overlay",
              "size": 10,
              "solidity": 0.2
             }
            },
            "type": "bar"
           }
          ],
          "barpolar": [
           {
            "marker": {
             "line": {
              "color": "#E5ECF6",
              "width": 0.5
             },
             "pattern": {
              "fillmode": "overlay",
              "size": 10,
              "solidity": 0.2
             }
            },
            "type": "barpolar"
           }
          ],
          "carpet": [
           {
            "aaxis": {
             "endlinecolor": "#2a3f5f",
             "gridcolor": "white",
             "linecolor": "white",
             "minorgridcolor": "white",
             "startlinecolor": "#2a3f5f"
            },
            "baxis": {
             "endlinecolor": "#2a3f5f",
             "gridcolor": "white",
             "linecolor": "white",
             "minorgridcolor": "white",
             "startlinecolor": "#2a3f5f"
            },
            "type": "carpet"
           }
          ],
          "choropleth": [
           {
            "colorbar": {
             "outlinewidth": 0,
             "ticks": ""
            },
            "type": "choropleth"
           }
          ],
          "contour": [
           {
            "colorbar": {
             "outlinewidth": 0,
             "ticks": ""
            },
            "colorscale": [
             [
              0,
              "#0d0887"
             ],
             [
              0.1111111111111111,
              "#46039f"
             ],
             [
              0.2222222222222222,
              "#7201a8"
             ],
             [
              0.3333333333333333,
              "#9c179e"
             ],
             [
              0.4444444444444444,
              "#bd3786"
             ],
             [
              0.5555555555555556,
              "#d8576b"
             ],
             [
              0.6666666666666666,
              "#ed7953"
             ],
             [
              0.7777777777777778,
              "#fb9f3a"
             ],
             [
              0.8888888888888888,
              "#fdca26"
             ],
             [
              1,
              "#f0f921"
             ]
            ],
            "type": "contour"
           }
          ],
          "contourcarpet": [
           {
            "colorbar": {
             "outlinewidth": 0,
             "ticks": ""
            },
            "type": "contourcarpet"
           }
          ],
          "heatmap": [
           {
            "colorbar": {
             "outlinewidth": 0,
             "ticks": ""
            },
            "colorscale": [
             [
              0,
              "#0d0887"
             ],
             [
              0.1111111111111111,
              "#46039f"
             ],
             [
              0.2222222222222222,
              "#7201a8"
             ],
             [
              0.3333333333333333,
              "#9c179e"
             ],
             [
              0.4444444444444444,
              "#bd3786"
             ],
             [
              0.5555555555555556,
              "#d8576b"
             ],
             [
              0.6666666666666666,
              "#ed7953"
             ],
             [
              0.7777777777777778,
              "#fb9f3a"
             ],
             [
              0.8888888888888888,
              "#fdca26"
             ],
             [
              1,
              "#f0f921"
             ]
            ],
            "type": "heatmap"
           }
          ],
          "heatmapgl": [
           {
            "colorbar": {
             "outlinewidth": 0,
             "ticks": ""
            },
            "colorscale": [
             [
              0,
              "#0d0887"
             ],
             [
              0.1111111111111111,
              "#46039f"
             ],
             [
              0.2222222222222222,
              "#7201a8"
             ],
             [
              0.3333333333333333,
              "#9c179e"
             ],
             [
              0.4444444444444444,
              "#bd3786"
             ],
             [
              0.5555555555555556,
              "#d8576b"
             ],
             [
              0.6666666666666666,
              "#ed7953"
             ],
             [
              0.7777777777777778,
              "#fb9f3a"
             ],
             [
              0.8888888888888888,
              "#fdca26"
             ],
             [
              1,
              "#f0f921"
             ]
            ],
            "type": "heatmapgl"
           }
          ],
          "histogram": [
           {
            "marker": {
             "pattern": {
              "fillmode": "overlay",
              "size": 10,
              "solidity": 0.2
             }
            },
            "type": "histogram"
           }
          ],
          "histogram2d": [
           {
            "colorbar": {
             "outlinewidth": 0,
             "ticks": ""
            },
            "colorscale": [
             [
              0,
              "#0d0887"
             ],
             [
              0.1111111111111111,
              "#46039f"
             ],
             [
              0.2222222222222222,
              "#7201a8"
             ],
             [
              0.3333333333333333,
              "#9c179e"
             ],
             [
              0.4444444444444444,
              "#bd3786"
             ],
             [
              0.5555555555555556,
              "#d8576b"
             ],
             [
              0.6666666666666666,
              "#ed7953"
             ],
             [
              0.7777777777777778,
              "#fb9f3a"
             ],
             [
              0.8888888888888888,
              "#fdca26"
             ],
             [
              1,
              "#f0f921"
             ]
            ],
            "type": "histogram2d"
           }
          ],
          "histogram2dcontour": [
           {
            "colorbar": {
             "outlinewidth": 0,
             "ticks": ""
            },
            "colorscale": [
             [
              0,
              "#0d0887"
             ],
             [
              0.1111111111111111,
              "#46039f"
             ],
             [
              0.2222222222222222,
              "#7201a8"
             ],
             [
              0.3333333333333333,
              "#9c179e"
             ],
             [
              0.4444444444444444,
              "#bd3786"
             ],
             [
              0.5555555555555556,
              "#d8576b"
             ],
             [
              0.6666666666666666,
              "#ed7953"
             ],
             [
              0.7777777777777778,
              "#fb9f3a"
             ],
             [
              0.8888888888888888,
              "#fdca26"
             ],
             [
              1,
              "#f0f921"
             ]
            ],
            "type": "histogram2dcontour"
           }
          ],
          "mesh3d": [
           {
            "colorbar": {
             "outlinewidth": 0,
             "ticks": ""
            },
            "type": "mesh3d"
           }
          ],
          "parcoords": [
           {
            "line": {
             "colorbar": {
              "outlinewidth": 0,
              "ticks": ""
             }
            },
            "type": "parcoords"
           }
          ],
          "pie": [
           {
            "automargin": true,
            "type": "pie"
           }
          ],
          "scatter": [
           {
            "fillpattern": {
             "fillmode": "overlay",
             "size": 10,
             "solidity": 0.2
            },
            "type": "scatter"
           }
          ],
          "scatter3d": [
           {
            "line": {
             "colorbar": {
              "outlinewidth": 0,
              "ticks": ""
             }
            },
            "marker": {
             "colorbar": {
              "outlinewidth": 0,
              "ticks": ""
             }
            },
            "type": "scatter3d"
           }
          ],
          "scattercarpet": [
           {
            "marker": {
             "colorbar": {
              "outlinewidth": 0,
              "ticks": ""
             }
            },
            "type": "scattercarpet"
           }
          ],
          "scattergeo": [
           {
            "marker": {
             "colorbar": {
              "outlinewidth": 0,
              "ticks": ""
             }
            },
            "type": "scattergeo"
           }
          ],
          "scattergl": [
           {
            "marker": {
             "colorbar": {
              "outlinewidth": 0,
              "ticks": ""
             }
            },
            "type": "scattergl"
           }
          ],
          "scattermapbox": [
           {
            "marker": {
             "colorbar": {
              "outlinewidth": 0,
              "ticks": ""
             }
            },
            "type": "scattermapbox"
           }
          ],
          "scatterpolar": [
           {
            "marker": {
             "colorbar": {
              "outlinewidth": 0,
              "ticks": ""
             }
            },
            "type": "scatterpolar"
           }
          ],
          "scatterpolargl": [
           {
            "marker": {
             "colorbar": {
              "outlinewidth": 0,
              "ticks": ""
             }
            },
            "type": "scatterpolargl"
           }
          ],
          "scatterternary": [
           {
            "marker": {
             "colorbar": {
              "outlinewidth": 0,
              "ticks": ""
             }
            },
            "type": "scatterternary"
           }
          ],
          "surface": [
           {
            "colorbar": {
             "outlinewidth": 0,
             "ticks": ""
            },
            "colorscale": [
             [
              0,
              "#0d0887"
             ],
             [
              0.1111111111111111,
              "#46039f"
             ],
             [
              0.2222222222222222,
              "#7201a8"
             ],
             [
              0.3333333333333333,
              "#9c179e"
             ],
             [
              0.4444444444444444,
              "#bd3786"
             ],
             [
              0.5555555555555556,
              "#d8576b"
             ],
             [
              0.6666666666666666,
              "#ed7953"
             ],
             [
              0.7777777777777778,
              "#fb9f3a"
             ],
             [
              0.8888888888888888,
              "#fdca26"
             ],
             [
              1,
              "#f0f921"
             ]
            ],
            "type": "surface"
           }
          ],
          "table": [
           {
            "cells": {
             "fill": {
              "color": "#EBF0F8"
             },
             "line": {
              "color": "white"
             }
            },
            "header": {
             "fill": {
              "color": "#C8D4E3"
             },
             "line": {
              "color": "white"
             }
            },
            "type": "table"
           }
          ]
         },
         "layout": {
          "annotationdefaults": {
           "arrowcolor": "#2a3f5f",
           "arrowhead": 0,
           "arrowwidth": 1
          },
          "autotypenumbers": "strict",
          "coloraxis": {
           "colorbar": {
            "outlinewidth": 0,
            "ticks": ""
           }
          },
          "colorscale": {
           "diverging": [
            [
             0,
             "#8e0152"
            ],
            [
             0.1,
             "#c51b7d"
            ],
            [
             0.2,
             "#de77ae"
            ],
            [
             0.3,
             "#f1b6da"
            ],
            [
             0.4,
             "#fde0ef"
            ],
            [
             0.5,
             "#f7f7f7"
            ],
            [
             0.6,
             "#e6f5d0"
            ],
            [
             0.7,
             "#b8e186"
            ],
            [
             0.8,
             "#7fbc41"
            ],
            [
             0.9,
             "#4d9221"
            ],
            [
             1,
             "#276419"
            ]
           ],
           "sequential": [
            [
             0,
             "#0d0887"
            ],
            [
             0.1111111111111111,
             "#46039f"
            ],
            [
             0.2222222222222222,
             "#7201a8"
            ],
            [
             0.3333333333333333,
             "#9c179e"
            ],
            [
             0.4444444444444444,
             "#bd3786"
            ],
            [
             0.5555555555555556,
             "#d8576b"
            ],
            [
             0.6666666666666666,
             "#ed7953"
            ],
            [
             0.7777777777777778,
             "#fb9f3a"
            ],
            [
             0.8888888888888888,
             "#fdca26"
            ],
            [
             1,
             "#f0f921"
            ]
           ],
           "sequentialminus": [
            [
             0,
             "#0d0887"
            ],
            [
             0.1111111111111111,
             "#46039f"
            ],
            [
             0.2222222222222222,
             "#7201a8"
            ],
            [
             0.3333333333333333,
             "#9c179e"
            ],
            [
             0.4444444444444444,
             "#bd3786"
            ],
            [
             0.5555555555555556,
             "#d8576b"
            ],
            [
             0.6666666666666666,
             "#ed7953"
            ],
            [
             0.7777777777777778,
             "#fb9f3a"
            ],
            [
             0.8888888888888888,
             "#fdca26"
            ],
            [
             1,
             "#f0f921"
            ]
           ]
          },
          "colorway": [
           "#636efa",
           "#EF553B",
           "#00cc96",
           "#ab63fa",
           "#FFA15A",
           "#19d3f3",
           "#FF6692",
           "#B6E880",
           "#FF97FF",
           "#FECB52"
          ],
          "font": {
           "color": "#2a3f5f"
          },
          "geo": {
           "bgcolor": "white",
           "lakecolor": "white",
           "landcolor": "#E5ECF6",
           "showlakes": true,
           "showland": true,
           "subunitcolor": "white"
          },
          "hoverlabel": {
           "align": "left"
          },
          "hovermode": "closest",
          "mapbox": {
           "style": "light"
          },
          "paper_bgcolor": "white",
          "plot_bgcolor": "#E5ECF6",
          "polar": {
           "angularaxis": {
            "gridcolor": "white",
            "linecolor": "white",
            "ticks": ""
           },
           "bgcolor": "#E5ECF6",
           "radialaxis": {
            "gridcolor": "white",
            "linecolor": "white",
            "ticks": ""
           }
          },
          "scene": {
           "xaxis": {
            "backgroundcolor": "#E5ECF6",
            "gridcolor": "white",
            "gridwidth": 2,
            "linecolor": "white",
            "showbackground": true,
            "ticks": "",
            "zerolinecolor": "white"
           },
           "yaxis": {
            "backgroundcolor": "#E5ECF6",
            "gridcolor": "white",
            "gridwidth": 2,
            "linecolor": "white",
            "showbackground": true,
            "ticks": "",
            "zerolinecolor": "white"
           },
           "zaxis": {
            "backgroundcolor": "#E5ECF6",
            "gridcolor": "white",
            "gridwidth": 2,
            "linecolor": "white",
            "showbackground": true,
            "ticks": "",
            "zerolinecolor": "white"
           }
          },
          "shapedefaults": {
           "line": {
            "color": "#2a3f5f"
           }
          },
          "ternary": {
           "aaxis": {
            "gridcolor": "white",
            "linecolor": "white",
            "ticks": ""
           },
           "baxis": {
            "gridcolor": "white",
            "linecolor": "white",
            "ticks": ""
           },
           "bgcolor": "#E5ECF6",
           "caxis": {
            "gridcolor": "white",
            "linecolor": "white",
            "ticks": ""
           }
          },
          "title": {
           "x": 0.05
          },
          "xaxis": {
           "automargin": true,
           "gridcolor": "white",
           "linecolor": "white",
           "ticks": "",
           "title": {
            "standoff": 15
           },
           "zerolinecolor": "white",
           "zerolinewidth": 2
          },
          "yaxis": {
           "automargin": true,
           "gridcolor": "white",
           "linecolor": "white",
           "ticks": "",
           "title": {
            "standoff": 15
           },
           "zerolinecolor": "white",
           "zerolinewidth": 2
          }
         }
        }
       }
      }
     },
     "metadata": {},
     "output_type": "display_data"
    },
    {
     "name": "stdout",
     "output_type": "stream",
     "text": [
      "Figure saved as ./solver_output_plot.png\n"
     ]
    }
   ],
   "source": [
    "visualize_csv_output(csv_dir + shape_csv, surface=False, boundary_path=csv_dir + boundary_csv)"
   ]
  }
 ],
 "metadata": {
  "kernelspec": {
   "display_name": "my_tf_env",
   "language": "python",
   "name": "python3"
  },
  "language_info": {
   "codemirror_mode": {
    "name": "ipython",
    "version": 3
   },
   "file_extension": ".py",
   "mimetype": "text/x-python",
   "name": "python",
   "nbconvert_exporter": "python",
   "pygments_lexer": "ipython3",
   "version": "3.9.18"
  }
 },
 "nbformat": 4,
 "nbformat_minor": 2
}
